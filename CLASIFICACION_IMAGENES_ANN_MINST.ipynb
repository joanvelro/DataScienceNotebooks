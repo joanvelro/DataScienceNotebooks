{
  "nbformat": 4,
  "nbformat_minor": 0,
  "metadata": {
    "colab": {
      "name": "CLASIFICACION_IMAGENES_ANN_MINST.ipynb",
      "provenance": [],
      "collapsed_sections": [],
      "authorship_tag": "ABX9TyOs9sF+9zVpFe+jnaDW6k/c",
      "include_colab_link": true
    },
    "kernelspec": {
      "name": "python3",
      "display_name": "Python 3"
    }
  },
  "cells": [
    {
      "cell_type": "markdown",
      "metadata": {
        "id": "view-in-github",
        "colab_type": "text"
      },
      "source": [
        "<a href=\"https://colab.research.google.com/github/patofw/imf_master/blob/master/Google_Colab/CLASIFICACION_IMAGENES_ANN_MINST.ipynb\" target=\"_parent\"><img src=\"https://colab.research.google.com/assets/colab-badge.svg\" alt=\"Open In Colab\"/></a>"
      ]
    },
    {
      "cell_type": "code",
      "metadata": {
        "id": "X-DuDrAQWZlB",
        "colab_type": "code",
        "outputId": "51e27c99-0fdb-4bd3-b201-8369dad8fa0d",
        "colab": {
          "base_uri": "https://localhost:8080/",
          "height": 121
        }
      },
      "source": [
        "# Instalamos TensorFlow en Colab para tener tensorflow 2\n",
        "#!pip install -q tensorflow-gpu==2.0.0-beta1 \n",
        "\n",
        "try:\n",
        "  %tensorflow_version 2.x  # Colab only.\n",
        "except Exception:\n",
        "  pass\n",
        "\n",
        "import tensorflow as tf\n",
        "print(tf.__version__)"
      ],
      "execution_count": 1,
      "outputs": [
        {
          "output_type": "stream",
          "text": [
            "`%tensorflow_version` only switches the major version: 1.x or 2.x.\n",
            "You set: `2.x  # Colab only.`. This will be interpreted as: `2.x`.\n",
            "\n",
            "\n",
            "TensorFlow 2.x selected.\n",
            "2.2.0\n"
          ],
          "name": "stdout"
        }
      ]
    },
    {
      "cell_type": "code",
      "metadata": {
        "id": "1f3K_qIkZKRm",
        "colab_type": "code",
        "colab": {}
      },
      "source": [
        "import matplotlib.pyplot as plt"
      ],
      "execution_count": 0,
      "outputs": []
    },
    {
      "cell_type": "markdown",
      "metadata": {
        "id": "RmQbFYquUMCT",
        "colab_type": "text"
      },
      "source": [
        "# Clasificación de Imágenes en Python con Tensforflow 2\n",
        "\n",
        "[Tensorflow](https://www.tensorflow.org/) es uno de los frameworks más importantes del mundo para desarrollo de modelos de Machine Learning. Nos permite realizar modelos de todo tipo, pero es potencialmente poderoso para modelos más complejos como Redes Neuronales, Convolucionales y Recurrentes. Estos últimos siendo los más utilizados en tareas complejas como visión artificial y NLP.\n",
        "\n",
        "## Ejercicio. \n",
        "\n",
        "Vamos a tratar de clasificar imágenes  de dígitos escritos a 'mano'. Como fuente de datos utilizaremos el famoso set de [MINST](http://yann.lecun.com/exdb/mnist/)\n",
        "\n",
        "Algunos ejemplos se muestran a continuación:\n",
        "\n",
        "![Image of Minst](https://3qeqpr26caki16dnhd19sv6by6v-wpengine.netdna-ssl.com/wp-content/uploads/2019/02/Plot-of-a-Subset-of-Images-from-the-MNIST-Dataset.png)\n",
        "\n",
        "Para la clasificación construiremos una red neuronal simple. En este módulo no entraremos en la parte teórica ni matemática de estos algoritmos. Pero si quieres explorar más sobre cómo funcionan puedes hacerlo en el siguiente [enlace](https://towardsdatascience.com/understanding-neural-networks-what-how-and-why-18ec703ebd31)\n",
        "\n"
      ]
    },
    {
      "cell_type": "code",
      "metadata": {
        "id": "IZBC2os2YbtA",
        "colab_type": "code",
        "outputId": "c74e979c-c7c8-4a11-8c9d-a0b2160ab936",
        "colab": {
          "base_uri": "https://localhost:8080/",
          "height": 69
        }
      },
      "source": [
        "# Empezamos cargando los datos directamente de la API de Tensforflow\n",
        "mnist = tf.keras.datasets.mnist\n",
        "\n",
        "# En casi todo modelo de machine learning se acostumbra separar \n",
        "# los datos entre set de entrenamiento y de prueba. \n",
        "# En este caso, la API de Tensoroflow ya lo tiene preparado para nosotros. \n",
        "(x_train, y_train), (x_test, y_test) = mnist.load_data()\n",
        "# Vamos a escalar los datos ya que todas las imagenes son pixeles en escala de grises\n",
        "# Entre 0 y 255. Si dividimos cada valor por 255, normalizaríamos el dataset. \n",
        "x_train, x_test = x_train / 255.0, x_test / 255.0 \n",
        "print(\"x_train.shape:\", x_train.shape) # vemos la forma del dataset de entrenamiento"
      ],
      "execution_count": 4,
      "outputs": [
        {
          "output_type": "stream",
          "text": [
            "Downloading data from https://storage.googleapis.com/tensorflow/tf-keras-datasets/mnist.npz\n",
            "11493376/11490434 [==============================] - 0s 0us/step\n",
            "x_train.shape: (60000, 28, 28)\n"
          ],
          "name": "stdout"
        }
      ]
    },
    {
      "cell_type": "code",
      "metadata": {
        "id": "LzXSZKYdYm54",
        "colab_type": "code",
        "colab": {}
      },
      "source": [
        "# Construimos el modelo utilizando la API de Keras. \n",
        "# Las redes nueronales tienen 3 capas principales, input, densas y output. \n",
        "# Podemos agregar cuantas capas densas creamos adecuadas, solo necesitamos \n",
        "# Asegurarnos que el output sea igual a la cantidad de categorías que tenemos\n",
        "model = tf.keras.models.Sequential([\n",
        "  tf.keras.layers.Flatten(input_shape=(28, 28)), # el 28 viene del shape, esto es usualmente lo que se acostumbra\n",
        "  tf.keras.layers.Dense(128, activation='relu'), # capa densa de 128 neuronas. Activacion relu \n",
        "  tf.keras.layers.Dropout(0.2), # capa que nos ayuda a prevenir el overfitting\n",
        "  tf.keras.layers.Dense(10, activation='softmax') # 10 clases de output  \n",
        "])"
      ],
      "execution_count": 0,
      "outputs": []
    },
    {
      "cell_type": "code",
      "metadata": {
        "id": "6mdtkYgsY1Ts",
        "colab_type": "code",
        "colab": {}
      },
      "source": [
        "# Una vez construido el modelo, lo compilamos \n",
        "# Para esto elegimos el optimizador, la función de coste y la \n",
        "# métrica que usará el modelo en su entrenamiento. \n",
        "model.compile(optimizer='adam', # muy práctico en clasificación multiclase\n",
        "              loss='sparse_categorical_crossentropy', # función de coste para multicategoría\n",
        "              metrics=['accuracy']) # buscamos optimizar la precisión (accuracy)"
      ],
      "execution_count": 0,
      "outputs": []
    },
    {
      "cell_type": "code",
      "metadata": {
        "id": "ER3VFEywZAQn",
        "colab_type": "code",
        "outputId": "071beb58-f04d-4d31-e47e-437b78ebded0",
        "colab": {
          "base_uri": "https://localhost:8080/",
          "height": 364
        }
      },
      "source": [
        "# Entrenamos el modelo con la función de fit \n",
        "# Dejamos que Keras haga su magia\n",
        "r = model.fit(x_train, y_train, validation_data=(x_test, y_test), epochs=10)"
      ],
      "execution_count": 7,
      "outputs": [
        {
          "output_type": "stream",
          "text": [
            "Epoch 1/10\n",
            "1875/1875 [==============================] - 4s 2ms/step - loss: 0.2972 - accuracy: 0.9136 - val_loss: 0.1387 - val_accuracy: 0.9578\n",
            "Epoch 2/10\n",
            "1875/1875 [==============================] - 4s 2ms/step - loss: 0.1412 - accuracy: 0.9577 - val_loss: 0.1072 - val_accuracy: 0.9687\n",
            "Epoch 3/10\n",
            "1875/1875 [==============================] - 4s 2ms/step - loss: 0.1076 - accuracy: 0.9670 - val_loss: 0.0906 - val_accuracy: 0.9722\n",
            "Epoch 4/10\n",
            "1875/1875 [==============================] - 4s 2ms/step - loss: 0.0885 - accuracy: 0.9722 - val_loss: 0.0804 - val_accuracy: 0.9759\n",
            "Epoch 5/10\n",
            "1875/1875 [==============================] - 4s 2ms/step - loss: 0.0767 - accuracy: 0.9753 - val_loss: 0.0721 - val_accuracy: 0.9770\n",
            "Epoch 6/10\n",
            "1875/1875 [==============================] - 4s 2ms/step - loss: 0.0669 - accuracy: 0.9787 - val_loss: 0.0750 - val_accuracy: 0.9768\n",
            "Epoch 7/10\n",
            "1875/1875 [==============================] - 4s 2ms/step - loss: 0.0583 - accuracy: 0.9814 - val_loss: 0.0660 - val_accuracy: 0.9792\n",
            "Epoch 8/10\n",
            "1875/1875 [==============================] - 4s 2ms/step - loss: 0.0526 - accuracy: 0.9826 - val_loss: 0.0684 - val_accuracy: 0.9794\n",
            "Epoch 9/10\n",
            "1875/1875 [==============================] - 4s 2ms/step - loss: 0.0501 - accuracy: 0.9839 - val_loss: 0.0717 - val_accuracy: 0.9795\n",
            "Epoch 10/10\n",
            "1875/1875 [==============================] - 4s 2ms/step - loss: 0.0438 - accuracy: 0.9856 - val_loss: 0.0685 - val_accuracy: 0.9802\n"
          ],
          "name": "stdout"
        }
      ]
    },
    {
      "cell_type": "markdown",
      "metadata": {
        "id": "AJx2xaWDZDEK",
        "colab_type": "text"
      },
      "source": [
        "# Podemos ver como se entrenó el modelo y su función de coste\n"
      ]
    },
    {
      "cell_type": "code",
      "metadata": {
        "id": "7Wr0BbwuZFWS",
        "colab_type": "code",
        "outputId": "a0daee1b-84dc-412e-b599-c13e348f1a01",
        "colab": {
          "base_uri": "https://localhost:8080/",
          "height": 265
        }
      },
      "source": [
        "# Plot loss per iteration\n",
        "# El objetivo es que la curva parezca un 'codo', si no llega\n",
        "# a la curva de codo, podemos seguir lanzando más epochs, si \n",
        "# esta mucho tiempo en la sección plana de la curva, podemos \n",
        "# estar en riesgo de overfitting\n",
        "plt.plot(r.history['loss'], label='loss')\n",
        "plt.plot(r.history['val_loss'], label='val_loss')\n",
        "plt.legend();"
      ],
      "execution_count": 8,
      "outputs": [
        {
          "output_type": "display_data",
          "data": {
            "image/png": "[encoded data removed]",
            "text/plain": [
              "<Figure size 432x288 with 1 Axes>"
            ]
          },
          "metadata": {
            "tags": [],
            "needs_background": "light"
          }
        }
      ]
    },
    {
      "cell_type": "code",
      "metadata": {
        "id": "FyVAoK5SZMxh",
        "colab_type": "code",
        "outputId": "7820dfba-ab17-439d-ea0a-9b1be1e6d16b",
        "colab": {
          "base_uri": "https://localhost:8080/",
          "height": 265
        }
      },
      "source": [
        "# Crecimiento de la precisión por iteración (epochs)\n",
        "plt.plot(r.history['accuracy'], label='acc')\n",
        "plt.plot(r.history['val_accuracy'], label='val_acc')\n",
        "plt.legend();"
      ],
      "execution_count": 9,
      "outputs": [
        {
          "output_type": "display_data",
          "data": {
            "image/png": "[encoded data removed]",
            "text/plain": [
              "<Figure size 432x288 with 1 Axes>"
            ]
          },
          "metadata": {
            "tags": [],
            "needs_background": "light"
          }
        }
      ]
    },
    {
      "cell_type": "code",
      "metadata": {
        "id": "E9dzlaIsczyl",
        "colab_type": "code",
        "outputId": "51f35084-7af1-46c9-a5c9-db276b414a44",
        "colab": {
          "base_uri": "https://localhost:8080/",
          "height": 52
        }
      },
      "source": [
        "# Evaluamos la precisión del modelo utilizando el set de prueba\n",
        "costo,accuracy = model.evaluate(x_test, y_test)\n",
        "print(f\"Accuracy del Modelo: {round(accuracy,3)}\") "
      ],
      "execution_count": 10,
      "outputs": [
        {
          "output_type": "stream",
          "text": [
            "313/313 [==============================] - 0s 1ms/step - loss: 0.0685 - accuracy: 0.9802\n",
            "Accuracy del Modelo: 0.98\n"
          ],
          "name": "stdout"
        }
      ]
    },
    {
      "cell_type": "markdown",
      "metadata": {
        "id": "00S476vKarm3",
        "colab_type": "text"
      },
      "source": [
        "El modelo es bastante preciso y funciona aparentemente bien, pero se ha equivocado en algunas ocasiones. Podemos ver qué dígitos le cuestan más, e imprimir algunos ejemplos de los fallos. "
      ]
    },
    {
      "cell_type": "code",
      "metadata": {
        "id": "YlfHleCPc3-b",
        "colab_type": "code",
        "outputId": "c5231505-bfc2-4ee3-8443-a793a76b9903",
        "colab": {
          "base_uri": "https://localhost:8080/",
          "height": 502
        }
      },
      "source": [
        "# Matriz de confusión para ver donde nos hemos equivocado\n",
        "from sklearn.metrics import confusion_matrix\n",
        "import numpy as np\n",
        "import itertools\n",
        "\n",
        "def plot_confusion_matrix(cm, classes,\n",
        "                          normalize=False,\n",
        "                          title='Confusion matrix',\n",
        "                          cmap=plt.cm.Blues):\n",
        "  \"\"\"\n",
        "  This function prints and plots the confusion matrix.\n",
        "  Normalization can be applied by setting `normalize=True`.\n",
        "  \"\"\"\n",
        "  if normalize:\n",
        "      cm = cm.astype('float') / cm.sum(axis=1)[:, np.newaxis]\n",
        "      print(\"Normalized confusion matrix\")\n",
        "  else:\n",
        "      print('Matriz de Confusión, sin normalización')\n",
        "\n",
        "  print(cm)\n",
        "\n",
        "  plt.imshow(cm, interpolation='nearest', cmap=cmap)\n",
        "  plt.title(title)\n",
        "  plt.colorbar()\n",
        "  tick_marks = np.arange(len(classes))\n",
        "  plt.xticks(tick_marks, classes, rotation=45)\n",
        "  plt.yticks(tick_marks, classes)\n",
        "\n",
        "  fmt = '.2f' if normalize else 'd'\n",
        "  thresh = cm.max() / 2.\n",
        "  for i, j in itertools.product(range(cm.shape[0]), range(cm.shape[1])):\n",
        "      plt.text(j, i, format(cm[i, j], fmt),\n",
        "               horizontalalignment=\"center\",\n",
        "               color=\"white\" if cm[i, j] > thresh else \"black\")\n",
        "\n",
        "  plt.tight_layout()\n",
        "  plt.ylabel('True label')\n",
        "  plt.xlabel('Predicted label')\n",
        "  plt.show()\n",
        "\n",
        "\n",
        "p_test = model.predict(x_test).argmax(axis=1)\n",
        "cm = confusion_matrix(y_test, p_test)\n",
        "plot_confusion_matrix(cm, list(range(10)))\n",
        "\n",
        "# Tiene sentido?\n",
        "# Es fácil confundir 9 <--> 4, 9 <--> 7, 2 <--> 7, etc. "
      ],
      "execution_count": 12,
      "outputs": [
        {
          "output_type": "stream",
          "text": [
            "Matriz de Confusión, sin normalización\n",
            "[[ 973    0    1    1    1    0    1    1    2    0]\n",
            " [   0 1128    2    1    0    0    2    0    2    0]\n",
            " [   3    3 1007    4    4    0    1    7    3    0]\n",
            " [   1    0    4  992    0    5    0    4    2    2]\n",
            " [   1    0    1    1  961    1    3    2    1   11]\n",
            " [   2    0    0    7    0  874    2    1    5    1]\n",
            " [   7    3    0    1    1    5  940    0    1    0]\n",
            " [   2    3    8    2    0    1    0 1007    0    5]\n",
            " [   7    1    1    4    3    4    1    5  943    5]\n",
            " [   2    3    0    5    6    8    0    8    0  977]]\n"
          ],
          "name": "stdout"
        },
        {
          "output_type": "display_data",
          "data": {
            "image/png": "[encoded data removed]",
            "text/plain": [
              "<Figure size 432x288 with 2 Axes>"
            ]
          },
          "metadata": {
            "tags": [],
            "needs_background": "light"
          }
        }
      ]
    },
    {
      "cell_type": "code",
      "metadata": {
        "id": "1kwO-X5kc9JH",
        "colab_type": "code",
        "colab": {
          "base_uri": "https://localhost:8080/",
          "height": 281
        },
        "outputId": "33d4f248-73e7-4a27-8dfb-3ec3f90dd3e8"
      },
      "source": [
        "# Ejemplos de dónde hemos fallado\n",
        "misclassified_idx = np.where(p_test != y_test)[0]\n",
        "i = np.random.choice(misclassified_idx)\n",
        "plt.imshow(x_test[i], cmap='gray')\n",
        "plt.title(\"Dígito Real: %s Predicción: %s\" % (y_test[i], p_test[i]));"
      ],
      "execution_count": 14,
      "outputs": [
        {
          "output_type": "display_data",
          "data": {
            "image/png": "[encoded data removed]",
            "text/plain": [
              "<Figure size 432x288 with 1 Axes>"
            ]
          },
          "metadata": {
            "tags": [],
            "needs_background": "light"
          }
        }
      ]
    },
    {
      "cell_type": "code",
      "metadata": {
        "id": "H3sAWZETbLC7",
        "colab_type": "code",
        "colab": {}
      },
      "source": [
        ""
      ],
      "execution_count": 0,
      "outputs": []
    }
  ]
}