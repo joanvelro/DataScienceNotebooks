{
 "cells": [
  {
   "cell_type": "code",
   "execution_count": null,
   "metadata": {
    "ExecuteTime": {
     "end_time": "2022-01-15T12:40:11.756815Z",
     "start_time": "2022-01-15T12:40:11.018334Z"
    }
   },
   "outputs": [],
   "source": [
    "import matplotlib.pyplot as plt\n",
    "from matplotlib import rc\n",
    "rc('font',**{'family':'serif','serif':['Times New Roman']})\n",
    "rc('text', usetex=True)\n",
    "import pandas as pd\n",
    "import numpy as np\n",
    "\n",
    "\n",
    "from pandas.plotting import scatter_matrix\n",
    "from matplotlib.ticker import NullFormatter"
   ]
  },
  {
   "cell_type": "code",
   "execution_count": null,
   "metadata": {
    "ExecuteTime": {
     "end_time": "2022-01-15T12:41:10.979216Z",
     "start_time": "2022-01-15T12:41:10.970196Z"
    }
   },
   "outputs": [],
   "source": [
    "%pwd"
   ]
  },
  {
   "cell_type": "code",
   "execution_count": null,
   "metadata": {
    "ExecuteTime": {
     "end_time": "2022-01-15T12:41:23.162693Z",
     "start_time": "2022-01-15T12:41:23.152393Z"
    }
   },
   "outputs": [],
   "source": [
    "%cd .."
   ]
  },
  {
   "cell_type": "code",
   "execution_count": null,
   "metadata": {
    "ExecuteTime": {
     "end_time": "2022-01-15T12:41:27.939396Z",
     "start_time": "2022-01-15T12:41:27.808285Z"
    }
   },
   "outputs": [],
   "source": [
    "%ls"
   ]
  },
  {
   "cell_type": "code",
   "execution_count": null,
   "metadata": {
    "ExecuteTime": {
     "end_time": "2022-01-15T12:41:37.959292Z",
     "start_time": "2022-01-15T12:41:37.951484Z"
    }
   },
   "outputs": [],
   "source": [
    "%cd data"
   ]
  },
  {
   "cell_type": "code",
   "execution_count": null,
   "metadata": {
    "ExecuteTime": {
     "end_time": "2022-01-15T12:41:43.282328Z",
     "start_time": "2022-01-15T12:41:43.150841Z"
    }
   },
   "outputs": [],
   "source": [
    "%ls"
   ]
  },
  {
   "cell_type": "code",
   "execution_count": null,
   "metadata": {
    "ExecuteTime": {
     "end_time": "2022-01-15T12:42:00.176724Z",
     "start_time": "2022-01-15T12:42:00.144431Z"
    }
   },
   "outputs": [],
   "source": [
    "data = pd.read_csv(\"data_correlation.csv\", header=None)\n",
    "data2 = pd.concat([data, data[0:232]])\n",
    "data3 = pd.concat([data2, data2.iloc[:,0:3]],axis=1)\n",
    "data4 =  pd.read_csv(\"data_correlation2.csv\")\n",
    "\n",
    "names = ['X1a','X1b','X1c','X2','X3','X4','X5','X6','X7','X8','X9','X10']\n",
    "df = pd.DataFrame(data3.iloc[:,:].values,columns={'X1a','X1b','X1c','X2','X3','X4','X5','X6','X7','X8','X9','X10'})\n",
    "df = df.reindex(columns=names)"
   ]
  },
  {
   "cell_type": "code",
   "execution_count": null,
   "metadata": {
    "ExecuteTime": {
     "end_time": "2022-01-15T12:43:17.839142Z",
     "start_time": "2022-01-15T12:42:52.864418Z"
    }
   },
   "outputs": [],
   "source": [
    "#############\n",
    "# BOXPLOTS\n",
    "#############\n",
    "# Another useful way to review the distribution of each attribute is to use Box and Whisker Plots or for short.\n",
    "# Boxplots summarize the distribution of each attribute, drawing a line for the median (middle value) and a box around the 25th and 75th percentiles (the middle 50% of the data). The whiskers give an idea of the spread of the data and dots outside of the whiskers show candidate outlier values (values that are 1.5 times greater than the size of spread of the middle 50% of the data).\n",
    "if 1==1:\n",
    "    df.plot(kind='box', subplots=True, figsize=(20,4), sharex=False, sharey=False)\n",
    "    plt.show()\n",
    "    #plt.savefig('1-boxplots.eps')\n",
    "    plt.savefig('1-boxplots.pdf')\n",
    "    #plt.close()\n",
    "\n",
    "\n",
    "#################\n",
    "# DENSITY PLOTS\n",
    "#################\n",
    "# Density plots are another way of getting a quick idea of the distribution of each attribute. The plots look like an abstracted histogram with a smooth curve drawn through the top of each bin, much like your eye tried to do with the histograms.\n",
    "if 1==1:\n",
    "    df.plot(kind='density', subplots=True, figsize=(12,8), sharex=False, color='black')\n",
    "    plt.show()\n",
    "    #plt.savefig('2-density_plots.eps')\n",
    "    plt.savefig('2-density_plots.pdf')\n",
    "    #plt.close()\n",
    "\n",
    "\n",
    "\n",
    "#################\n",
    "# HISTOGRAMS\n",
    "#################\n",
    "#A fast way to get an idea of the distribution of each attribute is to look at histograms.\n",
    "#Histograms group data into bins and provide you a count of the number of observations in each bin. From the shape of the bins you can quickly get a feeling for whether an attribute is Gaussian’, skewed or even has an exponential distribution. It can also help you see possible outliers.\n",
    "#We can see that perhaps the attributes age, pedi and test may have an exponential distribution. We can also see that perhaps the mass and pres and plas attributes may have a Gaussian or nearly Gaussian distribution. This is interesting because many machine learning techniques assume a Gaussian univariate distribution on the input variables.\n",
    "if 1==1:\n",
    "    df.hist(figsize=(12,8), color='gray')\n",
    "    plt.show()\n",
    "    #plt.savefig('histogram_plots.eps')\n",
    "    plt.savefig('3-histogram_plots.pdf')\n",
    "    #plt.close()\n",
    "\n",
    "\n",
    "\n",
    "\n",
    "\n",
    "\n",
    "##########################\n",
    "# CORRELATION MATRIX PLOT\n",
    "##########################\n",
    "#Correlation gives an indication of how related the changes are between two variables. If two variables change in the same direction they are positively correlated. If the change in opposite directions together (one goes up, one goes down), then they are negatively correlated.\n",
    "#You can calculate the correlation between each pair of attributes. This is called a correlation matrix. You can then plot the correlation matrix and get an idea of which variables have a high correlation with each other.\n",
    "#This is useful to know, because some machine learning algorithms like linear and logistic regression can have poor performance if there are highly correlated input variables in your data\n",
    "# We can see that the matrix is symmetrical, i.e. the bottom left of the matrix is the same as the top right. This is useful as we can see two different views on the same data in one plot. We can also see that each variable is perfectly positively correlated with each other (as you would expected) in the diagonal line from top left to bottom right\n",
    "if 1==1:\n",
    "    correlations = df.corr()\n",
    "    # plot correlation matrix\n",
    "    fig2 = plt.figure(num=1, figsize=(8,8), dpi=80, facecolor='w', edgecolor='k')\n",
    "    ax = fig2.add_subplot(111)\n",
    "    cax = ax.matshow(correlations, vmin=-1, vmax=1, cmap='coolwarm')\n",
    "    fig2.colorbar(cax)\n",
    "    ticks = np.arange(0,12,1)\n",
    "    ax.set_xticks(ticks)\n",
    "    ax.set_yticks(ticks)\n",
    "    ax.set_xticklabels(names)\n",
    "    ax.set_yticklabels(names)\n",
    "    plt.show()\n",
    "    #plt.savefig('4-scatter_matrix_correlation.eps')\n",
    "    plt.savefig('4-scatter_matrix_correlation.pdf')\n",
    "    #plt.close()\n",
    "\n",
    "\n",
    "##########################\n",
    "# CORRELATION MATRIX PLOT (2)\n",
    "##########################\n",
    "if 1==1:\n",
    "\n",
    "    corr = data4.corr()\n",
    "    fig = plt.figure()\n",
    "    ax = fig.add_subplot(111)\n",
    "    cax = ax.matshow(corr,cmap='coolwarm', vmin=-1, vmax=1)\n",
    "    fig.colorbar(cax)\n",
    "    ticks = np.arange(0,len(data4.columns),1)\n",
    "    ax.set_xticks(ticks)\n",
    "    plt.xticks(rotation=90)\n",
    "    ax.set_yticks(ticks)\n",
    "    #ax.set_xticklabels(data.columns)\n",
    "    #ax.set_yticklabels(data.columns)\n",
    "    plt.show()\n",
    "    plt.savefig('5-scatter_matrix_correlation.pdf')\n",
    "    #plt.savefig('5-scatter_matrix_correlation2.eps')\n",
    "    #plt.close()\n",
    "\n",
    "\n",
    "##########################\n",
    "# SCATTERPLOT MATRIX\n",
    "##########################\n",
    "#A scatterplot shows the relationship between two variables as dots in two dimensions, one axis for each attribute. You can create a scatterplot for each pair of attributes in your data. Drawing all these scatterplots together is called a scatterplot matrix.\n",
    "#Scatter plots are useful for spotting structured relationships between variables, like whether you could summarize the relationship between two variables with a line. Attributes with structured relationships may also be correlated and good candidates for removal from your dataset.\n",
    "# Like the Correlation Matrix Plot, the scatterplot matrix is symmetrical. This is useful to look at the pair-wise relationships from different perspectives. Because there is little point oi drawing a scatterplot of each variable with itself, the diagonal shows histograms of each attribute\n",
    "if 1==1:\n",
    "    fig = plt.figure(num=1, figsize=(8,8), dpi=80, facecolor='w', edgecolor='k')\n",
    "    scatter_matrix(df)\n",
    "    plt.savefig('6-scatter_matrix.pdf')\n",
    "    plt.show()\n",
    "    #plt.close()\n",
    "\n",
    "\n",
    "\n",
    "##########################\n",
    "# SCATTERHIST PLOT\n",
    "##########################\n",
    "if 1==1:\n",
    "    # Fixing random state for reproducibility\n",
    "    np.random.seed(19680801)\n",
    "\n",
    "    # the random data\n",
    "    x = np.random.randn(1000)\n",
    "    y = np.random.randn(1000)\n",
    "    nullfmt = NullFormatter()         # no labels\n",
    "\n",
    "    # definitions for the axes\n",
    "    left, width = 0.1, 0.6\n",
    "    bottom, height = 0.1, 0.6\n",
    "    bottom_h = left_h = left + width + 0.02\n",
    "\n",
    "    rect_scatter = [left, bottom, width, height]\n",
    "    rect_histx = [left, bottom_h, width, 0.2]\n",
    "    rect_histy = [left_h, bottom, 0.2, height]\n",
    "\n",
    "    # start with a rectangular Figure\n",
    "    plt.figure(1, figsize=(8, 8))\n",
    "\n",
    "    axScatter = plt.axes(rect_scatter)\n",
    "    axHistx = plt.axes(rect_histx)\n",
    "    axHisty = plt.axes(rect_histy)\n",
    "\n",
    "    # no labels\n",
    "    axHistx.xaxis.set_major_formatter(nullfmt)\n",
    "    axHisty.yaxis.set_major_formatter(nullfmt)\n",
    "\n",
    "    # the scatter plot:\n",
    "    #x = df.loc[:,['X2']].values\n",
    "    #y = df.loc[:,['X4']].values\n",
    "    axScatter.scatter(x,y)\n",
    "\n",
    "    # now determine nice limits by hand:\n",
    "    binwidth = 0.25\n",
    "    xymax = max(np.max(np.abs(x)), np.max(np.abs(y)))\n",
    "    lim = (int(xymax/binwidth) + 1) * binwidth\n",
    "\n",
    "    axScatter.set_xlim((-lim, lim))\n",
    "    axScatter.set_ylim((-lim, lim))\n",
    "    axScatter.set_xlabel('$X_3$')\n",
    "    axScatter.set_ylabel('$X_6$')\n",
    "\n",
    "    bins = np.arange(-lim, lim + binwidth, binwidth)\n",
    "    axHistx.hist(x, bins=bins)\n",
    "    axHisty.hist(y, bins=bins, orientation='horizontal')\n",
    "\n",
    "    axHistx.set_xlim(axScatter.get_xlim())\n",
    "    axHisty.set_ylim(axScatter.get_ylim())\n",
    "\n",
    "    plt.show()\n",
    "    plt.savefig('7-scatterhist.pdf')\n",
    "    #plt.close()"
   ]
  },
  {
   "cell_type": "code",
   "execution_count": null,
   "metadata": {},
   "outputs": [],
   "source": []
  }
 ],
 "metadata": {
  "@webio": {
   "lastCommId": null,
   "lastKernelId": null
  },
  "hide_input": false,
  "kernelspec": {
   "display_name": "Python 3",
   "language": "python",
   "name": "python3"
  },
  "language_info": {
   "codemirror_mode": {
    "name": "ipython",
    "version": 3
   },
   "file_extension": ".py",
   "mimetype": "text/x-python",
   "name": "python",
   "nbconvert_exporter": "python",
   "pygments_lexer": "ipython3",
   "version": "3.7.3"
  },
  "toc": {
   "base_numbering": 1,
   "nav_menu": {},
   "number_sections": true,
   "sideBar": true,
   "skip_h1_title": false,
   "title_cell": "Table of Contents",
   "title_sidebar": "Contents",
   "toc_cell": false,
   "toc_position": {},
   "toc_section_display": true,
   "toc_window_display": false
  },
  "varInspector": {
   "cols": {
    "lenName": 16,
    "lenType": 16,
    "lenVar": 40
   },
   "kernels_config": {
    "python": {
     "delete_cmd_postfix": "",
     "delete_cmd_prefix": "del ",
     "library": "var_list.py",
     "varRefreshCmd": "print(var_dic_list())"
    },
    "r": {
     "delete_cmd_postfix": ") ",
     "delete_cmd_prefix": "rm(",
     "library": "var_list.r",
     "varRefreshCmd": "cat(var_dic_list()) "
    }
   },
   "types_to_exclude": [
    "module",
    "function",
    "builtin_function_or_method",
    "instance",
    "_Feature"
   ],
   "window_display": false
  }
 },
 "nbformat": 4,
 "nbformat_minor": 2
}
