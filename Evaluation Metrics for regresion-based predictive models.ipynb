{
 "cells": [
  {
   "cell_type": "code",
   "execution_count": 2,
   "metadata": {},
   "outputs": [],
   "source": [
    "from IPython.display import display, Math, Latex"
   ]
  },
  {
   "cell_type": "markdown",
   "metadata": {},
   "source": [
    "# Evaluation Metrics for regresion-based predictive models "
   ]
  },
  {
   "cell_type": "markdown",
   "metadata": {},
   "source": [
    "Each predictive model is trying to solve a problem with a different objective using a different dataset and hence, it is important to understand the context before choosing a metric.\n",
    "\n",
    "Usually, the answers to the following question help us choose the appropriate metric:\n",
    "\n",
    "    * Type of task: Regression? Classification?\n",
    "    * Business goal?\n",
    "    * What is the distribution of the target variable?"
   ]
  },
  {
   "cell_type": "markdown",
   "metadata": {},
   "source": [
    "## Regression Metrics\n",
    "\n",
    "* Mean Squared Error (MSE)\n",
    "* Root Mean Squared Error (RMSE)\n",
    "* Mean Absolute Error (MAE)\n",
    "* R Squared (R²)\n",
    "* Adjusted R Squared (R²)\n",
    "* Mean Square Percentage Error (MSPE)\n",
    "* Mean Absolute Percentage Error (MAPE)\n",
    "* Root Mean Squared Logarithmic Error (RMSLE)"
   ]
  },
  {
   "cell_type": "markdown",
   "metadata": {},
   "source": [
    "### Mean Squared Error (MSE)\n",
    "\n",
    "It is perhaps the most simple and common metric for regression evaluation, but also probably the least useful. It is defined by the equation\n",
    "\n",
    "$$\n",
    "MSE = \\frac{1}{n} \\sum_{i=1}^N (y_1-\\hat{y}_i)^2 \n",
    "$$\n",
    "\n",
    "\n"
   ]
  },
  {
   "cell_type": "markdown",
   "metadata": {},
   "source": [
    "where $y_ᵢ$ is the actual expected output and $\\hat{y}_i$ is the model’s prediction.\n",
    "\n",
    "MSE basically measures average squared error of our predictions. For each point, it calculates square difference between the predictions and the target and then average those values.\n",
    "\n",
    "* The higher this value, the worse the model is\n",
    "* It is never negative, since we’re squaring the individual prediction-wise errors before summing them, but would be zero for a perfect model .\n",
    "\n",
    "* __Advantage__: Useful if we have unexpected values that we should care about. Vey high or low value that we should pay attention.\n",
    "\n",
    "* __Disadvantage__: If we make a single very bad prediction, the squaring will make the error even worse and it may skew the metric towards overestimating the model’s badness. That is a particularly problematic behaviour if we have noisy data (that is, data that for whatever reason is not entirely reliable)\n",
    "\n",
    "even a “perfect” model may have a high MSE in that situation, so it becomes hard to judge how well the model is performing.\n",
    "\n",
    "On the other hand, if all the errors are small, or rather, smaller than 1, than the opposite effect is felt: we may underestimate the model’s badness.\n",
    "\n",
    "Note that if we want to have a constant prediction the best one will be the mean value of the target values. It can be found by setting the derivative of our total error with respect to that constant to zero, and find it from this equation."
   ]
  },
  {
   "cell_type": "markdown",
   "metadata": {},
   "source": [
    "\n",
    "### Root Mean Squared Error (RMSE)\n",
    "\n",
    "RMSE is just the square root of MSE. The square root is introduced to make scale of the errors to be the same as the scale of targets.\n",
    "\n",
    "$$\n",
    "RMSE = \\sqrt{\\frac{1}{n} \\sum_{i=1}^N (y_i-\\hat{y}_i)^2 } = \\sqrt{MSE}\n",
    "$$\n",
    "\n",
    "MSE and RMSE are similar in terms of their minimizers, every minimizer of MSE is also a minimizer for RMSE and vice versa since the square root is an non-decreasing function.\n",
    "\n",
    "$$\n",
    "MSE(a)>MSE(b)\\Rightarrow RMSE(a)>RMSE(b)\n",
    "$$\n",
    "\n",
    "It means that, if the target metric is RMSE, we still can compare our models using MSE,since MSE will order the models in the same way as RMSE. Thus we can optimize MSE instead of RMSE.\n",
    "\n",
    "MSE is a little bit easier to work with, so everybody uses MSE instead of RMSE. Also a little bit of difference between the two for gradient-based models.\n",
    "\n",
    "$$\n",
    "\\frac{\\partial RMSE}{\\partial \\hat{y}_i} = \\frac{1}{2 \\sqrt{MSE} }  \\frac{\\partial MSE}{\\partial \\hat{y}_i } \n",
    "$$\n",
    "\n",
    "It means that travelling along MSE gradient is equivalent to traveling along RMSE gradient but with a different flowing rate and the flowing rate depends on MSE score itself.\n",
    "\n",
    "So even though RMSE and MSE are really similar in terms of models scoring, they can be not immediately interchangeable for gradient based methods. We will probably need to adjust some parameters like the learning rate.\n",
    "\n",
    "\n"
   ]
  },
  {
   "cell_type": "markdown",
   "metadata": {},
   "source": [
    "### Mean Absolute Error (MAE)\n",
    "\n",
    "In MAE the error is calculated as an average of absolute differences between the target values and the predictions. The MAE is a linear score which means that all the individual differences are weighted equally in the average. For example, the difference between 10 and 0 will be twice the difference between 5 and 0. However, same is not true for RMSE. Mathematically, it is calculated using this formula:\n",
    "\n",
    "$$\n",
    "MAE = \\frac{1}{n} \\sum_{i=1}^N |y_i - \\hat{y}_i|\n",
    "$$\n",
    "\n",
    "MAE penalizes huge errors larger in compararison with MSE. So, it’s not that sensitive to outliers as MSE.\n",
    "\n",
    "MAE is widely used in finance, where 10 euros error is usually exactly two times worse than 5 error. On the other hand, MSE metric thinks that 10 euros error is four times worse than 5 euros error.\n",
    "\n",
    "MAE is easier to justify than RMSE.\n",
    "\n",
    "The gradient of the MAE metric it is not defined as the gradiend is a step function and it takes -1 when $\\hat{y}$ is smaller than the target and +1 when it is larger. So formally, MAE is not differentiable, second derivative is zero everywhere and not defined in the point zero."
   ]
  },
  {
   "cell_type": "markdown",
   "metadata": {},
   "source": [
    "### R Squared ($R^2$)\n",
    "The coefficient of determination, or $R^2$, is another metric we may use to evaluate a model and it is closely related to MSE, but has the advantage of being scale-free — it does not matter if the output values are very large or very small, the $R^2$ is always going to be between $(-\\infty, 1)$\n",
    "\n",
    "It is hard to realize if our model is good or not by looking at the absolute values of MSE or RMSE. We would probably want to measure how much our model is better than the constant baseline.That is what makes $R^2$.\n",
    "Example:\n",
    "* MSE(a) = 32\n",
    "* RMSE(a) = 4\n",
    "* $R^2$(a) = 0.85\n",
    "\n",
    "___When R² is negative it means that the model is worse than predicting the mean.___\n",
    "\n",
    "$$\n",
    "R^2 = 1  - \\frac{MSE(model)}{MSE(baseline)} = \\frac{\\sigma_{y,\\hat{y}}}{\\sigma_{y} \\sigma_{\\hat{y}}}\n",
    "$$\n",
    "\n",
    "The MSE of the model is computed as above, while the MSE of the baseline is defined as:\n",
    "\n",
    "$$\n",
    "MSE(baseline) = \\frac{1}{n} \\sum_{i=1}^N (y_i-\\bar{y})^2 \n",
    "$$\n",
    "\n",
    "where the $\\bar{y}$ is the mean of the observed $y_i$\n",
    "\n",
    "baseline MSE can be thought of as the MSE that the simplest possible model would get. The simplest possible model would be to always predict the average of all samples. A value close to 1 indicates a model with close to zero error, and a value close to zero indicates a model very close to the baseline.\n",
    "\n",
    "___In conclusion, R² is the ratio between how good our model is vs how good is the naive mean model.___\n"
   ]
  },
  {
   "cell_type": "markdown",
   "metadata": {},
   "source": [
    "## Remarks\n",
    "* MAE is more robust (less sensitive to outliers) than MSE \n",
    "* $R^2$ is good to know about the performance of a model in general"
   ]
  },
  {
   "cell_type": "markdown",
   "metadata": {},
   "source": [
    "## Example"
   ]
  },
  {
   "cell_type": "code",
   "execution_count": 10,
   "metadata": {},
   "outputs": [
    {
     "name": "stdout",
     "output_type": "stream",
     "text": [
      "MSE: 2548.07\n",
      "RMSE: 50.48\n",
      "MAE: 41.23\n",
      "R2: 0.47\n"
     ]
    },
    {
     "data": {
      "image/png": "[encoded data removed]",
      "text/plain": [
       "<Figure size 432x288 with 1 Axes>"
      ]
     },
     "metadata": {},
     "output_type": "display_data"
    }
   ],
   "source": [
    "import matplotlib.pyplot as plt\n",
    "import numpy as np\n",
    "from sklearn import datasets, linear_model\n",
    "from sklearn.metrics import mean_squared_error, r2_score, mean_absolute_error\n",
    "%matplotlib inline\n",
    "\n",
    "# Load the diabetes dataset\n",
    "diabetes = datasets.load_diabetes()\n",
    "\n",
    "# Use only one feature\n",
    "diabetes_X = diabetes.data[:, np.newaxis, 2]\n",
    "\n",
    "# Split the data into training/testing sets\n",
    "diabetes_X_train = diabetes_X[:-20]\n",
    "diabetes_X_test = diabetes_X[-20:]\n",
    "\n",
    "# Split the targets into training/testing sets\n",
    "diabetes_y_train = diabetes.target[:-20]\n",
    "diabetes_y_test = diabetes.target[-20:]\n",
    "\n",
    "# Create linear regression object\n",
    "regr = linear_model.LinearRegression()\n",
    "\n",
    "# Train the model using the training sets\n",
    "regr.fit(diabetes_X_train, diabetes_y_train)\n",
    "\n",
    "# Make predictions using the testing set\n",
    "diabetes_y_pred = regr.predict(diabetes_X_test)\n",
    "\n",
    "# The coefficients\n",
    "# print('Coefficients: \\n', regr.coef_)\n",
    "# The mean squared error\n",
    "print(\"MSE: %.2f\"\n",
    "      % mean_squared_error(diabetes_y_test, diabetes_y_pred))\n",
    "# The Root mean squared error\n",
    "print(\"RMSE: %.2f\"\n",
    "      % np.sqrt(mean_squared_error(diabetes_y_test, diabetes_y_pred)))\n",
    "# The MAE\n",
    "print(\"MAE: %.2f\"\n",
    "      % mean_absolute_error(diabetes_y_test, diabetes_y_pred))\n",
    "# Explained variance score: 1 is perfect prediction\n",
    "print('R2: %.2f' % r2_score(diabetes_y_test, diabetes_y_pred))\n",
    "\n",
    "# Plot outputs\n",
    "plt.scatter(diabetes_X_test, diabetes_y_test,  color='black')\n",
    "plt.plot(diabetes_X_test, diabetes_y_pred, color='blue', linewidth=3)\n",
    "\n",
    "plt.xticks(())\n",
    "plt.yticks(())\n",
    "\n",
    "plt.show()"
   ]
  },
  {
   "cell_type": "code",
   "execution_count": null,
   "metadata": {},
   "outputs": [],
   "source": []
  }
 ],
 "metadata": {
  "kernelspec": {
   "display_name": "Python 3",
   "language": "python",
   "name": "python3"
  },
  "language_info": {
   "codemirror_mode": {
    "name": "ipython",
    "version": 3
   },
   "file_extension": ".py",
   "mimetype": "text/x-python",
   "name": "python",
   "nbconvert_exporter": "python",
   "pygments_lexer": "ipython3",
   "version": "3.7.4"
  }
 },
 "nbformat": 4,
 "nbformat_minor": 2
}
