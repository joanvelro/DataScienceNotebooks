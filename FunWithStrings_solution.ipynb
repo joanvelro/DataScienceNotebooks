{
  "nbformat": 4,
  "nbformat_minor": 0,
  "metadata": {
    "kernelspec": {
      "display_name": "Python [Root]",
      "language": "python",
      "name": "Python [Root]"
    },
    "language_info": {
      "codemirror_mode": {
        "name": "ipython",
        "version": 3
      },
      "file_extension": ".py",
      "mimetype": "text/x-python",
      "name": "python",
      "nbconvert_exporter": "python",
      "pygments_lexer": "ipython3",
      "version": "3.5.2"
    },
    "colab": {
      "name": "FunWithStrings_solution.ipynb",
      "provenance": [],
      "include_colab_link": true
    }
  },
  "cells": [
    {
      "cell_type": "markdown",
      "metadata": {
        "id": "view-in-github",
        "colab_type": "text"
      },
      "source": [
        "<a href=\"https://colab.research.google.com/github/patofw/imf_master/blob/master/Google_Colab/FunWithStrings_solution.ipynb\" target=\"_parent\"><img src=\"https://colab.research.google.com/assets/colab-badge.svg\" alt=\"Open In Colab\"/></a>"
      ]
    },
    {
      "cell_type": "markdown",
      "metadata": {
        "id": "ieLEDdDIuclS",
        "colab_type": "text"
      },
      "source": [
        "\n",
        "\n",
        "\n",
        "# Manipulación de cadenas de texto (strings)"
      ]
    },
    {
      "cell_type": "markdown",
      "metadata": {
        "id": "vsECEP6puclU",
        "colab_type": "text"
      },
      "source": [
        "El tratamiento de datos de texto es uno de las áreas con mayor desarrollo en la ciencia de datos, sobre todo con el 'boom' que ha tenido el procesamiento del lenguaje natural (NLP) en diferentes áreas de la inteligencia artificial. \n",
        "Python, en su base tiene varias herramientas que nos pueden ayudar a tratar cadenas de texto. En este tutorial veremos las más comunes, pero hay mucnas más en la documentación oficial.   <a href=\"https://docs.python.org/3.2/library/stdtypes.html#string-methods\">Python</a>. "
      ]
    },
    {
      "cell_type": "markdown",
      "metadata": {
        "id": "WVakpsKUuclW",
        "colab_type": "text"
      },
      "source": [
        "## Formato de las cadenas"
      ]
    },
    {
      "cell_type": "markdown",
      "metadata": {
        "id": "9pWhy_tYuclY",
        "colab_type": "text"
      },
      "source": [
        "Antes de empezar con la limpieza de cadenas de texto, quiero comentarles que Python permite añadir variables a tus cadenas de texto de múltiples formas. Esto es especialmente útil cuando queremos que nuestros prints se actualicen con una variable previamente declarada. Hay varias formas de haecerlo. Por ejemplo:"
      ]
    },
    {
      "cell_type": "code",
      "metadata": {
        "id": "qzI4aZPXucla",
        "colab_type": "code",
        "outputId": "538fd902-3a1f-49aa-a972-4e86c8074fc7",
        "colab": {
          "base_uri": "https://localhost:8080/",
          "height": 35
        }
      },
      "source": [
        "# Esta es la opción más \"pytónica\" y elegante\n",
        "var1 = \"Patricio\"\n",
        "var2 = \"España\"\n",
        "print(f\"Hola mi nombre es {var1} y vivo en {var2}\") \n"
      ],
      "execution_count": 0,
      "outputs": [
        {
          "output_type": "stream",
          "text": [
            "Hola mi nombre es Patricio y vivo en España\n"
          ],
          "name": "stdout"
        }
      ]
    },
    {
      "cell_type": "code",
      "metadata": {
        "id": "yvc8rrmeuclj",
        "colab_type": "code",
        "outputId": "dc03fc9a-a9a8-4bdc-8d66-8d2cf2ca8657",
        "colab": {
          "base_uri": "https://localhost:8080/",
          "height": 35
        }
      },
      "source": [
        "# utilizando comas para separar \n",
        "print(\"Hola mi nombre es\",var1,\"y vivo en\", var2)"
      ],
      "execution_count": 0,
      "outputs": [
        {
          "output_type": "stream",
          "text": [
            "Hola mi nombre es Patricio y vivo en España\n"
          ],
          "name": "stdout"
        }
      ]
    },
    {
      "cell_type": "code",
      "metadata": {
        "id": "XUeith6Buclr",
        "colab_type": "code",
        "outputId": "1f2c73da-ac55-4327-f4a8-6502fd493390",
        "colab": {
          "base_uri": "https://localhost:8080/",
          "height": 35
        }
      },
      "source": [
        "print(\"Hola mi nombre es {} y vivo en {}\".format(var1,var2))"
      ],
      "execution_count": 0,
      "outputs": [
        {
          "output_type": "stream",
          "text": [
            "Hola mi nombre es Patricio y vivo en España\n"
          ],
          "name": "stdout"
        }
      ]
    },
    {
      "cell_type": "markdown",
      "metadata": {
        "id": "fHYSBckNucly",
        "colab_type": "text"
      },
      "source": [
        "# Tratamiento de Texto\n",
        "\n",
        "En muchos casos vamos a recibir el texto en una lista de elementos. Python nos permite unir los elementos de texto con la función join."
      ]
    },
    {
      "cell_type": "code",
      "metadata": {
        "id": "Xu20Cu09ucm0",
        "colab_type": "code",
        "outputId": "1c539b8b-9216-4bd2-90de-86ab00b84911",
        "colab": {
          "base_uri": "https://localhost:8080/",
          "height": 35
        }
      },
      "source": [
        "\" \".join([\"No\", \"quiero\", \"estar en una lista\"])"
      ],
      "execution_count": 0,
      "outputs": [
        {
          "output_type": "execute_result",
          "data": {
            "text/plain": [
              "'No quiero estar en una lista'"
            ]
          },
          "metadata": {
            "tags": []
          },
          "execution_count": 10
        }
      ]
    },
    {
      "cell_type": "code",
      "metadata": {
        "id": "w6STGavJucnD",
        "colab_type": "code",
        "outputId": "98dd2a6f-7b65-432c-b2a4-564d4e304286",
        "colab": {
          "base_uri": "https://localhost:8080/",
          "height": 35
        }
      },
      "source": [
        "# Podemos agregar cualquier separador entre las palabras en medio de las comillas del join\n",
        "\"--\".join([\"A\", \"B\", \"C\"])"
      ],
      "execution_count": 0,
      "outputs": [
        {
          "output_type": "execute_result",
          "data": {
            "text/plain": [
              "'A--B--C'"
            ]
          },
          "metadata": {
            "tags": []
          },
          "execution_count": 13
        }
      ]
    },
    {
      "cell_type": "code",
      "metadata": {
        "id": "OMs8X2glucnN",
        "colab_type": "code",
        "outputId": "80593fe7-320c-4676-c4da-43d64fb9adfa",
        "colab": {}
      },
      "source": [
        "# Esto solo funcionará con cadénas de texto \n",
        "\", \".join([1, 2, 3])"
      ],
      "execution_count": 0,
      "outputs": [
        {
          "output_type": "error",
          "ename": "TypeError",
          "evalue": "sequence item 0: expected str instance, int found",
          "traceback": [
            "\u001b[0;31m---------------------------------------------------------------------------\u001b[0m",
            "\u001b[0;31mTypeError\u001b[0m                                 Traceback (most recent call last)",
            "\u001b[0;32m<ipython-input-13-5cf48cdc0469>\u001b[0m in \u001b[0;36m<module>\u001b[0;34m()\u001b[0m\n\u001b[0;32m----> 1\u001b[0;31m \u001b[0;34m\", \"\u001b[0m\u001b[0;34m.\u001b[0m\u001b[0mjoin\u001b[0m\u001b[0;34m(\u001b[0m\u001b[0;34m[\u001b[0m\u001b[0;36m1\u001b[0m\u001b[0;34m,\u001b[0m \u001b[0;36m2\u001b[0m\u001b[0;34m,\u001b[0m \u001b[0;36m3\u001b[0m\u001b[0;34m]\u001b[0m\u001b[0;34m)\u001b[0m\u001b[0;34m\u001b[0m\u001b[0m\n\u001b[0m",
            "\u001b[0;31mTypeError\u001b[0m: sequence item 0: expected str instance, int found"
          ]
        }
      ]
    },
    {
      "cell_type": "code",
      "metadata": {
        "id": "E_mub3U6XQ0V",
        "colab_type": "code",
        "outputId": "7704cc45-8e0d-4936-e936-5081b9bf4152",
        "colab": {
          "base_uri": "https://localhost:8080/",
          "height": 35
        }
      },
      "source": [
        "# Esto solo funcionará con cadénas de texto \n",
        "# Al poner comillas en cada número, las transformamos a texto\n",
        "\", \".join([\"1\", \"2\", \"3\"])"
      ],
      "execution_count": 0,
      "outputs": [
        {
          "output_type": "execute_result",
          "data": {
            "text/plain": [
              "'1, 2, 3'"
            ]
          },
          "metadata": {
            "tags": []
          },
          "execution_count": 14
        }
      ]
    },
    {
      "cell_type": "markdown",
      "metadata": {
        "id": "PkkkfvbYucpp",
        "colab_type": "text"
      },
      "source": [
        "Hay veces que el texto vendrá con demasiados espacios en blanco. Podemos eliminarlos fácilmente con el método strip()"
      ]
    },
    {
      "cell_type": "code",
      "metadata": {
        "id": "WAUM9hq3ucpq",
        "colab_type": "code",
        "outputId": "8d20214e-ca2f-4a43-bc5b-046866d777d3",
        "colab": {
          "base_uri": "https://localhost:8080/",
          "height": 35
        }
      },
      "source": [
        "# Eliminamos todos los espacios de la izquierda y derecha del texto\n",
        "s = \"     This is some text.......      \"\n",
        "s.strip()"
      ],
      "execution_count": 0,
      "outputs": [
        {
          "output_type": "execute_result",
          "data": {
            "text/plain": [
              "'This is some text.......'"
            ]
          },
          "metadata": {
            "tags": []
          },
          "execution_count": 15
        }
      ]
    },
    {
      "cell_type": "code",
      "metadata": {
        "id": "HFF6syj9ucpw",
        "colab_type": "code",
        "outputId": "161fa6d5-5fc6-48a1-d6e3-6bf2f171c1a3",
        "colab": {
          "base_uri": "https://localhost:8080/",
          "height": 35
        }
      },
      "source": [
        "# Solo los de la izquierda\n",
        "s.lstrip()"
      ],
      "execution_count": 0,
      "outputs": [
        {
          "output_type": "execute_result",
          "data": {
            "text/plain": [
              "'This is some text.......      '"
            ]
          },
          "metadata": {
            "tags": []
          },
          "execution_count": 16
        }
      ]
    },
    {
      "cell_type": "code",
      "metadata": {
        "id": "5gfZNMbWucp4",
        "colab_type": "code",
        "outputId": "d21d38c2-034d-47d3-e776-dad547f4288f",
        "colab": {
          "base_uri": "https://localhost:8080/",
          "height": 35
        }
      },
      "source": [
        "# Solo derecha\n",
        "s.rstrip()"
      ],
      "execution_count": 0,
      "outputs": [
        {
          "output_type": "execute_result",
          "data": {
            "text/plain": [
              "'     This is some text.......'"
            ]
          },
          "metadata": {
            "tags": []
          },
          "execution_count": 17
        }
      ]
    },
    {
      "cell_type": "code",
      "metadata": {
        "id": "TtsHKXb-ucp-",
        "colab_type": "code",
        "outputId": "d3baf7a6-5e65-42dc-cb4e-74879fac772a",
        "colab": {
          "base_uri": "https://localhost:8080/",
          "height": 35
        }
      },
      "source": [
        "# También podemos eliminar caracteres \n",
        "# Quitemos los puntos de la derecha y los espacios \n",
        "s.rstrip(\" .\")"
      ],
      "execution_count": 0,
      "outputs": [
        {
          "output_type": "execute_result",
          "data": {
            "text/plain": [
              "'     This is some text'"
            ]
          },
          "metadata": {
            "tags": []
          },
          "execution_count": 18
        }
      ]
    },
    {
      "cell_type": "code",
      "metadata": {
        "id": "ZY87Hl-CucqJ",
        "colab_type": "code",
        "outputId": "3c5d3b4f-db34-4eca-dbf2-9a922ef08767",
        "colab": {
          "base_uri": "https://localhost:8080/",
          "height": 35
        }
      },
      "source": [
        "# Strip solo funciona en el inicio y el final de una cadena. \n",
        "# No reemplaza lo que está en el medio \n",
        "s.strip(\" Tt.\")"
      ],
      "execution_count": 0,
      "outputs": [
        {
          "output_type": "execute_result",
          "data": {
            "text/plain": [
              "'his is some tex'"
            ]
          },
          "metadata": {
            "tags": []
          },
          "execution_count": 19
        }
      ]
    },
    {
      "cell_type": "markdown",
      "metadata": {
        "id": "YzFVapv8ucqg",
        "colab_type": "text"
      },
      "source": [
        "## Manipulando las mayúsculas y minúsculas del texto. "
      ]
    },
    {
      "cell_type": "code",
      "metadata": {
        "id": "zxAVChrHucqh",
        "colab_type": "code",
        "outputId": "dae5d42d-0fec-455b-b18d-cc1604811e4e",
        "colab": {
          "base_uri": "https://localhost:8080/",
          "height": 35
        }
      },
      "source": [
        "# Ponemos mayúscula a la primera letra \n",
        "\"soy una oración.\".capitalize()"
      ],
      "execution_count": 0,
      "outputs": [
        {
          "output_type": "execute_result",
          "data": {
            "text/plain": [
              "'Soy un título.'"
            ]
          },
          "metadata": {
            "tags": []
          },
          "execution_count": 20
        }
      ]
    },
    {
      "cell_type": "code",
      "metadata": {
        "id": "ZFTCrYnKucqm",
        "colab_type": "code",
        "outputId": "0e81f2b4-efa2-4411-ee36-fcbe5075ea27",
        "colab": {
          "base_uri": "https://localhost:8080/",
          "height": 35
        }
      },
      "source": [
        "# Todo a minúsculas \n",
        "\"NO QUIERO PARECER QUE ESTOY GRITANDO!!\".lower()"
      ],
      "execution_count": 0,
      "outputs": [
        {
          "output_type": "execute_result",
          "data": {
            "text/plain": [
              "'no quiero parecer que estoy gritando!!'"
            ]
          },
          "metadata": {
            "tags": []
          },
          "execution_count": 21
        }
      ]
    },
    {
      "cell_type": "code",
      "metadata": {
        "id": "mxmSf5vIucqq",
        "colab_type": "code",
        "outputId": "c5d30f53-c5c7-4f2a-864c-912635687484",
        "colab": {
          "base_uri": "https://localhost:8080/",
          "height": 35
        }
      },
      "source": [
        "# 'Swap', mayúsculas pasan a minúsculas y viceversa\n",
        "\"this IS a TeST!\".swapcase()"
      ],
      "execution_count": 0,
      "outputs": [
        {
          "output_type": "execute_result",
          "data": {
            "text/plain": [
              "'THIS is A tEst!'"
            ]
          },
          "metadata": {
            "tags": []
          },
          "execution_count": 22
        }
      ]
    },
    {
      "cell_type": "code",
      "metadata": {
        "id": "crqINEgtucqu",
        "colab_type": "code",
        "outputId": "dfea255c-349e-4036-891d-0bfb5bf5505c",
        "colab": {
          "base_uri": "https://localhost:8080/",
          "height": 35
        }
      },
      "source": [
        "# Todas las palabras con la primera mayúscula\n",
        "\"soy un título y quiero verme como tal\".title()"
      ],
      "execution_count": 0,
      "outputs": [
        {
          "output_type": "execute_result",
          "data": {
            "text/plain": [
              "'Soy Un Título Y Quiero Verme Como Tal'"
            ]
          },
          "metadata": {
            "tags": []
          },
          "execution_count": 23
        }
      ]
    },
    {
      "cell_type": "code",
      "metadata": {
        "id": "35YfSt7jucqy",
        "colab_type": "code",
        "outputId": "b9f6f015-eae6-47d8-9494-1365c29b3385",
        "colab": {
          "base_uri": "https://localhost:8080/",
          "height": 35
        }
      },
      "source": [
        "# Todo a mayúscula\n",
        "\"yo si quiero parecer como si estuviera gritando!\".upper()"
      ],
      "execution_count": 0,
      "outputs": [
        {
          "output_type": "execute_result",
          "data": {
            "text/plain": [
              "'YO SI QUIERO PARECER COMO SI ESTUVIERA GRITANDO!'"
            ]
          },
          "metadata": {
            "tags": []
          },
          "execution_count": 24
        }
      ]
    },
    {
      "cell_type": "markdown",
      "metadata": {
        "id": "GAfL0dI4ucq2",
        "colab_type": "text"
      },
      "source": [
        "# Búsqueda y partición en las cadenas "
      ]
    },
    {
      "cell_type": "code",
      "metadata": {
        "id": "LP6exrsGucq3",
        "colab_type": "code",
        "outputId": "c7187f55-d109-4b9c-8a27-f92fafd2c0e3",
        "colab": {
          "base_uri": "https://localhost:8080/",
          "height": 35
        }
      },
      "source": [
        "# Contar cuantas veces hay la aparición de una cadena\n",
        "\"This is a test for counting 'is' in a string.\".count(\"is\")"
      ],
      "execution_count": 0,
      "outputs": [
        {
          "output_type": "execute_result",
          "data": {
            "text/plain": [
              "3"
            ]
          },
          "metadata": {
            "tags": []
          },
          "execution_count": 1
        }
      ]
    },
    {
      "cell_type": "code",
      "metadata": {
        "id": "sjezjdgoucq7",
        "colab_type": "code",
        "outputId": "a5a97ff4-eb45-4c59-e5e6-bb8a7bcbc0b9",
        "colab": {
          "base_uri": "https://localhost:8080/",
          "height": 35
        }
      },
      "source": [
        "# podemos poner un rango (en este caso de la pos 0 a la pos 10 del texto)\n",
        "\"This is a test for counting 'is' in a string.\".count(\"is\",0, 10)"
      ],
      "execution_count": 0,
      "outputs": [
        {
          "output_type": "execute_result",
          "data": {
            "text/plain": [
              "2"
            ]
          },
          "metadata": {
            "tags": []
          },
          "execution_count": 11
        }
      ]
    },
    {
      "cell_type": "code",
      "metadata": {
        "id": "k9ZqfYLEucq_",
        "colab_type": "code",
        "outputId": "08e119fe-d6f9-4c36-ee9e-2279168180db",
        "colab": {
          "base_uri": "https://localhost:8080/",
          "height": 35
        }
      },
      "source": [
        "# Devolver la posición donde encontramos una subcadena \n",
        "\"Where is the dog?\".find(\"dog\")"
      ],
      "execution_count": 0,
      "outputs": [
        {
          "output_type": "execute_result",
          "data": {
            "text/plain": [
              "13"
            ]
          },
          "metadata": {
            "tags": []
          },
          "execution_count": 12
        }
      ]
    },
    {
      "cell_type": "code",
      "metadata": {
        "id": "y5aOb3BMucrC",
        "colab_type": "code",
        "outputId": "d9d3ded6-c302-4bd9-d41c-ea460f7efea1",
        "colab": {
          "base_uri": "https://localhost:8080/",
          "height": 35
        }
      },
      "source": [
        "# Si no lo encuentra devuelve -1\n",
        "\"I can only find a cat.\".find(\"dog\")"
      ],
      "execution_count": 0,
      "outputs": [
        {
          "output_type": "execute_result",
          "data": {
            "text/plain": [
              "-1"
            ]
          },
          "metadata": {
            "tags": []
          },
          "execution_count": 13
        }
      ]
    },
    {
      "cell_type": "code",
      "metadata": {
        "id": "rD3l4oyAucrF",
        "colab_type": "code",
        "outputId": "766bbf8a-4ea6-4653-beb1-d24e266e5051",
        "colab": {
          "base_uri": "https://localhost:8080/",
          "height": 35
        }
      },
      "source": [
        "# Qué pasa si tenemos dos veces la subcadena? \n",
        "# Devuelve la primera posición \n",
        "\"Is a bulldog a dog?\".find(\"dog\")"
      ],
      "execution_count": 0,
      "outputs": [
        {
          "output_type": "execute_result",
          "data": {
            "text/plain": [
              "9"
            ]
          },
          "metadata": {
            "tags": []
          },
          "execution_count": 14
        }
      ]
    },
    {
      "cell_type": "code",
      "metadata": {
        "id": "sK4LG4u7ucrK",
        "colab_type": "code",
        "outputId": "833a72e9-1186-4270-dfd4-38c8773987dd",
        "colab": {
          "base_uri": "https://localhost:8080/",
          "height": 35
        }
      },
      "source": [
        "# Si queremos sacar la última posición utilizamos rfind\n",
        "\"Is a bulldog a dog?\".rfind(\"dog\")"
      ],
      "execution_count": 0,
      "outputs": [
        {
          "output_type": "execute_result",
          "data": {
            "text/plain": [
              "15"
            ]
          },
          "metadata": {
            "tags": []
          },
          "execution_count": 16
        }
      ]
    },
    {
      "cell_type": "code",
      "metadata": {
        "id": "d9zn8LPkucrh",
        "colab_type": "code",
        "outputId": "89154796-54b1-44a3-ef1a-470f95ad49ae",
        "colab": {
          "base_uri": "https://localhost:8080/",
          "height": 35
        }
      },
      "source": [
        "# Partition divide el texto en una tupla de 3 partes, utilizando como referencia una subcadena\n",
        "# Dividimos el texto por la subcadena \"c\" en una tupla de 3 elementos\n",
        "# Se toma la primera aparición de la cadena como punto de partición\n",
        "s = \"Does this string contain a 'c'?\"\n",
        "s.partition(\"c\")"
      ],
      "execution_count": 0,
      "outputs": [
        {
          "output_type": "execute_result",
          "data": {
            "text/plain": [
              "('Does this string ', 'c', \"ontain a 'c'?\")"
            ]
          },
          "metadata": {
            "tags": []
          },
          "execution_count": 22
        }
      ]
    },
    {
      "cell_type": "code",
      "metadata": {
        "id": "Q3lXvKFeucrl",
        "colab_type": "code",
        "outputId": "7872844c-75b1-4284-8a7c-e6c710a3175c",
        "colab": {
          "base_uri": "https://localhost:8080/",
          "height": 35
        }
      },
      "source": [
        "# Otro ejemplo\n",
        "s.partition(\"string\")"
      ],
      "execution_count": 0,
      "outputs": [
        {
          "output_type": "execute_result",
          "data": {
            "text/plain": [
              "('Does this ', 'string', \" contain a 'c'?\")"
            ]
          },
          "metadata": {
            "tags": []
          },
          "execution_count": 18
        }
      ]
    },
    {
      "cell_type": "code",
      "metadata": {
        "id": "UE3ECYUAucrp",
        "colab_type": "code",
        "outputId": "463ce0d8-c200-4c22-d64a-3ec64c1ecc83",
        "colab": {
          "base_uri": "https://localhost:8080/",
          "height": 35
        }
      },
      "source": [
        "# Si no encuentra la subcadena, igual realiza la partición\n",
        "s.partition(\"elementoNoExistente\")"
      ],
      "execution_count": 0,
      "outputs": [
        {
          "output_type": "execute_result",
          "data": {
            "text/plain": [
              "(\"Does this string contain a 'c'?\", '', '')"
            ]
          },
          "metadata": {
            "tags": []
          },
          "execution_count": 23
        }
      ]
    },
    {
      "cell_type": "markdown",
      "metadata": {
        "id": "lYggHhS5ucrv",
        "colab_type": "text"
      },
      "source": [
        "# Reemplazar dentro de una cadena de texto"
      ]
    },
    {
      "cell_type": "code",
      "metadata": {
        "id": "4Ff_BK4ducrw",
        "colab_type": "code",
        "outputId": "de05c921-1c4a-4473-d19f-1751c636ca57",
        "colab": {
          "base_uri": "https://localhost:8080/",
          "height": 35
        }
      },
      "source": [
        "# Utilizamos reemplazar, donde el primer elemento es la subcadena que \n",
        "# queremos reemplazar, y el segundo es la subcadena que usaremos en su lugar\n",
        "print(\"Esto no es una pregunta?\".replace(\"?\", \"!\"))"
      ],
      "execution_count": 0,
      "outputs": [
        {
          "output_type": "stream",
          "text": [
            "Esto no es una pregunta!\n"
          ],
          "name": "stdout"
        }
      ]
    },
    {
      "cell_type": "code",
      "metadata": {
        "id": "-ueQ_9d0ucr4",
        "colab_type": "code",
        "outputId": "036c5db7-cbc2-46ec-bbd0-71455261ce75",
        "colab": {
          "base_uri": "https://localhost:8080/",
          "height": 52
        }
      },
      "source": [
        "# Podemos también especificar el número de veces que queremos reemplazar \n",
        "# el texto. \n",
        "s = \"One, two, three, two\"\n",
        "print(s.replace(\"two\", \"four\"))\n",
        "print(s.replace(\"two\", \"four\", 1))"
      ],
      "execution_count": 0,
      "outputs": [
        {
          "output_type": "stream",
          "text": [
            "One, four, three, four\n",
            "One, four, three, two\n"
          ],
          "name": "stdout"
        }
      ]
    },
    {
      "cell_type": "markdown",
      "metadata": {
        "id": "C-zfY5OCucr_",
        "colab_type": "text"
      },
      "source": [
        "# Split (Separa el texto en una lista)"
      ]
    },
    {
      "cell_type": "code",
      "metadata": {
        "id": "9Q9zulERucsA",
        "colab_type": "code",
        "outputId": "b404fbe9-0847-4e06-babe-49e2ecfb1e42",
        "colab": {
          "base_uri": "https://localhost:8080/",
          "height": 35
        }
      },
      "source": [
        "s = \"La película split me encanta\"\n",
        "# Si ejecutamos split sin argumento, separa las cadenas separadas por espacios\n",
        "words = s.split()\n",
        "print(words)\n"
      ],
      "execution_count": 0,
      "outputs": [
        {
          "output_type": "stream",
          "text": [
            "['La', 'película', 'split', 'me', 'encanta']\n"
          ],
          "name": "stdout"
        }
      ]
    },
    {
      "cell_type": "code",
      "metadata": {
        "id": "3PUmF3ukMtW7",
        "colab_type": "code",
        "outputId": "65559d90-ae05-41d5-a020-376891852880",
        "colab": {
          "base_uri": "https://localhost:8080/",
          "height": 35
        }
      },
      "source": [
        "# Podemos también pasarle como argumento, la subcadena que queremos que considere\n",
        "# para realizar el corte\n",
        "s = \"La película split | me encanta\"\n",
        "lista = s.split(\" | \")\n",
        "print(lista)"
      ],
      "execution_count": 0,
      "outputs": [
        {
          "output_type": "stream",
          "text": [
            "['La película split', 'me encanta']\n"
          ],
          "name": "stdout"
        }
      ]
    },
    {
      "cell_type": "code",
      "metadata": {
        "id": "BOEPx7rfucsH",
        "colab_type": "code",
        "outputId": "f210fce6-6683-4c84-a452-04e8e38a9861",
        "colab": {
          "base_uri": "https://localhost:8080/",
          "height": 35
        }
      },
      "source": [
        "# Otro ejemplo\n",
        "\"1 --- 2 --- 3 --- 4 --- 5\".split(\" --- \")"
      ],
      "execution_count": 0,
      "outputs": [
        {
          "output_type": "execute_result",
          "data": {
            "text/plain": [
              "['1', '2', '3', '4', '5']"
            ]
          },
          "metadata": {
            "tags": []
          },
          "execution_count": 34
        }
      ]
    },
    {
      "cell_type": "code",
      "metadata": {
        "id": "5jepdVQ2ucsO",
        "colab_type": "code",
        "outputId": "4b5d9311-dff2-44a1-9197-947d16f61752",
        "colab": {
          "base_uri": "https://localhost:8080/",
          "height": 35
        }
      },
      "source": [
        "# Podemos hacer algo similar con la función split lines, \n",
        "# Que separará texto por líneas \n",
        "text= '''First line\n",
        "Second line\n",
        "\n",
        "Fourth line'''\n",
        "text.splitlines()"
      ],
      "execution_count": 0,
      "outputs": [
        {
          "output_type": "execute_result",
          "data": {
            "text/plain": [
              "['First line', 'Second line', '', 'Fourth line']"
            ]
          },
          "metadata": {
            "tags": []
          },
          "execution_count": 35
        }
      ]
    },
    {
      "cell_type": "markdown",
      "metadata": {
        "id": "osZHQZVIucsb",
        "colab_type": "text"
      },
      "source": [
        "# Revisando propiedes de las cadenas de texto"
      ]
    },
    {
      "cell_type": "code",
      "metadata": {
        "id": "BLb9VKwBucsd",
        "colab_type": "code",
        "outputId": "c788b720-d52a-4c13-8c41-75d3ee2cd990",
        "colab": {
          "base_uri": "https://localhost:8080/",
          "height": 35
        }
      },
      "source": [
        "# Devuelve True or False si cumple la condición. Por ejemplo\n",
        "\"Python\".endswith(\"on\")"
      ],
      "execution_count": 0,
      "outputs": [
        {
          "output_type": "execute_result",
          "data": {
            "text/plain": [
              "True"
            ]
          },
          "metadata": {
            "tags": []
          },
          "execution_count": 37
        }
      ]
    },
    {
      "cell_type": "code",
      "metadata": {
        "id": "Lty5h130ucst",
        "colab_type": "code",
        "outputId": "74104a89-71f1-4b85-8889-d6f7c3c4c176",
        "colab": {
          "base_uri": "https://localhost:8080/",
          "height": 35
        }
      },
      "source": [
        "# Recuerda que las cadenas consideran si el texto está en mayúscula o minuscula\n",
        "\"Python\".startswith(\"py\")"
      ],
      "execution_count": 0,
      "outputs": [
        {
          "output_type": "execute_result",
          "data": {
            "text/plain": [
              "False"
            ]
          },
          "metadata": {
            "tags": []
          },
          "execution_count": 39
        }
      ]
    },
    {
      "cell_type": "code",
      "metadata": {
        "id": "DbxnSSKhucsy",
        "colab_type": "code",
        "outputId": "8ccf28b0-1062-4726-f3bf-dcf0bfab0ca5",
        "colab": {
          "base_uri": "https://localhost:8080/",
          "height": 35
        }
      },
      "source": [
        "# Podemos utilizar la función lower que vimos antes para resolverlo\n",
        "\"Python\".lower().startswith(\"py\")"
      ],
      "execution_count": 0,
      "outputs": [
        {
          "output_type": "execute_result",
          "data": {
            "text/plain": [
              "True"
            ]
          },
          "metadata": {
            "tags": []
          },
          "execution_count": 40
        }
      ]
    },
    {
      "cell_type": "code",
      "metadata": {
        "id": "ncnRfh7ducs_",
        "colab_type": "code",
        "outputId": "a3aacc6c-6f88-4be2-b37e-15dcd81196c8",
        "colab": {
          "base_uri": "https://localhost:8080/",
          "height": 35
        }
      },
      "source": [
        "# También Python nos puede decir si la cadena tiene sólo caracteres alphanuméricos\n",
        "\"123algo\".isalnum()"
      ],
      "execution_count": 0,
      "outputs": [
        {
          "output_type": "execute_result",
          "data": {
            "text/plain": [
              "True"
            ]
          },
          "metadata": {
            "tags": []
          },
          "execution_count": 41
        }
      ]
    },
    {
      "cell_type": "code",
      "metadata": {
        "id": "tjgBGDwRuctF",
        "colab_type": "code",
        "outputId": "d42e5921-078c-4d21-fce2-ebf03a9ee5ec",
        "colab": {
          "base_uri": "https://localhost:8080/",
          "height": 35
        }
      },
      "source": [
        "# Da falso si no hay algo que no sea letra o número\n",
        "\"123!!\".isalnum()"
      ],
      "execution_count": 0,
      "outputs": [
        {
          "output_type": "execute_result",
          "data": {
            "text/plain": [
              "False"
            ]
          },
          "metadata": {
            "tags": []
          },
          "execution_count": 43
        }
      ]
    },
    {
      "cell_type": "code",
      "metadata": {
        "id": "VD_bo4bCuctO",
        "colab_type": "code",
        "outputId": "80c5f2ac-61d8-4090-abfa-ef7621545bfe",
        "colab": {
          "base_uri": "https://localhost:8080/",
          "height": 35
        }
      },
      "source": [
        "# También nos puede decir si la cadena solo tiene números \n",
        "\"123\".isdigit()"
      ],
      "execution_count": 0,
      "outputs": [
        {
          "output_type": "execute_result",
          "data": {
            "text/plain": [
              "True"
            ]
          },
          "metadata": {
            "tags": []
          },
          "execution_count": 46
        }
      ]
    },
    {
      "cell_type": "markdown",
      "metadata": {
        "id": "MQAuLSnSuctS",
        "colab_type": "text"
      },
      "source": [
        "# Indexación \n",
        "Las cadenas se pueden indexar utilizando corchetes como en los elementos iterables. En realidad,una cadena de texto es un elemento iterable..."
      ]
    },
    {
      "cell_type": "code",
      "metadata": {
        "id": "Zw96WS3SuctS",
        "colab_type": "code",
        "outputId": "2d1cd716-07b7-4274-a38b-f6053515d0c9",
        "colab": {
          "base_uri": "https://localhost:8080/",
          "height": 35
        }
      },
      "source": [
        "s = \"123456789\"\n",
        "print(s[0:5])"
      ],
      "execution_count": 0,
      "outputs": [
        {
          "output_type": "stream",
          "text": [
            "12345\n"
          ],
          "name": "stdout"
        }
      ]
    },
    {
      "cell_type": "code",
      "metadata": {
        "id": "6eRu9VPTuctV",
        "colab_type": "code",
        "outputId": "de852a4e-56e0-4dc3-bf20-f4779b8b7348",
        "colab": {
          "base_uri": "https://localhost:8080/",
          "height": 35
        }
      },
      "source": [
        "s=\"8980989089809898\"\n",
        "print(s[-6:-1])"
      ],
      "execution_count": 0,
      "outputs": [
        {
          "output_type": "stream",
          "text": [
            "80989\n"
          ],
          "name": "stdout"
        }
      ]
    },
    {
      "cell_type": "markdown",
      "metadata": {
        "id": "GsMn90fiRQgM",
        "colab_type": "text"
      },
      "source": [
        "# Challenge \n",
        "\n",
        "Me ha llegado la información de unas entradas y tengo que procesarlas. El objetivo es estructurar los datos en una tabla, pero la información llegó con varios problemas... Me podrías ayudar a limpiar y estructurar el mensaje?\n",
        "Las instrucciones de cómo hacerlo están en el mismo mensaje :)"
      ]
    },
    {
      "cell_type": "code",
      "metadata": {
        "id": "keZdS9GdRJ9j",
        "colab_type": "code",
        "colab": {}
      },
      "source": [
        "mensaje = \"\"\"\n",
        "* Esta es una línea de comentario y no sirve para nada \n",
        "* La estructura de la información relevante es: \n",
        "* primeros 5 digitos : id del cliente\n",
        "* los siguientes 3 digitos: id del canal \n",
        "* los siguientes 5 digitos: id del evento\n",
        "* Una cantidad variable de caracteres inútiles \n",
        "* El caracter \"-\" marca el inicio y final del precio de venta. \n",
        "* Necesitamos una tabla que estructure la información descrita anteriormente\n",
        "\n",
        "Patricio Fernadez, 0123400111111jkljlkjhjkhjkhjkhjkh-25.6-ergfgfggfhgfhgfh\n",
        "Borja Mon de York, 0123500111111jklfgfglkjhjkhjkhjkhjkh-25.6-rtytry\n",
        "Patricio Fernandez, 0123400111111jkljassaslkjhjkhjkhjkhjkh-55.3-tyt\n",
        "Bruce Wayne, 0123800111111jkljlkjhjkhjkhjkhjkh-75.6-asfdsf\n",
        "Micheal Jordan, 0123600111111jkljlkjhjkhjkhjkhjkh-125.6-fdgdghrtt\n",
        "Patricio Fernandez, 0123400211111jkljlkjhjkhjkhjkhjkh-28.6-ererggfdv\n",
        "\n",
        "Elidolo DelEcuador, 0123900111111jkljlkjhjkhjkrrrhjkhjkh-25.6-dsgfdgrd\n",
        "* Esto es una trampa!\n",
        "Peter Parker, 0123100511112jkljlkjhjkhjkhjkhjkh-75.2-fgbfb\n",
        "Ignacio Gonzalez, 0123200111112jkljlkjhjkhjkhjkhjkh-25.6-dgergetg\n",
        "\n",
        "Clark Kent, 0122200111111jkljlkgfghfhjhjkhjkhjkhjkh-15.8-sdfgfdgdg\n",
        "Bruce Wayne, 0123800111112jkljlkrrrrjhjkhjkhjkhjkh-35.2-gregregr\n",
        "Pepe Fulano, 0122200111112jkljlkjhjkhjkhjkhjkh-25.6-wrgrgreg\n",
        "\"\"\""
      ],
      "execution_count": 0,
      "outputs": []
    },
    {
      "cell_type": "code",
      "metadata": {
        "id": "5HlNP6_eXgC1",
        "colab_type": "code",
        "colab": {
          "base_uri": "https://localhost:8080/",
          "height": 69
        },
        "outputId": "c7c26105-d6c7-4cbd-d657-8df2a3996922"
      },
      "source": [
        "#step 1 get every line independently\n",
        "l = mensaje.splitlines()\n",
        "\n",
        "event_data = {}\n",
        "customer_data= {}\n",
        "channel_data = {}\n",
        "\n",
        "\n",
        "for line in l: # iteramos por línea\n",
        "    # Filtramos comentarios y líneas vacías\n",
        "    if line.startswith(\"*\") or len(line)==0: \n",
        "        continue\n",
        "    else:\n",
        "        # Extraemos información según las instrucciones\n",
        "        tokens = line.split(\",\") # separamos el nombre de la info\n",
        "        name = tokens[0].strip() # el nombre es el primer elemento de la lista\n",
        "        info = tokens[1].strip() # la data está en el segundo elemento de la lista\n",
        "        cust_id = info[:5] # de info sacamos los primeros 5 caracterers para el id\n",
        "        channel_id = info[5:8] # los siguientes 3 son el id del canal \n",
        "        event_id = info[8:13] # Luego los siguietnes 3 del evento\n",
        "        tokens = info.split(\"-\") # Separamos por \"-\" para el monto pagado\n",
        "        amount = float(tokens[1]) # lo pasamos a numérico\n",
        "        \n",
        "        # Guardamos todo en diccionarios para sacar información \n",
        "        # acumulada del análisis. \n",
        "        \n",
        "        if cust_id in customer_data: \n",
        "            temp = customer_data[cust_id]\n",
        "            temp +=amount # sumamos la cantidad de dinero por id de usuario\n",
        "            customer_data[cust_id] = temp # fijamos el valor por id de usuario\n",
        "        else:\n",
        "            customer_data[cust_id] = amount \n",
        "        # Hacemos otro diccionario con info del evento, misma lógica \n",
        "        if event_id in event_data:\n",
        "            temp = event_data[event_id]\n",
        "            temp +=amount\n",
        "            event_data[event_id] = temp\n",
        "        else:\n",
        "            event_data[event_id] = amount\n",
        "        # Finalmente un diccionario por el canal, también con misma lógica\n",
        "        if channel_id in channel_data:\n",
        "            temp = channel_data[channel_id]\n",
        "            temp +=amount\n",
        "            channel_data[channel_id] = temp\n",
        "        else:\n",
        "            channel_data[channel_id] = amount\n",
        "\n",
        "# imprimimos la solución\n",
        "print(channel_data)\n",
        "print(customer_data)\n",
        "print(event_data)\n",
        "\n",
        "# Este print está un poco feo. Podemos hacer DataFrames para visualizarlo mejor\n",
        "\n"
      ],
      "execution_count": 20,
      "outputs": [
        {
          "output_type": "stream",
          "text": [
            "{'001': 435.50000000000006, '002': 28.6, '005': 75.2}\n",
            "{'01234': 109.5, '01235': 25.6, '01238': 110.8, '01236': 125.6, '01239': 25.6, '01231': 75.2, '01232': 25.6, '01222': 41.400000000000006}\n",
            "{'11111': 377.70000000000005, '11112': 161.6}\n"
          ],
          "name": "stdout"
        }
      ]
    },
    {
      "cell_type": "code",
      "metadata": {
        "id": "cMFwWwBaXr3s",
        "colab_type": "code",
        "colab": {
          "base_uri": "https://localhost:8080/",
          "height": 347
        },
        "outputId": "23984497-243f-4374-9900-59dc785b2abc"
      },
      "source": [
        "import pandas as pd\n",
        "\n",
        "# Un DataFrame es básicamente un diccionario, representado en forma tabular\n",
        "# por lo que para construirlo podemos simplemente ejecutarlo llamando al método pd.DataFrame()\n",
        "\n",
        "channel_df = pd.DataFrame(channel_data.items(), # items extra las claves y valores del diccionario\n",
        "                        columns=[\"id_canal\",\"monto\"],\n",
        "                        )\n",
        "print(channel_df) \n",
        "print(\"--------------------------\")\n",
        "customer_df = pd.DataFrame(customer_data.items(), # items extra las claves y valores del diccionario\n",
        "                        columns=[\"id_cliente\",\"monto\"],\n",
        "                        )\n",
        "print(customer_df) \n",
        "print(\"--------------------------\")\n",
        "event_df = pd.DataFrame(event_data.items(), # items extra las claves y valores del diccionario\n",
        "                        columns=[\"id_evento\",\"monto\"],\n",
        "                        )\n",
        "print(event_df)\n",
        "print(\"--------------------------\")\n"
      ],
      "execution_count": 41,
      "outputs": [
        {
          "output_type": "stream",
          "text": [
            "  id_canal  monto\n",
            "0      001  435.5\n",
            "1      002   28.6\n",
            "2      005   75.2\n",
            "--------------------------\n",
            "  id_cliente  monto\n",
            "0      01234  109.5\n",
            "1      01235   25.6\n",
            "2      01238  110.8\n",
            "3      01236  125.6\n",
            "4      01239   25.6\n",
            "5      01231   75.2\n",
            "6      01232   25.6\n",
            "7      01222   41.4\n",
            "--------------------------\n",
            "  id_evento  monto\n",
            "0     11111  377.7\n",
            "1     11112  161.6\n",
            "--------------------------\n"
          ],
          "name": "stdout"
        }
      ]
    }
  ]
}