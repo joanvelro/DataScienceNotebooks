{
 "cells": [
  {
   "cell_type": "markdown",
   "metadata": {},
   "source": [
    "# Sequential Conv + Pool +Flatten + Dense"
   ]
  },
  {
   "cell_type": "markdown",
   "metadata": {},
   "source": [
    "## 00. Imports"
   ]
  },
  {
   "cell_type": "code",
   "execution_count": 1,
   "metadata": {},
   "outputs": [],
   "source": [
    "import numpy as np\n",
    "import seaborn as sn\n",
    "import pandas as pd\n",
    "import matplotlib.pyplot as plt\n",
    "from tensorflow.keras.datasets import fashion_mnist\n",
    "from sklearn.metrics import confusion_matrix"
   ]
  },
  {
   "cell_type": "code",
   "execution_count": 2,
   "metadata": {},
   "outputs": [],
   "source": [
    "import sys\n",
    "sys.path.append(\"../\")"
   ]
  },
  {
   "cell_type": "code",
   "execution_count": 3,
   "metadata": {},
   "outputs": [],
   "source": [
    "from src.activation.relu import ReluLayer\n",
    "from src.layers.pooling import MaxPoolLayer\n",
    "from src.activation.softmax import SoftmaxLayer\n",
    "from src.layers.dense import DenseLayer\n",
    "from src.layers.flatten import FlattenLayer\n",
    "from src.layers.convolutional import ConvLayer2D\n",
    "from src.model.sequential import SequentialModel\n",
    "from src.utils.core import convert_categorical2one_hot, convert_prob2categorical\n",
    "from src.utils.metrics import softmax_accuracy\n",
    "from src.optimizers.gradient_descent import GradientDescent\n",
    "from src.optimizers.rms_prop import RMSProp\n",
    "from src.optimizers.adam import Adam"
   ]
  },
  {
   "cell_type": "markdown",
   "metadata": {},
   "source": [
    "## 01. Settings"
   ]
  },
  {
   "cell_type": "code",
   "execution_count": 4,
   "metadata": {},
   "outputs": [],
   "source": [
    "# number of samples in the train data set\n",
    "N_TRAIN_SAMPLES = 1000\n",
    "# number of samples in the test data set\n",
    "N_TEST_SAMPLES = 1000\n",
    "# number of samples in the validation data set\n",
    "N_VALID_SAMPLES = 1000\n",
    "# number of classes\n",
    "N_CLASSES = 10\n",
    "# image size\n",
    "IMAGE_SIZE = 28"
   ]
  },
  {
   "cell_type": "markdown",
   "metadata": {},
   "source": [
    "## 02. Build data set"
   ]
  },
  {
   "cell_type": "code",
   "execution_count": 5,
   "metadata": {},
   "outputs": [
    {
     "name": "stdout",
     "output_type": "stream",
     "text": [
      "trainX shape: (60000, 28, 28)\n",
      "trainY shape: (60000,)\n",
      "testX shape: (10000, 28, 28)\n",
      "testY shape: (10000,)\n"
     ]
    }
   ],
   "source": [
    "((trainX, trainY), (testX, testY)) = fashion_mnist.load_data()\n",
    "print(\"trainX shape:\", trainX.shape)\n",
    "print(\"trainY shape:\", trainY.shape)\n",
    "print(\"testX shape:\", testX.shape)\n",
    "print(\"testY shape:\", testY.shape)"
   ]
  },
  {
   "cell_type": "code",
   "execution_count": 6,
   "metadata": {},
   "outputs": [],
   "source": [
    "X_train = trainX[:N_TRAIN_SAMPLES, :, :]\n",
    "y_train = trainY[:N_TRAIN_SAMPLES]\n",
    "\n",
    "X_test = trainX[N_TRAIN_SAMPLES:N_TRAIN_SAMPLES+N_TEST_SAMPLES, :, :]\n",
    "y_test = trainY[N_TRAIN_SAMPLES:N_TRAIN_SAMPLES+N_TEST_SAMPLES]\n",
    "\n",
    "X_valid = testX[:N_VALID_SAMPLES, :, :]\n",
    "y_valid = testY[:N_VALID_SAMPLES]"
   ]
  },
  {
   "cell_type": "markdown",
   "metadata": {},
   "source": [
    "**NOTE:** We need to change the data format to the shape supported by my implementation."
   ]
  },
  {
   "cell_type": "code",
   "execution_count": 7,
   "metadata": {},
   "outputs": [
    {
     "name": "stdout",
     "output_type": "stream",
     "text": [
      "X_train shape: (1000, 28, 28, 1)\n",
      "y_train shape: (1000, 10)\n",
      "X_test shape: (1000, 28, 28, 1)\n",
      "y_test shape: (1000, 10)\n",
      "X_valid shape: (1000, 28, 28, 1)\n",
      "y_valid shape: (1000, 10)\n"
     ]
    }
   ],
   "source": [
    "X_train = X_train / 255\n",
    "X_train = np.expand_dims(X_train, axis=3)\n",
    "y_train = convert_categorical2one_hot(y_train)\n",
    "X_test = X_test / 255\n",
    "X_test = np.expand_dims(X_test, axis=3)\n",
    "y_test = convert_categorical2one_hot(y_test)\n",
    "X_valid = X_valid / 255\n",
    "X_valid = np.expand_dims(X_valid, axis=3)\n",
    "y_valid = convert_categorical2one_hot(y_valid)\n",
    "print(\"X_train shape:\", X_train.shape)\n",
    "print(\"y_train shape:\", y_train.shape)\n",
    "print(\"X_test shape:\", X_test.shape)\n",
    "print(\"y_test shape:\", y_test.shape)\n",
    "print(\"X_valid shape:\", X_valid.shape)\n",
    "print(\"y_valid shape:\", y_valid.shape)"
   ]
  },
  {
   "cell_type": "markdown",
   "metadata": {},
   "source": [
    "## 03. Build model"
   ]
  },
  {
   "cell_type": "code",
   "execution_count": 8,
   "metadata": {},
   "outputs": [],
   "source": [
    "layers = [\n",
    "    # input (N, 28, 28, 1) out (N, 26, 26, 16)\n",
    "    ConvLayer2D.initialize(filters=16, kernel_shape=(3, 3, 1), stride=1),\n",
    "    # input (N, 26, 26, 16) out (N, 26, 26, 16)\n",
    "    ReluLayer(),\n",
    "    # input (N, 26, 26, 16) out (N, 13, 13, 16)\n",
    "    MaxPoolLayer(pool_size=(2, 2), stride=2),\n",
    "    # input (N, 13, 13, 16) out (N, 9, 9, 32)\n",
    "    ConvLayer2D.initialize(filters=32, kernel_shape=(5, 5, 16), stride=1),\n",
    "    # input (N, 9, 9, 32) out (N, 9, 9, 32)\n",
    "    ReluLayer(),\n",
    "     # input (N, 9, 9, 32) out (N, 3, 3, 32)\n",
    "    MaxPoolLayer(pool_size=(3, 3), stride=3),\n",
    "    # input (N, 3, 3, 32) out (N, 288)\n",
    "    FlattenLayer(),\n",
    "    DenseLayer.initialize(units_prev=288, units_curr=256),\n",
    "    ReluLayer(),\n",
    "    DenseLayer.initialize(units_prev=256, units_curr=256),\n",
    "    ReluLayer(),\n",
    "    DenseLayer.initialize(units_prev=256, units_curr=128),\n",
    "    ReluLayer(),\n",
    "    DenseLayer.initialize(units_prev=128, units_curr=64),\n",
    "    ReluLayer(),\n",
    "    DenseLayer.initialize(units_prev=64, units_curr=N_CLASSES),\n",
    "    SoftmaxLayer()\n",
    "]\n",
    "\n",
    "optimizer = Adam(lr=0.003)\n",
    "\n",
    "model = SequentialModel(\n",
    "    layers=layers,\n",
    "    optimizer=optimizer\n",
    ")"
   ]
  },
  {
   "cell_type": "markdown",
   "metadata": {},
   "source": [
    "## 04. Train"
   ]
  },
  {
   "cell_type": "code",
   "execution_count": 9,
   "metadata": {
    "scrolled": false
   },
   "outputs": [
    {
     "name": "stdout",
     "output_type": "stream",
     "text": [
      "Iter: 00001 - test loss: 1.96424 - test accuracy: 0.20800\n",
      "Iter: 00002 - test loss: 1.44079 - test accuracy: 0.45500\n",
      "Iter: 00003 - test loss: 1.14989 - test accuracy: 0.54400\n",
      "Iter: 00004 - test loss: 0.91847 - test accuracy: 0.64600\n",
      "Iter: 00005 - test loss: 0.81753 - test accuracy: 0.67200\n",
      "Iter: 00006 - test loss: 0.76650 - test accuracy: 0.72100\n",
      "Iter: 00007 - test loss: 0.71122 - test accuracy: 0.73900\n",
      "Iter: 00008 - test loss: 0.70954 - test accuracy: 0.75200\n",
      "Iter: 00009 - test loss: 0.78738 - test accuracy: 0.75000\n",
      "Iter: 00010 - test loss: 0.86500 - test accuracy: 0.74000\n",
      "Iter: 00011 - test loss: 0.69355 - test accuracy: 0.76700\n",
      "Iter: 00012 - test loss: 0.75045 - test accuracy: 0.76600\n",
      "Iter: 00013 - test loss: 0.85861 - test accuracy: 0.77600\n",
      "Iter: 00014 - test loss: 0.84636 - test accuracy: 0.80300\n",
      "Iter: 00015 - test loss: 0.98152 - test accuracy: 0.79000\n",
      "Iter: 00016 - test loss: 0.95457 - test accuracy: 0.78400\n",
      "Iter: 00017 - test loss: 0.92549 - test accuracy: 0.79100\n",
      "Iter: 00018 - test loss: 1.07117 - test accuracy: 0.79000\n",
      "Iter: 00019 - test loss: 0.89026 - test accuracy: 0.79100\n",
      "Iter: 00020 - test loss: 0.96833 - test accuracy: 0.79800\n",
      "Iter: 00021 - test loss: 1.04674 - test accuracy: 0.79800\n",
      "Iter: 00022 - test loss: 0.87911 - test accuracy: 0.78000\n",
      "Iter: 00023 - test loss: 0.98159 - test accuracy: 0.78300\n",
      "Iter: 00024 - test loss: 1.09708 - test accuracy: 0.78800\n",
      "Iter: 00025 - test loss: 1.12000 - test accuracy: 0.79400\n",
      "Iter: 00026 - test loss: 1.13737 - test accuracy: 0.79800\n",
      "Iter: 00027 - test loss: 1.19311 - test accuracy: 0.79300\n",
      "Iter: 00028 - test loss: 1.02893 - test accuracy: 0.78300\n",
      "Iter: 00029 - test loss: 1.03364 - test accuracy: 0.79300\n",
      "Iter: 00030 - test loss: 1.16350 - test accuracy: 0.79200\n"
     ]
    }
   ],
   "source": [
    "model.train(\n",
    "    x_train=X_train, \n",
    "    y_train=y_train, \n",
    "    x_test=X_test, \n",
    "    y_test=y_test, \n",
    "    epochs=30,\n",
    "    bs=128,\n",
    "    verbose=True\n",
    ")"
   ]
  },
  {
   "cell_type": "markdown",
   "metadata": {},
   "source": [
    "## 05. Predict and examine results"
   ]
  },
  {
   "cell_type": "code",
   "execution_count": 10,
   "metadata": {},
   "outputs": [
    {
     "name": "stdout",
     "output_type": "stream",
     "text": [
      "acc:  0.775\n"
     ]
    }
   ],
   "source": [
    "y_hat = model.predict(X_valid)\n",
    "acc = softmax_accuracy(y_hat, y_valid)\n",
    "print(\"acc: \", acc)"
   ]
  },
  {
   "cell_type": "code",
   "execution_count": 11,
   "metadata": {},
   "outputs": [],
   "source": [
    "y_hat = convert_prob2categorical(y_hat)\n",
    "y_valid = convert_prob2categorical(y_valid)"
   ]
  },
  {
   "cell_type": "code",
   "execution_count": 12,
   "metadata": {},
   "outputs": [
    {
     "data": {
      "image/png": "[encoded data removed]",
      "text/plain": [
       "<Figure size 1440x1008 with 2 Axes>"
      ]
     },
     "metadata": {
      "needs_background": "light"
     },
     "output_type": "display_data"
    }
   ],
   "source": [
    "df_cm = pd.DataFrame(\n",
    "    confusion_matrix(y_valid, y_hat), \n",
    "    range(10), \n",
    "    range(10)\n",
    ")\n",
    "plt.figure(figsize = (20,14))\n",
    "sn.heatmap(df_cm, annot=True)\n",
    "plt.show()"
   ]
  }
 ],
 "metadata": {
  "kernelspec": {
   "display_name": "Python 3",
   "language": "python",
   "name": "python3"
  },
  "language_info": {
   "codemirror_mode": {
    "name": "ipython",
    "version": 3
   },
   "file_extension": ".py",
   "mimetype": "text/x-python",
   "name": "python",
   "nbconvert_exporter": "python",
   "pygments_lexer": "ipython3",
   "version": "3.7.3"
  }
 },
 "nbformat": 4,
 "nbformat_minor": 4
}
