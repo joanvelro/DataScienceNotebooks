{
 "cells": [
  {
   "cell_type": "markdown",
   "metadata": {},
   "source": [
    "# Decision Trees\n",
    "---"
   ]
  },
  {
   "cell_type": "markdown",
   "metadata": {},
   "source": [
    "## 00. Imports"
   ]
  },
  {
   "cell_type": "code",
   "execution_count": 1,
   "metadata": {},
   "outputs": [],
   "source": [
    "import numpy as np\n",
    "from typing import Tuple, List, Union"
   ]
  },
  {
   "cell_type": "markdown",
   "metadata": {},
   "source": [
    "## 01. Gini Index"
   ]
  },
  {
   "cell_type": "code",
   "execution_count": 2,
   "metadata": {},
   "outputs": [],
   "source": [
    "def group_gini_index(samples: np.array) -> float:\n",
    "    n_samples = samples.shape[0]\n",
    "    _, n_groups = np.unique(samples, return_counts=True)\n",
    "    return 1 - sum(map(lambda x: (x/n_samples)**2, n_groups))"
   ]
  },
  {
   "cell_type": "code",
   "execution_count": 3,
   "metadata": {},
   "outputs": [],
   "source": [
    "def groups_gini_index(first: np.array, second: np.array) -> float:\n",
    "    n_first = first.shape[0]\n",
    "    n_second = second.shape[0]\n",
    "    n_total = n_first + n_second\n",
    "    return group_gini_index(first) * n_first / n_total + \\\n",
    "           group_gini_index(second) * n_second / n_total"
   ]
  },
  {
   "cell_type": "markdown",
   "metadata": {},
   "source": [
    "## 02. Split"
   ]
  },
  {
   "cell_type": "code",
   "execution_count": 95,
   "metadata": {},
   "outputs": [],
   "source": [
    "def find_split(X: np.array, y: np.array):\n",
    "    n_samples, n_features = X.shape\n",
    "    split_feature, split_value, best_gini, X_left, X_right, y_left, y_right = \\\n",
    "        None, None, None, None, None, None, None\n",
    "    \n",
    "    for feature_idx in range(n_features):\n",
    "        order = X[:, feature_idx].argsort()\n",
    "        X_sorted = X[order]\n",
    "        y_sorted = y[order]\n",
    "        \n",
    "        for sample_idx in range(1, n_samples):\n",
    "            y_left_, y_right_ = np.split(y_sorted, [sample_idx])\n",
    "            gini = groups_gini_index(y_left_, y_right_)\n",
    "            \n",
    "            if best_gini is None or gini < best_gini:\n",
    "                best_gini = gini\n",
    "                split_feature = feature_idx\n",
    "                split_value = (X_sorted[sample_idx, feature_idx] + X_sorted[sample_idx - 1, feature_idx])/2\n",
    "                y_left, y_right = y_left_, y_right_\n",
    "                X_left, X_right = np.split(X_sorted, [sample_idx])\n",
    "            \n",
    "    return split_feature, split_value, X_left, X_right, y_left, y_right"
   ]
  },
  {
   "cell_type": "markdown",
   "metadata": {},
   "source": [
    "## 03. Tree structure"
   ]
  },
  {
   "cell_type": "code",
   "execution_count": 5,
   "metadata": {},
   "outputs": [],
   "source": [
    "class Node:\n",
    "    def __init__(\n",
    "        self, assigned_label: int = None, \n",
    "        split_feature: int = None, \n",
    "        split_value: float = None\n",
    "    ) -> None:\n",
    "        self.assigned_label = assigned_label\n",
    "        self.split_feature = split_feature\n",
    "        self.split_value = split_value\n",
    "        self.left_child = None\n",
    "        self.right_child = None"
   ]
  },
  {
   "cell_type": "code",
   "execution_count": 6,
   "metadata": {},
   "outputs": [],
   "source": [
    "class TreeClassifier:\n",
    "    def __init__(self, max_depth: int, min_samples_split: int) -> None:\n",
    "        self.max_depth = max_depth\n",
    "        self.min_samples_split = min_samples_split\n",
    "        \n",
    "    def fit(self, X: np.array, y: np.array) -> None:\n",
    "        self.root = Node()\n",
    "        self.__split(X, y, self.root, 1)\n",
    "        \n",
    "    def predict(self, X: np.array) -> np.array:\n",
    "        predictions = np.empty(X.shape[0])\n",
    "        for idx, x in enumerate(X):\n",
    "            predictions[idx] = self.__single_example_prdiction(x)\n",
    "        return predictions\n",
    "        \n",
    "    def __split(self, X: np.array, y: np.array, node: Node, depth: int) -> None:\n",
    "        n_samples = y.shape[0]\n",
    "        \n",
    "        if n_samples <= self.min_samples_split or depth >= self.max_depth:\n",
    "            unique, counts = np.unique(y, return_counts=True)\n",
    "            node.assigned_label = unique[np.argmax(counts)]\n",
    "            return\n",
    "        \n",
    "        node.split_feature, node.split_value, X_left, X_right, y_left, y_right = find_split(X, y)\n",
    "        node.left_child, node.right_child = Node(), Node()\n",
    "        \n",
    "        self.__split(X_left, y_left, node.left_child, depth + 1)\n",
    "        self.__split(X_right, y_right, node.right_child, depth + 1)\n",
    "        \n",
    "    def __single_example_prdiction(self, x: np.array) -> int:\n",
    "        node = self.root\n",
    "        while node.assigned_label == None:\n",
    "            if x[node.split_feature] > node.split_value:\n",
    "                node = node.right_child\n",
    "            else:\n",
    "                node = node.left_child\n",
    "        return node.assigned_label"
   ]
  },
  {
   "cell_type": "markdown",
   "metadata": {},
   "source": [
    "## 04. Random Forest"
   ]
  },
  {
   "cell_type": "code",
   "execution_count": 81,
   "metadata": {},
   "outputs": [],
   "source": [
    "class RandomForestClassifier():\n",
    "    def __init__(self, n_estimators: int, fraction: float, max_depth: int, min_samples_split: int):\n",
    "        self.n_estimators = n_estimators\n",
    "        self.fraction = fraction\n",
    "        self.max_depth = max_depth\n",
    "        self.min_samples_split = min_samples_split\n",
    "        \n",
    "    def fit(self, X: np.array, y: np.array) -> None:\n",
    "        self.estimators = [TreeClassifier(max_depth=self.max_depth, min_samples_split=self.min_samples_split)\n",
    "                          for _ in range(self.n_estimators)]\n",
    "        bags = self.__create_bags(X, y, self.n_estimators, self.fraction)\n",
    "        for estimator, (X_bag, y_bag) in zip(self.estimators, bags):\n",
    "            estimator.fit(X_bag, y_bag)\n",
    "        \n",
    "    def predict(self, X: np.array) -> np.array:\n",
    "        n_samples = X.shape[0]\n",
    "        predictions_raw = np.empty((self.n_estimators, n_samples))\n",
    "        predictions = np.empty((n_samples))\n",
    "        for i in range(self.n_estimators):\n",
    "            pred = self.estimators[i].predict(X)\n",
    "            predictions_raw[i] = pred\n",
    "        for i in range(n_samples):\n",
    "            predictions[i] = self.__get_most_frequent_element_value(predictions_raw[:, i])\n",
    "        return predictions\n",
    "    \n",
    "    def __create_bags(self, X: np.array, y: np.array, n_bags: int, fraction: float) -> List[Tuple[np.array, np.array]]:\n",
    "        n_samples = X.shape[0]\n",
    "        bags = []\n",
    "        for _ in range(n_bags):\n",
    "            indexes = np.random.choice(n_samples, int(n_samples * fraction), replace = True)\n",
    "            bags.append((X[indexes], y[indexes]))\n",
    "        return bags\n",
    "    \n",
    "    def __get_most_frequent_element_value(self, pred: np.array) -> Union[int, float]:\n",
    "        values, counts = np.unique(pred, return_counts=True)\n",
    "        idx = np.argmax(counts)\n",
    "        return values[idx]  "
   ]
  },
  {
   "cell_type": "markdown",
   "metadata": {},
   "source": [
    "## 05. Test using 'Iris' data set"
   ]
  },
  {
   "cell_type": "markdown",
   "metadata": {},
   "source": [
    "### 05.00.  Imports"
   ]
  },
  {
   "cell_type": "code",
   "execution_count": 82,
   "metadata": {},
   "outputs": [],
   "source": [
    "import pandas as pd\n",
    "from sklearn.preprocessing import LabelEncoder\n",
    "from sklearn.model_selection import train_test_split\n",
    "from sklearn.metrics import accuracy_score"
   ]
  },
  {
   "cell_type": "markdown",
   "metadata": {},
   "source": [
    "### 05.01. Settings"
   ]
  },
  {
   "cell_type": "code",
   "execution_count": 83,
   "metadata": {},
   "outputs": [],
   "source": [
    "FEATURES_COLUMN_NAMES = [\n",
    "    \"sepal_length\", \n",
    "    \"sepal_width\", \n",
    "    \"petal_length\", \n",
    "    \"petal_width\"\n",
    "]\n",
    "\n",
    "LABELS_COLUMN_NAMES = [\n",
    "    \"species\"\n",
    "]\n",
    "\n",
    "COLUMN_NAMES = FEATURES_COLUMN_NAMES + \\\n",
    "    LABELS_COLUMN_NAMES\n",
    "\n",
    "DATA_SET_PATH = \"../data_sets/iris.csv\""
   ]
  },
  {
   "cell_type": "markdown",
   "metadata": {},
   "source": [
    "### 05.02. Load"
   ]
  },
  {
   "cell_type": "code",
   "execution_count": 84,
   "metadata": {},
   "outputs": [],
   "source": [
    "df = pd.read_csv(DATA_SET_PATH, names=COLUMN_NAMES)\n",
    "X = df[FEATURES_COLUMN_NAMES].values\n",
    "y = df[LABELS_COLUMN_NAMES].values"
   ]
  },
  {
   "cell_type": "markdown",
   "metadata": {},
   "source": [
    "### 05.03. Feature engineering"
   ]
  },
  {
   "cell_type": "code",
   "execution_count": 85,
   "metadata": {},
   "outputs": [],
   "source": [
    "le = LabelEncoder()\n",
    "y = le.fit_transform(y.ravel())"
   ]
  },
  {
   "cell_type": "markdown",
   "metadata": {},
   "source": [
    "### 05.04. Data split"
   ]
  },
  {
   "cell_type": "code",
   "execution_count": 86,
   "metadata": {},
   "outputs": [],
   "source": [
    "X_train, X_test, y_train, y_test = train_test_split(X, y, test_size = 0.25, random_state = 0)"
   ]
  },
  {
   "cell_type": "markdown",
   "metadata": {},
   "source": [
    "### 05.05. Train Single Tree"
   ]
  },
  {
   "cell_type": "code",
   "execution_count": 87,
   "metadata": {},
   "outputs": [],
   "source": [
    "tree_classifier = TreeClassifier(max_depth=10, min_samples_split=2)\n",
    "tree_classifier.fit(X_train, y_train)"
   ]
  },
  {
   "cell_type": "markdown",
   "metadata": {},
   "source": [
    "### 05.06. Predict Single Tree"
   ]
  },
  {
   "cell_type": "code",
   "execution_count": 88,
   "metadata": {},
   "outputs": [
    {
     "name": "stdout",
     "output_type": "stream",
     "text": [
      "Accuracy: 86.84%\n"
     ]
    }
   ],
   "source": [
    "y_pred = tree_classifier.predict(X_test)\n",
    "acc = accuracy_score(y_test, y_pred)\n",
    "print(\"Accuracy: {0:.2f}%\".format(acc * 100))"
   ]
  },
  {
   "cell_type": "markdown",
   "metadata": {},
   "source": [
    "### 05.07. Train Random Forest"
   ]
  },
  {
   "cell_type": "code",
   "execution_count": 93,
   "metadata": {},
   "outputs": [],
   "source": [
    "rf_classifier = RandomForestClassifier(n_estimators=20, fraction=0.7, max_depth=10, min_samples_split=2)\n",
    "rf_classifier.fit(X_train, y_train)"
   ]
  },
  {
   "cell_type": "markdown",
   "metadata": {},
   "source": [
    "### 05.08. Predict Random Forest"
   ]
  },
  {
   "cell_type": "code",
   "execution_count": 94,
   "metadata": {},
   "outputs": [
    {
     "name": "stdout",
     "output_type": "stream",
     "text": [
      "Accuracy: 94.74%\n"
     ]
    }
   ],
   "source": [
    "y_pred = rf_classifier.predict(X_test)\n",
    "acc = accuracy_score(y_test, y_pred)\n",
    "print(\"Accuracy: {0:.2f}%\".format(acc * 100))"
   ]
  },
  {
   "cell_type": "markdown",
   "metadata": {},
   "source": [
    "## 05. Test using 'Wine' data set"
   ]
  },
  {
   "cell_type": "markdown",
   "metadata": {},
   "source": [
    "### 05.01. Settings"
   ]
  },
  {
   "cell_type": "code",
   "execution_count": 14,
   "metadata": {},
   "outputs": [],
   "source": [
    "FEATURES_COLUMN_NAMES = [\n",
    "    \"fixed_acidity\", \n",
    "    \"volatile_acidity\",\n",
    "    \"citric_acid\",\n",
    "    \"residual_sugar\",\n",
    "    \"chlorides\",\n",
    "    \"free_sulfur_dioxide\",\n",
    "    \"total_sulfur_dioxide\",\n",
    "    \"density\",\n",
    "    \"ph\",\n",
    "    \"sulphates\",\n",
    "    \"alcohol\"\n",
    "]\n",
    "\n",
    "LABELS_COLUMN_NAMES = [\n",
    "    \"quality\"\n",
    "]\n",
    "\n",
    "COLUMN_NAMES = FEATURES_COLUMN_NAMES + \\\n",
    "    LABELS_COLUMN_NAMES\n",
    "\n",
    "DATA_SET_PATH = \"../data_sets/winequality-white.csv\""
   ]
  },
  {
   "cell_type": "markdown",
   "metadata": {},
   "source": [
    "### 05.02. Load"
   ]
  },
  {
   "cell_type": "code",
   "execution_count": 15,
   "metadata": {},
   "outputs": [],
   "source": [
    "df = pd.read_csv(DATA_SET_PATH, sep=\";\")\n",
    "X = df[FEATURES_COLUMN_NAMES].values\n",
    "y = df[LABELS_COLUMN_NAMES].values"
   ]
  },
  {
   "cell_type": "markdown",
   "metadata": {},
   "source": [
    "### 05.03. Data split"
   ]
  },
  {
   "cell_type": "code",
   "execution_count": 16,
   "metadata": {},
   "outputs": [],
   "source": [
    "X_train, X_test, y_train, y_test = train_test_split(X, y, test_size = 0.25, random_state = 0)"
   ]
  },
  {
   "cell_type": "markdown",
   "metadata": {},
   "source": [
    "### 05.04. Train"
   ]
  },
  {
   "cell_type": "code",
   "execution_count": 17,
   "metadata": {},
   "outputs": [],
   "source": [
    "tree_classifier = TreeClassifier(max_depth=10, min_samples_split=2)\n",
    "tree_classifier.fit(X_train, y_train)"
   ]
  },
  {
   "cell_type": "markdown",
   "metadata": {},
   "source": [
    "### 05.05. Predict"
   ]
  },
  {
   "cell_type": "code",
   "execution_count": 18,
   "metadata": {},
   "outputs": [
    {
     "name": "stdout",
     "output_type": "stream",
     "text": [
      "Accuracy: 53.39%\n"
     ]
    }
   ],
   "source": [
    "y_pred = tree_classifier.predict(X_test)\n",
    "acc = accuracy_score(y_test, y_pred)\n",
    "print(\"Accuracy: {0:.2f}%\".format(acc * 100))"
   ]
  },
  {
   "cell_type": "code",
   "execution_count": 39,
   "metadata": {},
   "outputs": [],
   "source": [
    "rf_classifier = RandomForestClassifier(n_estimators=10, fraction=0.6, max_depth=10, min_samples_split=2)"
   ]
  },
  {
   "cell_type": "code",
   "execution_count": 40,
   "metadata": {},
   "outputs": [],
   "source": [
    "rf_classifier.fit(X_train, y_train)"
   ]
  },
  {
   "cell_type": "code",
   "execution_count": 41,
   "metadata": {},
   "outputs": [
    {
     "name": "stdout",
     "output_type": "stream",
     "text": [
      "Accuracy: 54.04%\n"
     ]
    }
   ],
   "source": [
    "y_pred = rf_classifier.predict(X_test)\n",
    "acc = accuracy_score(y_test, y_pred)\n",
    "print(\"Accuracy: {0:.2f}%\".format(acc * 100))"
   ]
  },
  {
   "cell_type": "code",
   "execution_count": 42,
   "metadata": {},
   "outputs": [],
   "source": [
    "from sklearn.ensemble import RandomForestClassifier"
   ]
  },
  {
   "cell_type": "code",
   "execution_count": 77,
   "metadata": {},
   "outputs": [],
   "source": [
    "skl_rf_classifier = RandomForestClassifier(n_estimators=10, max_depth=10, min_samples_split=2, max_samples=0.6)"
   ]
  },
  {
   "cell_type": "code",
   "execution_count": 78,
   "metadata": {},
   "outputs": [
    {
     "data": {
      "text/plain": [
       "RandomForestClassifier(bootstrap=True, ccp_alpha=0.0, class_weight=None,\n",
       "                       criterion='gini', max_depth=10, max_features='auto',\n",
       "                       max_leaf_nodes=None, max_samples=0.6,\n",
       "                       min_impurity_decrease=0.0, min_impurity_split=None,\n",
       "                       min_samples_leaf=1, min_samples_split=2,\n",
       "                       min_weight_fraction_leaf=0.0, n_estimators=10,\n",
       "                       n_jobs=None, oob_score=False, random_state=None,\n",
       "                       verbose=0, warm_start=False)"
      ]
     },
     "execution_count": 78,
     "metadata": {},
     "output_type": "execute_result"
    }
   ],
   "source": [
    "skl_rf_classifier.fit(X_train, np.ravel(y_train))"
   ]
  },
  {
   "cell_type": "code",
   "execution_count": 79,
   "metadata": {},
   "outputs": [
    {
     "name": "stdout",
     "output_type": "stream",
     "text": [
      "Accuracy: 58.12%\n"
     ]
    }
   ],
   "source": [
    "y_pred = skl_rf_classifier.predict(X_test)\n",
    "acc = accuracy_score(y_test, y_pred)\n",
    "print(\"Accuracy: {0:.2f}%\".format(acc * 100))"
   ]
  }
 ],
 "metadata": {
  "kernelspec": {
   "display_name": "Python 3",
   "language": "python",
   "name": "python3"
  },
  "language_info": {
   "codemirror_mode": {
    "name": "ipython",
    "version": 3
   },
   "file_extension": ".py",
   "mimetype": "text/x-python",
   "name": "python",
   "nbconvert_exporter": "python",
   "pygments_lexer": "ipython3",
   "version": "3.7.3"
  }
 },
 "nbformat": 4,
 "nbformat_minor": 4
}
