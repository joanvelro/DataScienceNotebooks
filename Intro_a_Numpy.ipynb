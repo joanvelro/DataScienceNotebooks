{
  "nbformat": 4,
  "nbformat_minor": 0,
  "metadata": {
    "colab": {
      "name": "Intro a Numpy.ipynb",
      "provenance": [],
      "authorship_tag": "ABX9TyOVwUsBumCZQBmCvvNvOVSv",
      "include_colab_link": true
    },
    "kernelspec": {
      "name": "python3",
      "display_name": "Python 3"
    }
  },
  "cells": [
    {
      "cell_type": "markdown",
      "metadata": {
        "id": "view-in-github",
        "colab_type": "text"
      },
      "source": [
        "<a href=\"https://colab.research.google.com/github/patofw/imf_master/blob/master/Google_Colab/Intro_a_Numpy.ipynb\" target=\"_parent\"><img src=\"https://colab.research.google.com/assets/colab-badge.svg\" alt=\"Open In Colab\"/></a>"
      ]
    },
    {
      "cell_type": "markdown",
      "metadata": {
        "id": "qGcQ8vFQqITY",
        "colab_type": "text"
      },
      "source": [
        "## Qué es un 'array' en Numpy?\n",
        "\n",
        "En el paquete \"numpy\" la terminología utilizada para vectores, matrices y conjuntos de datos de dimensiones superiores es \"array\".\n",
        "\n",
        "Un objeto array nos proporciona la abstracción de una matriz homogénea multidimensional como contenedor que permite operaciones numéricas rápidas.\n",
        "\n",
        "<img src=\"http://pages.physics.cornell.edu/~myers/teaching/ComputationalMethods/python/anatomyarray.png\"/>\n",
        "\n",
        "Recuerda, Una matriz en matriz Numpy es N-dimensionales, homogénea, no etiquetada.\n",
        "\n",
        "Numpy proporciona la base para el procesamiento de datos en otros paquetes relacionados con los datos como Pandas y SciPy.\n"
      ]
    },
    {
      "cell_type": "markdown",
      "metadata": {
        "id": "8RvprwTGrGXv",
        "colab_type": "text"
      },
      "source": [
        "## Creando `numpy` arrays\n",
        "Hay varias maneras de inicializar nuevas matrices numpy, por ejemplo de:\n",
        "\n",
        "* una lista de Python o tuplas\n",
        "* usando funciones que se dedican a generar arreglos numéricos, como el \"rango\", el \"espacio\", etc.\n",
        "* leyendo los datos de los archivos"
      ]
    },
    {
      "cell_type": "code",
      "metadata": {
        "id": "YdZNH9trq-xU",
        "colab_type": "code",
        "colab": {
          "base_uri": "https://localhost:8080/",
          "height": 35
        },
        "outputId": "1994f1ab-d055-4a93-ba7c-363a30ba6622"
      },
      "source": [
        "import numpy as np\n",
        "\n",
        "# Creando un array de una lista (corchetes '[]' marcan una lista)\n",
        "v = np.array([1,2,3,4])\n",
        "v"
      ],
      "execution_count": 1,
      "outputs": [
        {
          "output_type": "execute_result",
          "data": {
            "text/plain": [
              "array([1, 2, 3, 4])"
            ]
          },
          "metadata": {
            "tags": []
          },
          "execution_count": 1
        }
      ]
    },
    {
      "cell_type": "code",
      "metadata": {
        "id": "ND4r9OBJqEnZ",
        "colab_type": "code",
        "colab": {
          "base_uri": "https://localhost:8080/",
          "height": 208
        },
        "outputId": "eee85e5c-d956-4f02-aba4-e453581ad7a3"
      },
      "source": [
        "# Si pasamos una lista de lsitas, tenemos un array multi-dimensional\n",
        "M = np.array([[1, 2], [3, 4],[5,9]])\n",
        "print(f\"M es un array: \\n{M}\")\n",
        "print(\"---------------------------------\")\n",
        "print(f\"Shape devuelve una tuple con el tamaño de cada dimension: {M.shape}\")\n",
        "print(f\"La función len da el largo del primer eje (axis):{len(M)}\")\n",
        "print(f\"ndim nos da el número de dimensiones:{M.ndim}\")\n",
        "print(f\"Size da el número de elementos en el array: {M.size}\")\n",
        "print(f\"dtype te da el tipo de dato de los elementos del array: {M.dtype}\")\n",
        "print(f\"type devuelve el tipo del array, en este caso numpy array: {type(M)}\")"
      ],
      "execution_count": 9,
      "outputs": [
        {
          "output_type": "stream",
          "text": [
            "M es un array: \n",
            "[[1 2]\n",
            " [3 4]\n",
            " [5 9]]\n",
            "---------------------------------\n",
            "Shape devuelve una tuple con el tamaño de cada dimension: (3, 2)\n",
            "La función len da el largo del primer eje (axis):3\n",
            "ndim nos da el número de dimensiones:2\n",
            "Size da el número de elementos en el array: 6\n",
            "dtype te da el tipo de dato de los elementos del array: int64\n",
            "type devuelve el tipo del array, en este caso numpy array: <class 'numpy.ndarray'>\n"
          ],
          "name": "stdout"
        }
      ]
    },
    {
      "cell_type": "markdown",
      "metadata": {
        "id": "PSF-pbpvtJ95",
        "colab_type": "text"
      },
      "source": [
        "# Dame velocidad!!\n",
        "\n",
        "Numpy es como un coche de F1, altamente veloz y eficiente. \n",
        "En las siguientes celdas lo comparamos contra las listas tradicionales de Python. "
      ]
    },
    {
      "cell_type": "code",
      "metadata": {
        "id": "oSEIHcDrshRI",
        "colab_type": "code",
        "colab": {
          "base_uri": "https://localhost:8080/",
          "height": 35
        },
        "outputId": "562f6093-f050-4f0f-be92-638c7fafbf79"
      },
      "source": [
        "# Vector normal de Python\n",
        "dim = 10000\n",
        "a = range(dim) # rango de 0 a dim \n",
        "t1 = %timeit -o [i**2 for i in a] # elevamos al cuadrado cada elemento de a"
      ],
      "execution_count": 13,
      "outputs": [
        {
          "output_type": "stream",
          "text": [
            "100 loops, best of 3: 2.76 ms per loop\n"
          ],
          "name": "stdout"
        }
      ]
    },
    {
      "cell_type": "code",
      "metadata": {
        "id": "09bEw0X9tdC7",
        "colab_type": "code",
        "colab": {
          "base_uri": "https://localhost:8080/",
          "height": 35
        },
        "outputId": "82a0ec39-f948-4d29-8c78-8a2ee5c2969c"
      },
      "source": [
        "# Vector Numpy con loop normal de Python\n",
        "b = np.arange(dim) # un array de numpy \n",
        "t2 = %timeit -o [i**2 for i in b]"
      ],
      "execution_count": 12,
      "outputs": [
        {
          "output_type": "stream",
          "text": [
            "100 loops, best of 3: 3.83 ms per loop\n"
          ],
          "name": "stdout"
        }
      ]
    },
    {
      "cell_type": "code",
      "metadata": {
        "id": "yd9qvz4ltjTf",
        "colab_type": "code",
        "colab": {
          "base_uri": "https://localhost:8080/",
          "height": 35
        },
        "outputId": "8cac46dc-9c40-43e7-b778-cfe85be8cde3"
      },
      "source": [
        "# Vector Numpy con numpy loop\n",
        "c = np.arange(dim) #  array de numpy\n",
        "t3 = %timeit -n 1000 -o [c**2] # operacion de loop de numpy"
      ],
      "execution_count": 14,
      "outputs": [
        {
          "output_type": "stream",
          "text": [
            "1000 loops, best of 3: 6.53 µs per loop\n"
          ],
          "name": "stdout"
        }
      ]
    },
    {
      "cell_type": "markdown",
      "metadata": {
        "id": "1MP5oVecuLGh",
        "colab_type": "text"
      },
      "source": [
        "# Algunos ejemplos simples..."
      ]
    },
    {
      "cell_type": "code",
      "metadata": {
        "id": "QayOCH1C81uv",
        "colab_type": "code",
        "colab": {
          "base_uri": "https://localhost:8080/",
          "height": 35
        },
        "outputId": "8204e629-210c-4889-ec5b-81c2b0c94a8e"
      },
      "source": [
        "# Crea un array de 30 números aleatorios y saca la media\n",
        "\n",
        "Z = np.random.random(30)\n",
        "m = Z.mean()\n",
        "print(f\"La media es-> {round(m,3)}\") # round, rodendea a n número de decimales\n"
      ],
      "execution_count": 4,
      "outputs": [
        {
          "output_type": "stream",
          "text": [
            "La media es-> 0.554\n"
          ],
          "name": "stdout"
        }
      ]
    },
    {
      "cell_type": "code",
      "metadata": {
        "id": "p5BcT9Iw8-Rf",
        "colab_type": "code",
        "colab": {
          "base_uri": "https://localhost:8080/",
          "height": 35
        },
        "outputId": "faf2ccca-25e4-463e-ecb9-92cd153f8414"
      },
      "source": [
        "# crear un array de 15 filas y 2 columnas. Sacamos la media de cada columna\n",
        "Z= Z.reshape(15,2) # 15 filas, 2 columnas\n",
        "# estos dos métodos son iguales\n",
        "np.mean(Z,axis=0) \n",
        "Z.mean(axis=0)\n"
      ],
      "execution_count": 7,
      "outputs": [
        {
          "output_type": "execute_result",
          "data": {
            "text/plain": [
              "array([0.62212501, 0.48679851])"
            ]
          },
          "metadata": {
            "tags": []
          },
          "execution_count": 7
        }
      ]
    },
    {
      "cell_type": "code",
      "metadata": {
        "id": "qP2dDiVO9jLp",
        "colab_type": "code",
        "colab": {
          "base_uri": "https://localhost:8080/",
          "height": 104
        },
        "outputId": "60ea7e5e-13cc-4946-e514-a754786c4bba"
      },
      "source": [
        "# crear una matriz 5x5 y llenar una diagonal de 1,2,3,4 empezando desde la segunda fila\n",
        "Z = np.diag(np.arange(1,5),k=-1)\n",
        "print(Z)"
      ],
      "execution_count": 8,
      "outputs": [
        {
          "output_type": "stream",
          "text": [
            "[[0 0 0 0 0]\n",
            " [1 0 0 0 0]\n",
            " [0 2 0 0 0]\n",
            " [0 0 3 0 0]\n",
            " [0 0 0 4 0]]\n"
          ],
          "name": "stdout"
        }
      ]
    },
    {
      "cell_type": "code",
      "metadata": {
        "id": "b4dJRGOI9-Og",
        "colab_type": "code",
        "colab": {
          "base_uri": "https://localhost:8080/",
          "height": 104
        },
        "outputId": "96b2e366-033c-4ee1-b5df-977be0450dc5"
      },
      "source": [
        "# Normalizar los datos de una matriz entera\n",
        "Z = np.random.random((5,5))\n",
        "Zmax, Zmin = Z.max(), Z.min() \n",
        "Z = (Z - Zmin)/(Zmax - Zmin) # normalización minmax\n",
        "print(Z)"
      ],
      "execution_count": 9,
      "outputs": [
        {
          "output_type": "stream",
          "text": [
            "[[0.         0.96686171 0.43287338 0.06488366 0.79967486]\n",
            " [0.99175004 1.         0.37567355 0.48686798 0.48721648]\n",
            " [0.90706717 0.77420718 0.16500203 0.49762294 0.83015142]\n",
            " [0.68168264 0.93170839 0.96197027 0.85699285 0.511129  ]\n",
            " [0.60341063 0.68915082 0.94438072 0.63065369 0.77266039]]\n"
          ],
          "name": "stdout"
        }
      ]
    },
    {
      "cell_type": "code",
      "metadata": {
        "id": "uVGQrjvd-Hz-",
        "colab_type": "code",
        "colab": {
          "base_uri": "https://localhost:8080/",
          "height": 87
        },
        "outputId": "0d6b2a21-2cc9-43c1-9f6b-2c01fdd03a3f"
      },
      "source": [
        "# En una matriz de 3x2, multiplicar todos los valores entre 3 y 8 por -1\n",
        "Y = np.arange(12)\n",
        "Y = Y.reshape(4,3)\n",
        "Y[(3 < Y) & (Y <= 8)] *= -1\n",
        "Y"
      ],
      "execution_count": 10,
      "outputs": [
        {
          "output_type": "execute_result",
          "data": {
            "text/plain": [
              "array([[ 0,  1,  2],\n",
              "       [ 3, -4, -5],\n",
              "       [-6, -7, -8],\n",
              "       [ 9, 10, 11]])"
            ]
          },
          "metadata": {
            "tags": []
          },
          "execution_count": 10
        }
      ]
    },
    {
      "cell_type": "code",
      "metadata": {
        "id": "iTNhrruw-Omo",
        "colab_type": "code",
        "colab": {
          "base_uri": "https://localhost:8080/",
          "height": 35
        },
        "outputId": "c1c9a498-5978-4053-9f71-f77fd9994e1b"
      },
      "source": [
        "# identificación de outliers simple \n",
        "def id_outliers(data, m = 2.):\n",
        "  \"\"\"\n",
        "  Identifica los outliers de una matriz de numpy\n",
        "\n",
        "  Args: \n",
        "  :param data: matriz de datos\n",
        "  :param m: límite máximo de desviación\n",
        "  :return: una matriz con los outliers identificados\n",
        "  \"\"\"\n",
        "  d = np.abs(data - np.median(data))\n",
        "  mdev = np.median(d)\n",
        "  s = d/mdev if mdev else 0.\n",
        "  return np.where(s>m)\n",
        "\n",
        "test = np.array([1,2,3,4,345,4,67676,7,800]).reshape(3,3)\n",
        "\n",
        "test[id_outliers(test)]"
      ],
      "execution_count": 11,
      "outputs": [
        {
          "output_type": "execute_result",
          "data": {
            "text/plain": [
              "array([  345, 67676,   800])"
            ]
          },
          "metadata": {
            "tags": []
          },
          "execution_count": 11
        }
      ]
    },
    {
      "cell_type": "code",
      "metadata": {
        "id": "4uOV5F-0-ueL",
        "colab_type": "code",
        "colab": {}
      },
      "source": [
        ""
      ],
      "execution_count": 0,
      "outputs": []
    }
  ]
}