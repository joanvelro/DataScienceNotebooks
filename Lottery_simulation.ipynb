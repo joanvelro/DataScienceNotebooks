{
 "cells": [
  {
   "cell_type": "markdown",
   "metadata": {
    "id": "LFBfsSZOZL5x"
   },
   "source": [
    "# Lottery Simulator"
   ]
  },
  {
   "cell_type": "code",
   "execution_count": 1,
   "metadata": {
    "executionInfo": {
     "elapsed": 530,
     "status": "ok",
     "timestamp": 1611760931224,
     "user": {
      "displayName": "JOSE ANGEL VELASCO RODRIGUEZ",
      "photoUrl": "https://lh3.googleusercontent.com/a-/AOh14Gg3EC8_a0A6OeFZcWQQL9_y1cn6e_9LpWYmJXvm_Q=s64",
      "userId": "03103114229375004476"
     },
     "user_tz": -60
    },
    "id": "owxXmvOHYBlx"
   },
   "outputs": [],
   "source": [
    "def sim_lottery_my_ticket(scenarios, life, my_decimo):\n",
    "    \"\"\"  Lotery simulation: simulate a person playing one specific number in the lottery \n",
    "        :scenarios param: Number of scenarios in which a user plays to the lottery\n",
    "        :life param: number of years in which the users plays the lottery\n",
    "    \"\"\"\n",
    "    \n",
    "    import numpy as np\n",
    "    year_win = []\n",
    "    num_win = []\n",
    "    coste = 0\n",
    "    for scenario in np.arange(scenarios):\n",
    "        success = 0\n",
    "        count = 0\n",
    "        while success!=1:\n",
    "            \n",
    "            gordo = int(np.random.uniform(0, 99999))\n",
    "            count+=1\n",
    "\n",
    "            coste +=20\n",
    "\n",
    "            if my_decimo==gordo:\n",
    "                success=1\n",
    "                print('Me ha tocado el gordo!!')\n",
    "                print('Año:{}'.format(count))\n",
    "                print('Escenario:{}'.format(scenario))\n",
    "                print('mi decimo:{}'.format(my_decimo))\n",
    "                print('el gordo:{}'.format(gordo))\n",
    "\n",
    "                year_win.append(count)\n",
    "                num_win.append(gordo)\n",
    "\n",
    "            if count>life:\n",
    "                success=1\n",
    "                #print('Scenario:{}'.format(scenario))\n",
    "                #print('No me ha tocado en 100 años del scenario')\n",
    "\n",
    "    print('\\n')\n",
    "    print('::::::::::::::::::::::::::::')\n",
    "    if year_win:\n",
    "        print('Años en los que toca: {}'.format(year_win))\n",
    "    else:\n",
    "        print('No te ha tocado en {} escenarios jugando durante {} años en cada uno'.format(scenarios, life ))\n",
    "    print('Total gasto: {} euros'.format(coste))\n",
    "    print('::::::::::::::::::::::::::::')\n"
   ]
  },
  {
   "cell_type": "code",
   "execution_count": 22,
   "metadata": {
    "colab": {
     "base_uri": "https://localhost:8080/"
    },
    "executionInfo": {
     "elapsed": 1238,
     "status": "ok",
     "timestamp": 1611760666826,
     "user": {
      "displayName": "JOSE ANGEL VELASCO RODRIGUEZ",
      "photoUrl": "https://lh3.googleusercontent.com/a-/AOh14Gg3EC8_a0A6OeFZcWQQL9_y1cn6e_9LpWYmJXvm_Q=s64",
      "userId": "03103114229375004476"
     },
     "user_tz": -60
    },
    "id": "fwnp9lPtYhUG",
    "outputId": "4ecec13b-4082-4fa7-c4cf-9882edf0a4a9"
   },
   "outputs": [
    {
     "name": "stdout",
     "output_type": "stream",
     "text": [
      "Me ha tocado el gordo!!\n",
      "Año:26\n",
      "Escenario:7353\n",
      "mi decimo:18391\n",
      "el gordo:18391\n",
      "\n",
      "\n",
      "::::::::::::::::::::::::::::\n",
      "Años en los que toca:[26]\n",
      "Total gasto: 5200000 euros\n",
      "::::::::::::::::::::::::::::\n"
     ]
    }
   ],
   "source": [
    "years = 25 # yers playing lottery at random\n",
    "my_decimo =   18391\n",
    "scenarios = 10000 # no. of scenarios of the users playing lottery at random\n",
    "sim_lottery_my_ticket(scenarios, years, my_decimo)"
   ]
  },
  {
   "cell_type": "code",
   "execution_count": 2,
   "metadata": {
    "colab": {
     "base_uri": "https://localhost:8080/"
    },
    "executionInfo": {
     "elapsed": 560,
     "status": "error",
     "timestamp": 1611760934470,
     "user": {
      "displayName": "JOSE ANGEL VELASCO RODRIGUEZ",
      "photoUrl": "https://lh3.googleusercontent.com/a-/AOh14Gg3EC8_a0A6OeFZcWQQL9_y1cn6e_9LpWYmJXvm_Q=s64",
      "userId": "03103114229375004476"
     },
     "user_tz": -60
    },
    "id": "W9sV-BIJX7_b",
    "outputId": "598d72fc-61e0-466a-aecb-ef934a163f64"
   },
   "outputs": [
    {
     "ename": "IndentationError",
     "evalue": "ignored",
     "output_type": "error",
     "traceback": [
      "\u001b[0;36m  File \u001b[0;32m\"<ipython-input-2-8a4216f02a4a>\"\u001b[0;36m, line \u001b[0;32m39\u001b[0m\n\u001b[0;31m    if year_win:\u001b[0m\n\u001b[0m    ^\u001b[0m\n\u001b[0;31mIndentationError\u001b[0m\u001b[0;31m:\u001b[0m unexpected indent\n"
     ]
    }
   ],
   "source": [
    "def sim_lottery_any_ticket(scenarios, life):\n",
    "    \"\"\"  Lotery simulation: simulate a person playing one specific number in the lottery \n",
    "        :scenarios param: Number of scenarios in which a user plays to the lottery\n",
    "        :life param: number of years in which the users plays the lottery\n",
    "    \"\"\"\n",
    "    import numpy as np\n",
    "    year_win = []\n",
    "    num_win = []\n",
    "    coste = 0\n",
    "    for scenario in np.arange(scenarios):\n",
    "\n",
    "        success = 0\n",
    "        count = 0\n",
    "        while success != 1:\n",
    "            my_decimo = int(np.random.uniform(0, 99999))\n",
    "            gordo = int(np.random.uniform(0, 99999))\n",
    "            count += 1\n",
    "\n",
    "            coste += 20\n",
    "\n",
    "            if my_decimo == gordo:\n",
    "                success = 1\n",
    "                print('Scenario:{}'.format(scenario))\n",
    "                print('Me ha tocado el gordo!! en el año:{}'.format(count))\n",
    "                print('Año:{}'.format(count))\n",
    "                print('mi decimo:{}'.format(my_decimo))\n",
    "                print('el gordo:{}'.format(gordo))\n",
    "\n",
    "                year_win.append(count)\n",
    "                num_win.append(gordo)\n",
    "\n",
    "            if count > life:\n",
    "                success = 1\n",
    "                # print('Scenario:{}'.format(scenario))\n",
    "                # print('No me ha tocado en 100 años del scenario')\n",
    "\n",
    "    print('\\n')\n",
    "    print('::::::::::::::::::::::::::::')\n",
    "    if year_win:\n",
    "        print('Años en los que toca:{}'.format(year_win))\n",
    "    else:\n",
    "        print('No te ha tocado en {} escenarios jugando durante {} años en cada uno'.format(scenarios, life ))\n",
    "    print('Años en los que toca:{}'.format(year_win))\n",
    "    print('No. premiado:{}'.format(num_win))\n",
    "    print('Total gasto:{}'.format(coste))"
   ]
  },
  {
   "cell_type": "code",
   "execution_count": 24,
   "metadata": {
    "colab": {
     "base_uri": "https://localhost:8080/"
    },
    "executionInfo": {
     "elapsed": 486,
     "status": "error",
     "timestamp": 1611760781580,
     "user": {
      "displayName": "JOSE ANGEL VELASCO RODRIGUEZ",
      "photoUrl": "https://lh3.googleusercontent.com/a-/AOh14Gg3EC8_a0A6OeFZcWQQL9_y1cn6e_9LpWYmJXvm_Q=s64",
      "userId": "03103114229375004476"
     },
     "user_tz": -60
    },
    "id": "1lmuewX7bVMf",
    "outputId": "2a836f20-9ecd-4bbd-cd43-72475d549a3f"
   },
   "outputs": [
    {
     "ename": "NameError",
     "evalue": "ignored",
     "output_type": "error",
     "traceback": [
      "\u001b[0;31m---------------------------------------------------------------------------\u001b[0m",
      "\u001b[0;31mNameError\u001b[0m                                 Traceback (most recent call last)",
      "\u001b[0;32m<ipython-input-24-8d68e0470318>\u001b[0m in \u001b[0;36m<module>\u001b[0;34m()\u001b[0m\n\u001b[1;32m      1\u001b[0m \u001b[0myears\u001b[0m \u001b[0;34m=\u001b[0m \u001b[0;36m25\u001b[0m \u001b[0;31m# yers playing lottery at random\u001b[0m\u001b[0;34m\u001b[0m\u001b[0;34m\u001b[0m\u001b[0m\n\u001b[1;32m      2\u001b[0m \u001b[0mscenarios\u001b[0m \u001b[0;34m=\u001b[0m \u001b[0;36m10000\u001b[0m \u001b[0;31m# no. of scenarios of the users playing lottery at random\u001b[0m\u001b[0;34m\u001b[0m\u001b[0;34m\u001b[0m\u001b[0m\n\u001b[0;32m----> 3\u001b[0;31m \u001b[0msim_lottery_any_ticket\u001b[0m\u001b[0;34m(\u001b[0m\u001b[0mscenarios\u001b[0m\u001b[0;34m,\u001b[0m \u001b[0myears\u001b[0m\u001b[0;34m)\u001b[0m\u001b[0;34m\u001b[0m\u001b[0;34m\u001b[0m\u001b[0m\n\u001b[0m",
      "\u001b[0;31mNameError\u001b[0m: name 'sim_lottery_any_ticket' is not defined"
     ]
    }
   ],
   "source": [
    "years = 25 # yers playing lottery at random\n",
    "scenarios = 10000 # no. of scenarios of the users playing lottery at random\n",
    "sim_lottery_any_ticket(scenarios, years)"
   ]
  },
  {
   "cell_type": "code",
   "execution_count": null,
   "metadata": {
    "id": "TLLe5YzBbcbV"
   },
   "outputs": [],
   "source": []
  }
 ],
 "metadata": {
  "colab": {
   "authorship_tag": "ABX9TyNYpVBkmjn1N2EqiHlWJc+X",
   "collapsed_sections": [],
   "name": "Lottery_simulation.ipynb",
   "provenance": []
  },
  "hide_input": false,
  "kernelspec": {
   "display_name": "Python 3",
   "language": "python",
   "name": "python3"
  },
  "language_info": {
   "codemirror_mode": {
    "name": "ipython",
    "version": 3
   },
   "file_extension": ".py",
   "mimetype": "text/x-python",
   "name": "python",
   "nbconvert_exporter": "python",
   "pygments_lexer": "ipython3",
   "version": "3.7.3"
  },
  "toc": {
   "base_numbering": 1,
   "nav_menu": {},
   "number_sections": true,
   "sideBar": true,
   "skip_h1_title": false,
   "title_cell": "Table of Contents",
   "title_sidebar": "Contents",
   "toc_cell": false,
   "toc_position": {},
   "toc_section_display": true,
   "toc_window_display": false
  },
  "varInspector": {
   "cols": {
    "lenName": 16,
    "lenType": 16,
    "lenVar": 40
   },
   "kernels_config": {
    "python": {
     "delete_cmd_postfix": "",
     "delete_cmd_prefix": "del ",
     "library": "var_list.py",
     "varRefreshCmd": "print(var_dic_list())"
    },
    "r": {
     "delete_cmd_postfix": ") ",
     "delete_cmd_prefix": "rm(",
     "library": "var_list.r",
     "varRefreshCmd": "cat(var_dic_list()) "
    }
   },
   "types_to_exclude": [
    "module",
    "function",
    "builtin_function_or_method",
    "instance",
    "_Feature"
   ],
   "window_display": false
  }
 },
 "nbformat": 4,
 "nbformat_minor": 1
}
