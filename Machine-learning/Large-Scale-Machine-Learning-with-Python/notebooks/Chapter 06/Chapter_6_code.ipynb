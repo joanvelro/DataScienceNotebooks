{
 "cells": [
  {
   "cell_type": "markdown",
   "metadata": {},
   "source": [
    "# Classification and Regression Trees at Scale"
   ]
  },
  {
   "cell_type": "code",
   "execution_count": 1,
   "metadata": {
    "collapsed": true
   },
   "outputs": [],
   "source": [
    "import numpy as np\n",
    "from sklearn import tree\n",
    "iq=[90,110,100,140,110,100]\n",
    "age=[42,20,50,40,70,50]\n",
    "anincome=[40,20,46,28,100,20]\n",
    "businessowner=[0,1,0,1,0,0]\n",
    "univdegree=[0,1,0,1,0,0]\n",
    "smoking=[1,0,0,1,1,0]\n",
    "ids=np.column_stack((iq, age, anincome,businessowner,univdegree))\n",
    "names=['iq','age','income','univdegree']\n",
    "dt = tree.DecisionTreeClassifier(random_state=99)\n",
    "dt.fit(ids,smoking)\n",
    "dt.predict(ids)\n",
    "tree.export_graphviz(dt,out_file='tree2.dot',feature_names=names,label=all,max_depth=5,class_names=True)\n"
   ]
  },
  {
   "cell_type": "markdown",
   "metadata": {},
   "source": [
    "Extremely Randomized Forest"
   ]
  },
  {
   "cell_type": "code",
   "execution_count": 3,
   "metadata": {
    "collapsed": false
   },
   "outputs": [
    {
     "name": "stdout",
     "output_type": "stream",
     "text": [
      "ExtraTreesClassifier -> cross validation accuracy: mean = 0.812 std = 0.003\n",
      "[[6610  448]\n",
      " [1238  704]]\n"
     ]
    },
    {
     "data": {
      "text/plain": [
       "0.81266666666666665"
      ]
     },
     "execution_count": 3,
     "metadata": {},
     "output_type": "execute_result"
    }
   ],
   "source": [
    "import pandas as pd\n",
    "import numpy as np\n",
    "import os\n",
    "import xlrd\n",
    "import urllib\n",
    "#set your path here\n",
    "os.chdir('/your-path-here')\n",
    "\n",
    "url = 'http://archive.ics.uci.edu/ml/machine-learning-databases/00350/default%20of%20credit%20card%20clients.xls'\n",
    "filename='creditdefault.xls'\n",
    "urllib.urlretrieve(url, filename)\n",
    "\n",
    "target = 'default payment next month'\n",
    "data = pd.read_excel('creditdefault.xls', skiprows=1)\n",
    "\n",
    "target = 'default payment next month'\n",
    "y = np.asarray(data[target])\n",
    "features = data.columns.drop(['ID', target])\n",
    "X = np.asarray(data[features])\n",
    "\n",
    "from sklearn.ensemble import ExtraTreesClassifier\n",
    "from sklearn.cross_validation import cross_val_score\n",
    "from sklearn.datasets import make_classification\n",
    "from sklearn.cross_validation import train_test_split\n",
    "\n",
    "X_train, X_test, y_train, y_test = train_test_split(X, y,test_size=0.30, random_state=101)\n",
    "\n",
    "clf = ExtraTreesClassifier(n_estimators=500, random_state=101)\n",
    "clf.fit(X_train,y_train)\n",
    "scores = cross_val_score(clf, X_train, y_train, cv=3,scoring='accuracy', n_jobs=-1)\n",
    "print \"ExtraTreesClassifier -> cross validation accuracy: mean = %0.3f std = %0.3f\" % (np.mean(scores), np.std(scores))\n",
    "\n",
    "\n",
    "\n",
    "y_pred=clf.predict(X_test)\n",
    "from sklearn.metrics import confusion_matrix\n",
    "confusionMatrix = confusion_matrix(y_test, y_pred)\n",
    "print confusionMatrix\n",
    "from sklearn.metrics import accuracy_score\n",
    "accuracy_score(y_test, y_pred)\n",
    "\n",
    "\n",
    "\n",
    "\n"
   ]
  },
  {
   "cell_type": "markdown",
   "metadata": {},
   "source": [
    "Fast parameter optimization with randomized search"
   ]
  },
  {
   "cell_type": "code",
   "execution_count": 4,
   "metadata": {
    "collapsed": false
   },
   "outputs": [
    {
     "name": "stdout",
     "output_type": "stream",
     "text": [
      "ExtraTreesClassifier(bootstrap=True, class_weight=None, criterion='gini',\n",
      "           max_depth=12, max_features=11, max_leaf_nodes=None,\n",
      "           min_samples_leaf=2, min_samples_split=11,\n",
      "           min_weight_fraction_leaf=0.0, n_estimators=500, n_jobs=1,\n",
      "           oob_score=False, random_state=101, verbose=0, warm_start=False)\n",
      "[[6738  320]\n",
      " [1246  696]]\n",
      "0.826\n"
     ]
    }
   ],
   "source": [
    "\n",
    "from sklearn.grid_search import GridSearchCV, RandomizedSearchCV\n",
    "\n",
    "\n",
    "param_dist = {\"max_depth\": [1,3, 7,8,12,None],\n",
    "             \"max_features\": [8,9,10,11,16,22],\n",
    "             \"min_samples_split\": [8,10,11,14,16,19],\n",
    "             \"min_samples_leaf\": [1,2,3,4,5,6,7],\n",
    "             \"bootstrap\": [True, False]}\n",
    "\n",
    "#here we specify the search settings, we use only 25 random parameter \n",
    "#valuations but we manage to keep training times in check.\n",
    "rsearch = RandomizedSearchCV(clf, param_distributions=param_dist,\n",
    "                                  n_iter=25)  \n",
    "\n",
    "rsearch.fit(X_train,y_train)\n",
    "rsearch.grid_scores_\n",
    "\n",
    "bestclf=rsearch.best_estimator_\n",
    "print bestclf\n",
    "\n",
    "\n",
    "y_pred=bestclf.predict(X_test)\n",
    "confusionMatrix = confusion_matrix(y_test, y_pred)\n",
    "print confusionMatrix\n",
    "accuracy=accuracy_score(y_test, y_pred)\n",
    "print accuracy"
   ]
  },
  {
   "cell_type": "code",
   "execution_count": 5,
   "metadata": {
    "collapsed": false
   },
   "outputs": [
    {
     "name": "stdout",
     "output_type": "stream",
     "text": [
      "ExtraTreesClassifier -> cross validation accuracy: mean = 0.803 std = 0.003\n",
      "[ 0.805997    0.79964007  0.8021021 ]\n",
      "amount of trees in the model: 100\n",
      "ExtraTreesClassifier after params -> cross validation accuracy: mean = 0.798 std = 0.003\n",
      "[ 0.80155875  0.79651861  0.79465626]\n",
      "amount of trees in the model: 150\n",
      "ExtraTreesClassifier after params -> cross validation accuracy: mean = 0.798 std = 0.006\n",
      "[ 0.8005997   0.78974205  0.8033033 ]\n",
      "amount of trees in the model: 200\n",
      "final test score 0.92185447181058278\n"
     ]
    }
   ],
   "source": [
    "from sklearn.datasets import fetch_covtype\n",
    "import numpy as np\n",
    "from sklearn.cross_validation import train_test_split\n",
    "dataset = fetch_covtype(random_state=111, shuffle=True)\n",
    "dataset = fetch_covtype()\n",
    "X, y = dataset.data, dataset.target\n",
    "X_train, X_test, y_train, y_test = train_test_split(X,y, test_size=0.3, random_state=0)\n",
    "del(X,y)\n",
    "covtrain=np.c_[X_train,y_train]\n",
    "covtest=np.c_[X_test,y_test]\n",
    "np.savetxt('covtrain.csv', covtrain, delimiter=\",\")\n",
    "np.savetxt('covtest.csv', covtest, delimiter=\",\")\n",
    "\n",
    "\n",
    "import numpy as np\n",
    "from sklearn.ensemble import ExtraTreesClassifier\n",
    "from sklearn.cross_validation import cross_val_score\n",
    "from sklearn.cross_validation import train_test_split\n",
    "import pandas as pd\n",
    "import os\n",
    "\n",
    "#here we load sample 1\n",
    "df = pd.read_csv('/yourpath/cov1.csv')\n",
    "y=df[df.columns[54]]\n",
    "X=df[df.columns[0:54]]\n",
    "\n",
    "\n",
    "\n",
    "clf1=ExtraTreesClassifier(n_estimators=100, random_state=101,warm_start=True)\n",
    "clf1.fit(X,y)\n",
    "scores = cross_val_score(clf1, X, y, cv=3,scoring='accuracy', n_jobs=-1)\n",
    "print \"ExtraTreesClassifier -> cross validation accuracy: mean = %0.3f std = %0.3f\" % (np.mean(scores), np.std(scores))\n",
    "print scores\n",
    "print 'amount of trees in the model: %s' % len(clf1.estimators_)\n",
    "\n",
    "#sample 2\n",
    "df = pd.read_csv('/yourpath/cov2.csv')\n",
    "y=df[df.columns[54]]\n",
    "X=df[df.columns[0:54]]\n",
    "\n",
    "clf1.set_params(n_estimators=150, random_state=101,warm_start=True)\n",
    "clf1.fit(X,y)\n",
    "scores = cross_val_score(clf1, X, y, cv=3,scoring='accuracy', n_jobs=-1)\n",
    "print \"ExtraTreesClassifier after params -> cross validation accuracy: mean = %0.3f std = %0.3f\" % (np.mean(scores), np.std(scores))\n",
    "print scores\n",
    "print 'amount of trees in the model: %s' % len(clf1.estimators_)\n",
    "\n",
    "#sample 3\n",
    "df = pd.read_csv('/yourpath/cov3.csv')\n",
    "y=df[df.columns[54]]\n",
    "X=df[df.columns[0:54]]\n",
    "clf1.set_params(n_estimators=200, random_state=101,warm_start=True)\n",
    "clf1.fit(X,y)\n",
    "scores = cross_val_score(clf1, X, y, cv=3,scoring='accuracy', n_jobs=-1)\n",
    "print \"ExtraTreesClassifier after params -> cross validation accuracy: mean = %0.3f std = %0.3f\" % (np.mean(scores), np.std(scores))\n",
    "print scores\n",
    "print 'amount of trees in the model: %s' % len(clf1.estimators_)\n",
    "\n",
    "# Now let’s predict our combined model on the test set and check our score.\n",
    "\n",
    "df = pd.read_csv('/yourpath/covtest.csv')\n",
    "X=df[df.columns[0:54]]\n",
    "y=df[df.columns[54]]\n",
    "pred2=clf1.predict(X)\n",
    "scores = cross_val_score(clf1, X, y, cv=3,scoring='accuracy', n_jobs=-1)\n",
    "print \"final test score %r\" % np.mean(scores)\n",
    "\n"
   ]
  },
  {
   "cell_type": "markdown",
   "metadata": {},
   "source": [
    "Cart & Boosting (GBM)"
   ]
  },
  {
   "cell_type": "code",
   "execution_count": 35,
   "metadata": {
    "collapsed": false
   },
   "outputs": [
    {
     "name": "stdout",
     "output_type": "stream",
     "text": [
      "['make', 'address', 'all', '3d', 'our', 'over', 'remove', 'internet', 'order', 'mail', 'receive', 'will', 'people', 'report', 'addresses', 'free', 'business', 'email', 'you', 'credit', 'your', 'font', '000', 'money', 'hp', 'hpl', 'george', '650', 'lab', 'labs', 'telnet', '857', 'data', '415', '85', 'technology', '1999', 'parts', 'pm', 'direct', 'cs', 'meeting', 'original', 'project', 're', 'edu', 'table', 'conference', 'char_freq_;', 'char_freq_(', 'char_freq_[', 'char_freq_!', 'char_freq_$', 'char_freq_#', 'capital_run_length_average', 'capital_run_length_longest', 'capital_run_length_total']\n",
      "0.945030177548\n",
      "validation accuracy 0.928312816799\n",
      "[[799  36]\n",
      " [ 63 483]]\n",
      "[[ 0.     0.   ]\n",
      " [ 0.     0.21 ]\n",
      " [ 0.01   0.   ]\n",
      " ..., \n",
      " [ 0.102  0.   ]\n",
      " [ 0.     0.   ]\n",
      " [ 0.     0.   ]]\n",
      "[(0.2262, 'char_freq_;'), (0.0945, 'report'), (0.0637, 'capital_run_length_average'), (0.0467, 'you'), (0.0461, 'capital_run_length_total'), (0.0403, 'business'), (0.0397, 'char_freq_!'), (0.0333, 'will'), (0.0295, 'capital_run_length_longest'), (0.0275, 'your'), (0.0259, '000'), (0.0257, 'char_freq_('), (0.0235, 'char_freq_$'), (0.0207, 'internet'), (0.0188, 'edu'), (0.017, 'free'), (0.0149, 'mail'), (0.0133, 'remove'), (0.0121, 'our'), (0.0113, 'email'), (0.0109, 'hp'), (0.0101, 're'), (0.0097, 'all'), (0.009, 'receive'), (0.0056, 'money'), (0.0051, '1999'), (0.005, 'original'), (0.0049, '650'), (0.0048, 'project'), (0.0047, 'technology'), (0.0042, 'over'), (0.0039, 'make'), (0.0038, 'hpl'), (0.0037, 'credit'), (0.0036, 'order'), (0.0036, 'george'), (0.0036, 'address'), (0.0028, 'data'), (0.0027, '3d'), (0.0026, 'labs'), (0.0023, 'people'), (0.0023, 'meeting'), (0.0019, 'pm'), (0.0016, 'char_freq_['), (0.0014, 'char_freq_#'), (0.0011, '85'), (0.0008, 'font'), (0.0007, 'lab'), (0.0006, 'direct'), (0.0005, 'conference'), (0.0004, 'parts'), (0.0004, 'addresses'), (0.0003, 'cs'), (0.0003, '857'), (0.0001, 'telnet'), (0.0001, 'table'), (0.0, '415')]\n"
     ]
    }
   ],
   "source": [
    "import pandas\n",
    "import urllib2\n",
    "import urllib2\n",
    "from sklearn import ensemble\n",
    "columnNames1_url = 'https://archive.ics.uci.edu/ml/machine-learning-databases/spambase/spambase.names'\n",
    "columnNames1 = [\n",
    "   line.strip().split(':')[0]\n",
    "   for line in urllib2.urlopen(columnNames1_url).readlines()[33:]]\n",
    "\n",
    "columnNames1\n",
    "n = 0\n",
    "for i in columnNames1:\n",
    "   columnNames1[n] = i.replace('word_freq_','')\n",
    "   n += 1\n",
    "print columnNames1\n",
    "\n",
    "spamdata = pandas.read_csv(\n",
    "   'https://archive.ics.uci.edu/ml/machine-learning-databases/spambase/spambase.data',\n",
    "   header=None, names=(columnNames1 + ['spam'])\n",
    ")\n",
    "\n",
    "X = spamdata.values[:,:57]\n",
    "y=spamdata['spam']\n",
    "\n",
    "spamdata.head()\n",
    "\n",
    "import numpy as np\n",
    "from sklearn import cross_validation\n",
    "from sklearn.metrics import classification_report\n",
    "from sklearn.cross_validation import cross_val_score\n",
    "from sklearn.cross_validation import cross_val_predict\n",
    "from sklearn.cross_validation import train_test_split\n",
    "from sklearn.metrics  import recall_score, f1_score\n",
    "from sklearn.cross_validation import cross_val_predict\n",
    "import matplotlib.pyplot as plt\n",
    "from sklearn.metrics import confusion_matrix\n",
    "from sklearn.metrics import accuracy_score\n",
    "from sklearn.ensemble import GradientBoostingClassifier\n",
    "\n",
    "X_train, X_test, y_train, y_test = train_test_split(X,y, test_size=0.3, random_state=22)\n",
    "\n",
    "clf = ensemble.GradientBoostingClassifier(n_estimators=300,random_state=222,max_depth=16,learning_rate=.1,subsample=.5)\n",
    "scores=clf.fit(X_train,y_train)\n",
    "scores2 = cross_val_score(clf, X_train, y_train, cv=3, scoring='accuracy',n_jobs=-1)\n",
    "print scores2.mean()\n",
    "\n",
    "y_pred = cross_val_predict(clf, X_test, y_test, cv=10)\n",
    "print 'validation accuracy %s' % accuracy_score(y_test, y_pred)\n",
    "    \n",
    "\n",
    "\n",
    "confusionMatrix = confusion_matrix(y_test, y_pred)\n",
    "print confusionMatrix\n",
    "\n",
    "from sklearn.metrics import accuracy_score\n",
    "accuracy_score(y_test, y_pred)\n",
    "\n",
    "clf.feature_importances_\n",
    "\n",
    "def featureImp_order(clf, X, k=5):\n",
    "    return X[:,clf.feature_importances_.argsort()[::-1][:k]]\n",
    "newX = featureImp_order(clf,X,2)\n",
    "print newX\n",
    "\n",
    "# let's order the features in amount of importance\n",
    "\n",
    "print sorted(zip(map(lambda x: round(x, 4), clf.feature_importances_), columnNames1),\n",
    "            reverse=True)\n"
   ]
  },
  {
   "cell_type": "code",
   "execution_count": 9,
   "metadata": {
    "collapsed": false
   },
   "outputs": [
    {
     "name": "stdout",
     "output_type": "stream",
     "text": [
      "             precision    recall  f1-score   support\n",
      "\n",
      "          0       0.93      0.95      0.94       835\n",
      "          1       0.92      0.89      0.91       546\n",
      "\n",
      "avg / total       0.93      0.93      0.93      1381\n",
      "\n",
      "<bound method GradientBoostingClassifier.set_params of GradientBoostingClassifier(init=None, learning_rate=0.05, loss='deviance',\n",
      "              max_depth=20, max_features=None, max_leaf_nodes=None,\n",
      "              min_samples_leaf=1, min_samples_split=2,\n",
      "              min_weight_fraction_leaf=0.0, n_estimators=1401,\n",
      "              presort='auto', random_state=0, subsample=1.0, verbose=0,\n",
      "              warm_start=True)>\n"
     ]
    }
   ],
   "source": [
    "gbc = GradientBoostingClassifier(warm_start=True, learning_rate=.05, max_depth=20,random_state=0)\n",
    "for n_estimators in range(1, 1500, 100):\n",
    "    gbc.set_params(n_estimators=n_estimators)\n",
    "    gbc.fit(X_train, y_train) \n",
    "y_pred = gbc.predict(X_test)\n",
    "print(classification_report(y_test, y_pred))\n",
    "print(gbc.set_params)\n"
   ]
  },
  {
   "cell_type": "markdown",
   "metadata": {},
   "source": [
    "Training and storing GBM models"
   ]
  },
  {
   "cell_type": "code",
   "execution_count": 14,
   "metadata": {
    "collapsed": false
   },
   "outputs": [],
   "source": [
    "import errno\n",
    "import os\n",
    "#set your path here\n",
    "path='/yourpath/clfs'\n",
    "\n",
    "clfm=os.makedirs(path)\n",
    "os.chdir(path)"
   ]
  },
  {
   "cell_type": "code",
   "execution_count": 16,
   "metadata": {
    "collapsed": false
   },
   "outputs": [
    {
     "name": "stdout",
     "output_type": "stream",
     "text": [
      "[1 1 1 ..., 1 0 0]\n"
     ]
    }
   ],
   "source": [
    "#now let's load our stored model and use it for prediction.\n",
    "from sklearn.externals import joblib\n",
    "joblib.dump( gbc,'clf_gbc.pkl')\n",
    "\n",
    "model_clone = joblib.load('clf_gbc.pkl')\n",
    "zpred=model_clone.predict(X_test)\n",
    "print zpred\n"
   ]
  },
  {
   "cell_type": "markdown",
   "metadata": {},
   "source": [
    "XGboost"
   ]
  },
  {
   "cell_type": "markdown",
   "metadata": {},
   "source": [
    "XGboost Regression"
   ]
  },
  {
   "cell_type": "code",
   "execution_count": 17,
   "metadata": {
    "collapsed": false
   },
   "outputs": [
    {
     "name": "stdout",
     "output_type": "stream",
     "text": [
      "XGBoost results '             precision    recall  f1-score   support\\n\\n          0       0.95      0.97      0.96       835\\n          1       0.95      0.93      0.94       546\\n\\navg / total       0.95      0.95      0.95      1381\\n'\n",
      "gbm results '             precision    recall  f1-score   support\\n\\n          0       0.94      0.97      0.96       835\\n          1       0.95      0.91      0.93       546\\n\\navg / total       0.95      0.95      0.95      1381\\n'\n"
     ]
    }
   ],
   "source": [
    "from sklearn.ensemble import GradientBoostingClassifier\n",
    "import xgboost as xgb\n",
    "import numpy as np\n",
    "from sklearn.metrics import classification_report\n",
    "from sklearn import cross_validation\n",
    "\n",
    "clf = xgb.XGBClassifier(n_estimators=100,max_depth=8,\n",
    "                                       learning_rate=.1,subsample=.5)\n",
    "\n",
    "clf1 = GradientBoostingClassifier(n_estimators=100,max_depth=8,\n",
    "                                       learning_rate=.1,subsample=.5)\n",
    "\n",
    "xgm=clf.fit(X_train,y_train)\n",
    "gbmf=clf1.fit(X_train,y_train)\n",
    "\n",
    "y_pred = xgm.predict(X_test)\n",
    "y_pred2 = gbmf.predict(X_test)\n",
    "\n",
    "print 'XGBoost results %r' % (classification_report(y_test, y_pred))\n",
    "print 'gbm results %r' % (classification_report(y_test, y_pred2))\n"
   ]
  },
  {
   "cell_type": "markdown",
   "metadata": {},
   "source": [
    "XGBoost Regression"
   ]
  },
  {
   "cell_type": "code",
   "execution_count": 18,
   "metadata": {
    "collapsed": false
   },
   "outputs": [
    {
     "name": "stdout",
     "output_type": "stream",
     "text": [
      "['MedInc', 'HouseAge', 'AveRooms', 'AveBedrms', 'Population', 'AveOccup', 'Latitude', 'Longitude']\n",
      "score before gridsearch 0.07110580252173157\n",
      "Fitting 3 folds for each of 108 candidates, totalling 324 fits\n"
     ]
    },
    {
     "name": "stderr",
     "output_type": "stream",
     "text": [
      "[Parallel(n_jobs=-1)]: Done  42 tasks      | elapsed:  3.0min\n",
      "[Parallel(n_jobs=-1)]: Done 192 tasks      | elapsed: 18.6min\n",
      "[Parallel(n_jobs=-1)]: Done 324 out of 324 | elapsed: 31.8min finished\n"
     ]
    },
    {
     "name": "stdout",
     "output_type": "stream",
     "text": [
      "{'colsample_bytree': 0.8, 'learning_rate': 0.1, 'min_child_weight': 1, 'n_estimators': 1000, 'max_depth': 8, 'gamma': 0}\n",
      "score after gridsearch 0.049878294113796254\n"
     ]
    }
   ],
   "source": [
    "import numpy as np\n",
    "import scipy.sparse\n",
    "import xgboost as xgb\n",
    "import os\n",
    "import pandas as pd\n",
    "from sklearn.cross_validation import train_test_split\n",
    "import numpy as np\n",
    "from sklearn.datasets import fetch_california_housing\n",
    "from sklearn.metrics import mean_squared_error\n",
    "pd=fetch_california_housing()\n",
    "\n",
    "#because the y  variable is highly skewed we apply the log transformation \n",
    "y=np.log(pd.target)\n",
    "X_train, X_test, y_train, y_test = train_test_split(pd.data,\n",
    "                                                    y,\n",
    "                                                    test_size=0.15,\n",
    "                                                    random_state=111)\n",
    "names = pd.feature_names\n",
    "print names\n",
    "\n",
    "import xgboost as xgb\n",
    "from xgboost.sklearn import XGBClassifier\n",
    "from sklearn.grid_search import GridSearchCV\n",
    "\n",
    "clf=xgb.XGBRegressor(gamma=0,objective= \"reg:linear\",nthread=-1)\n",
    "\n",
    "\n",
    "clf.fit(X_train,y_train)\n",
    "y_pred = clf.predict(X_test)\n",
    "print 'score before gridsearch %r' % mean_squared_error(y_test, y_pred)\n",
    "\n",
    "params = {\n",
    " 'max_depth':[4,6,8],\n",
    " 'n_estimators':[1000],\n",
    "'min_child_weight':range(1,3),\n",
    "'learning_rate':[.1,.01,.001],\n",
    "'colsample_bytree':[.8,.9,1]\n",
    ",'gamma':[0,1]}\n",
    "\n",
    "#with the parameter nthread we specify XGBoost for parallelisation \n",
    "cvx = xgb.XGBRegressor(objective= \"reg:linear\",nthread=-1)\n",
    "clf=GridSearchCV(estimator=cvx,param_grid=params,n_jobs=-1,scoring='mean_absolute_error',verbose=True)\n",
    "\n",
    "clf.fit(X_train,y_train)\n",
    "print clf.best_params_\n",
    "y_pred = clf.predict(X_test)\n",
    "print 'score after gridsearch %r' %mean_squared_error(y_test, y_pred)"
   ]
  },
  {
   "cell_type": "markdown",
   "metadata": {},
   "source": [
    "XGBoost and variable importance"
   ]
  },
  {
   "cell_type": "code",
   "execution_count": 20,
   "metadata": {
    "collapsed": false
   },
   "outputs": [
    {
     "data": {
      "text/plain": [
       "<matplotlib.axes._subplots.AxesSubplot at 0x10f30add0>"
      ]
     },
     "execution_count": 20,
     "metadata": {},
     "output_type": "execute_result"
    },
    {
     "data": {
      "image/png": "[encoded data removed]",
      "text/plain": [
       "<matplotlib.figure.Figure at 0x10f38ea50>"
      ]
     },
     "metadata": {},
     "output_type": "display_data"
    }
   ],
   "source": [
    "import numpy as np\n",
    "import os\n",
    "from matplotlib import pylab as plt\n",
    "%matplotlib inline   \n",
    "#our best parameter set \n",
    "# {'colsample_bytree': 1, 'learning_rate': 0.1, 'min_child_weight': 1, 'n_estimators': 500, #'max_depth': 8, 'gamma': 0}\n",
    "\n",
    "params={'objective': \"reg:linear\",\n",
    "        'eval_metric': 'rmse',\n",
    "        'eta': 0.1,\n",
    "       'max_depth':8,\n",
    "       'min_samples_leaf':4,\n",
    "        'subsample':.5,\n",
    "        'gamma':0\n",
    "       }\n",
    "\n",
    "dm = xgb.DMatrix(X_train, label=y_train,\n",
    "                 feature_names=names)\n",
    "regbgb = xgb.train(params, dm, num_boost_round=100)\n",
    "np.random.seed(1)\n",
    "regbgb.get_fscore()\n",
    "\n",
    "\n",
    "regbgb.feature_names\n",
    "regbgb.get_fscore()\n",
    "xgb.plot_importance(regbgb,color='magenta',title='california-housing|variable importance')\n"
   ]
  },
  {
   "cell_type": "code",
   "execution_count": 21,
   "metadata": {
    "collapsed": false
   },
   "outputs": [
    {
     "name": "stderr",
     "output_type": "stream",
     "text": [
      "[0]\teval-merror:0.434653\ttrain-merror:0.409476\n",
      "[1]\teval-merror:0.407635\ttrain-merror:0.366413\n",
      "[2]\teval-merror:0.398750\ttrain-merror:0.354658\n",
      "[3]\teval-merror:0.389701\ttrain-merror:0.338185\n",
      "[4]\teval-merror:0.385193\ttrain-merror:0.328948\n",
      "[5]\teval-merror:0.380848\ttrain-merror:0.318593\n",
      "[6]\teval-merror:0.373571\ttrain-merror:0.308996\n",
      "[7]\teval-merror:0.367774\ttrain-merror:0.301519\n",
      "[8]\teval-merror:0.364031\ttrain-merror:0.297721\n",
      "[9]\teval-merror:0.359936\ttrain-merror:0.290284\n",
      "[10]\teval-merror:0.355028\ttrain-merror:0.284086\n",
      "[11]\teval-merror:0.349160\ttrain-merror:0.273291\n",
      "[12]\teval-merror:0.346769\ttrain-merror:0.270532\n",
      "[13]\teval-merror:0.342033\ttrain-merror:0.260816\n",
      "[14]\teval-merror:0.337239\ttrain-merror:0.252939\n",
      "[15]\teval-merror:0.334342\ttrain-merror:0.249300\n",
      "[16]\teval-merror:0.332645\ttrain-merror:0.244462\n",
      "[17]\teval-merror:0.330129\ttrain-merror:0.235546\n",
      "[18]\teval-merror:0.325973\ttrain-merror:0.225750\n",
      "[19]\teval-merror:0.323557\ttrain-merror:0.217553\n",
      "[20]\teval-merror:0.320777\ttrain-merror:0.208557\n",
      "[21]\teval-merror:0.317847\ttrain-merror:0.203119\n",
      "[22]\teval-merror:0.316501\ttrain-merror:0.200280\n",
      "[23]\teval-merror:0.315125\ttrain-merror:0.196122\n",
      "[24]\teval-merror:0.312617\ttrain-merror:0.192163\n",
      "[25]\teval-merror:0.310947\ttrain-merror:0.186046\n",
      "[26]\teval-merror:0.308782\ttrain-merror:0.182487\n",
      "[27]\teval-merror:0.307442\ttrain-merror:0.179088\n",
      "[28]\teval-merror:0.305346\ttrain-merror:0.174690\n",
      "[29]\teval-merror:0.302123\ttrain-merror:0.166253\n",
      "[30]\teval-merror:0.299740\ttrain-merror:0.162735\n",
      "[31]\teval-merror:0.298948\ttrain-merror:0.157017\n",
      "[32]\teval-merror:0.296468\ttrain-merror:0.153938\n",
      "[33]\teval-merror:0.295506\ttrain-merror:0.150620\n",
      "[34]\teval-merror:0.295201\ttrain-merror:0.148820\n",
      "[35]\teval-merror:0.293650\ttrain-merror:0.142863\n",
      "[36]\teval-merror:0.291479\ttrain-merror:0.136505\n",
      "[37]\teval-merror:0.291207\ttrain-merror:0.131427\n",
      "[38]\teval-merror:0.287686\ttrain-merror:0.124310\n",
      "[39]\teval-merror:0.288043\ttrain-merror:0.120472\n",
      "[40]\teval-merror:0.285780\ttrain-merror:0.117073\n",
      "[41]\teval-merror:0.284967\ttrain-merror:0.114474\n",
      "[42]\teval-merror:0.284291\ttrain-merror:0.113515\n",
      "[43]\teval-merror:0.280683\ttrain-merror:0.105078\n",
      "[44]\teval-merror:0.279590\ttrain-merror:0.101399\n",
      "[45]\teval-merror:0.276951\ttrain-merror:0.098121\n",
      "[46]\teval-merror:0.275559\ttrain-merror:0.094442\n",
      "[47]\teval-merror:0.274191\ttrain-merror:0.091563\n",
      "[48]\teval-merror:0.271334\ttrain-merror:0.087205\n",
      "[49]\teval-merror:0.270822\ttrain-merror:0.085646\n",
      "[50]\teval-merror:0.269223\ttrain-merror:0.081447\n",
      "[51]\teval-merror:0.268451\ttrain-merror:0.080368\n",
      "[52]\teval-merror:0.267336\ttrain-merror:0.076849\n",
      "[53]\teval-merror:0.266249\ttrain-merror:0.073491\n",
      "[54]\teval-merror:0.266292\ttrain-merror:0.071411\n",
      "[55]\teval-merror:0.265492\ttrain-merror:0.069732\n",
      "[56]\teval-merror:0.263267\ttrain-merror:0.066373\n",
      "[57]\teval-merror:0.260462\ttrain-merror:0.060856\n",
      "[58]\teval-merror:0.258493\ttrain-merror:0.059136\n",
      "[59]\teval-merror:0.258128\ttrain-merror:0.057497\n",
      "[60]\teval-merror:0.258376\ttrain-merror:0.055178\n",
      "[61]\teval-merror:0.257022\ttrain-merror:0.052779\n",
      "[62]\teval-merror:0.256668\ttrain-merror:0.050540\n",
      "[63]\teval-merror:0.256127\ttrain-merror:0.048860\n",
      "[64]\teval-merror:0.255572\ttrain-merror:0.047341\n",
      "[65]\teval-merror:0.254386\ttrain-merror:0.045942\n",
      "[66]\teval-merror:0.253829\ttrain-merror:0.044462\n",
      "[67]\teval-merror:0.252436\ttrain-merror:0.042063\n",
      "[68]\teval-merror:0.248287\ttrain-merror:0.039744\n",
      "[69]\teval-merror:0.246656\ttrain-merror:0.038385\n",
      "[70]\teval-merror:0.246479\ttrain-merror:0.037505\n",
      "[71]\teval-merror:0.243233\ttrain-merror:0.035386\n",
      "[72]\teval-merror:0.240648\ttrain-merror:0.033507\n",
      "[73]\teval-merror:0.239302\ttrain-merror:0.032427\n",
      "[74]\teval-merror:0.239516\ttrain-merror:0.031547\n",
      "[75]\teval-merror:0.239468\ttrain-merror:0.030948\n",
      "[76]\teval-merror:0.238430\ttrain-merror:0.029028\n",
      "[77]\teval-merror:0.237879\ttrain-merror:0.028229\n",
      "[78]\teval-merror:0.237013\ttrain-merror:0.027509\n",
      "[79]\teval-merror:0.235107\ttrain-merror:0.025790\n",
      "[80]\teval-merror:0.234358\ttrain-merror:0.025150\n",
      "[81]\teval-merror:0.233069\ttrain-merror:0.024670\n",
      "[82]\teval-merror:0.231918\ttrain-merror:0.022631\n",
      "[83]\teval-merror:0.229269\ttrain-merror:0.020112\n",
      "[84]\teval-merror:0.228981\ttrain-merror:0.019512\n",
      "[85]\teval-merror:0.228617\ttrain-merror:0.019312\n",
      "[86]\teval-merror:0.229154\ttrain-merror:0.018153\n",
      "[87]\teval-merror:0.229102\ttrain-merror:0.017913\n",
      "[88]\teval-merror:0.228687\ttrain-merror:0.017553\n",
      "[89]\teval-merror:0.228659\ttrain-merror:0.016913\n",
      "[90]\teval-merror:0.228599\ttrain-merror:0.015954\n",
      "[91]\teval-merror:0.227671\ttrain-merror:0.015354\n",
      "[92]\teval-merror:0.227777\ttrain-merror:0.014914\n",
      "[93]\teval-merror:0.226247\ttrain-merror:0.013355\n",
      "[94]\teval-merror:0.225397\ttrain-merror:0.012155\n",
      "[95]\teval-merror:0.224070\ttrain-merror:0.011875\n",
      "[96]\teval-merror:0.222421\ttrain-merror:0.010676\n",
      "[97]\teval-merror:0.221881\ttrain-merror:0.010116\n",
      "[98]\teval-merror:0.221922\ttrain-merror:0.009676\n",
      "[99]\teval-merror:0.221733\ttrain-merror:0.009316\n"
     ]
    },
    {
     "name": "stdout",
     "output_type": "stream",
     "text": [
      "<xgboost.core.Booster object at 0x10f2579d0>\n"
     ]
    },
    {
     "data": {
      "text/plain": [
       "array([ 0.,  0.,  1., ...,  0.,  0.,  1.], dtype=float32)"
      ]
     },
     "execution_count": 21,
     "metadata": {},
     "output_type": "execute_result"
    }
   ],
   "source": [
    "import urllib\n",
    "from sklearn.datasets import dump_svmlight_file\n",
    "from sklearn.datasets import load_svmlight_file\n",
    "trainfile = urllib.URLopener()\n",
    "trainfile.retrieve(\"http://www.csie.ntu.edu.tw/~cjlin/libsvmtools/datasets/multiclass/poker.bz2\", \"pokertrain.bz2\")\n",
    "X,y = load_svmlight_file('pokertrain.bz2')\n",
    "dump_svmlight_file(X, y,'pokertrain', zero_based=True,query_id=None, multilabel=False)\n",
    "testfile = urllib.URLopener()\n",
    "testfile.retrieve(\"http://www.csie.ntu.edu.tw/~cjlin/libsvmtools/datasets/multiclass/poker.t.bz2\", \"pokertest.bz2\")\n",
    "X,y = load_svmlight_file('pokertest.bz2')\n",
    "dump_svmlight_file(X, y,'pokertest', zero_based=True,query_id=None, multilabel=False)\n",
    "del(X,y)\n",
    "from sklearn.metrics import classification_report\n",
    "import numpy as np\n",
    "import xgboost as xgb\n",
    "#insert the proper file path\n",
    "dtrain = xgb.DMatrix('/yourpath/pokertrain#dtrain.cache')\n",
    "dtest = xgb.DMatrix('/yourpath/pokertest#dtestin.cache')\n",
    "\n",
    "\n",
    "param = {'max_depth':8,'objective':'multi:softmax','nthread':2,'num_class':10,'verbose':True}\n",
    "num_round=100\n",
    "watchlist = [(dtest,'eval'), (dtrain,'train')]\n",
    "bst = xgb.train(param, dtrain, num_round,watchlist)\n",
    "print bst\n",
    "\n",
    "bst.predict(dtest)"
   ]
  },
  {
   "cell_type": "code",
   "execution_count": null,
   "metadata": {
    "collapsed": false
   },
   "outputs": [],
   "source": [
    "import pickle\n",
    "bst.save_model('xgb.model')\n",
    "imported_model = xgb.Booster(model_file='xgb.model')\n",
    "imported_model.predict(dtest)\n"
   ]
  },
  {
   "cell_type": "code",
   "execution_count": null,
   "metadata": {
    "collapsed": true
   },
   "outputs": [],
   "source": [
    "import pandas as pd\n",
    "import numpy as np\n",
    "import os\n",
    "import xlrd\n",
    "import urllib\n",
    "import h2o\n",
    "\n",
    "\n",
    "#set your path here\n",
    "os.chdir('/yourpath/')\n",
    "\n",
    "url = 'https://archive.ics.uci.edu/ml/machine-learning-databases/spambase/spambase.data'\n",
    "filename='spamdata.data'\n",
    "urllib.urlretrieve(url, filename)\n",
    "h2o.init()           \n",
    "\n",
    "\n",
    "\n",
    "spamdata = h2o.import_file(os.path.realpath(\"/yourpath/spamdata.data\"))\n",
    "spamdata['C58']=spamdata['C58'].asfactor()\n",
    "train, valid, test= spamdata.split_frame([0.6,.2], seed=1234)\n",
    "\n",
    "spam_X = spamdata.col_names[:-1]    \n",
    "spam_Y = spamdata.col_names[-1]\n",
    "\n",
    "\n",
    "from h2o.estimators.gbm import H2OGradientBoostingEstimator\n",
    "from h2o.estimators.random_forest import H2ORandomForestEstimator\n",
    "from h2o.grid.grid_search import H2OGridSearch\n",
    "\n",
    "hyper_parameters={'ntrees':[300], 'max_depth':[3,6,10,12,50],'balance_classes':['True','False'],'sample_rate':[.5,.6,.8,.9]}\n",
    "grid_search = H2OGridSearch(H2ORandomForestEstimator, hyper_params=hyper_parameters)\n",
    "grid_search.train(x=spam_X, y=spam_Y,training_frame=train)\n",
    "print 'this is the optimum solution for hyper parameters search %s' % grid_search.show()\n",
    "\n",
    "\n",
    "final = H2ORandomForestEstimator(ntrees=300, max_depth=50,balance_classes=True,sample_rate=.9)\n",
    "final.train(x=spam_X, y=spam_Y,training_frame=train)\n",
    "print final.predict(test)\n",
    "\n",
    "\n",
    "#Note that because of randomness, the results of the gridsearch might be different from results \n",
    "#displayed in the book.\n",
    "\n",
    "hyper_parameters={'ntrees':[300],'max_depth':[12,30,50],'sample_rate':[.5,.7,1],'col_sample_rate':[.9,1],\n",
    "'learn_rate':[.01,.1,.3],}\n",
    "grid_search = H2OGridSearch(H2OGradientBoostingEstimator, hyper_params=hyper_parameters)\n",
    "grid_search.train(x=spam_X, y=spam_Y, training_frame=train)\n",
    "print 'this is the optimum solution for hyper parameters search %s' % grid_search.show()\n",
    "\n",
    "spam_gbm2 = H2OGradientBoostingEstimator(\n",
    "  ntrees=300,\n",
    "  learn_rate=0.3,\n",
    "  max_depth=30,\n",
    "  sample_rate=1,\n",
    "  col_sample_rate=0.9,\n",
    "  score_each_iteration=True,\n",
    "  seed=2000000\n",
    ")\n",
    "spam_gbm2.train(spam_X, spam_Y, training_frame=train, validation_frame=valid)\n",
    "\n",
    "confusion_matrix = spam_gbm2.confusion_matrix(metrics=\"accuracy\")\n",
    "print confusion_matrix\n",
    "print spam_gbm2.score_history()\n",
    "print spam_gbm2.predict(test)"
   ]
  }
 ],
 "metadata": {
  "kernelspec": {
   "display_name": "Python 2",
   "language": "python",
   "name": "python2"
  },
  "language_info": {
   "codemirror_mode": {
    "name": "ipython",
    "version": 2
   },
   "file_extension": ".py",
   "mimetype": "text/x-python",
   "name": "python",
   "nbconvert_exporter": "python",
   "pygments_lexer": "ipython2",
   "version": "2.7.10"
  }
 },
 "nbformat": 4,
 "nbformat_minor": 0
}
