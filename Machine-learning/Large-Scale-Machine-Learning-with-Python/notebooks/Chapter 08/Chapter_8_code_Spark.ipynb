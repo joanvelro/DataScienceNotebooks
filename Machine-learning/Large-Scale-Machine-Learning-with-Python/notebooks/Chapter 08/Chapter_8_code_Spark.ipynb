{
 "cells": [
  {
   "cell_type": "markdown",
   "metadata": {},
   "source": [
    "Let's first insert some data in the HDFS"
   ]
  },
  {
   "cell_type": "code",
   "execution_count": 1,
   "metadata": {
    "collapsed": false
   },
   "outputs": [
    {
     "name": "stdout",
     "output_type": "stream",
     "text": [
      "Found 2 items\n",
      "-rw-r--r--   1 vagrant supergroup       1365 2016-05-10 20:06 /datasets/hadoop_git_readme.txt\n",
      "-rw-r--r--   1 vagrant supergroup    5589889 2016-05-10 20:06 /datasets/shakespeare_all.txt\n",
      "16/05/10 20:06:36 INFO fs.TrashPolicyDefault: Namenode trash configuration: Deletion interval = 0 minutes, Emptier interval = 0 minutes.\n",
      "Deleted /tmp\n"
     ]
    }
   ],
   "source": [
    "!hdfs dfs -mkdir -p /datasets\n",
    "!wget -q http://www.gutenberg.org/cache/epub/100/pg100.txt \\\n",
    "    -O ../datasets/shakespeare_all.txt\n",
    "!hdfs dfs -put -f ../datasets/shakespeare_all.txt /datasets/shakespeare_all.txt\n",
    "!hdfs dfs -put -f ../datasets/hadoop_git_readme.txt /datasets/hadoop_git_readme.txt\n",
    "!hdfs dfs -ls /datasets\n",
    "!hdfs dfs -rm -r /tmp"
   ]
  },
  {
   "cell_type": "markdown",
   "metadata": {},
   "source": [
    "## pySpark"
   ]
  },
  {
   "cell_type": "code",
   "execution_count": 2,
   "metadata": {
    "collapsed": false
   },
   "outputs": [
    {
     "data": {
      "text/plain": [
       "[(u'spark.rdd.compress', u'True'),\n",
       " (u'spark.master', u'yarn-client'),\n",
       " (u'spark.serializer.objectStreamReset', u'100'),\n",
       " (u'spark.yarn.isPython', u'true'),\n",
       " (u'spark.submit.deployMode', u'client'),\n",
       " (u'spark.executor.cores', u'2'),\n",
       " (u'spark.app.name', u'PySparkShell')]"
      ]
     },
     "execution_count": 2,
     "metadata": {},
     "output_type": "execute_result"
    }
   ],
   "source": [
    "sc._conf.getAll()"
   ]
  },
  {
   "cell_type": "code",
   "execution_count": 3,
   "metadata": {
    "collapsed": false
   },
   "outputs": [
    {
     "data": {
      "text/plain": [
       "ParallelCollectionRDD[0] at parallelize at PythonRDD.scala:423"
      ]
     },
     "execution_count": 3,
     "metadata": {},
     "output_type": "execute_result"
    }
   ],
   "source": [
    "numbers = range(10)\n",
    "numbers_rdd = sc.parallelize(numbers)\n",
    "\n",
    "numbers_rdd"
   ]
  },
  {
   "cell_type": "code",
   "execution_count": 4,
   "metadata": {
    "collapsed": false
   },
   "outputs": [
    {
     "data": {
      "text/plain": [
       "[0, 1, 2, 3, 4, 5, 6, 7, 8, 9]"
      ]
     },
     "execution_count": 4,
     "metadata": {},
     "output_type": "execute_result"
    }
   ],
   "source": [
    "numbers_rdd.collect()"
   ]
  },
  {
   "cell_type": "code",
   "execution_count": 5,
   "metadata": {
    "collapsed": false
   },
   "outputs": [
    {
     "data": {
      "text/plain": [
       "[0, 1, 2, 3]"
      ]
     },
     "execution_count": 5,
     "metadata": {},
     "output_type": "execute_result"
    }
   ],
   "source": [
    "numbers_rdd.take(4)"
   ]
  },
  {
   "cell_type": "code",
   "execution_count": 6,
   "metadata": {
    "collapsed": false
   },
   "outputs": [
    {
     "data": {
      "text/plain": [
       "u'For the latest information about Hadoop, please visit our website at:'"
      ]
     },
     "execution_count": 6,
     "metadata": {},
     "output_type": "execute_result"
    }
   ],
   "source": [
    "sc.textFile(\"hdfs:///datasets/hadoop_git_readme.txt\").first()"
   ]
  },
  {
   "cell_type": "code",
   "execution_count": 7,
   "metadata": {
    "collapsed": false
   },
   "outputs": [
    {
     "data": {
      "text/plain": [
       "u'For the latest information about Hadoop, please visit our website at:'"
      ]
     },
     "execution_count": 7,
     "metadata": {},
     "output_type": "execute_result"
    }
   ],
   "source": [
    "sc.textFile(\"file:///home/vagrant/datasets/hadoop_git_readme.txt\").first()"
   ]
  },
  {
   "cell_type": "code",
   "execution_count": 8,
   "metadata": {
    "collapsed": true
   },
   "outputs": [],
   "source": [
    "numbers_rdd.saveAsTextFile(\"hdfs:///tmp/numbers_1_10.txt\")"
   ]
  },
  {
   "cell_type": "code",
   "execution_count": 9,
   "metadata": {
    "collapsed": false
   },
   "outputs": [
    {
     "name": "stdout",
     "output_type": "stream",
     "text": [
      "Found 5 items\r\n",
      "-rw-r--r--   1 vagrant supergroup          0 2016-05-10 20:06 /tmp/numbers_1_10.txt/_SUCCESS\r\n",
      "-rw-r--r--   1 vagrant supergroup          4 2016-05-10 20:06 /tmp/numbers_1_10.txt/part-00000\r\n",
      "-rw-r--r--   1 vagrant supergroup          4 2016-05-10 20:06 /tmp/numbers_1_10.txt/part-00001\r\n",
      "-rw-r--r--   1 vagrant supergroup          4 2016-05-10 20:06 /tmp/numbers_1_10.txt/part-00002\r\n",
      "-rw-r--r--   1 vagrant supergroup          8 2016-05-10 20:06 /tmp/numbers_1_10.txt/part-00003\r\n"
     ]
    }
   ],
   "source": [
    "!hdfs dfs -ls /tmp/numbers_1_10.txt"
   ]
  },
  {
   "cell_type": "code",
   "execution_count": 10,
   "metadata": {
    "collapsed": true
   },
   "outputs": [],
   "source": [
    "numbers_rdd.coalesce(1).saveAsTextFile(\"hdfs:///tmp/numbers_1_10_one_file.txt\")"
   ]
  },
  {
   "cell_type": "code",
   "execution_count": 11,
   "metadata": {
    "collapsed": false
   },
   "outputs": [
    {
     "name": "stdout",
     "output_type": "stream",
     "text": [
      "Found 2 items\r\n",
      "-rw-r--r--   1 vagrant supergroup          0 2016-05-10 20:06 /tmp/numbers_1_10_one_file.txt/_SUCCESS\r\n",
      "-rw-r--r--   1 vagrant supergroup         20 2016-05-10 20:06 /tmp/numbers_1_10_one_file.txt/part-00000\r\n"
     ]
    }
   ],
   "source": [
    "!hdfs dfs -ls /tmp/numbers_1_10_one_file.txt"
   ]
  },
  {
   "cell_type": "code",
   "execution_count": 12,
   "metadata": {
    "collapsed": false
   },
   "outputs": [
    {
     "name": "stdout",
     "output_type": "stream",
     "text": [
      "0\r\n",
      "1\r\n",
      "2\r\n",
      "3\r\n",
      "4\r\n",
      "5\r\n",
      "6\r\n",
      "7\r\n",
      "8\r\n",
      "9\r\n"
     ]
    }
   ],
   "source": [
    "!hdfs dfs -cat /tmp/numbers_1_10_one_file.txt/part-00000"
   ]
  },
  {
   "cell_type": "code",
   "execution_count": 13,
   "metadata": {
    "collapsed": true
   },
   "outputs": [],
   "source": [
    "numbers_rdd.saveAsTextFile(\"file:///tmp/numbers_1_10.txt\")"
   ]
  },
  {
   "cell_type": "code",
   "execution_count": 14,
   "metadata": {
    "collapsed": false
   },
   "outputs": [
    {
     "name": "stdout",
     "output_type": "stream",
     "text": [
      "part-00000  part-00001\tpart-00002  part-00003\t_SUCCESS\r\n"
     ]
    }
   ],
   "source": [
    "!ls /tmp/numbers_1_10.txt"
   ]
  },
  {
   "cell_type": "code",
   "execution_count": 15,
   "metadata": {
    "collapsed": false
   },
   "outputs": [
    {
     "data": {
      "text/plain": [
       "[0, 1, 4, 9, 16, 25, 36, 49, 64, 81]"
      ]
     },
     "execution_count": 15,
     "metadata": {},
     "output_type": "execute_result"
    }
   ],
   "source": [
    "def sq(x):\n",
    "    return x**2\n",
    "\n",
    "numbers_rdd.map(sq).collect()"
   ]
  },
  {
   "cell_type": "code",
   "execution_count": 16,
   "metadata": {
    "collapsed": false
   },
   "outputs": [
    {
     "data": {
      "text/plain": [
       "[0, 1, 4, 9, 16, 25, 36, 49, 64, 81]"
      ]
     },
     "execution_count": 16,
     "metadata": {},
     "output_type": "execute_result"
    }
   ],
   "source": [
    "numbers_rdd.map(lambda x: x**2).collect()"
   ]
  },
  {
   "cell_type": "code",
   "execution_count": 17,
   "metadata": {
    "collapsed": false
   },
   "outputs": [
    {
     "data": {
      "text/plain": [
       "285"
      ]
     },
     "execution_count": 17,
     "metadata": {},
     "output_type": "execute_result"
    }
   ],
   "source": [
    "numbers_rdd.map(lambda x: x**2).reduce(lambda a,b: a+b)"
   ]
  },
  {
   "cell_type": "code",
   "execution_count": 18,
   "metadata": {
    "collapsed": false
   },
   "outputs": [
    {
     "data": {
      "text/plain": [
       "285"
      ]
     },
     "execution_count": 18,
     "metadata": {},
     "output_type": "execute_result"
    }
   ],
   "source": [
    "numbers_rdd.map(lambda x: x**2).sum()"
   ]
  },
  {
   "cell_type": "code",
   "execution_count": 19,
   "metadata": {
    "collapsed": false
   },
   "outputs": [
    {
     "data": {
      "text/plain": [
       "[('even', 0),\n",
       " ('odd', 1),\n",
       " ('even', 2),\n",
       " ('odd', 3),\n",
       " ('even', 4),\n",
       " ('odd', 5),\n",
       " ('even', 6),\n",
       " ('odd', 7),\n",
       " ('even', 8),\n",
       " ('odd', 9)]"
      ]
     },
     "execution_count": 19,
     "metadata": {},
     "output_type": "execute_result"
    }
   ],
   "source": [
    "def tag(x):\n",
    "    return \"even\" if x%2==0 else \"odd\"\n",
    "        \n",
    "    \n",
    "numbers_rdd.map(lambda x: (tag(x), x) ).collect()"
   ]
  },
  {
   "cell_type": "code",
   "execution_count": 20,
   "metadata": {
    "collapsed": false
   },
   "outputs": [
    {
     "data": {
      "text/plain": [
       "[('even', 20), ('odd', 25)]"
      ]
     },
     "execution_count": 20,
     "metadata": {},
     "output_type": "execute_result"
    }
   ],
   "source": [
    "numbers_rdd.map(lambda x: (tag(x), x) ).reduceByKey(lambda a,b: a+b).collect()"
   ]
  },
  {
   "cell_type": "code",
   "execution_count": null,
   "metadata": {
    "collapsed": true
   },
   "outputs": [],
   "source": []
  },
  {
   "cell_type": "code",
   "execution_count": null,
   "metadata": {
    "collapsed": true
   },
   "outputs": [],
   "source": []
  },
  {
   "cell_type": "code",
   "execution_count": 21,
   "metadata": {
    "collapsed": false
   },
   "outputs": [
    {
     "name": "stdout",
     "output_type": "stream",
     "text": [
      "{'chars': 1335, 'lines': 31, 'words': 179}\n"
     ]
    }
   ],
   "source": [
    "def emit_feats(line):\n",
    "    return [(\"chars\", len(line)), \\\n",
    "            (\"words\", len(line.split())), \\\n",
    "            (\"lines\", 1)]\n",
    "\n",
    "print (sc.textFile(\"/datasets/hadoop_git_readme.txt\")\n",
    " .flatMap(emit_feats)\n",
    " .reduceByKey(lambda a,b: a+b)\n",
    " .collectAsMap())"
   ]
  },
  {
   "cell_type": "code",
   "execution_count": 22,
   "metadata": {
    "collapsed": false
   },
   "outputs": [
    {
     "name": "stdout",
     "output_type": "stream",
     "text": [
      "[(27801, u'the')]\n"
     ]
    }
   ],
   "source": [
    "import re\n",
    "WORD_RE = re.compile(r\"[\\w']+\")\n",
    "\n",
    "print (sc.textFile(\"/datasets/shakespeare_all.txt\")\n",
    " .flatMap(lambda line: WORD_RE.findall(line))\n",
    " .map(lambda word: (word.lower(), 1))\n",
    " .reduceByKey(lambda a,b: a+b)\n",
    " .map(lambda (k,v): (v,k))\n",
    " .takeOrdered(1, key = lambda x: -x[0]))"
   ]
  },
  {
   "cell_type": "code",
   "execution_count": 23,
   "metadata": {
    "collapsed": false
   },
   "outputs": [
    {
     "name": "stdout",
     "output_type": "stream",
     "text": [
      "[(u'the', 27801)]\n"
     ]
    }
   ],
   "source": [
    "print (sc.textFile(\"/datasets/shakespeare_all.txt\")\n",
    " .flatMap(lambda line: [(word.lower(), 1) for word in WORD_RE.findall(line)])\n",
    " .reduceByKey(lambda a,b: a+b)\n",
    " .takeOrdered(1, key = lambda x: -x[1]))"
   ]
  },
  {
   "cell_type": "code",
   "execution_count": null,
   "metadata": {
    "collapsed": true
   },
   "outputs": [],
   "source": []
  }
 ],
 "metadata": {
  "kernelspec": {
   "display_name": "Python 2",
   "language": "python",
   "name": "python2"
  },
  "language_info": {
   "codemirror_mode": {
    "name": "ipython",
    "version": 2
   },
   "file_extension": ".py",
   "mimetype": "text/x-python",
   "name": "python",
   "nbconvert_exporter": "python",
   "pygments_lexer": "ipython2",
   "version": "2.7.6"
  }
 },
 "nbformat": 4,
 "nbformat_minor": 0
}
