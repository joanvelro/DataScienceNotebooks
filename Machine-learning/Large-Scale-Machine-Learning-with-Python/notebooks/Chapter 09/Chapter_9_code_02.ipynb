{
 "cells": [
  {
   "cell_type": "code",
   "execution_count": 1,
   "metadata": {
    "collapsed": false
   },
   "outputs": [],
   "source": [
    "!rm -rf kdd*\n",
    "\n",
    "# !wget -q -O ../datasets/kddtrain.gz \\\n",
    "# http://kdd.ics.uci.edu/databases/kddcup99/kddcup.data.gz\n",
    "\n",
    "!wget -q -O ../datasets/kddtrain.gz \\\n",
    "http://kdd.ics.uci.edu/databases/kddcup99/kddcup.data_10_percent.gz\n",
    "\n",
    "!wget -q -O ../datasets/kddtest.gz \\\n",
    "http://kdd.ics.uci.edu/databases/kddcup99/corrected.gz\n",
    "    \n",
    "!wget -q -O ../datasets/kddnames \\\n",
    "http://kdd.ics.uci.edu/databases/kddcup99/kddcup.names\n",
    "\n",
    "!gunzip ../datasets/kdd*gz"
   ]
  },
  {
   "cell_type": "code",
   "execution_count": 2,
   "metadata": {
    "collapsed": false
   },
   "outputs": [
    {
     "name": "stdout",
     "output_type": "stream",
     "text": [
      "0,tcp,http,SF,181,5450,0,0,0,0,0,1,0,0,0,0,0,0,0,0,0,0,8,8,0.00,0.00,0.00,0.00,1.00,0.00,0.00,9,9,1.00,0.00,0.11,0.00,0.00,0.00,0.00,0.00,normal.\r\n",
      "0,tcp,http,SF,239,486,0,0,0,0,0,1,0,0,0,0,0,0,0,0,0,0,8,8,0.00,0.00,0.00,0.00,1.00,0.00,0.00,19,19,1.00,0.00,0.05,0.00,0.00,0.00,0.00,0.00,normal.\r\n",
      "0,tcp,http,SF,235,1337,0,0,0,0,0,1,0,0,0,0,0,0,0,0,0,0,8,8,0.00,0.00,0.00,0.00,1.00,0.00,0.00,29,29,1.00,0.00,0.03,0.00,0.00,0.00,0.00,0.00,normal.\r\n"
     ]
    }
   ],
   "source": [
    "!head -3 ../datasets/kddtrain"
   ]
  },
  {
   "cell_type": "code",
   "execution_count": 3,
   "metadata": {
    "collapsed": false
   },
   "outputs": [
    {
     "name": "stdout",
     "output_type": "stream",
     "text": [
      "Num features: 41\n",
      "First 10: ['duration', 'protocol_type', 'service', 'flag', 'src_bytes', 'dst_bytes', 'land', 'wrong_fragment', 'urgent', 'hot']\n"
     ]
    }
   ],
   "source": [
    "with open('../datasets/kddnames', 'r') as fh:\n",
    "    header = [line.split(':')[0] \n",
    "              for line in fh.read().splitlines()][1:]\n",
    "\n",
    "header.append('target')\n",
    "\n",
    "print \"Num features:\", len(header)-1\n",
    "print \"First 10:\", header[:10]"
   ]
  },
  {
   "cell_type": "code",
   "execution_count": 4,
   "metadata": {
    "collapsed": false
   },
   "outputs": [],
   "source": [
    "train_rdd = sc.textFile('file:///home/vagrant/datasets/kddtrain')\n",
    "test_rdd = sc.textFile('file:///home/vagrant/datasets/kddtest')"
   ]
  },
  {
   "cell_type": "code",
   "execution_count": 5,
   "metadata": {
    "collapsed": false,
    "scrolled": false
   },
   "outputs": [],
   "source": [
    "def line_parser(line):\n",
    "\n",
    "    def piece_parser(piece):\n",
    "            if \".\" in piece or piece.isdigit():\n",
    "                return float(piece)\n",
    "            else:\n",
    "                return piece\n",
    "\n",
    "    return [piece_parser(piece) for piece in line[:-1].split(',')]\n",
    "              \n",
    "train_df = sqlContext.createDataFrame(\n",
    "    train_rdd.map(line_parser), header)\n",
    "\n",
    "test_df = sqlContext.createDataFrame(\n",
    "    test_rdd.map(line_parser), header)"
   ]
  },
  {
   "cell_type": "code",
   "execution_count": 6,
   "metadata": {
    "collapsed": false
   },
   "outputs": [
    {
     "name": "stdout",
     "output_type": "stream",
     "text": [
      "Train observations: 494021\n",
      "Test observations: 311029\n"
     ]
    }
   ],
   "source": [
    "print \"Train observations:\", train_df.count()\n",
    "print \"Test observations:\", test_df.count()"
   ]
  },
  {
   "cell_type": "code",
   "execution_count": 7,
   "metadata": {
    "collapsed": false
   },
   "outputs": [
    {
     "name": "stdout",
     "output_type": "stream",
     "text": [
      "root\n",
      " |-- duration: double (nullable = true)\n",
      " |-- protocol_type: string (nullable = true)\n",
      " |-- service: string (nullable = true)\n",
      " |-- flag: string (nullable = true)\n",
      " |-- src_bytes: double (nullable = true)\n",
      " |-- dst_bytes: double (nullable = true)\n",
      " |-- land: double (nullable = true)\n",
      " |-- wrong_fragment: double (nullable = true)\n",
      " |-- urgent: double (nullable = true)\n",
      " |-- hot: double (nullable = true)\n",
      " |-- num_failed_logins: double (nullable = true)\n",
      " |-- logged_in: double (nullable = true)\n",
      " |-- num_compromised: double (nullable = true)\n",
      " |-- root_shell: double (nullable = true)\n",
      " |-- su_attempted: double (nullable = true)\n",
      " |-- num_root: double (nullable = true)\n",
      " |-- num_file_creations: double (nullable = true)\n",
      " |-- num_shells: double (nullable = true)\n",
      " |-- num_access_files: double (nullable = true)\n",
      " |-- num_outbound_cmds: double (nullable = true)\n",
      " |-- is_host_login: double (nullable = true)\n",
      " |-- is_guest_login: double (nullable = true)\n",
      " |-- count: double (nullable = true)\n",
      " |-- srv_count: double (nullable = true)\n",
      " |-- serror_rate: double (nullable = true)\n",
      " |-- srv_serror_rate: double (nullable = true)\n",
      " |-- rerror_rate: double (nullable = true)\n",
      " |-- srv_rerror_rate: double (nullable = true)\n",
      " |-- same_srv_rate: double (nullable = true)\n",
      " |-- diff_srv_rate: double (nullable = true)\n",
      " |-- srv_diff_host_rate: double (nullable = true)\n",
      " |-- dst_host_count: double (nullable = true)\n",
      " |-- dst_host_srv_count: double (nullable = true)\n",
      " |-- dst_host_same_srv_rate: double (nullable = true)\n",
      " |-- dst_host_diff_srv_rate: double (nullable = true)\n",
      " |-- dst_host_same_src_port_rate: double (nullable = true)\n",
      " |-- dst_host_srv_diff_host_rate: double (nullable = true)\n",
      " |-- dst_host_serror_rate: double (nullable = true)\n",
      " |-- dst_host_srv_serror_rate: double (nullable = true)\n",
      " |-- dst_host_rerror_rate: double (nullable = true)\n",
      " |-- dst_host_srv_rerror_rate: double (nullable = true)\n",
      " |-- target: string (nullable = true)\n",
      "\n"
     ]
    }
   ],
   "source": [
    "train_df.printSchema()"
   ]
  },
  {
   "cell_type": "code",
   "execution_count": 8,
   "metadata": {
    "collapsed": false
   },
   "outputs": [],
   "source": [
    "from pyspark.ml import Pipeline\n",
    "from pyspark.ml.feature import StringIndexer\n",
    "\n",
    "\n",
    "cols_categorical = [\"protocol_type\", \"service\", \"flag\",\"target\"]\n",
    "preproc_stages = []\n",
    "\n",
    "for col in cols_categorical:\n",
    "    out_col = col + \"_cat\"\n",
    "    preproc_stages.append(\n",
    "        StringIndexer(\n",
    "            inputCol=col, outputCol=out_col, handleInvalid=\"skip\"))\n",
    "\n",
    "pipeline = Pipeline(stages=preproc_stages)\n",
    "indexer = pipeline.fit(train_df)\n",
    "\n",
    "train_num_df = indexer.transform(train_df)\n",
    "test_num_df = indexer.transform(test_df)"
   ]
  },
  {
   "cell_type": "code",
   "execution_count": 9,
   "metadata": {
    "collapsed": false
   },
   "outputs": [
    {
     "name": "stdout",
     "output_type": "stream",
     "text": [
      "[StringIndexer_46ae881ca7febd4a4e81, StringIndexer_49f6bbd151ce1e9bb5a7, StringIndexer_4cfcb173a161bbe6cd60, StringIndexer_4aa581cc25ad8d6eed7e]\n",
      "\n",
      "Pipeline_450a8f0d2083e96d03ca\n",
      "PipelineModel_475d9917035781236edb\n"
     ]
    }
   ],
   "source": [
    "print pipeline.getStages()\n",
    "print\n",
    "print pipeline\n",
    "print indexer"
   ]
  },
  {
   "cell_type": "code",
   "execution_count": 10,
   "metadata": {
    "collapsed": false
   },
   "outputs": [
    {
     "name": "stdout",
     "output_type": "stream",
     "text": [
      "First observation, after the 4 StringIndexers:\n",
      "\n",
      "Row(duration=0.0, protocol_type=u'tcp', service=u'http', flag=u'SF', src_bytes=181.0, dst_bytes=5450.0, land=0.0, wrong_fragment=0.0, urgent=0.0, hot=0.0, num_failed_logins=0.0, logged_in=1.0, num_compromised=0.0, root_shell=0.0, su_attempted=0.0, num_root=0.0, num_file_creations=0.0, num_shells=0.0, num_access_files=0.0, num_outbound_cmds=0.0, is_host_login=0.0, is_guest_login=0.0, count=8.0, srv_count=8.0, serror_rate=0.0, srv_serror_rate=0.0, rerror_rate=0.0, srv_rerror_rate=0.0, same_srv_rate=1.0, diff_srv_rate=0.0, srv_diff_host_rate=0.0, dst_host_count=9.0, dst_host_srv_count=9.0, dst_host_same_srv_rate=1.0, dst_host_diff_srv_rate=0.0, dst_host_same_src_port_rate=0.11, dst_host_srv_diff_host_rate=0.0, dst_host_serror_rate=0.0, dst_host_srv_serror_rate=0.0, dst_host_rerror_rate=0.0, dst_host_srv_rerror_rate=0.0, target=u'normal', protocol_type_cat=1.0, service_cat=2.0, flag_cat=0.0, target_cat=2.0)\n"
     ]
    }
   ],
   "source": [
    "print \"First observation, after the 4 StringIndexers:\\n\"\n",
    "print train_num_df.first()"
   ]
  },
  {
   "cell_type": "code",
   "execution_count": 11,
   "metadata": {
    "collapsed": false
   },
   "outputs": [
    {
     "name": "stdout",
     "output_type": "stream",
     "text": [
      "['num_access_files', 'src_bytes', 'srv_count', 'num_outbound_cmds', 'rerror_rate', 'urgent', 'protocol_type_cat', 'dst_host_same_srv_rate', 'duration', 'dst_host_diff_srv_rate', 'srv_serror_rate', 'is_host_login', 'wrong_fragment', 'serror_rate', 'num_compromised', 'is_guest_login', 'dst_host_rerror_rate', 'dst_host_srv_serror_rate', 'hot', 'dst_host_srv_count', 'logged_in', 'srv_rerror_rate', 'dst_host_srv_diff_host_rate', 'srv_diff_host_rate', 'dst_host_same_src_port_rate', 'root_shell', 'service_cat', 'su_attempted', 'dst_host_count', 'num_file_creations', 'flag_cat', 'count', 'land', 'same_srv_rate', 'dst_bytes', 'num_shells', 'dst_host_srv_rerror_rate', 'num_root', 'diff_srv_rate', 'num_failed_logins', 'dst_host_serror_rate']\n",
      "Total numerical features: 41\n"
     ]
    }
   ],
   "source": [
    "features_header = set(header) \\\n",
    "                - set(cols_categorical) \\\n",
    "                | set([c + \"_cat\" for c in cols_categorical]) \\\n",
    "                - set([\"target\", \"target_cat\"])\n",
    "features_header = list(features_header)\n",
    "print features_header\n",
    "print \"Total numerical features:\", len(features_header)"
   ]
  },
  {
   "cell_type": "code",
   "execution_count": 12,
   "metadata": {
    "collapsed": false
   },
   "outputs": [],
   "source": [
    "from pyspark.mllib.linalg import Vectors\n",
    "from pyspark.ml.feature import VectorAssembler\n",
    "\n",
    "assembler = VectorAssembler(\n",
    "    inputCols=features_header,\n",
    "    outputCol=\"features\")\n",
    "\n",
    "Xy_train = (assembler\n",
    "                .transform(train_num_df)\n",
    "                .select(\"features\", \"target_cat\"))\n",
    "Xy_test = (assembler\n",
    "                .transform(test_num_df)\n",
    "                .select(\"features\", \"target_cat\"))"
   ]
  },
  {
   "cell_type": "code",
   "execution_count": 13,
   "metadata": {
    "collapsed": false
   },
   "outputs": [
    {
     "data": {
      "text/plain": [
       "Row(features=SparseVector(41, {1: 181.0, 2: 8.0, 6: 1.0, 7: 1.0, 19: 9.0, 20: 1.0, 24: 0.11, 26: 2.0, 28: 9.0, 31: 8.0, 33: 1.0, 34: 5450.0}), target_cat=2.0)"
      ]
     },
     "execution_count": 13,
     "metadata": {},
     "output_type": "execute_result"
    }
   ],
   "source": [
    "Xy_train.first()"
   ]
  },
  {
   "cell_type": "code",
   "execution_count": 14,
   "metadata": {
    "collapsed": false
   },
   "outputs": [],
   "source": [
    "from pyspark.ml.classification import RandomForestClassifier\n",
    "\n",
    "clf = RandomForestClassifier(\n",
    "    labelCol=\"target_cat\", featuresCol=\"features\", \n",
    "    maxBins=100, seed=101)\n",
    "fit_clf = clf.fit(Xy_train)"
   ]
  },
  {
   "cell_type": "code",
   "execution_count": 15,
   "metadata": {
    "collapsed": false
   },
   "outputs": [
    {
     "name": "stdout",
     "output_type": "stream",
     "text": [
      "RandomForestClassifier_40f9923cb13e74b28cbe\n",
      "RandomForestClassificationModel (uid=rfc_ac17a1f959a3) with 20 trees\n"
     ]
    }
   ],
   "source": [
    "print clf\n",
    "print fit_clf"
   ]
  },
  {
   "cell_type": "code",
   "execution_count": 16,
   "metadata": {
    "collapsed": false
   },
   "outputs": [],
   "source": [
    "Xy_pred_train = fit_clf.transform(Xy_train)\n",
    "Xy_pred_test = fit_clf.transform(Xy_test)"
   ]
  },
  {
   "cell_type": "code",
   "execution_count": 17,
   "metadata": {
    "collapsed": false
   },
   "outputs": [
    {
     "name": "stdout",
     "output_type": "stream",
     "text": [
      "First observation after classification stage:\n",
      "Row(features=SparseVector(41, {1: 105.0, 2: 1.0, 6: 2.0, 7: 1.0, 9: 0.01, 19: 254.0, 26: 1.0, 28: 255.0, 31: 1.0, 33: 1.0, 34: 146.0}), target_cat=2.0, rawPrediction=DenseVector([0.0283, 0.0112, 19.3474, 0.0677, 0.0251, 0.1414, 0.0357, 0.1194, 0.1309, 0.041, 0.0257, 0.0079, 0.0046, 0.0004, 0.0029, 0.0016, 0.002, 0.0023, 0.0013, 0.0008, 0.0012, 0.0006, 0.0006]), probability=DenseVector([0.0014, 0.0006, 0.9674, 0.0034, 0.0013, 0.0071, 0.0018, 0.006, 0.0065, 0.002, 0.0013, 0.0004, 0.0002, 0.0, 0.0001, 0.0001, 0.0001, 0.0001, 0.0001, 0.0, 0.0001, 0.0, 0.0]), prediction=2.0)\n"
     ]
    }
   ],
   "source": [
    "print \"First observation after classification stage:\"\n",
    "print Xy_pred_test.first()"
   ]
  },
  {
   "cell_type": "code",
   "execution_count": 18,
   "metadata": {
    "collapsed": false
   },
   "outputs": [
    {
     "name": "stdout",
     "output_type": "stream",
     "text": [
      "F1-score train set: 0.991904372002\n",
      "F1-score test set: 0.966840043466\n"
     ]
    }
   ],
   "source": [
    "from pyspark.ml.evaluation import MulticlassClassificationEvaluator\n",
    "\n",
    "evaluator = MulticlassClassificationEvaluator(\n",
    "    labelCol=\"target_cat\", predictionCol=\"prediction\", \n",
    "    metricName=\"f1\")\n",
    "\n",
    "print \"F1-score train set:\", evaluator.evaluate(Xy_pred_train)\n",
    "print \"F1-score test set:\", evaluator.evaluate(Xy_pred_test)"
   ]
  },
  {
   "cell_type": "code",
   "execution_count": 19,
   "metadata": {
    "collapsed": false
   },
   "outputs": [
    {
     "name": "stdout",
     "output_type": "stream",
     "text": [
      "F1-score test set: 0.966840043466\n"
     ]
    }
   ],
   "source": [
    "# All in one\n",
    "\n",
    "full_stages = preproc_stages + [assembler, clf]\n",
    "full_pipeline = Pipeline(stages=full_stages)\n",
    "full_model = full_pipeline.fit(train_df)\n",
    "predictions = full_model.transform(test_df)\n",
    "print \"F1-score test set:\", evaluator.evaluate(predictions)"
   ]
  },
  {
   "cell_type": "code",
   "execution_count": 20,
   "metadata": {
    "collapsed": false
   },
   "outputs": [],
   "source": [
    "import matplotlib.pyplot as plt\n",
    "import numpy as np\n",
    "%matplotlib inline\n",
    "    \n",
    "def plot_confusion_matrix(cm):\n",
    "    cm_normalized = \\\n",
    "        cm.astype('float') / cm.sum(axis=1)[:, np.newaxis]\n",
    "    plt.imshow(\n",
    "        cm_normalized, interpolation='nearest', cmap=plt.cm.Blues)\n",
    "    plt.title('Normalized Confusion matrix')\n",
    "    plt.colorbar()\n",
    "    plt.tight_layout()\n",
    "    plt.ylabel('True label')\n",
    "    plt.xlabel('Predicted label')\n"
   ]
  },
  {
   "cell_type": "code",
   "execution_count": 21,
   "metadata": {
    "collapsed": false
   },
   "outputs": [
    {
     "data": {
      "image/png": "[encoded data removed]",
      "text/plain": [
       "<matplotlib.figure.Figure at 0x7f58c4122550>"
      ]
     },
     "metadata": {},
     "output_type": "display_data"
    }
   ],
   "source": [
    "from pyspark.mllib.evaluation import MulticlassMetrics\n",
    "\n",
    "metrics = MulticlassMetrics(\n",
    "    predictions.select(\"prediction\", \"target_cat\").rdd)\n",
    "conf_matrix = metrics.confusionMatrix().toArray()\n",
    "plot_confusion_matrix(conf_matrix)"
   ]
  },
  {
   "cell_type": "code",
   "execution_count": 22,
   "metadata": {
    "collapsed": false
   },
   "outputs": [
    {
     "data": {
      "text/plain": [
       "{u'back': 2203,\n",
       " u'buffer_overflow': 30,\n",
       " u'ftp_write': 8,\n",
       " u'guess_passwd': 53,\n",
       " u'imap': 12,\n",
       " u'ipsweep': 1247,\n",
       " u'land': 21,\n",
       " u'loadmodule': 9,\n",
       " u'multihop': 7,\n",
       " u'neptune': 107201,\n",
       " u'nmap': 231,\n",
       " u'normal': 97278,\n",
       " u'perl': 3,\n",
       " u'phf': 4,\n",
       " u'pod': 264,\n",
       " u'portsweep': 1040,\n",
       " u'rootkit': 10,\n",
       " u'satan': 1589,\n",
       " u'smurf': 280790,\n",
       " u'spy': 2,\n",
       " u'teardrop': 979,\n",
       " u'warezclient': 1020,\n",
       " u'warezmaster': 20}"
      ]
     },
     "execution_count": 22,
     "metadata": {},
     "output_type": "execute_result"
    }
   ],
   "source": [
    "# Let's now improve the score: is the training dataset balanced?\n",
    "\n",
    "train_composition = train_df.groupBy(\"target\").count().rdd.collectAsMap()\n",
    "train_composition"
   ]
  },
  {
   "cell_type": "code",
   "execution_count": 23,
   "metadata": {
    "collapsed": false
   },
   "outputs": [
    {
     "data": {
      "text/plain": [
       "{u'back': 1,\n",
       " u'buffer_overflow': 33.333333333333336,\n",
       " u'ftp_write': 125.0,\n",
       " u'guess_passwd': 18.867924528301888,\n",
       " u'imap': 83.33333333333333,\n",
       " u'ipsweep': 1,\n",
       " u'land': 47.61904761904762,\n",
       " u'loadmodule': 111.11111111111111,\n",
       " u'multihop': 142.85714285714286,\n",
       " u'neptune': 0.23320677978750198,\n",
       " u'nmap': 4.329004329004329,\n",
       " u'normal': 0.2569954152017928,\n",
       " u'perl': 333.3333333333333,\n",
       " u'phf': 250.0,\n",
       " u'pod': 3.787878787878788,\n",
       " u'portsweep': 1,\n",
       " u'rootkit': 100.0,\n",
       " u'satan': 1,\n",
       " u'smurf': 0.08903450977598917,\n",
       " u'spy': 500.0,\n",
       " u'teardrop': 1.0214504596527068,\n",
       " u'warezclient': 1,\n",
       " u'warezmaster': 50.0}"
      ]
     },
     "execution_count": 23,
     "metadata": {},
     "output_type": "execute_result"
    }
   ],
   "source": [
    "def set_sample_rate_between_vals(cnt, the_min, the_max):\n",
    "    if the_min <= cnt <= the_max:\n",
    "        # no sampling\n",
    "        return 1\n",
    "    \n",
    "    elif cnt < the_min:\n",
    "        # Oversampling: return many times the same observation\n",
    "        return the_min/float(cnt)\n",
    "\n",
    "    else:\n",
    "        # Subsampling: sometime don't retunt it\n",
    "        return the_max/float(cnt)\n",
    "        \n",
    "sample_rates = {k:set_sample_rate_between_vals(v, 1000, 25000) \n",
    "                for k,v in train_composition.iteritems()} \n",
    "sample_rates"
   ]
  },
  {
   "cell_type": "code",
   "execution_count": 24,
   "metadata": {
    "collapsed": false
   },
   "outputs": [],
   "source": [
    "bc_sample_rates = sc.broadcast(sample_rates)\n",
    "\n",
    "def map_and_sample(el, rates):\n",
    "    rate = rates.value[el['target']]\n",
    "    if rate > 1:\n",
    "        return [el]*int(rate)\n",
    "    else:\n",
    "        import random\n",
    "        return [el] if random.random() < rate else []\n",
    "            \n",
    "sampled_train_df = (train_df\n",
    "                   .flatMap(\n",
    "                     lambda x: map_and_sample(x, bc_sample_rates))\n",
    "                   .toDF()\n",
    "                   .cache())"
   ]
  },
  {
   "cell_type": "code",
   "execution_count": 25,
   "metadata": {
    "collapsed": false
   },
   "outputs": [
    {
     "data": {
      "text/plain": [
       "96755"
      ]
     },
     "execution_count": 25,
     "metadata": {},
     "output_type": "execute_result"
    }
   ],
   "source": [
    "sampled_train_df.count()"
   ]
  },
  {
   "cell_type": "code",
   "execution_count": 26,
   "metadata": {
    "collapsed": false,
    "scrolled": true
   },
   "outputs": [
    {
     "data": {
      "text/plain": [
       "Row(duration=0.0, protocol_type=u'tcp', service=u'http', flag=u'SF', src_bytes=181.0, dst_bytes=5450.0, land=0.0, wrong_fragment=0.0, urgent=0.0, hot=0.0, num_failed_logins=0.0, logged_in=1.0, num_compromised=0.0, root_shell=0.0, su_attempted=0.0, num_root=0.0, num_file_creations=0.0, num_shells=0.0, num_access_files=0.0, num_outbound_cmds=0.0, is_host_login=0.0, is_guest_login=0.0, count=8.0, srv_count=8.0, serror_rate=0.0, srv_serror_rate=0.0, rerror_rate=0.0, srv_rerror_rate=0.0, same_srv_rate=1.0, diff_srv_rate=0.0, srv_diff_host_rate=0.0, dst_host_count=9.0, dst_host_srv_count=9.0, dst_host_same_srv_rate=1.0, dst_host_diff_srv_rate=0.0, dst_host_same_src_port_rate=0.11, dst_host_srv_diff_host_rate=0.0, dst_host_serror_rate=0.0, dst_host_srv_serror_rate=0.0, dst_host_rerror_rate=0.0, dst_host_srv_rerror_rate=0.0, target=u'normal')"
      ]
     },
     "execution_count": 26,
     "metadata": {},
     "output_type": "execute_result"
    }
   ],
   "source": [
    "sampled_train_df.first()"
   ]
  },
  {
   "cell_type": "code",
   "execution_count": 27,
   "metadata": {
    "collapsed": false
   },
   "outputs": [
    {
     "name": "stdout",
     "output_type": "stream",
     "text": [
      "F1-score test set: 0.966865218179\n"
     ]
    }
   ],
   "source": [
    "full_model = full_pipeline.fit(sampled_train_df)\n",
    "predictions = full_model.transform(test_df)\n",
    "print \"F1-score test set:\", evaluator.evaluate(predictions)"
   ]
  },
  {
   "cell_type": "code",
   "execution_count": 28,
   "metadata": {
    "collapsed": false,
    "scrolled": false
   },
   "outputs": [
    {
     "name": "stdout",
     "output_type": "stream",
     "text": [
      "F1-score test set: 0.967669293816\n"
     ]
    }
   ],
   "source": [
    "clf = RandomForestClassifier(\n",
    "    numTrees=50, maxBins=100, seed=101,\n",
    "    labelCol=\"target_cat\", featuresCol=\"features\")\n",
    "\n",
    "stages = full_pipeline.getStages()[:-1]\n",
    "stages.append(clf)\n",
    "\n",
    "refined_pipeline = Pipeline(stages=stages)\n",
    "\n",
    "refined_model = refined_pipeline.fit(sampled_train_df)\n",
    "predictions = refined_model.transform(test_df)\n",
    "print \"F1-score test set:\", evaluator.evaluate(predictions)"
   ]
  },
  {
   "cell_type": "code",
   "execution_count": 29,
   "metadata": {
    "collapsed": false
   },
   "outputs": [],
   "source": [
    "pipeline_to_clf = Pipeline(\n",
    "    stages=preproc_stages + [assembler]).fit(sampled_train_df)\n",
    "train = pipeline_to_clf.transform(sampled_train_df).cache()\n",
    "test = pipeline_to_clf.transform(test_df)"
   ]
  },
  {
   "cell_type": "code",
   "execution_count": 30,
   "metadata": {
    "collapsed": false
   },
   "outputs": [],
   "source": [
    "# May take some 10 minutes\n",
    "\n",
    "from pyspark.ml.tuning import ParamGridBuilder, CrossValidator\n",
    "    \n",
    "rf = RandomForestClassifier(\n",
    "    cacheNodeIds=True, seed=101, labelCol=\"target_cat\", \n",
    "    featuresCol=\"features\", maxBins=100)\n",
    "\n",
    "grid = (ParamGridBuilder() \n",
    "        .addGrid(rf.maxDepth, [3, 6, 9, 12]) \n",
    "        .addGrid(rf.numTrees, [20, 50]) \n",
    "        .build())\n",
    "\n",
    "cv = CrossValidator(\n",
    "    estimator=rf, estimatorParamMaps=grid, \n",
    "    evaluator=evaluator, numFolds=3)\n",
    "cvModel = cv.fit(train)"
   ]
  },
  {
   "cell_type": "code",
   "execution_count": 31,
   "metadata": {
    "collapsed": false
   },
   "outputs": [
    {
     "name": "stdout",
     "output_type": "stream",
     "text": [
      "F1-score test set: 0.969948273422\n"
     ]
    }
   ],
   "source": [
    "predictions = cvModel.transform(test)\n",
    "print \"F1-score test set:\", evaluator.evaluate(predictions)"
   ]
  },
  {
   "cell_type": "code",
   "execution_count": 32,
   "metadata": {
    "collapsed": false
   },
   "outputs": [
    {
     "data": {
      "image/png": "[encoded data removed]",
      "text/plain": [
       "<matplotlib.figure.Figure at 0x7f58b5a7e290>"
      ]
     },
     "metadata": {},
     "output_type": "display_data"
    }
   ],
   "source": [
    "metrics = MulticlassMetrics(predictions.select(\n",
    "        \"prediction\", \"target_cat\").rdd)\n",
    "conf_matrix = metrics.confusionMatrix().toArray()\n",
    "plot_confusion_matrix(conf_matrix)"
   ]
  },
  {
   "cell_type": "code",
   "execution_count": 33,
   "metadata": {
    "collapsed": false
   },
   "outputs": [
    {
     "data": {
      "text/plain": [
       "DataFrame[duration: double, protocol_type: string, service: string, flag: string, src_bytes: double, dst_bytes: double, land: double, wrong_fragment: double, urgent: double, hot: double, num_failed_logins: double, logged_in: double, num_compromised: double, root_shell: double, su_attempted: double, num_root: double, num_file_creations: double, num_shells: double, num_access_files: double, num_outbound_cmds: double, is_host_login: double, is_guest_login: double, count: double, srv_count: double, serror_rate: double, srv_serror_rate: double, rerror_rate: double, srv_rerror_rate: double, same_srv_rate: double, diff_srv_rate: double, srv_diff_host_rate: double, dst_host_count: double, dst_host_srv_count: double, dst_host_same_srv_rate: double, dst_host_diff_srv_rate: double, dst_host_same_src_port_rate: double, dst_host_srv_diff_host_rate: double, dst_host_serror_rate: double, dst_host_srv_serror_rate: double, dst_host_rerror_rate: double, dst_host_srv_rerror_rate: double, target: string, protocol_type_cat: double, service_cat: double, flag_cat: double, target_cat: double, features: vector]"
      ]
     },
     "execution_count": 33,
     "metadata": {},
     "output_type": "execute_result"
    }
   ],
   "source": [
    "#cleanup\n",
    "bc_sample_rates.unpersist()\n",
    "sampled_train_df.unpersist()\n",
    "train.unpersist()"
   ]
  },
  {
   "cell_type": "code",
   "execution_count": null,
   "metadata": {
    "collapsed": true
   },
   "outputs": [],
   "source": []
  }
 ],
 "metadata": {
  "kernelspec": {
   "display_name": "Python 2",
   "language": "python",
   "name": "python2"
  },
  "language_info": {
   "codemirror_mode": {
    "name": "ipython",
    "version": 2
   },
   "file_extension": ".py",
   "mimetype": "text/x-python",
   "name": "python",
   "nbconvert_exporter": "python",
   "pygments_lexer": "ipython2",
   "version": "2.7.6"
  }
 },
 "nbformat": 4,
 "nbformat_minor": 0
}
