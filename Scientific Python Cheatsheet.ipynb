{
 "cells": [
  {
   "cell_type": "markdown",
   "metadata": {},
   "source": [
    "##  Scientific Python Cheatsheet\n",
    "\n",
    "[source](https://github.com/IPGP/scientific_python_cheat_sheet/blob/master/sheet.md)\n"
   ]
  },
  {
   "cell_type": "markdown",
   "metadata": {},
   "source": [
    "## 1. Pure Python "
   ]
  },
  {
   "cell_type": "markdown",
   "metadata": {},
   "source": [
    "### types"
   ]
  },
  {
   "cell_type": "code",
   "execution_count": 2,
   "metadata": {},
   "outputs": [
    {
     "name": "stdout",
     "output_type": "stream",
     "text": [
      "False\n",
      "2 + 5.4 = 7.4\n"
     ]
    }
   ],
   "source": [
    "a = 2                                               # integer\n",
    "b = 5.4                                             # float\n",
    "c = 8.3e5                                           # exponential\n",
    "d = 1.5 + 0.5j                                      # complex\n",
    "e = 4 > 5                                           # boolean\n",
    "f = a+b\n",
    "f = float(f)\n",
    "print(e)\n",
    "print('{} + {} = {}'.format(a, b, f))\n",
    "f = 'word'                                          # string"
   ]
  },
  {
   "cell_type": "markdown",
   "metadata": {},
   "source": [
    "### Lists"
   ]
  },
  {
   "cell_type": "code",
   "execution_count": 3,
   "metadata": {},
   "outputs": [
    {
     "data": {
      "text/plain": [
       "'blue'"
      ]
     },
     "execution_count": 3,
     "metadata": {},
     "output_type": "execute_result"
    }
   ],
   "source": [
    "list_1 = ['red', 'blue', 'green']                   # manually initialization\n",
    "list_2 = list(range(5))                             # initialize from iteratable\n",
    "list_3 = [nu**2 for nu in list_2]                   # list comprehension\n",
    "list_4 = [nu**2 for nu in list_2 if nu < 3]         # conditioned list comprehension\n",
    "list_5 = list_3[0]                                  # access element\n",
    "list_6 = list_3[1:2]                                # access a slice of the list\n",
    "list_7 = list_3[-1]                                 # access last element\n",
    "list_8 = ['re', 'bl'] + ['gr']                      # list concatenation\n",
    "list_9 = ['re'] *5                                  # repeat a list\n",
    "['re', 'bl'].index('re')                            # returns index of 're'\n",
    "list_1.append('yellow')                             # add new element to end of list\n",
    "list_1.extend(list_2)                               # add elements from list `b` to end of list `a`\n",
    "list_1.insert(1, 'yellow')                          # insert element in specified position\n",
    "'re' in ['re', 'bl']                                # true if 're' in list\n",
    "'fi' not in ['re', 'bl']                            # true if 'fi' not in list\n",
    "sorted([3, 2, 1])                                   # returns sorted list\n",
    "list_1.pop(2)                                       # remove and return item at index (default last)"
   ]
  },
  {
   "cell_type": "markdown",
   "metadata": {},
   "source": [
    "### Dictionaries"
   ]
  },
  {
   "cell_type": "code",
   "execution_count": 4,
   "metadata": {},
   "outputs": [
    {
     "name": "stdout",
     "output_type": "stream",
     "text": [
      "{'extra': ['cyan'], 'green': 'vert', 'brown': 'brun'}\n"
     ]
    }
   ],
   "source": [
    "dict_1 = {'red': 'rouge', 'blue': 'bleu'}           # dictionary\n",
    "dict_2 = dict_1['red']                              # translate item\n",
    "'red' in dict_1                                     # true if dictionary a contains key 'red'\n",
    "cc = [value for key, value in dict_1.items()]       # loop through contents\n",
    "dd = dict_1.get('red', 'no translation found')      # return correct\n",
    "ff = dict_1.get('yellow', 'no translation found')   # return default\n",
    "dict_1.setdefault('extra', []).append('cyan')       # init key with default\n",
    "dict_1.update({'green': 'vert', 'brown': 'brun'})   # update dictionary by data from another one\n",
    "dict_1.keys()                                       # get list of keys\n",
    "dict_1.values()                                     # get list of values\n",
    "dict_1.items()                                      # get list of key-value pairs\n",
    "del dict_1['red']                                   # delete key and associated with it value\n",
    "dict_1.pop('blue')                                  # remove specified key and return the corresponding value\n",
    "print(dict_1)"
   ]
  },
  {
   "cell_type": "markdown",
   "metadata": {},
   "source": [
    "### Sets"
   ]
  },
  {
   "cell_type": "code",
   "execution_count": 5,
   "metadata": {},
   "outputs": [],
   "source": [
    "set_a = {1, 2, 3}                                   # initialize manually\n",
    "set_b = set(range(5))                               # initialize from iteratable\n",
    "set_a.add(13)                                       # add new element to set\n",
    "set_a.discard(13)                                   # discard element from set\n",
    "set_a.update([21, 22, 23])                          # update set with elements from iterable\n",
    "set_a.pop()                                         # remove and return an arbitrary set element\n",
    "2 in {1, 2, 3}                                      # true if 2 in set\n",
    "5 not in {1, 2, 3}                                  # true if 5 not in set\n",
    "set_a.issubset(set_b)                               # test whether every element in a is in b\n",
    "set_a <= set_b                                      # issubset in operator form\n",
    "set_a.issuperset(set_b)                             # test whether every element in b is in a\n",
    "set_a >= set_b                                      # issuperset in operator form\n",
    "set_a.intersection(set_b)                           # return the intersection of two sets as a new set\n",
    "set_a.difference(set_b)                             # return the difference of two or more sets as a new set\n",
    "set_a - set_b                                       # difference in operator form\n",
    "set_a.symmetric_difference(set_b)                   # return the symmetric difference of two sets as a new set\n",
    "set_a.union(set_b)                                  # return the union of sets as a new set\n",
    "set_c = frozenset()                                 # the same as set but immutable"
   ]
  },
  {
   "cell_type": "markdown",
   "metadata": {},
   "source": [
    "### Strings"
   ]
  },
  {
   "cell_type": "code",
   "execution_count": 6,
   "metadata": {},
   "outputs": [
    {
     "data": {
      "text/plain": [
       "'1.2.three'"
      ]
     },
     "execution_count": 6,
     "metadata": {},
     "output_type": "execute_result"
    }
   ],
   "source": [
    "a = 'red'                      # assignment\n",
    "char = a[2]                    # access individual characters\n",
    "'red ' + 'blue'                # string concatenation\n",
    "'1, 2, three'.split(',')       # split string into list\n",
    "'.'.join(['1', '2', 'three'])  # concatenate list into string\n"
   ]
  },
  {
   "cell_type": "markdown",
   "metadata": {},
   "source": [
    "### Operators"
   ]
  },
  {
   "cell_type": "code",
   "execution_count": 12,
   "metadata": {},
   "outputs": [
    {
     "name": "stdout",
     "output_type": "stream",
     "text": [
      "True\n",
      "True\n",
      "False\n",
      "True\n",
      "True\n",
      "True\n",
      "True\n",
      "True\n",
      "False\n"
     ]
    }
   ],
   "source": [
    "a = 2             # assignment\n",
    "a += 1    # change and assign\n",
    "a *= 2\n",
    "a /= 5\n",
    "b = 3 + 2             # addition\n",
    "c = 3 / 2             # integer (python2) or float (python3) division\n",
    "d = 3 // 2            # integer division\n",
    "e = 3 * 2             # multiplication\n",
    "f = 3 ** 2            # exponent\n",
    "g = 3 % 2             # remainder\n",
    "h = abs(a)            # absolute value\n",
    "print(1 == 1)            # equal\n",
    "print(2 > 1)             # larger\n",
    "print(2 < 1)             # smaller\n",
    "print(1 != 2)            # not equal\n",
    "print(1 != 2 and 2 < 3)  # logical AND\n",
    "print(1 != 2 or 2 < 3)   # logical OR\n",
    "print(not 1 == 2)        # logical NOT\n",
    "print('a' in 'Juan')          # test if a is in name Juan\n",
    "print(a is b)            # test if objects point to the same memory (id)"
   ]
  },
  {
   "cell_type": "markdown",
   "metadata": {},
   "source": [
    "### Control Flow"
   ]
  },
  {
   "cell_type": "markdown",
   "metadata": {},
   "source": [
    "#### if"
   ]
  },
  {
   "cell_type": "code",
   "execution_count": 13,
   "metadata": {},
   "outputs": [
    {
     "name": "stdout",
     "output_type": "stream",
     "text": [
      "True\n"
     ]
    }
   ],
   "source": [
    "a, b = 1, 2\n",
    "    \n",
    "if a + b == 3:\n",
    "    print('True')\n",
    "elif a + b == 1:\n",
    "    print('False')\n",
    "else:\n",
    "    print('?')"
   ]
  },
  {
   "cell_type": "markdown",
   "metadata": {},
   "source": [
    "#### for"
   ]
  },
  {
   "cell_type": "code",
   "execution_count": 14,
   "metadata": {},
   "outputs": [
    {
     "name": "stdout",
     "output_type": "stream",
     "text": [
      "red\n",
      "blue\n",
      "green\n"
     ]
    }
   ],
   "source": [
    "a = ['red', 'blue', 'green']\n",
    "for color in a:\n",
    "    print(color)"
   ]
  },
  {
   "cell_type": "markdown",
   "metadata": {},
   "source": [
    "#### while"
   ]
  },
  {
   "cell_type": "code",
   "execution_count": 15,
   "metadata": {},
   "outputs": [
    {
     "name": "stdout",
     "output_type": "stream",
     "text": [
      "1\n",
      "2\n",
      "3\n",
      "4\n",
      "5\n",
      "6\n",
      "7\n",
      "8\n",
      "9\n"
     ]
    }
   ],
   "source": [
    "number = 1\n",
    "while number < 10:\n",
    "    print(number)\n",
    "    number += 1"
   ]
  },
  {
   "cell_type": "markdown",
   "metadata": {},
   "source": [
    "#### break"
   ]
  },
  {
   "cell_type": "code",
   "execution_count": 19,
   "metadata": {},
   "outputs": [
    {
     "name": "stdout",
     "output_type": "stream",
     "text": [
      "1\n",
      "2\n",
      "3\n",
      "4\n",
      "5\n",
      "6\n",
      "7\n",
      "8\n",
      "9\n",
      "10\n",
      "stop\n"
     ]
    }
   ],
   "source": [
    "number = 1\n",
    "while True:\n",
    "    print(number)\n",
    "    number += 1\n",
    "    if number > 10:\n",
    "        print('stop')\n",
    "        break"
   ]
  },
  {
   "cell_type": "markdown",
   "metadata": {},
   "source": [
    "#### stop"
   ]
  },
  {
   "cell_type": "code",
   "execution_count": 20,
   "metadata": {},
   "outputs": [
    {
     "name": "stdout",
     "output_type": "stream",
     "text": [
      "1\n",
      "3\n",
      "5\n",
      "7\n",
      "9\n",
      "11\n",
      "13\n",
      "15\n",
      "17\n",
      "19\n"
     ]
    }
   ],
   "source": [
    "for i in range(20):\n",
    "    if i % 2 == 0:\n",
    "        continue\n",
    "    print(i)"
   ]
  },
  {
   "cell_type": "code",
   "execution_count": null,
   "metadata": {},
   "outputs": [],
   "source": []
  }
 ],
 "metadata": {
  "kernelspec": {
   "display_name": "Python 3",
   "language": "python",
   "name": "python3"
  },
  "language_info": {
   "codemirror_mode": {
    "name": "ipython",
    "version": 3
   },
   "file_extension": ".py",
   "mimetype": "text/x-python",
   "name": "python",
   "nbconvert_exporter": "python",
   "pygments_lexer": "ipython3",
   "version": "3.7.3"
  }
 },
 "nbformat": 4,
 "nbformat_minor": 2
}
