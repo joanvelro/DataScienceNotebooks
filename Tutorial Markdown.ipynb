{
 "cells": [
  {
   "cell_type": "markdown",
   "metadata": {},
   "source": [
    "## Algunos ejemplos de uso de Markdown"
   ]
  },
  {
   "cell_type": "markdown",
   "metadata": {},
   "source": [
    "El texto se puede escribir *itálica* o **negrita**."
   ]
  },
  {
   "cell_type": "markdown",
   "metadata": {},
   "source": [
    "Se pueden construir listas de items enumeradas o sin enumerar:\n",
    "\n",
    "* Uno\n",
    "    - Sublista\n",
    "        - Item\n",
    "  - Sublista\n",
    "        - Item 1\n",
    "        - Item 2\n",
    "* Dos\n",
    "  - Sublista\n",
    "* Tres\n",
    "  - Sublista\n",
    "\n",
    "Otra lista:\n",
    "\n",
    "1. Primer tema\n",
    "    1. Sublista\n",
    "    2. Sublista\n",
    "2. Segundo tema\n",
    "3. Tercer tema"
   ]
  },
  {
   "cell_type": "markdown",
   "metadata": {},
   "source": [
    "Se pueden añadir líneas horizontales:\n",
    "\n",
    "---"
   ]
  },
  {
   "cell_type": "markdown",
   "metadata": {},
   "source": [
    "Texto formateado:\n",
    "\n",
    "> Este es un ejemplo de Markdown. \n",
    "> Consta de un conjunto de frases unidas por puntos.\n",
    "> Aunque es simple, es ilustrativo.\n",
    "> Y con esta frase finalizamos."
   ]
  },
  {
   "cell_type": "markdown",
   "metadata": {},
   "source": [
    "Enlaces:\n",
    "\n",
    "[Web de IPython](http://ipython.org)"
   ]
  },
  {
   "cell_type": "markdown",
   "metadata": {},
   "source": [
    "## Código embebido"
   ]
  },
  {
   "cell_type": "markdown",
   "metadata": {},
   "source": [
    "Se puede embeber código para ilustrar código pero no ejecutarlo:\n",
    "\n",
    "    def ejemplo(x):\n",
    "        \"\"\"a docstring\"\"\"\n",
    "        return x**2"
   ]
  },
  {
   "cell_type": "markdown",
   "metadata": {},
   "source": [
    "## Ecuaciones en LaTeX"
   ]
  },
  {
   "cell_type": "markdown",
   "metadata": {},
   "source": [
    "Expresiones matemáticas con MathJax:\n",
    "$e^{i\\pi} + 1 = 0$  y mostrarlo como:\n",
    "\n",
    "$$e^x=\\sum_{i=0}^\\infty \\frac{1}{i!}x^i$$"
   ]
  },
  {
   "cell_type": "markdown",
   "metadata": {},
   "source": [
    "## Código HTML"
   ]
  },
  {
   "cell_type": "markdown",
   "metadata": {},
   "source": [
    "Se puede usar etiquetas HTML.Por ejemplo para crear una tabla:\n",
    "\n",
    "<table>\n",
    "<tr>\n",
    "<th>Cabecera 1</th>\n",
    "<th>Cabecera 2</th>\n",
    "</tr>\n",
    "<tr>\n",
    "<td>fila 1, columna 1</td>\n",
    "<td>fila 1, columna 2</td>\n",
    "</tr>\n",
    "<tr>\n",
    "<td>fila 2, columna 1</td>\n",
    "<td>fila 2, columna 2</td>\n",
    "</tr>\n",
    "</table>"
   ]
  },
  {
   "cell_type": "markdown",
   "metadata": {},
   "source": [
    "## Embeber imágenes y videos"
   ]
  },
  {
   "cell_type": "markdown",
   "metadata": {},
   "source": [
    "Imágenes:\n",
    "\n",
    "<img src=\"http://www.voyagesphotosmanu.com/Complet/images/mono_capuchino.jpg\" />\n",
    "\n",
    "Videos:\n",
    "\n",
    "<video controls  src=”http://www.youtube.com/embed/OBgFoac0M8s”>\n",
    "\n"
   ]
  },
  {
   "cell_type": "code",
   "execution_count": null,
   "metadata": {
    "collapsed": false
   },
   "outputs": [],
   "source": []
  }
 ],
 "metadata": {
  "anaconda-cloud": {},
  "kernelspec": {
   "display_name": "Python [Root]",
   "language": "python",
   "name": "Python [Root]"
  },
  "language_info": {
   "codemirror_mode": {
    "name": "ipython",
    "version": 3
   },
   "file_extension": ".py",
   "mimetype": "text/x-python",
   "name": "python",
   "nbconvert_exporter": "python",
   "pygments_lexer": "ipython3",
   "version": "3.5.2"
  }
 },
 "nbformat": 4,
 "nbformat_minor": 0
}
