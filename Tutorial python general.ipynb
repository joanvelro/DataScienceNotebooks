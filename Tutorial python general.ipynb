{
 "cells": [
  {
   "cell_type": "markdown",
   "metadata": {},
   "source": [
    "#Introducción a Python"
   ]
  },
  {
   "cell_type": "markdown",
   "metadata": {},
   "source": [
    "Python es un lenguaje de programación de alto nivel que se caracteriza por:"
   ]
  },
  {
   "cell_type": "markdown",
   "metadata": {},
   "source": [
    "\n",
    "* Es simple\n",
    "\n",
    "* Es fácil de leer y escribir\n",
    "\n",
    "* Es fácil de depurar.\n",
    "\n",
    "* Portable"
   ]
  },
  {
   "cell_type": "markdown",
   "metadata": {},
   "source": [
    "Python es un lenguaje **interpretado**:\n",
    "* Los **interpretes** leen programas de alto nivel y los ejecutan comando a comando.\n",
    "* Los **compiladores** leen el programa entero (código fuente) antes de que el programa empiece a ejecutarse y convierte el código fuente en un ejecutable que puede ser ejecutado tantas veces como se quiera sin necesidad de volverlo a traducir.\n",
    "* Los **Interpretes** proporcionan feedback instantaneo. \n",
    "* Algunas desventajas son el hecho de que son más lentos y puede que ocupen más espacio."
   ]
  },
  {
   "cell_type": "markdown",
   "metadata": {},
   "source": [
    "Python es libre, y lo usaremos para escribir **programas**. En un programa suelen aparecer los siguientes elementos:\n",
    "\n",
    "* Entrada\n",
    "\n",
    "* Salida\n",
    "\n",
    "* Operaciones matemáticas.\n",
    "\n",
    "* Ejecución condicional.\n",
    "\n",
    "* Repeticiones."
   ]
  },
  {
   "cell_type": "markdown",
   "metadata": {},
   "source": [
    "#El primer programa"
   ]
  },
  {
   "cell_type": "code",
   "execution_count": 1,
   "metadata": {
    "collapsed": false
   },
   "outputs": [
    {
     "name": "stdout",
     "output_type": "stream",
     "text": [
      "Hola Mundo\n"
     ]
    }
   ],
   "source": [
    "print 'Hola Mundo'"
   ]
  },
  {
   "cell_type": "markdown",
   "metadata": {},
   "source": [
    "#Variables\n",
    "\n",
    "Objetivos:\n",
    "\n",
    "* Crear variables\n",
    "\n",
    "* Determinar el tipo de una variable\n",
    "\n",
    "* Escribir expresiones utilizando variables"
   ]
  },
  {
   "cell_type": "markdown",
   "metadata": {},
   "source": [
    "##¿Qué es una variable?\n",
    "\n",
    "Una variable es un nombre que referencia un valor."
   ]
  },
  {
   "cell_type": "code",
   "execution_count": 2,
   "metadata": {
    "collapsed": false
   },
   "outputs": [],
   "source": [
    "titulo = \"¿Cómo encontrar el área de un círculo?\"\n",
    "pi = 3.14159\n",
    "radio = 5\n",
    "area = pi * (radio**2)"
   ]
  },
  {
   "cell_type": "code",
   "execution_count": 3,
   "metadata": {
    "collapsed": false
   },
   "outputs": [
    {
     "name": "stdout",
     "output_type": "stream",
     "text": [
      "78.53975\n"
     ]
    }
   ],
   "source": [
    "print area"
   ]
  },
  {
   "cell_type": "markdown",
   "metadata": {},
   "source": [
    "Las **Variables** son de un tipo, que coincide con el tipo del valor que referencian.\n",
    "\n",
    "Reglas de construcción de los nombres de las variables:\n",
    "    \n",
    "* Pueden ser arbitrariamente largos\n",
    "\n",
    "* Pueden contener tanto letras como números\n",
    "\n",
    "* Deben empezar con letras.\n",
    "\n",
    "* Pueden aparecer subrayados para unir múltiples palabras.\n",
    "\n",
    "* No pueden ser palabras reservadas de Python "
   ]
  },
  {
   "cell_type": "code",
   "execution_count": 4,
   "metadata": {
    "collapsed": false
   },
   "outputs": [
    {
     "data": {
      "text/plain": [
       "float"
      ]
     },
     "execution_count": 4,
     "metadata": {},
     "output_type": "execute_result"
    }
   ],
   "source": [
    "type(area)"
   ]
  },
  {
   "cell_type": "code",
   "execution_count": 5,
   "metadata": {
    "collapsed": false
   },
   "outputs": [],
   "source": [
    "a = 3.14159\n",
    "b = 5\n",
    "c = a * (b**2)"
   ]
  },
  {
   "cell_type": "code",
   "execution_count": 6,
   "metadata": {
    "collapsed": false
   },
   "outputs": [
    {
     "name": "stdout",
     "output_type": "stream",
     "text": [
      "2\n"
     ]
    }
   ],
   "source": [
    "x = 2\n",
    "print x "
   ]
  },
  {
   "cell_type": "code",
   "execution_count": 7,
   "metadata": {
    "collapsed": false
   },
   "outputs": [
    {
     "name": "stdout",
     "output_type": "stream",
     "text": [
      "x =  2\n"
     ]
    }
   ],
   "source": [
    "print 'x = ', x"
   ]
  },
  {
   "cell_type": "code",
   "execution_count": 8,
   "metadata": {
    "collapsed": false
   },
   "outputs": [
    {
     "name": "stdout",
     "output_type": "stream",
     "text": [
      "x =  2\n",
      "y =  3\n"
     ]
    }
   ],
   "source": [
    "x, y = 2, 3\n",
    "print 'x = ', x\n",
    "print 'y = ', y"
   ]
  },
  {
   "cell_type": "markdown",
   "metadata": {},
   "source": [
    "En este ejemplo intercambiamos los valores entre x e y"
   ]
  },
  {
   "cell_type": "code",
   "execution_count": 9,
   "metadata": {
    "collapsed": false
   },
   "outputs": [
    {
     "name": "stdout",
     "output_type": "stream",
     "text": [
      "x =  3\n",
      "y =  2\n"
     ]
    }
   ],
   "source": [
    "x, y = 2, 3\n",
    "x, y = y, x\n",
    "print 'x = ', x\n",
    "print 'y = ', y"
   ]
  },
  {
   "cell_type": "markdown",
   "metadata": {},
   "source": [
    "En el siguiente ejemplo se intercambian los valores pero sin hacer una doble asignación."
   ]
  },
  {
   "cell_type": "code",
   "execution_count": 1,
   "metadata": {
    "collapsed": false
   },
   "outputs": [
    {
     "name": "stdout",
     "output_type": "stream",
     "text": [
      "x =  3\n",
      "y =  2\n"
     ]
    }
   ],
   "source": [
    "x = 2\n",
    "y = 3\n",
    "z = x\n",
    "x = y\n",
    "y = z\n",
    "print 'x = ', x\n",
    "print 'y = ', y"
   ]
  },
  {
   "cell_type": "code",
   "execution_count": 4,
   "metadata": {
    "collapsed": false
   },
   "outputs": [
    {
     "name": "stdout",
     "output_type": "stream",
     "text": [
      "Dr. Frankestein\n"
     ]
    }
   ],
   "source": [
    "titulo = 'Dr. '\n",
    "apellido = 'Frankestein'\n",
    "profesor = titulo + apellido\n",
    "print profesor"
   ]
  },
  {
   "cell_type": "code",
   "execution_count": null,
   "metadata": {
    "collapsed": false
   },
   "outputs": [],
   "source": []
  },
  {
   "cell_type": "markdown",
   "metadata": {},
   "source": [
    "#Expresiones y operadores\n",
    "\n",
    "Objetivos:\n",
    "\n",
    "* Clasificar objetos en diferentes tipos. \n",
    "\n",
    "* Calcular el resultado esperado de expresiones cortas.\n",
    "\n",
    "* Escribir expresiones usando variedad de tipos y operadores."
   ]
  },
  {
   "cell_type": "markdown",
   "metadata": {},
   "source": [
    "Python manipula **objetos**, los cuales pueden ser de diferentes **tipos**.Algunos de los tipos más usados son:\n",
    "\n",
    "* `int` enteros\n",
    "\n",
    "* `float` números reales\n",
    "\n",
    "* `bool` valores booleanos: cierto y falso\n",
    "\n",
    "* `str` cadenas\n",
    "\n",
    "* `None` corresponde al valor nulo"
   ]
  },
  {
   "cell_type": "code",
   "execution_count": 1,
   "metadata": {
    "collapsed": false
   },
   "outputs": [
    {
     "data": {
      "text/plain": [
       "int"
      ]
     },
     "execution_count": 1,
     "metadata": {},
     "output_type": "execute_result"
    }
   ],
   "source": [
    "type(4)"
   ]
  },
  {
   "cell_type": "code",
   "execution_count": 2,
   "metadata": {
    "collapsed": false
   },
   "outputs": [
    {
     "data": {
      "text/plain": [
       "float"
      ]
     },
     "execution_count": 2,
     "metadata": {},
     "output_type": "execute_result"
    }
   ],
   "source": [
    "type(3.14159)"
   ]
  },
  {
   "cell_type": "code",
   "execution_count": 3,
   "metadata": {
    "collapsed": false
   },
   "outputs": [
    {
     "data": {
      "text/plain": [
       "str"
      ]
     },
     "execution_count": 3,
     "metadata": {},
     "output_type": "execute_result"
    }
   ],
   "source": [
    "type('3.14159')"
   ]
  },
  {
   "cell_type": "markdown",
   "metadata": {},
   "source": [
    "En Python también existen **operadores** como `+, -, *, /`\n",
    "\n",
    "Se combinan operadores y objetos para hacer **expresiones**, las cuales tienen un tipo.Por ejemplo:\n",
    "\n",
    "`6 + 7` es una expresión que representa al objeto 13 de tipo entero"
   ]
  },
  {
   "cell_type": "markdown",
   "metadata": {},
   "source": [
    "##Operadores sobre los tipos `int` y `float`\n",
    "\n",
    "`i+j` suma\n",
    "\n",
    "`i-j` resta\n",
    "\n",
    "`i*j` multiplicación\n",
    "\n",
    "`i/j`  división de dos números. Si son enteros, el resultado es un entero, y si son reales, el resultado es un real.\n",
    "\n",
    "`i//j` cociente de la división entera\n",
    "\n",
    "`i%j`  resto de la división entera\n",
    "\n",
    "`i**j` i elevado a la potencia j\n",
    "\n",
    "`i==j` i igual que j\n",
    "\n",
    "`i!=j` i distinto que j\n",
    "\n",
    "`i>j` i mayor que j, y de forma similar: `>=, <, <=`"
   ]
  },
  {
   "cell_type": "markdown",
   "metadata": {},
   "source": [
    "## Orden de las operaciones\n",
    "Parentesis, exponenciales, multiplicación/división, suma/resta.\n",
    "Cuando existe la misma precedencia,se evalúa de izquierda a derecha."
   ]
  },
  {
   "cell_type": "code",
   "execution_count": 4,
   "metadata": {
    "collapsed": false
   },
   "outputs": [
    {
     "data": {
      "text/plain": [
       "5"
      ]
     },
     "execution_count": 4,
     "metadata": {},
     "output_type": "execute_result"
    }
   ],
   "source": [
    "4**1 + 1"
   ]
  },
  {
   "cell_type": "code",
   "execution_count": 5,
   "metadata": {
    "collapsed": false
   },
   "outputs": [
    {
     "data": {
      "text/plain": [
       "6"
      ]
     },
     "execution_count": 5,
     "metadata": {},
     "output_type": "execute_result"
    }
   ],
   "source": [
    "6*1**2"
   ]
  },
  {
   "cell_type": "code",
   "execution_count": 6,
   "metadata": {
    "collapsed": false
   },
   "outputs": [
    {
     "data": {
      "text/plain": [
       "-3"
      ]
     },
     "execution_count": 6,
     "metadata": {},
     "output_type": "execute_result"
    }
   ],
   "source": [
    "(-1)**3*3"
   ]
  },
  {
   "cell_type": "code",
   "execution_count": 7,
   "metadata": {
    "collapsed": false
   },
   "outputs": [
    {
     "data": {
      "text/plain": [
       "9"
      ]
     },
     "execution_count": 7,
     "metadata": {},
     "output_type": "execute_result"
    }
   ],
   "source": [
    "6*3/2"
   ]
  },
  {
   "cell_type": "code",
   "execution_count": 8,
   "metadata": {
    "collapsed": false
   },
   "outputs": [
    {
     "data": {
      "text/plain": [
       "6"
      ]
     },
     "execution_count": 8,
     "metadata": {},
     "output_type": "execute_result"
    }
   ],
   "source": [
    "3/2*6"
   ]
  },
  {
   "cell_type": "markdown",
   "metadata": {},
   "source": [
    "Se pueden usar los operadores con las cadenas"
   ]
  },
  {
   "cell_type": "code",
   "execution_count": 9,
   "metadata": {
    "collapsed": false
   },
   "outputs": [
    {
     "data": {
      "text/plain": [
       "'aaa'"
      ]
     },
     "execution_count": 9,
     "metadata": {},
     "output_type": "execute_result"
    }
   ],
   "source": [
    "3*'a'"
   ]
  },
  {
   "cell_type": "code",
   "execution_count": 10,
   "metadata": {
    "collapsed": false
   },
   "outputs": [
    {
     "data": {
      "text/plain": [
       "'aa'"
      ]
     },
     "execution_count": 10,
     "metadata": {},
     "output_type": "execute_result"
    }
   ],
   "source": [
    "'a'+'a'"
   ]
  },
  {
   "cell_type": "code",
   "execution_count": 11,
   "metadata": {
    "collapsed": false
   },
   "outputs": [
    {
     "ename": "TypeError",
     "evalue": "can't multiply sequence by non-int of type 'str'",
     "output_type": "error",
     "traceback": [
      "\u001b[1;31m---------------------------------------------------------------------------\u001b[0m\n\u001b[1;31mTypeError\u001b[0m                                 Traceback (most recent call last)",
      "\u001b[1;32m<ipython-input-11-19dbecaed6ac>\u001b[0m in \u001b[0;36m<module>\u001b[1;34m()\u001b[0m\n\u001b[1;32m----> 1\u001b[1;33m \u001b[1;34m'a'\u001b[0m\u001b[1;33m*\u001b[0m\u001b[1;34m'a'\u001b[0m\u001b[1;33m\u001b[0m\u001b[0m\n\u001b[0m",
      "\u001b[1;31mTypeError\u001b[0m: can't multiply sequence by non-int of type 'str'"
     ]
    }
   ],
   "source": [
    "'a'*'a'"
   ]
  },
  {
   "cell_type": "markdown",
   "metadata": {},
   "source": [
    "Algunas particularidades con las cadenas"
   ]
  },
  {
   "cell_type": "code",
   "execution_count": 12,
   "metadata": {
    "collapsed": false
   },
   "outputs": [
    {
     "data": {
      "text/plain": [
       "False"
      ]
     },
     "execution_count": 12,
     "metadata": {},
     "output_type": "execute_result"
    }
   ],
   "source": [
    "'4' < 3"
   ]
  },
  {
   "cell_type": "code",
   "execution_count": 13,
   "metadata": {
    "collapsed": false
   },
   "outputs": [
    {
     "data": {
      "text/plain": [
       "False"
      ]
     },
     "execution_count": 13,
     "metadata": {},
     "output_type": "execute_result"
    }
   ],
   "source": [
    "'2' < 3"
   ]
  },
  {
   "cell_type": "code",
   "execution_count": 3,
   "metadata": {
    "collapsed": false
   },
   "outputs": [
    {
     "data": {
      "text/plain": [
       "12"
      ]
     },
     "execution_count": 3,
     "metadata": {},
     "output_type": "execute_result"
    }
   ],
   "source": [
    "len('Neurociencia')"
   ]
  },
  {
   "cell_type": "code",
   "execution_count": 2,
   "metadata": {
    "collapsed": false
   },
   "outputs": [
    {
     "data": {
      "text/plain": [
       "'s'"
      ]
     },
     "execution_count": 2,
     "metadata": {},
     "output_type": "execute_result"
    }
   ],
   "source": [
    "'Neurociencia'[5]"
   ]
  },
  {
   "cell_type": "code",
   "execution_count": 4,
   "metadata": {
    "collapsed": false
   },
   "outputs": [
    {
     "ename": "IndexError",
     "evalue": "string index out of range",
     "output_type": "error",
     "traceback": [
      "\u001b[1;31m---------------------------------------------------------------------------\u001b[0m\n\u001b[1;31mIndexError\u001b[0m                                Traceback (most recent call last)",
      "\u001b[1;32m<ipython-input-4-117c58572826>\u001b[0m in \u001b[0;36m<module>\u001b[1;34m()\u001b[0m\n\u001b[1;32m----> 1\u001b[1;33m \u001b[1;34m'Neuroscience'\u001b[0m\u001b[1;33m[\u001b[0m\u001b[1;36m12\u001b[0m\u001b[1;33m]\u001b[0m\u001b[1;33m\u001b[0m\u001b[0m\n\u001b[0m",
      "\u001b[1;31mIndexError\u001b[0m: string index out of range"
     ]
    }
   ],
   "source": [
    "'Neurociencia'[12]"
   ]
  },
  {
   "cell_type": "code",
   "execution_count": 6,
   "metadata": {
    "collapsed": false
   },
   "outputs": [
    {
     "data": {
      "text/plain": [
       "'Neuro'"
      ]
     },
     "execution_count": 6,
     "metadata": {},
     "output_type": "execute_result"
    }
   ],
   "source": [
    "'Neurociencia'[0:5]"
   ]
  },
  {
   "cell_type": "code",
   "execution_count": 1,
   "metadata": {
    "collapsed": false
   },
   "outputs": [
    {
     "data": {
      "text/plain": [
       "'ciencia'"
      ]
     },
     "execution_count": 1,
     "metadata": {},
     "output_type": "execute_result"
    }
   ],
   "source": [
    "'Neurociencia'[5:len('Neurociencia')]"
   ]
  },
  {
   "cell_type": "markdown",
   "metadata": {},
   "source": [
    "#Condicionales\n",
    " \n",
    "Objetivos:\n",
    "\n",
    "* Saber utilizar operadores lógicos.\n",
    "\n",
    "* Saber escribir expresiones condicionales\n",
    "\n",
    "* Saber obtener el resultado de expresiones condicionales.\n",
    "\n",
    "* Saber escribir código que incorpore expresiones condicionales."
   ]
  },
  {
   "cell_type": "markdown",
   "metadata": {},
   "source": [
    "Las expresiones condicionales facilitan la codificación de estructuras que bifurcan\n",
    "la ejecución del código en varias ramas o caminos de ejecución.\n",
    "\n",
    "Una estructura de selección toma la forma:\n",
    "\n",
    "`if expresión booleana:\n",
    "    ejecutar código1\n",
    " else:\n",
    "    ejecutar código2`"
   ]
  },
  {
   "cell_type": "markdown",
   "metadata": {},
   "source": [
    "###Algunos operadores lógicos\n",
    "\n",
    "* `not` representa la negación\n",
    "\n",
    "* `and` cierto si las dos expresiones que relaciona son ciertas, y falso en caso contrario.\n",
    "\n",
    "* `or` falso si las dos expresiones que relaciona son falsas, y cierto en caso contrario."
   ]
  },
  {
   "cell_type": "code",
   "execution_count": null,
   "metadata": {
    "collapsed": false
   },
   "outputs": [],
   "source": [
    "not(True)"
   ]
  },
  {
   "cell_type": "code",
   "execution_count": 3,
   "metadata": {
    "collapsed": false
   },
   "outputs": [
    {
     "data": {
      "text/plain": [
       "True"
      ]
     },
     "execution_count": 3,
     "metadata": {},
     "output_type": "execute_result"
    }
   ],
   "source": [
    "x = 4\n",
    "(x < 10) and (x == 4)"
   ]
  },
  {
   "cell_type": "code",
   "execution_count": 4,
   "metadata": {
    "collapsed": false
   },
   "outputs": [
    {
     "data": {
      "text/plain": [
       "False"
      ]
     },
     "execution_count": 4,
     "metadata": {},
     "output_type": "execute_result"
    }
   ],
   "source": [
    "(x > 10) and (x == 4)"
   ]
  },
  {
   "cell_type": "code",
   "execution_count": 5,
   "metadata": {
    "collapsed": false
   },
   "outputs": [
    {
     "data": {
      "text/plain": [
       "True"
      ]
     },
     "execution_count": 5,
     "metadata": {},
     "output_type": "execute_result"
    }
   ],
   "source": [
    "(x < 10) or (x != 4)"
   ]
  },
  {
   "cell_type": "code",
   "execution_count": 6,
   "metadata": {
    "collapsed": false
   },
   "outputs": [
    {
     "data": {
      "text/plain": [
       "False"
      ]
     },
     "execution_count": 6,
     "metadata": {},
     "output_type": "execute_result"
    }
   ],
   "source": [
    "not(x < 10) or (x != 4)"
   ]
  },
  {
   "cell_type": "markdown",
   "metadata": {},
   "source": [
    "Usando las expresiones lógicas se pueden escribir instrucciones condicionales"
   ]
  },
  {
   "cell_type": "code",
   "execution_count": 12,
   "metadata": {
    "collapsed": false
   },
   "outputs": [
    {
     "name": "stdout",
     "output_type": "stream",
     "text": [
      "x es positivo\n"
     ]
    }
   ],
   "source": [
    "x = 3\n",
    "if x > 0:\n",
    "    print \"x es positivo\""
   ]
  },
  {
   "cell_type": "markdown",
   "metadata": {},
   "source": [
    "Ejecutamos el mismo código con un valor menor que 3"
   ]
  },
  {
   "cell_type": "code",
   "execution_count": 11,
   "metadata": {
    "collapsed": false
   },
   "outputs": [
    {
     "name": "stdout",
     "output_type": "stream",
     "text": [
      "x es negativo\n"
     ]
    }
   ],
   "source": [
    "x = -5\n",
    "if x > 0:\n",
    "    print \"x es positivo\"\n",
    "else:\n",
    "    print \"x es negativo\""
   ]
  },
  {
   "cell_type": "code",
   "execution_count": 10,
   "metadata": {
    "collapsed": false
   },
   "outputs": [
    {
     "name": "stdout",
     "output_type": "stream",
     "text": [
      "x es positivo\n",
      "x es menor o igual que 20\n"
     ]
    }
   ],
   "source": [
    "x = 14\n",
    "if (x > 0) and (x <= 20):\n",
    "    print \"x es positivo\"\n",
    "    print \"x es menor o igual que 20\"\n",
    "else:\n",
    "    print \"x es negativo o bien muy grande\""
   ]
  },
  {
   "cell_type": "markdown",
   "metadata": {},
   "source": [
    "###Formateado\n",
    "Al final de `if` and `else` es necesario poner `:`  , y es necesario indentar el código que aparece a continuación. Este código se denomina **bloque**.\n",
    "En el siguiente código hay varios errores debidos a la indentación y a la falta del operador `:` "
   ]
  },
  {
   "cell_type": "code",
   "execution_count": 11,
   "metadata": {
    "collapsed": false
   },
   "outputs": [
    {
     "ename": "SyntaxError",
     "evalue": "invalid syntax (<ipython-input-11-30146c94345d>, line 2)",
     "output_type": "error",
     "traceback": [
      "\u001b[1;36m  File \u001b[1;32m\"<ipython-input-11-30146c94345d>\"\u001b[1;36m, line \u001b[1;32m2\u001b[0m\n\u001b[1;33m    if x >= 3\u001b[0m\n\u001b[1;37m             ^\u001b[0m\n\u001b[1;31mSyntaxError\u001b[0m\u001b[1;31m:\u001b[0m invalid syntax\n"
     ]
    }
   ],
   "source": [
    "x = 3\n",
    "if x >= 3\n",
    "    print \"x es al menos tan grande como 3\"\n",
    "else\n",
    "    print \" x es más pequeño que 3\"\n",
    "print \"All done!\""
   ]
  },
  {
   "cell_type": "code",
   "execution_count": 8,
   "metadata": {
    "collapsed": false
   },
   "outputs": [
    {
     "name": "stdout",
     "output_type": "stream",
     "text": [
      "x es mayor o igual que 3\n"
     ]
    }
   ],
   "source": [
    "x = 3\n",
    "if x >= 3:\n",
    "    print \"x es mayor o igual que 3\"\n",
    "else:\n",
    "    print \"x es más pequeño que 3\""
   ]
  },
  {
   "cell_type": "markdown",
   "metadata": {},
   "source": [
    "Se pueden encadenar varios if´s:\n",
    "    \n",
    "`if expresion booleana:\n",
    "    ejecutar codigo 1\n",
    " elif:\n",
    "    ejecutar codigo 2\n",
    " else:\n",
    "    Ejecutar código por defecto`"
   ]
  },
  {
   "cell_type": "code",
   "execution_count": 1,
   "metadata": {
    "collapsed": false
   },
   "outputs": [
    {
     "name": "stdout",
     "output_type": "stream",
     "text": [
      "x es el más pequeño\n"
     ]
    }
   ],
   "source": [
    "x = 1\n",
    "y = 2\n",
    "z = 3\n",
    "\n",
    "if x < y and x < z:\n",
    "    print 'x es el más pequeño'\n",
    "elif y < z:\n",
    "    print 'y es el más pequeño'\n",
    "else:\n",
    "    print 'z es el más pequeño'"
   ]
  },
  {
   "cell_type": "code",
   "execution_count": 4,
   "metadata": {
    "collapsed": false
   },
   "outputs": [
    {
     "name": "stdout",
     "output_type": "stream",
     "text": [
      "x es positivo\n",
      "x es menor o igual que 20\n"
     ]
    }
   ],
   "source": [
    "x = 14\n",
    "if (x > 0) and (x <= 20):\n",
    "    print \"x es positivo\"\n",
    "    print \"x es menor o igual que 20\"\n",
    "else:\n",
    "    print \"x es negativo o mayor que 20\""
   ]
  },
  {
   "cell_type": "code",
   "execution_count": 9,
   "metadata": {
    "collapsed": false
   },
   "outputs": [
    {
     "name": "stdout",
     "output_type": "stream",
     "text": [
      "x es positivo\n",
      "x es menor o igual que 20\n"
     ]
    }
   ],
   "source": [
    "x = 14\n",
    "if 0 < x <= 20:\n",
    "    print \"x es positivo\"\n",
    "    print \"x es menor o igual que 20\"\n",
    "else:\n",
    "    print \"x es negativo o mayor que 20\""
   ]
  },
  {
   "cell_type": "markdown",
   "metadata": {},
   "source": [
    "Se pueden entrelazar varios if´s"
   ]
  },
  {
   "cell_type": "code",
   "execution_count": null,
   "metadata": {
    "collapsed": false
   },
   "outputs": [],
   "source": [
    "x = 14\n",
    "if (x > 0):\n",
    "    print \"x es positivo\"\n",
    "    if (x <= 20):\n",
    "        print \"x es menor o igual que 20\"\n",
    "    else:\n",
    "        print \"x es más grande que 20\"\n",
    "else:\n",
    "    print \"x es negativo\""
   ]
  },
  {
   "cell_type": "markdown",
   "metadata": {},
   "source": [
    "A partir del código anterior, se tiene el siguiente código que compara los valores de x,z e y, imprimiendo el mayor de los números que sea más grande que 20. Si ninguno es más grande que 20, entonces el programa avisa al usuario."
   ]
  },
  {
   "cell_type": "code",
   "execution_count": 6,
   "metadata": {
    "collapsed": false
   },
   "outputs": [],
   "source": [
    "x = 5\n",
    "y = 32\n",
    "z = 27"
   ]
  },
  {
   "cell_type": "code",
   "execution_count": 7,
   "metadata": {
    "collapsed": false
   },
   "outputs": [
    {
     "name": "stdout",
     "output_type": "stream",
     "text": [
      "32\n"
     ]
    }
   ],
   "source": [
    "if x > 20:\n",
    "    if (y > x) or (z > x):\n",
    "        if z > y:\n",
    "            print z\n",
    "        else:\n",
    "            print y\n",
    "    else:\n",
    "        print x\n",
    "elif y > 20:\n",
    "    if z > y:\n",
    "        print z\n",
    "    else:\n",
    "        print y\n",
    "elif z > 20:\n",
    "    print z\n",
    "else:\n",
    "    print \"Ningún número es más grande que 20\"\n",
    "    "
   ]
  },
  {
   "cell_type": "markdown",
   "metadata": {},
   "source": [
    "#Bucles\n",
    "\n",
    "Objetivos:\n",
    "* Escribir bucles\n",
    "\n",
    "* Predecir la salida esperada de un bucle\n",
    "\n",
    "* Escribir código para incorporar bucles"
   ]
  },
  {
   "cell_type": "markdown",
   "metadata": {},
   "source": [
    "Los **bucles** permiten la repetición. El \n",
    "\n",
    "El primer tipo de bucle que vamos a ver es el \"while\", que tiene la siguiente estructura: \n",
    "\n",
    "`while (expresion booleana):\n",
    "    codigo\n",
    "    (hay que asegurarse que la expresión booelana cambia en este trozo de código)`"
   ]
  },
  {
   "cell_type": "code",
   "execution_count": 1,
   "metadata": {
    "collapsed": false
   },
   "outputs": [
    {
     "name": "stdout",
     "output_type": "stream",
     "text": [
      "5\n",
      "4\n",
      "3\n",
      "2\n",
      "1\n",
      "¡Fin!\n"
     ]
    }
   ],
   "source": [
    "n = 5\n",
    "while n > 0:\n",
    "    print n\n",
    "    n = n-1\n",
    "print \"¡Fin!\""
   ]
  },
  {
   "cell_type": "code",
   "execution_count": 1,
   "metadata": {
    "collapsed": false
   },
   "outputs": [
    {
     "name": "stdout",
     "output_type": "stream",
     "text": [
      "3*3 = 9\n"
     ]
    }
   ],
   "source": [
    "x = 3\n",
    "ans = 0 #Inicializa esta variable a cero\n",
    "bucle = x\n",
    "while (bucle != 0):\n",
    "    ans = ans + x\n",
    "    bucle = bucle - 1\n",
    "print str(x) + '*' + str(x) + ' = ' + str(ans)"
   ]
  },
  {
   "cell_type": "markdown",
   "metadata": {},
   "source": [
    "Observar que:\n",
    "\n",
    "*El bucle nunca se ejecuta cuando x=0.*\n",
    "\n",
    "*El bucle nunca terminará si empieza con x<0.*"
   ]
  },
  {
   "cell_type": "markdown",
   "metadata": {},
   "source": [
    "El siguiente tipo de bucle es el `for`, que tiene la siguiente estructura:\n",
    "\n",
    "`for variable in secuencia:\n",
    "    código`\n",
    "    \n",
    "Es útil utilizar la función 'range' para crear una secuencia. Range puede tomar uno o dos valores:\n",
    "\n",
    "*Si toma dos valores, genera todos los enteros desde la primer entrada hasta la segunda entrada-1.Por ejemplo: range(2, 5) = (2, 3, 4).\n",
    "\n",
    "*Y si toma un sólo parámetro, entonces range(x) = range(0,x)"
   ]
  },
  {
   "cell_type": "code",
   "execution_count": 2,
   "metadata": {
    "collapsed": false
   },
   "outputs": [
    {
     "name": "stdout",
     "output_type": "stream",
     "text": [
      "0\n",
      "1\n",
      "2\n",
      "3\n",
      "4\n"
     ]
    }
   ],
   "source": [
    "x = 5\n",
    "for i in range(0,x):\n",
    "    print i"
   ]
  },
  {
   "cell_type": "code",
   "execution_count": 9,
   "metadata": {
    "collapsed": false
   },
   "outputs": [
    {
     "name": "stdout",
     "output_type": "stream",
     "text": [
      "0\n",
      "1\n",
      "2\n",
      "3\n",
      "4\n"
     ]
    }
   ],
   "source": [
    "x = 5\n",
    "for i in range(x):\n",
    "    print i\n",
    "    x = 10"
   ]
  },
  {
   "cell_type": "markdown",
   "metadata": {},
   "source": [
    "Los bucles pueden estar anidados"
   ]
  },
  {
   "cell_type": "code",
   "execution_count": 5,
   "metadata": {
    "collapsed": false
   },
   "outputs": [
    {
     "name": "stdout",
     "output_type": "stream",
     "text": [
      "0 0\n",
      "1 0\n",
      "2 0\n",
      "3 0\n",
      "0 1\n",
      "1 1\n",
      "2 1\n",
      "3 1\n",
      "0 2\n",
      "1 2\n",
      "2 2\n",
      "3 2\n"
     ]
    }
   ],
   "source": [
    "x = 4\n",
    "y = 3\n",
    "for j in range(y):\n",
    "    for i in range(x):\n",
    "        print str(i) + \" \" + str(j)"
   ]
  },
  {
   "cell_type": "code",
   "execution_count": 10,
   "metadata": {
    "collapsed": false
   },
   "outputs": [
    {
     "name": "stdout",
     "output_type": "stream",
     "text": [
      "0\n",
      "1\n",
      "2\n",
      "3\n",
      "0\n",
      "1\n",
      "0\n",
      "1\n",
      "0\n",
      "1\n"
     ]
    }
   ],
   "source": [
    "x = 4\n",
    "for j in range(x):\n",
    "    for i in range(x):\n",
    "        print i\n",
    "        x = 2"
   ]
  },
  {
   "cell_type": "markdown",
   "metadata": {},
   "source": [
    "##Un ejemplo de juego: Adivinar un número.\n",
    "\n",
    "El programa permite al usuario adivinar el número generado por el ordenador  entre 1-10."
   ]
  },
  {
   "cell_type": "code",
   "execution_count": null,
   "metadata": {
    "collapsed": false
   },
   "outputs": [],
   "source": [
    "#Importamos algunas librerias de python\n",
    "import random, math\n",
    "\n",
    "respuesta = random.random()\n",
    "#La función random.random devuelve un número real tal que 0 <= numero < 1, pero como queremos que esté entre 1-10, entonces\n",
    "\n",
    "respuesta = math.ceil(respuesta * 10)\n",
    "#La función math.ceil nos da el número redondeado al siguiente entero. \n",
    "\n",
    "intentos = 1 #Se inicializa la variable a 1\n",
    "entrada = int(raw_input('Adivina un número entre 1 - 10: ')) #Se obtiene la entrada del usuario\n",
    "\n",
    "while entrada!= respuesta:\n",
    "    if entrada > respuesta:\n",
    "        print('Es demasiado grande')\n",
    "    else:\n",
    "        print ('Es demasiado pequeño')\n",
    "    entrada = int(raw_input('Adivina un número entre 1 - 10: '))\n",
    "    intentos = intentos + 1\n",
    "\n",
    "#Escribe la salida   \n",
    "print 'Lo conseguiste. La respuesta era ' + str(respuesta)\n",
    "print 'Necesitaste ' + str(intentos) + ' intentos.'"
   ]
  },
  {
   "cell_type": "markdown",
   "metadata": {},
   "source": [
    "#Funciones\n",
    "\n",
    "Objetivos:\n",
    "\n",
    "* Crear una función\n",
    "\n",
    "* Pasar argumentos a una función\n",
    "\n",
    "* Llamar a una función desde otra"
   ]
  },
  {
   "cell_type": "markdown",
   "metadata": {},
   "source": [
    "En Python es fácil crear una función."
   ]
  },
  {
   "cell_type": "code",
   "execution_count": 3,
   "metadata": {
    "collapsed": false
   },
   "outputs": [],
   "source": [
    "def imprimir_hola():\n",
    "    print \"hola\""
   ]
  },
  {
   "cell_type": "markdown",
   "metadata": {},
   "source": [
    "La palabra clave `def` permite crear una nueva funcion, en este caso `imprimir_hola`. A continuación aparecen unos paréntesis que están reservados para los parámetros, y finaliza con `:`. A continuación de los mismos, aparece el código que se ejecuta cuando se llama a la función. Este trozo de código, se denomina *cuerpo* de la función y debe estar indentado. "
   ]
  },
  {
   "cell_type": "code",
   "execution_count": 2,
   "metadata": {
    "collapsed": false
   },
   "outputs": [
    {
     "data": {
      "text/plain": [
       "<function __main__.imprimir_hola>"
      ]
     },
     "execution_count": 2,
     "metadata": {},
     "output_type": "execute_result"
    }
   ],
   "source": [
    "imprimir_hola"
   ]
  },
  {
   "cell_type": "markdown",
   "metadata": {},
   "source": [
    "Cuando se introduce únicamente el nombre de la función sin paréntesis, en vez de ejecutarse, se imprime información de la función. En este caso indica que se trata de un objeto función denominado \"imprimir_hola\"."
   ]
  },
  {
   "cell_type": "code",
   "execution_count": 4,
   "metadata": {
    "collapsed": false
   },
   "outputs": [
    {
     "name": "stdout",
     "output_type": "stream",
     "text": [
      "hola\n"
     ]
    }
   ],
   "source": [
    "imprimir_hola()"
   ]
  },
  {
   "cell_type": "markdown",
   "metadata": {},
   "source": [
    "Esta función no es útil pues siempre hace lo mismo. Sin embargo si queremos que imprima el saludo particularizado a una persona, podemos pasarle por parámetro el nombre de la persona."
   ]
  },
  {
   "cell_type": "code",
   "execution_count": 5,
   "metadata": {
    "collapsed": false
   },
   "outputs": [],
   "source": [
    "def imprimir_hola(nombre):\n",
    "    print \"Hola \" + nombre + \"!\""
   ]
  },
  {
   "cell_type": "markdown",
   "metadata": {},
   "source": [
    "En la función anterior se ha añadido un *parámetro* en la declaración de la función. Entonces se dice que se llama a la función \n",
    "`imprimir_hola`  con el *argumento* pasado como parámetro, el cual es usado en el interior de la función.\n",
    "\n",
    "Observar que en Python, no se especifica el tipo de parámetro, sólo los nombres de las funciones.  Así mismo, tampoco se especifica  lo que la función retorna, sino que se hace en el cuerpo de la función.En el ejemplo anterior, no se retorna nada explícitamente, por lo que implicitamente retorna el valor `None`."
   ]
  },
  {
   "cell_type": "code",
   "execution_count": 6,
   "metadata": {
    "collapsed": false
   },
   "outputs": [
    {
     "name": "stdout",
     "output_type": "stream",
     "text": [
      "Hola Juan!\n"
     ]
    }
   ],
   "source": [
    "imprimir_hola(\"Juan\")"
   ]
  },
  {
   "cell_type": "code",
   "execution_count": 7,
   "metadata": {
    "collapsed": false
   },
   "outputs": [
    {
     "name": "stdout",
     "output_type": "stream",
     "text": [
      "Hola Maria!\n"
     ]
    }
   ],
   "source": [
    "imprimir_hola(\"Maria\")"
   ]
  },
  {
   "cell_type": "markdown",
   "metadata": {},
   "source": [
    "En la siguiente función se calcula la mediana."
   ]
  },
  {
   "cell_type": "code",
   "execution_count": 8,
   "metadata": {
    "collapsed": false
   },
   "outputs": [],
   "source": [
    "def mediana(lista):\n",
    "    lista.sort()\n",
    "    if (len(lista)%2):\n",
    "        return lista[len(lista)/2]\n",
    "    else:\n",
    "        return ((lista[len(lista)/2-1]+lista[len(lista)/2])/2.0)        "
   ]
  },
  {
   "cell_type": "code",
   "execution_count": 9,
   "metadata": {
    "collapsed": false
   },
   "outputs": [
    {
     "data": {
      "text/plain": [
       "3"
      ]
     },
     "execution_count": 9,
     "metadata": {},
     "output_type": "execute_result"
    }
   ],
   "source": [
    "mediana([3,0,6,2,10])"
   ]
  },
  {
   "cell_type": "code",
   "execution_count": 10,
   "metadata": {
    "collapsed": false
   },
   "outputs": [
    {
     "data": {
      "text/plain": [
       "3.5"
      ]
     },
     "execution_count": 10,
     "metadata": {},
     "output_type": "execute_result"
    }
   ],
   "source": [
    "mediana([1,3,4,7])"
   ]
  },
  {
   "cell_type": "markdown",
   "metadata": {},
   "source": [
    "Observar que en la función anterior se usa el método de python para ordenar una lista."
   ]
  },
  {
   "cell_type": "code",
   "execution_count": 12,
   "metadata": {
    "collapsed": false
   },
   "outputs": [
    {
     "data": {
      "text/plain": [
       "4"
      ]
     },
     "execution_count": 12,
     "metadata": {},
     "output_type": "execute_result"
    }
   ],
   "source": [
    "valores = [7,3,5,4,1]\n",
    "mediana(valores)"
   ]
  },
  {
   "cell_type": "code",
   "execution_count": 13,
   "metadata": {
    "collapsed": false
   },
   "outputs": [
    {
     "data": {
      "text/plain": [
       "[1, 3, 4, 5, 7]"
      ]
     },
     "execution_count": 13,
     "metadata": {},
     "output_type": "execute_result"
    }
   ],
   "source": [
    "valores"
   ]
  },
  {
   "cell_type": "markdown",
   "metadata": {},
   "source": [
    "Es muy importante saber si en las funciones se cambian las variables que son pasadas como parámetros. Esto se denomina \"efecto lateral\", y dependiendo de cada caso, puede ser necesario o no."
   ]
  },
  {
   "cell_type": "markdown",
   "metadata": {},
   "source": [
    "Para especificar una función con más de un argumento, basta especificar los argumentos dentro de `()` en la definición de la función. Cuando se definen los argumentos, éstos pueden tener valores por defectos. Por ejemplo:"
   ]
  },
  {
   "cell_type": "code",
   "execution_count": 14,
   "metadata": {
    "collapsed": false
   },
   "outputs": [],
   "source": [
    "def imprimir_hola(nombre, condicion = False):\n",
    "    str = \"Hola \" + nombre + \"!\"\n",
    "    if (condicion):\n",
    "        print str.upper()\n",
    "    else:\n",
    "        print str"
   ]
  },
  {
   "cell_type": "code",
   "execution_count": 22,
   "metadata": {
    "collapsed": false
   },
   "outputs": [
    {
     "name": "stdout",
     "output_type": "stream",
     "text": [
      "Hola Mama!\n"
     ]
    }
   ],
   "source": [
    "imprimir_hola(\"Mama\")"
   ]
  },
  {
   "cell_type": "code",
   "execution_count": 16,
   "metadata": {
    "collapsed": false
   },
   "outputs": [
    {
     "name": "stdout",
     "output_type": "stream",
     "text": [
      "HOLA MAMA!\n"
     ]
    }
   ],
   "source": [
    "imprimir_hola(condicion=True, nombre=\"Mama\")"
   ]
  },
  {
   "cell_type": "markdown",
   "metadata": {},
   "source": [
    "Desde una función puede llamarse a otras funciones, facilitando de esta manera la descomposición de un problema, y resolverlo mediante una combinación de llamadas a funciones. En el ejemplo siguiente se crean dos funciones, una que crea un mensaje, y otra que usa la anterior para imprimirlo."
   ]
  },
  {
   "cell_type": "code",
   "execution_count": 19,
   "metadata": {
    "collapsed": false
   },
   "outputs": [],
   "source": [
    "def crear_saludo(nombre):\n",
    "    return \"Hola, {0}\".format(nombre)\n",
    "\n",
    "def imprimir_saludo(nombre):\n",
    "    print crear_saludo(nombre)"
   ]
  },
  {
   "cell_type": "code",
   "execution_count": 21,
   "metadata": {
    "collapsed": false
   },
   "outputs": [
    {
     "name": "stdout",
     "output_type": "stream",
     "text": [
      "Hola, Tom\n"
     ]
    }
   ],
   "source": [
    "imprimir_saludo(\"Tom\")"
   ]
  },
  {
   "cell_type": "markdown",
   "metadata": {},
   "source": [
    "**Documentando Funciones**\n",
    "\n",
    "Python facilita la documentación de las funciones. Basta incluir una cadena entre la linea dónde se define `def` y el cuerpo usando una tripleta de comillas `\"\"\"`:"
   ]
  },
  {
   "cell_type": "code",
   "execution_count": 17,
   "metadata": {
    "collapsed": false
   },
   "outputs": [],
   "source": [
    "def mediana(lista):\n",
    "    \"\"\"Encuentra la mediana de una lista de números y devuelve el valor.\n",
    "    Para listas con un número impar de elementos, se trata del valor medio de la lista.\n",
    "    Para listas con un número par de elementos, se trata de la media de las valores medios.\n",
    "    Efectos laterales: la lista es ordenada en esta función\"\"\"\n",
    "    lista.sort()\n",
    "    if (len(lista)%2):\n",
    "        return lista[len(lista)/2]\n",
    "    else:\n",
    "        return ((lista[len(lista)/2-1]+lista[len(lista)/2])/2.0)    "
   ]
  },
  {
   "cell_type": "code",
   "execution_count": 18,
   "metadata": {
    "collapsed": false
   },
   "outputs": [
    {
     "name": "stdout",
     "output_type": "stream",
     "text": [
      "Help on function mediana in module __main__:\n",
      "\n",
      "mediana(lista)\n",
      "    Encuentra la mediana de una lista de números y devuelve el valor.\n",
      "    Para listas con un número impar de elementos, se trata del valor medio de la lista.\n",
      "    Para listas con un número par de elementos, se trata de la media de las valores medios.\n",
      "    Efectos laterales: la lista es ordenada en esta función\n",
      "\n"
     ]
    }
   ],
   "source": [
    "help(mediana)"
   ]
  },
  {
   "cell_type": "markdown",
   "metadata": {},
   "source": [
    "#Listas\n",
    "\n",
    "Objetivos:\n",
    "\n",
    "* Crear listas.\n",
    "\n",
    "* Extraer elementos de una lista.\n",
    "\n",
    "* Operar sobre las listas y usarlas en bucles."
   ]
  },
  {
   "cell_type": "markdown",
   "metadata": {},
   "source": [
    "Una **Lista** permite coleccionar datos para mantenerlos juntos.\n",
    "\n",
    "A diferencia de las variables escalares, que se les asigna un valor único, las listas pueden tener cero o más valores."
   ]
  },
  {
   "cell_type": "code",
   "execution_count": 23,
   "metadata": {
    "collapsed": false
   },
   "outputs": [],
   "source": [
    "milista = [1,2,3]"
   ]
  },
  {
   "cell_type": "code",
   "execution_count": 24,
   "metadata": {
    "collapsed": false
   },
   "outputs": [
    {
     "data": {
      "text/plain": [
       "[1, 2, 3]"
      ]
     },
     "execution_count": 24,
     "metadata": {},
     "output_type": "execute_result"
    }
   ],
   "source": [
    "milista"
   ]
  },
  {
   "cell_type": "markdown",
   "metadata": {},
   "source": [
    "Se ha creado una lista denominada **milista** que contiene 3 números. La asignación de valores a una lista no retorna nada, sin embargo si usamos el nombre de la lista, podemos ver el contenido de la variable."
   ]
  },
  {
   "cell_type": "markdown",
   "metadata": {},
   "source": [
    "La función `range()` crea una secuencia aritmética que es muy útil en los bucles. "
   ]
  },
  {
   "cell_type": "code",
   "execution_count": 25,
   "metadata": {
    "collapsed": false
   },
   "outputs": [],
   "source": [
    "lista1 = range(0,10)\n",
    "lista2 = [0,1,2,3,4,5,6,7,8,9]"
   ]
  },
  {
   "cell_type": "code",
   "execution_count": 26,
   "metadata": {
    "collapsed": false
   },
   "outputs": [
    {
     "name": "stdout",
     "output_type": "stream",
     "text": [
      "[0, 1, 2, 3, 4, 5, 6, 7, 8, 9]\n",
      "[0, 1, 2, 3, 4, 5, 6, 7, 8, 9]\n"
     ]
    }
   ],
   "source": [
    "print lista1\n",
    "print lista2"
   ]
  },
  {
   "cell_type": "markdown",
   "metadata": {},
   "source": [
    "Las dos funciones del ejemplo anterior son iguales, aunque el uso de la función `range()` es más fácil."
   ]
  },
  {
   "cell_type": "code",
   "execution_count": 27,
   "metadata": {
    "collapsed": false
   },
   "outputs": [
    {
     "data": {
      "text/plain": [
       "[1, 2.4, True]"
      ]
     },
     "execution_count": 27,
     "metadata": {},
     "output_type": "execute_result"
    }
   ],
   "source": [
    "milista = [1,2.4,True]\n",
    "milista"
   ]
  },
  {
   "cell_type": "markdown",
   "metadata": {},
   "source": [
    "Una propiedad interesante de las listas, es que pueden contener valores de distintos tipos.\n",
    "\n",
    "Existe un tipo de datos en Python similar a las listas, denominados *arrays*"
   ]
  },
  {
   "cell_type": "markdown",
   "metadata": {},
   "source": [
    "Para acceder a los elementos de una lista, se usa la notación `[]`"
   ]
  },
  {
   "cell_type": "code",
   "execution_count": 28,
   "metadata": {
    "collapsed": false
   },
   "outputs": [
    {
     "data": {
      "text/plain": [
       "'M'"
      ]
     },
     "execution_count": 28,
     "metadata": {},
     "output_type": "execute_result"
    }
   ],
   "source": [
    "nombre = 'Matilda'\n",
    "nombre[0]"
   ]
  },
  {
   "cell_type": "markdown",
   "metadata": {},
   "source": [
    "La variable `nombre` contiene una cadena, que es una secuencia de caracteres. Cada uno de ellos puede ser accedido usando la notación `[]` , donde `[0]` accede al primer caracter.\n",
    "\n",
    "Existen otros métodos para acceder a los elementos de una cadena"
   ]
  },
  {
   "cell_type": "code",
   "execution_count": 29,
   "metadata": {
    "collapsed": false
   },
   "outputs": [
    {
     "data": {
      "text/plain": [
       "'tilda'"
      ]
     },
     "execution_count": 29,
     "metadata": {},
     "output_type": "execute_result"
    }
   ],
   "source": [
    "nombre[2:]"
   ]
  },
  {
   "cell_type": "code",
   "execution_count": 30,
   "metadata": {
    "collapsed": false
   },
   "outputs": [
    {
     "data": {
      "text/plain": [
       "'Mati'"
      ]
     },
     "execution_count": 30,
     "metadata": {},
     "output_type": "execute_result"
    }
   ],
   "source": [
    "nombre[:4]"
   ]
  },
  {
   "cell_type": "markdown",
   "metadata": {},
   "source": [
    "De la misma forma que con las cadenas, los elementos de una lista puede ser accedido usando la notación `[]`"
   ]
  },
  {
   "cell_type": "code",
   "execution_count": 32,
   "metadata": {
    "collapsed": false
   },
   "outputs": [
    {
     "data": {
      "text/plain": [
       "1.0"
      ]
     },
     "execution_count": 32,
     "metadata": {},
     "output_type": "execute_result"
    }
   ],
   "source": [
    "milista = [1.0, 2.2, 5.5, 100.]\n",
    "milista[0]"
   ]
  },
  {
   "cell_type": "markdown",
   "metadata": {},
   "source": [
    "Las listas son mutables, lo que significa que sus contenidos pueden ser cambiados.Esto es importante porque permite ir añadiendo valores a una lista. \n",
    "\n",
    "Por ejemplo,dada una lista,se calcula los cuadrados de los valores de la lista."
   ]
  },
  {
   "cell_type": "code",
   "execution_count": 33,
   "metadata": {
    "collapsed": false
   },
   "outputs": [
    {
     "data": {
      "text/plain": [
       "[1, 9, 49, 4, 64]"
      ]
     },
     "execution_count": 33,
     "metadata": {},
     "output_type": "execute_result"
    }
   ],
   "source": [
    "x = [1,3,7,2,8]\n",
    "y = []\n",
    "for val in x:\n",
    "    y.append(val*val)\n",
    "y"
   ]
  },
  {
   "cell_type": "markdown",
   "metadata": {},
   "source": [
    "Observar:\n",
    "\n",
    "- Primero se crear una nueva lista *vacia* , asignando a una variable `[]`.\n",
    "- Segundo,se usa un bucle para iterar sobre la lista:  `for val in x:`\n",
    "- Finalmente, se pueden añadir valores a una lista usando `list.append(value)`, que añade un valor a la lista."
   ]
  },
  {
   "cell_type": "markdown",
   "metadata": {},
   "source": [
    "No solo se pueden añadir valores a la lista, también es posible cambiar los existentes."
   ]
  },
  {
   "cell_type": "code",
   "execution_count": 2,
   "metadata": {
    "collapsed": false
   },
   "outputs": [
    {
     "data": {
      "text/plain": [
       "[1, 100, 49, 4, 64]"
      ]
     },
     "execution_count": 2,
     "metadata": {},
     "output_type": "execute_result"
    }
   ],
   "source": [
    "y[1] = 100\n",
    "y"
   ]
  },
  {
   "cell_type": "markdown",
   "metadata": {},
   "source": [
    "Python también soporta indexación con números negativos, que permite seleccionar por el final de la lista. "
   ]
  },
  {
   "cell_type": "code",
   "execution_count": 3,
   "metadata": {
    "collapsed": false
   },
   "outputs": [
    {
     "data": {
      "text/plain": [
       "64"
      ]
     },
     "execution_count": 3,
     "metadata": {},
     "output_type": "execute_result"
    }
   ],
   "source": [
    "y[-1]"
   ]
  },
  {
   "cell_type": "markdown",
   "metadata": {},
   "source": [
    "Así, podríamos cambiar el primer y último valor de la lista."
   ]
  },
  {
   "cell_type": "code",
   "execution_count": 4,
   "metadata": {
    "collapsed": false
   },
   "outputs": [
    {
     "data": {
      "text/plain": [
       "[64, 100, 49, 4, 1]"
      ]
     },
     "execution_count": 4,
     "metadata": {},
     "output_type": "execute_result"
    }
   ],
   "source": [
    "y[0],y[-1] = y[-1],y[0]\n",
    "y"
   ]
  },
  {
   "cell_type": "markdown",
   "metadata": {},
   "source": [
    "Existen muchos métodos asociados con las listas. Por ejemplo para obtener la longitud de una lista se usa `len()` y para combinar varias listas usamos el operador `+`."
   ]
  },
  {
   "cell_type": "code",
   "execution_count": 5,
   "metadata": {
    "collapsed": false
   },
   "outputs": [
    {
     "name": "stdout",
     "output_type": "stream",
     "text": [
      "5\n",
      "[64, 100, 49, 4, 1, 1, 3, 7, 2, 8]\n"
     ]
    }
   ],
   "source": [
    "print len(y)\n",
    "print y+x"
   ]
  },
  {
   "cell_type": "markdown",
   "metadata": {},
   "source": [
    "Otro operador interesante sobre listas es el `*`"
   ]
  },
  {
   "cell_type": "code",
   "execution_count": 7,
   "metadata": {
    "collapsed": false
   },
   "outputs": [
    {
     "data": {
      "text/plain": [
       "[1, 2, 1, 2, 1, 2, 1, 2, 1, 2]"
      ]
     },
     "execution_count": 7,
     "metadata": {},
     "output_type": "execute_result"
    }
   ],
   "source": [
    "[1,2]*5"
   ]
  },
  {
   "cell_type": "markdown",
   "metadata": {},
   "source": [
    "Observar que algunas operaciones cambian las listas, como por ejemplo la ordenación de una lista con el operador `sort()´"
   ]
  },
  {
   "cell_type": "code",
   "execution_count": 32,
   "metadata": {
    "collapsed": false
   },
   "outputs": [
    {
     "name": "stdout",
     "output_type": "stream",
     "text": [
      "[64, 100, 49, 4, 1]\n",
      "[1, 4, 49, 64, 100]\n"
     ]
    }
   ],
   "source": [
    "print y\n",
    "y.sort()\n",
    "print y"
   ]
  },
  {
   "cell_type": "markdown",
   "metadata": {},
   "source": [
    "##Ejemplo de uso de listas.\n",
    "\n",
    "Se toma una simple lista, y se retornan dos listas. La primera lista que contiene los valores más pequeños que un cierto número y otra que contiene los valores que son mayores o igual que ese número.\n",
    "\n",
    "Por ejemplo:\n",
    "\n",
    "- `listainicial = [1,5,6,8,1,12,5,2,7,8,9]`\n",
    "- `numero = 5`\n",
    "- `valoresmenores=[]`\n",
    "- `valoresgrandes=[]`"
   ]
  },
  {
   "cell_type": "code",
   "execution_count": 1,
   "metadata": {
    "collapsed": false
   },
   "outputs": [
    {
     "name": "stdout",
     "output_type": "stream",
     "text": [
      "[2, 1, 1]\n",
      "[12, 9, 8, 8, 7, 6, 5, 5]\n"
     ]
    }
   ],
   "source": [
    "# Solución\n",
    "\n",
    "listainicial = [1,5,6,8,1,12,5,2,7,8,9]\n",
    "cutoff = 5\n",
    "valoresmenores=[]\n",
    "valoresgrandes=[]\n",
    "\n",
    "for v in listainicial:\n",
    "    if (v < cutoff):\n",
    "        valoresmenores.append(v)\n",
    "    else:\n",
    "        valoresgrandes.append(v)\n",
    "        \n",
    "valoresgrandes.sort(reverse=True)\n",
    "valoresmenores.sort(reverse=True)\n",
    "\n",
    "print valoresmenores\n",
    "print valoresgrandes"
   ]
  }
 ],
 "metadata": {
  "css": [
   ""
  ]
 },
 "nbformat": 4,
 "nbformat_minor": 0
}
