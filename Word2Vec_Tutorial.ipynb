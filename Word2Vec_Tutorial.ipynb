{
  "nbformat": 4,
  "nbformat_minor": 0,
  "metadata": {
    "colab": {
      "name": "Word2Vec Tutorial.ipynb",
      "provenance": [],
      "authorship_tag": "ABX9TyP0l6cC6odAL/ZTnqjD0KDO",
      "include_colab_link": true
    },
    "kernelspec": {
      "name": "python3",
      "display_name": "Python 3"
    }
  },
  "cells": [
    {
      "cell_type": "markdown",
      "metadata": {
        "id": "view-in-github",
        "colab_type": "text"
      },
      "source": [
        "<a href=\"https://colab.research.google.com/github/patofw/imf_master/blob/master/Notebooks/Word2Vec_Tutorial.ipynb\" target=\"_parent\"><img src=\"https://colab.research.google.com/assets/colab-badge.svg\" alt=\"Open In Colab\"/></a>"
      ]
    },
    {
      "cell_type": "markdown",
      "metadata": {
        "id": "JbfAIV31XYHd",
        "colab_type": "text"
      },
      "source": [
        "# Tutorial de Word2Vec \n",
        "\n",
        "## En pocas palabras...\n",
        "\n",
        "El supuesto subyacente de Word2Vec es que dos palabras que comparten contextos similares también comparten un significado similar y, por consiguiente, una representación vectorial similar del modelo. Por ejemplo: \"perro\", \"perrito\" y \"cachorro\" se utilizan a menudo en situaciones similares, con palabras cercanas similares como \"bueno\", \"peludo\" o \"lindo\", y según Word2Vec compartirán por lo tanto una representación vectorial similar.\n",
        "\n",
        "A partir de esta hipótesis, Word2Vec puede utilizarse para averiguar las relaciones entre las palabras de un conjunto de datos, calcular la similitud entre ellas, o utilizar la representación vectorial de esas palabras como entrada para otras aplicaciones, como la clasificación o agrupación de textos.\n",
        "\n",
        "## Ejercicio\n",
        "\n",
        "En este Notebook vamos a desarrollar un Word2Vec utilizando la librería [Gensim](https://radimrehurek.com/gensim/models/word2vec.html) La cual es una de las más importantes en NLP.  Además de este módulo, para constuir un modelo robusto necesitamos: \n",
        "- Un corpus con suficiente contenido para crear un modelo 'inteligente'\n",
        "- Limpiar y preporcesar el corpus.\n",
        "- Suficiente RAM para entrenar el modelo (Es computancionalmente exigente) \n",
        "\n",
        "En este caso, vamos a crear un modelo específico para el show **Los Simpson's** \n",
        "\n",
        "Además de Gensim, también vamos a tener que instalar: \n",
        "- xlrd==1.1.0: https://pypi.org/project/xlrd/\n",
        "- spaCy==2.0.12: https://spacy.io/usage/\n",
        "- gensim==3.4.0: https://radimrehurek.com/gensim/install.html\n",
        "- scikit-learn==0.19.1: http://scikit-learn.org/stable/install.html\n",
        "- seaborn==0.8: https://seaborn.pydata.org/installing.html\n"
      ]
    },
    {
      "cell_type": "code",
      "metadata": {
        "id": "xAuYLZopXpzK",
        "colab_type": "code",
        "colab": {}
      },
      "source": [
        "import re  # Procesamiento de Texto\n",
        "import pandas as pd  \n",
        "from time import time  # Medir tiempo de ejecucion\n",
        "from collections import defaultdict  \n",
        "\n",
        "import spacy  # Procesamiento NLP\n",
        "\n",
        "import logging  # Sacar logs del modelo\n",
        "logging.basicConfig(format=\"%(levelname)s - %(asctime)s: %(message)s\", datefmt= '%H:%M:%S', level=logging.INFO)"
      ],
      "execution_count": null,
      "outputs": []
    },
    {
      "cell_type": "code",
      "metadata": {
        "id": "Im05T1iXg-tE",
        "colab_type": "code",
        "colab": {
          "base_uri": "https://localhost:8080/",
          "height": 202
        },
        "outputId": "5689fc67-722f-46da-84ba-83d0d672b6e8"
      },
      "source": [
        "# DATA DIR \n",
        "\n",
        "url = 'https://raw.githubusercontent.com/patofw/imf_master/master/Notebooks/data/simpsons_dataset.csv'\n",
        "# cargamos datos \n",
        "df = pd.read_csv(url)\n",
        "df.head()"
      ],
      "execution_count": null,
      "outputs": [
        {
          "output_type": "execute_result",
          "data": {
            "text/html": [
              "<div>\n",
              "<style scoped>\n",
              "    .dataframe tbody tr th:only-of-type {\n",
              "        vertical-align: middle;\n",
              "    }\n",
              "\n",
              "    .dataframe tbody tr th {\n",
              "        vertical-align: top;\n",
              "    }\n",
              "\n",
              "    .dataframe thead th {\n",
              "        text-align: right;\n",
              "    }\n",
              "</style>\n",
              "<table border=\"1\" class=\"dataframe\">\n",
              "  <thead>\n",
              "    <tr style=\"text-align: right;\">\n",
              "      <th></th>\n",
              "      <th>raw_character_text</th>\n",
              "      <th>spoken_words</th>\n",
              "    </tr>\n",
              "  </thead>\n",
              "  <tbody>\n",
              "    <tr>\n",
              "      <th>0</th>\n",
              "      <td>Miss Hoover</td>\n",
              "      <td>No, actually, it was a little of both. Sometim...</td>\n",
              "    </tr>\n",
              "    <tr>\n",
              "      <th>1</th>\n",
              "      <td>Lisa Simpson</td>\n",
              "      <td>Where's Mr. Bergstrom?</td>\n",
              "    </tr>\n",
              "    <tr>\n",
              "      <th>2</th>\n",
              "      <td>Miss Hoover</td>\n",
              "      <td>I don't know. Although I'd sure like to talk t...</td>\n",
              "    </tr>\n",
              "    <tr>\n",
              "      <th>3</th>\n",
              "      <td>Lisa Simpson</td>\n",
              "      <td>That life is worth living.</td>\n",
              "    </tr>\n",
              "    <tr>\n",
              "      <th>4</th>\n",
              "      <td>Edna Krabappel-Flanders</td>\n",
              "      <td>The polls will be open from now until the end ...</td>\n",
              "    </tr>\n",
              "  </tbody>\n",
              "</table>\n",
              "</div>"
            ],
            "text/plain": [
              "        raw_character_text                                       spoken_words\n",
              "0              Miss Hoover  No, actually, it was a little of both. Sometim...\n",
              "1             Lisa Simpson                             Where's Mr. Bergstrom?\n",
              "2              Miss Hoover  I don't know. Although I'd sure like to talk t...\n",
              "3             Lisa Simpson                         That life is worth living.\n",
              "4  Edna Krabappel-Flanders  The polls will be open from now until the end ..."
            ]
          },
          "metadata": {
            "tags": []
          },
          "execution_count": 21
        }
      ]
    },
    {
      "cell_type": "code",
      "metadata": {
        "id": "6pVv_qHPnCHU",
        "colab_type": "code",
        "colab": {
          "base_uri": "https://localhost:8080/",
          "height": 69
        },
        "outputId": "5e050e4b-3063-43d9-c409-d0c858e3a41f"
      },
      "source": [
        "# datos nulos \n",
        "# Hay bastantes nulos que no nos van a servir para este proyecto\n",
        "# los podemos eliminar directamente \n",
        "df.isnull().sum() # cantidad de nulos por columna"
      ],
      "execution_count": null,
      "outputs": [
        {
          "output_type": "execute_result",
          "data": {
            "text/plain": [
              "raw_character_text    17814\n",
              "spoken_words          26459\n",
              "dtype: int64"
            ]
          },
          "metadata": {
            "tags": []
          },
          "execution_count": 22
        }
      ]
    },
    {
      "cell_type": "code",
      "metadata": {
        "id": "Ouzsy9OmnIxY",
        "colab_type": "code",
        "colab": {}
      },
      "source": [
        "df = df.dropna().reset_index(drop=True) # eliminamos nulos \n"
      ],
      "execution_count": null,
      "outputs": []
    },
    {
      "cell_type": "markdown",
      "metadata": {
        "id": "9nbe66ndnZ3h",
        "colab_type": "text"
      },
      "source": [
        "# Limpieza del texto"
      ]
    },
    {
      "cell_type": "code",
      "metadata": {
        "id": "PgYWfiwAnW0r",
        "colab_type": "code",
        "colab": {}
      },
      "source": [
        "nlp = spacy.load('en', disable=['ner', 'parser']) # Quitamos el Named Entity Recognition por facilidad de procesamiento\n",
        "\n",
        "def cleaning(doc):\n",
        "  \"\"\"\n",
        "  Lemmatiza y elimina stopwords\n",
        "  Necesitamos un doc como lo describe spacy\n",
        "  :param doc: DOC según lo describe Spacy. \n",
        "  :return: Una cadena de texto. \n",
        "  \"\"\"\n",
        "  txt = [token.lemma_ for token in doc if not token.is_stop]\n",
        "  # Word2Vec usa el contexto para entender la reperesentacion de la palabra\n",
        "  # Si la oracion es corta, no va a aprender mucho\n",
        "  if len(txt) > 2:\n",
        "      return ' '.join(txt)\n",
        "# Reemplazamos todo lo que no sea alphanum\n",
        "brief_cleaning = (re.sub(r\"[^A-Za-z0-9' ]+\", ' ', \n",
        "                         str(row)).lower().strip() for row in df['spoken_words'])"
      ],
      "execution_count": null,
      "outputs": []
    },
    {
      "cell_type": "code",
      "metadata": {
        "id": "5QH4z6kynhjr",
        "colab_type": "code",
        "colab": {
          "base_uri": "https://localhost:8080/",
          "height": 35
        },
        "outputId": "a24e25a9-4da9-4372-af66-60e0e5fe1f21"
      },
      "source": [
        "# Usamos el método Pipe de Spacy para procesar con mayor velocidad\n",
        "t = time() # Calculamos tiempo\n",
        "\n",
        "txt = [cleaning(doc) for doc in nlp.pipe(brief_cleaning, # función que def antes\n",
        "                                         batch_size=5000, \n",
        "                                         n_threads=-1 # usamos todos los cores\n",
        "                                         )]\n",
        "t_ = round((time() - t) / 60, 2) # Tiempo de ejecucion en mins\n",
        "print(f'Tiempo de ejecución: {t_} mins')"
      ],
      "execution_count": null,
      "outputs": [
        {
          "output_type": "stream",
          "text": [
            "Tiempo de ejecución: 1.11 mins\n"
          ],
          "name": "stdout"
        }
      ]
    },
    {
      "cell_type": "code",
      "metadata": {
        "id": "VJg3s10cpMbu",
        "colab_type": "code",
        "colab": {}
      },
      "source": [
        "clean_txt = set(txt) # eliminamos duplicados \n",
        "clean_txt = [tx for tx in clean_txt if tx] # eliminamos nuevos nulos que se han creado"
      ],
      "execution_count": null,
      "outputs": []
    },
    {
      "cell_type": "code",
      "metadata": {
        "id": "8ujkHBknoyXz",
        "colab_type": "code",
        "colab": {
          "base_uri": "https://localhost:8080/",
          "height": 87
        },
        "outputId": "13379d61-1fb3-44b7-bef1-d1dc2a998692"
      },
      "source": [
        "clean_txt[:4] # mostramos 'cabecera'"
      ],
      "execution_count": null,
      "outputs": [
        {
          "output_type": "execute_result",
          "data": {
            "text/plain": [
              "['oh   smither   hear',\n",
              " '    protect   work cake acid mine',\n",
              " 'chief   order ice coffee',\n",
              " '  say want   gritty   word    ugly']"
            ]
          },
          "metadata": {
            "tags": []
          },
          "execution_count": 32
        }
      ]
    },
    {
      "cell_type": "code",
      "metadata": {
        "id": "JV8qkQ54t9yS",
        "colab_type": "code",
        "colab": {
          "base_uri": "https://localhost:8080/",
          "height": 295
        },
        "outputId": "239446c2-40d2-4380-f1b1-d5c7edef523e"
      },
      "source": [
        "from gensim.models.phrases import Phrases, Phraser\n",
        "# Phraser une palabras que usualmente están juntas,\n",
        "# Por ejemplo Big Data -> big_data\n",
        "sentences  = [row.split() for row in clean_txt if row]\n",
        "phrases = Phrases(sentences, min_count=10, progress_per=10000)\n",
        "bigram = Phraser(phrases)\n",
        "ngram_sentences = bigram[sentences] \n",
        "# Vemos el vocabulario que hemos creado \n",
        "# Sanity check \n",
        "word_freq = defaultdict(int)\n",
        "for sent in ngram_sentences:\n",
        "    for i in sent:\n",
        "        word_freq[i] += 1\n",
        "print(f'El corpus tiene {len(word_freq)} palabras') \n",
        "\n"
      ],
      "execution_count": null,
      "outputs": [
        {
          "output_type": "stream",
          "text": [
            "INFO - 10:23:11: collecting all words and their counts\n",
            "INFO - 10:23:11: PROGRESS: at sentence #0, processed 0 words and 0 word types\n",
            "INFO - 10:23:11: PROGRESS: at sentence #10000, processed 57419 words and 50625 word types\n",
            "INFO - 10:23:11: PROGRESS: at sentence #20000, processed 115518 words and 92204 word types\n",
            "INFO - 10:23:12: PROGRESS: at sentence #30000, processed 174336 words and 130318 word types\n",
            "INFO - 10:23:12: PROGRESS: at sentence #40000, processed 231566 words and 164694 word types\n",
            "INFO - 10:23:12: PROGRESS: at sentence #50000, processed 289315 words and 197947 word types\n",
            "INFO - 10:23:12: PROGRESS: at sentence #60000, processed 347230 words and 229798 word types\n",
            "INFO - 10:23:12: PROGRESS: at sentence #70000, processed 405222 words and 260785 word types\n",
            "INFO - 10:23:12: PROGRESS: at sentence #80000, processed 463430 words and 291056 word types\n",
            "INFO - 10:23:12: PROGRESS: at sentence #90000, processed 521298 words and 320065 word types\n",
            "INFO - 10:23:12: collected 328170 word types from a corpus of 537790 words (unigram + bigrams) and 92798 sentences\n",
            "INFO - 10:23:12: using 328170 counts as vocab in Phrases<0 vocab, min_count=10, threshold=10.0, max_vocab_size=40000000>\n",
            "INFO - 10:23:12: source_vocab length 328170\n",
            "INFO - 10:23:15: Phraser built with 538 phrasegrams\n"
          ],
          "name": "stderr"
        },
        {
          "output_type": "stream",
          "text": [
            "El corpus tiene 30728 palabras\n"
          ],
          "name": "stdout"
        }
      ]
    },
    {
      "cell_type": "code",
      "metadata": {
        "id": "pX-2v2tsu4vY",
        "colab_type": "code",
        "colab": {
          "base_uri": "https://localhost:8080/",
          "height": 35
        },
        "outputId": "1d8ea75b-b343-4eed-8ad7-01c2dc937e0c"
      },
      "source": [
        "# Miramos las palabras más comunes \n",
        "sorted(word_freq, key=word_freq.get, reverse=True)[:10]\n"
      ],
      "execution_count": null,
      "outputs": [
        {
          "output_type": "execute_result",
          "data": {
            "text/plain": [
              "['oh', 'like', 'know', 'get', 'hey', 'think', 'right', 'look', 'come', 'want']"
            ]
          },
          "metadata": {
            "tags": []
          },
          "execution_count": 35
        }
      ]
    },
    {
      "cell_type": "code",
      "metadata": {
        "id": "fOAGe1Sdv-Fm",
        "colab_type": "code",
        "colab": {
          "base_uri": "https://localhost:8080/",
          "height": 1000
        },
        "outputId": "bcdbbe5b-9ea6-47ea-d0ba-2ad8e94ca730"
      },
      "source": [
        "import multiprocessing\n",
        "\n",
        "from gensim.models import Word2Vec\n",
        "cores = multiprocessing.cpu_count() # Cuenta el num de cores disponibles\n",
        "#  The model (see Gensim's Word2Vec for more info )\n",
        "w2v_model = Word2Vec(min_count=10,\n",
        "                     window=2,\n",
        "                     size=300,\n",
        "                     sample=6e-5, \n",
        "                     alpha=0.03, \n",
        "                     min_alpha=0.0007, \n",
        "                     negative=20,\n",
        "                     workers=cores-1) # A toda maquina\n",
        "#  Construimos el vocablo para gensim\n",
        "w2v_model.build_vocab(ngram_sentences, progress_per=10000)\n",
        "\n",
        "#  Entrenamos el modelo (Toma unos minutos)\n",
        "\n",
        "w2v_model.train(ngram_sentences, total_examples=w2v_model.corpus_count, epochs=30, report_delay=1)"
      ],
      "execution_count": null,
      "outputs": [
        {
          "output_type": "stream",
          "text": [
            "INFO - 10:24:29: collecting all words and their counts\n",
            "INFO - 10:24:29: PROGRESS: at sentence #0, processed 0 words, keeping 0 word types\n",
            "INFO - 10:24:29: PROGRESS: at sentence #10000, processed 55281 words, keeping 10274 word types\n",
            "INFO - 10:24:29: PROGRESS: at sentence #20000, processed 111197 words, keeping 14979 word types\n",
            "INFO - 10:24:29: PROGRESS: at sentence #30000, processed 167795 words, keeping 18403 word types\n",
            "INFO - 10:24:29: PROGRESS: at sentence #40000, processed 222896 words, keeping 21041 word types\n",
            "INFO - 10:24:30: PROGRESS: at sentence #50000, processed 278565 words, keeping 23308 word types\n",
            "INFO - 10:24:30: PROGRESS: at sentence #60000, processed 334258 words, keeping 25308 word types\n",
            "INFO - 10:24:30: PROGRESS: at sentence #70000, processed 390014 words, keeping 27096 word types\n",
            "INFO - 10:24:30: PROGRESS: at sentence #80000, processed 446060 words, keeping 28773 word types\n",
            "INFO - 10:24:30: PROGRESS: at sentence #90000, processed 501762 words, keeping 30330 word types\n",
            "INFO - 10:24:30: collected 30728 word types from a corpus of 517595 raw words and 92798 sentences\n",
            "INFO - 10:24:30: Loading a fresh vocabulary\n",
            "INFO - 10:24:30: effective_min_count=10 retains 5702 unique words (18% of original 30728, drops 25026)\n",
            "INFO - 10:24:30: effective_min_count=10 leaves 458986 word corpus (88% of original 517595, drops 58609)\n",
            "INFO - 10:24:30: deleting the raw counts dictionary of 30728 items\n",
            "INFO - 10:24:30: sample=6e-05 downsamples 1112 most-common words\n",
            "INFO - 10:24:30: downsampling leaves estimated 232319 word corpus (50.6% of prior 458986)\n",
            "INFO - 10:24:30: estimated required memory for 5702 words and 300 dimensions: 16535800 bytes\n",
            "INFO - 10:24:31: resetting layer weights\n",
            "INFO - 10:24:32: training model with 1 workers on 5702 vocabulary and 300 features, using sg=0 hs=0 sample=6e-05 negative=20 window=2\n",
            "INFO - 10:24:33: EPOCH 1 - PROGRESS: at 28.91% examples, 66147 words/s, in_qsize 0, out_qsize 0\n",
            "INFO - 10:24:34: EPOCH 1 - PROGRESS: at 59.95% examples, 68537 words/s, in_qsize 0, out_qsize 0\n",
            "INFO - 10:24:35: EPOCH 1 - PROGRESS: at 90.87% examples, 68715 words/s, in_qsize 1, out_qsize 0\n",
            "INFO - 10:24:35: worker thread finished; awaiting finish of 0 more threads\n",
            "INFO - 10:24:35: EPOCH - 1 : training on 517595 raw words (232544 effective words) took 3.3s, 70193 effective words/s\n",
            "INFO - 10:24:36: EPOCH 2 - PROGRESS: at 28.91% examples, 66422 words/s, in_qsize 0, out_qsize 0\n",
            "INFO - 10:24:37: EPOCH 2 - PROGRESS: at 58.01% examples, 65096 words/s, in_qsize 0, out_qsize 0\n",
            "INFO - 10:24:38: EPOCH 2 - PROGRESS: at 88.90% examples, 66948 words/s, in_qsize 0, out_qsize 0\n",
            "INFO - 10:24:38: worker thread finished; awaiting finish of 0 more threads\n",
            "INFO - 10:24:38: EPOCH - 2 : training on 517595 raw words (232033 effective words) took 3.4s, 67880 effective words/s\n",
            "INFO - 10:24:39: EPOCH 3 - PROGRESS: at 28.91% examples, 64365 words/s, in_qsize 1, out_qsize 0\n",
            "INFO - 10:24:41: EPOCH 3 - PROGRESS: at 59.95% examples, 66627 words/s, in_qsize 2, out_qsize 0\n",
            "INFO - 10:24:42: EPOCH 3 - PROGRESS: at 90.87% examples, 67793 words/s, in_qsize 2, out_qsize 0\n",
            "INFO - 10:24:42: worker thread finished; awaiting finish of 0 more threads\n",
            "INFO - 10:24:42: EPOCH - 3 : training on 517595 raw words (232486 effective words) took 3.3s, 69796 effective words/s\n",
            "INFO - 10:24:43: EPOCH 4 - PROGRESS: at 28.91% examples, 59791 words/s, in_qsize 0, out_qsize 0\n",
            "INFO - 10:24:44: EPOCH 4 - PROGRESS: at 59.95% examples, 63335 words/s, in_qsize 2, out_qsize 0\n",
            "INFO - 10:24:45: EPOCH 4 - PROGRESS: at 90.87% examples, 65786 words/s, in_qsize 1, out_qsize 0\n",
            "INFO - 10:24:45: worker thread finished; awaiting finish of 0 more threads\n",
            "INFO - 10:24:45: EPOCH - 4 : training on 517595 raw words (232320 effective words) took 3.4s, 67536 effective words/s\n",
            "INFO - 10:24:46: EPOCH 5 - PROGRESS: at 28.91% examples, 66428 words/s, in_qsize 0, out_qsize 0\n",
            "INFO - 10:24:47: EPOCH 5 - PROGRESS: at 59.95% examples, 68611 words/s, in_qsize 0, out_qsize 0\n",
            "INFO - 10:24:48: EPOCH 5 - PROGRESS: at 86.93% examples, 65734 words/s, in_qsize 1, out_qsize 0\n",
            "INFO - 10:24:49: worker thread finished; awaiting finish of 0 more threads\n",
            "INFO - 10:24:49: EPOCH - 5 : training on 517595 raw words (232406 effective words) took 3.4s, 67419 effective words/s\n",
            "INFO - 10:24:50: EPOCH 6 - PROGRESS: at 28.91% examples, 66850 words/s, in_qsize 0, out_qsize 0\n",
            "INFO - 10:24:51: EPOCH 6 - PROGRESS: at 59.95% examples, 68970 words/s, in_qsize 0, out_qsize 0\n",
            "INFO - 10:24:52: EPOCH 6 - PROGRESS: at 88.90% examples, 68436 words/s, in_qsize 1, out_qsize 0\n",
            "INFO - 10:24:52: worker thread finished; awaiting finish of 0 more threads\n",
            "INFO - 10:24:52: EPOCH - 6 : training on 517595 raw words (232149 effective words) took 3.3s, 69927 effective words/s\n",
            "INFO - 10:24:53: EPOCH 7 - PROGRESS: at 28.91% examples, 65067 words/s, in_qsize 1, out_qsize 0\n",
            "INFO - 10:24:54: EPOCH 7 - PROGRESS: at 59.95% examples, 66508 words/s, in_qsize 1, out_qsize 0\n",
            "INFO - 10:24:55: EPOCH 7 - PROGRESS: at 88.90% examples, 65478 words/s, in_qsize 2, out_qsize 0\n",
            "INFO - 10:24:55: worker thread finished; awaiting finish of 0 more threads\n",
            "INFO - 10:24:55: EPOCH - 7 : training on 517595 raw words (232593 effective words) took 3.4s, 67558 effective words/s\n",
            "INFO - 10:24:57: EPOCH 8 - PROGRESS: at 28.91% examples, 63012 words/s, in_qsize 2, out_qsize 0\n",
            "INFO - 10:24:58: EPOCH 8 - PROGRESS: at 59.95% examples, 67144 words/s, in_qsize 1, out_qsize 0\n",
            "INFO - 10:24:59: EPOCH 8 - PROGRESS: at 88.90% examples, 67259 words/s, in_qsize 2, out_qsize 0\n",
            "INFO - 10:24:59: worker thread finished; awaiting finish of 0 more threads\n",
            "INFO - 10:24:59: EPOCH - 8 : training on 517595 raw words (232411 effective words) took 3.3s, 69399 effective words/s\n",
            "INFO - 10:25:00: EPOCH 9 - PROGRESS: at 25.07% examples, 55711 words/s, in_qsize 1, out_qsize 0\n",
            "INFO - 10:25:01: EPOCH 9 - PROGRESS: at 56.08% examples, 62838 words/s, in_qsize 1, out_qsize 0\n",
            "INFO - 10:25:02: EPOCH 9 - PROGRESS: at 86.93% examples, 64766 words/s, in_qsize 1, out_qsize 0\n",
            "INFO - 10:25:02: worker thread finished; awaiting finish of 0 more threads\n",
            "INFO - 10:25:02: EPOCH - 9 : training on 517595 raw words (232529 effective words) took 3.5s, 66705 effective words/s\n",
            "INFO - 10:25:03: EPOCH 10 - PROGRESS: at 28.91% examples, 65202 words/s, in_qsize 1, out_qsize 0\n",
            "INFO - 10:25:04: EPOCH 10 - PROGRESS: at 59.95% examples, 66096 words/s, in_qsize 2, out_qsize 0\n",
            "INFO - 10:25:05: EPOCH 10 - PROGRESS: at 88.90% examples, 65332 words/s, in_qsize 2, out_qsize 0\n",
            "INFO - 10:25:06: worker thread finished; awaiting finish of 0 more threads\n",
            "INFO - 10:25:06: EPOCH - 10 : training on 517595 raw words (232279 effective words) took 3.4s, 67549 effective words/s\n",
            "INFO - 10:25:07: EPOCH 11 - PROGRESS: at 28.91% examples, 65779 words/s, in_qsize 1, out_qsize 0\n",
            "INFO - 10:25:08: EPOCH 11 - PROGRESS: at 59.95% examples, 67602 words/s, in_qsize 1, out_qsize 0\n",
            "INFO - 10:25:09: EPOCH 11 - PROGRESS: at 90.87% examples, 68891 words/s, in_qsize 1, out_qsize 0\n",
            "INFO - 10:25:09: worker thread finished; awaiting finish of 0 more threads\n",
            "INFO - 10:25:09: EPOCH - 11 : training on 517595 raw words (232301 effective words) took 3.3s, 70527 effective words/s\n",
            "INFO - 10:25:10: EPOCH 12 - PROGRESS: at 28.91% examples, 66945 words/s, in_qsize 0, out_qsize 0\n",
            "INFO - 10:25:11: EPOCH 12 - PROGRESS: at 58.01% examples, 65599 words/s, in_qsize 0, out_qsize 0\n",
            "INFO - 10:25:12: EPOCH 12 - PROGRESS: at 88.90% examples, 66173 words/s, in_qsize 2, out_qsize 0\n",
            "INFO - 10:25:12: worker thread finished; awaiting finish of 0 more threads\n",
            "INFO - 10:25:12: EPOCH - 12 : training on 517595 raw words (232145 effective words) took 3.4s, 68208 effective words/s\n",
            "INFO - 10:25:13: EPOCH 13 - PROGRESS: at 28.91% examples, 66611 words/s, in_qsize 0, out_qsize 0\n",
            "INFO - 10:25:15: EPOCH 13 - PROGRESS: at 58.01% examples, 64872 words/s, in_qsize 1, out_qsize 0\n",
            "INFO - 10:25:16: EPOCH 13 - PROGRESS: at 88.90% examples, 67151 words/s, in_qsize 1, out_qsize 0\n",
            "INFO - 10:25:16: worker thread finished; awaiting finish of 0 more threads\n",
            "INFO - 10:25:16: EPOCH - 13 : training on 517595 raw words (232328 effective words) took 3.4s, 68549 effective words/s\n",
            "INFO - 10:25:17: EPOCH 14 - PROGRESS: at 26.99% examples, 60356 words/s, in_qsize 0, out_qsize 0\n",
            "INFO - 10:25:18: EPOCH 14 - PROGRESS: at 56.08% examples, 62840 words/s, in_qsize 1, out_qsize 0\n",
            "INFO - 10:25:19: EPOCH 14 - PROGRESS: at 85.02% examples, 64421 words/s, in_qsize 1, out_qsize 0\n",
            "INFO - 10:25:19: worker thread finished; awaiting finish of 0 more threads\n",
            "INFO - 10:25:19: EPOCH - 14 : training on 517595 raw words (232351 effective words) took 3.5s, 66402 effective words/s\n",
            "INFO - 10:25:20: EPOCH 15 - PROGRESS: at 30.77% examples, 66463 words/s, in_qsize 0, out_qsize 0\n",
            "INFO - 10:25:21: EPOCH 15 - PROGRESS: at 59.95% examples, 65840 words/s, in_qsize 1, out_qsize 0\n",
            "INFO - 10:25:23: EPOCH 15 - PROGRESS: at 90.87% examples, 66762 words/s, in_qsize 1, out_qsize 0\n",
            "INFO - 10:25:23: worker thread finished; awaiting finish of 0 more threads\n",
            "INFO - 10:25:23: EPOCH - 15 : training on 517595 raw words (232181 effective words) took 3.5s, 66476 effective words/s\n",
            "INFO - 10:25:24: EPOCH 16 - PROGRESS: at 28.91% examples, 66031 words/s, in_qsize 0, out_qsize 0\n",
            "INFO - 10:25:25: EPOCH 16 - PROGRESS: at 59.95% examples, 67949 words/s, in_qsize 0, out_qsize 0\n",
            "INFO - 10:25:26: EPOCH 16 - PROGRESS: at 90.87% examples, 67934 words/s, in_qsize 2, out_qsize 0\n",
            "INFO - 10:25:26: worker thread finished; awaiting finish of 0 more threads\n",
            "INFO - 10:25:26: EPOCH - 16 : training on 517595 raw words (232295 effective words) took 3.3s, 69685 effective words/s\n",
            "INFO - 10:25:27: EPOCH 17 - PROGRESS: at 28.91% examples, 66348 words/s, in_qsize 0, out_qsize 0\n",
            "INFO - 10:25:28: EPOCH 17 - PROGRESS: at 58.01% examples, 66734 words/s, in_qsize 1, out_qsize 0\n",
            "INFO - 10:25:29: EPOCH 17 - PROGRESS: at 86.93% examples, 65715 words/s, in_qsize 1, out_qsize 0\n",
            "INFO - 10:25:30: worker thread finished; awaiting finish of 0 more threads\n",
            "INFO - 10:25:30: EPOCH - 17 : training on 517595 raw words (232438 effective words) took 3.4s, 67727 effective words/s\n",
            "INFO - 10:25:31: EPOCH 18 - PROGRESS: at 28.91% examples, 66142 words/s, in_qsize 1, out_qsize 0\n",
            "INFO - 10:25:32: EPOCH 18 - PROGRESS: at 59.95% examples, 68474 words/s, in_qsize 1, out_qsize 0\n",
            "INFO - 10:25:33: EPOCH 18 - PROGRESS: at 88.90% examples, 68127 words/s, in_qsize 1, out_qsize 0\n",
            "INFO - 10:25:33: worker thread finished; awaiting finish of 0 more threads\n",
            "INFO - 10:25:33: EPOCH - 18 : training on 517595 raw words (232044 effective words) took 3.3s, 69744 effective words/s\n",
            "INFO - 10:25:34: EPOCH 19 - PROGRESS: at 26.99% examples, 62386 words/s, in_qsize 1, out_qsize 0\n",
            "INFO - 10:25:35: EPOCH 19 - PROGRESS: at 54.14% examples, 61564 words/s, in_qsize 2, out_qsize 0\n",
            "INFO - 10:25:36: EPOCH 19 - PROGRESS: at 85.02% examples, 64153 words/s, in_qsize 2, out_qsize 0\n",
            "INFO - 10:25:37: worker thread finished; awaiting finish of 0 more threads\n",
            "INFO - 10:25:37: EPOCH - 19 : training on 517595 raw words (232619 effective words) took 3.5s, 66367 effective words/s\n",
            "INFO - 10:25:38: EPOCH 20 - PROGRESS: at 28.91% examples, 64329 words/s, in_qsize 1, out_qsize 0\n",
            "INFO - 10:25:39: EPOCH 20 - PROGRESS: at 59.95% examples, 66567 words/s, in_qsize 2, out_qsize 0\n",
            "INFO - 10:25:40: EPOCH 20 - PROGRESS: at 90.87% examples, 67208 words/s, in_qsize 0, out_qsize 0\n",
            "INFO - 10:25:40: worker thread finished; awaiting finish of 0 more threads\n",
            "INFO - 10:25:40: EPOCH - 20 : training on 517595 raw words (232218 effective words) took 3.4s, 68475 effective words/s\n",
            "INFO - 10:25:41: EPOCH 21 - PROGRESS: at 28.91% examples, 64306 words/s, in_qsize 1, out_qsize 0\n",
            "INFO - 10:25:42: EPOCH 21 - PROGRESS: at 61.88% examples, 67951 words/s, in_qsize 1, out_qsize 0\n",
            "INFO - 10:25:43: EPOCH 21 - PROGRESS: at 92.76% examples, 68263 words/s, in_qsize 2, out_qsize 0\n",
            "INFO - 10:25:43: worker thread finished; awaiting finish of 0 more threads\n",
            "INFO - 10:25:43: EPOCH - 21 : training on 517595 raw words (232229 effective words) took 3.3s, 70086 effective words/s\n",
            "INFO - 10:25:44: EPOCH 22 - PROGRESS: at 28.91% examples, 65907 words/s, in_qsize 1, out_qsize 0\n",
            "INFO - 10:25:45: EPOCH 22 - PROGRESS: at 56.08% examples, 64062 words/s, in_qsize 1, out_qsize 0\n",
            "INFO - 10:25:46: EPOCH 22 - PROGRESS: at 86.93% examples, 65935 words/s, in_qsize 1, out_qsize 0\n",
            "INFO - 10:25:47: worker thread finished; awaiting finish of 0 more threads\n",
            "INFO - 10:25:47: EPOCH - 22 : training on 517595 raw words (231694 effective words) took 3.4s, 67873 effective words/s\n",
            "INFO - 10:25:48: EPOCH 23 - PROGRESS: at 28.91% examples, 65535 words/s, in_qsize 1, out_qsize 0\n",
            "INFO - 10:25:49: EPOCH 23 - PROGRESS: at 59.95% examples, 67333 words/s, in_qsize 1, out_qsize 0\n",
            "INFO - 10:25:50: EPOCH 23 - PROGRESS: at 90.87% examples, 68236 words/s, in_qsize 1, out_qsize 0\n",
            "INFO - 10:25:50: worker thread finished; awaiting finish of 0 more threads\n",
            "INFO - 10:25:50: EPOCH - 23 : training on 517595 raw words (232094 effective words) took 3.3s, 69865 effective words/s\n",
            "INFO - 10:25:51: EPOCH 24 - PROGRESS: at 26.99% examples, 62187 words/s, in_qsize 0, out_qsize 0\n",
            "INFO - 10:25:52: EPOCH 24 - PROGRESS: at 58.01% examples, 66514 words/s, in_qsize 0, out_qsize 0\n",
            "INFO - 10:25:53: EPOCH 24 - PROGRESS: at 88.90% examples, 67483 words/s, in_qsize 0, out_qsize 0\n",
            "INFO - 10:25:53: worker thread finished; awaiting finish of 0 more threads\n",
            "INFO - 10:25:53: EPOCH - 24 : training on 517595 raw words (232402 effective words) took 3.4s, 68587 effective words/s\n",
            "INFO - 10:25:54: EPOCH 25 - PROGRESS: at 30.77% examples, 68822 words/s, in_qsize 0, out_qsize 0\n",
            "INFO - 10:25:55: EPOCH 25 - PROGRESS: at 61.88% examples, 69787 words/s, in_qsize 0, out_qsize 0\n",
            "INFO - 10:25:57: EPOCH 25 - PROGRESS: at 92.76% examples, 69728 words/s, in_qsize 1, out_qsize 0\n",
            "INFO - 10:25:57: worker thread finished; awaiting finish of 0 more threads\n",
            "INFO - 10:25:57: EPOCH - 25 : training on 517595 raw words (232580 effective words) took 3.3s, 70662 effective words/s\n",
            "INFO - 10:25:58: EPOCH 26 - PROGRESS: at 30.77% examples, 66741 words/s, in_qsize 0, out_qsize 0\n",
            "INFO - 10:25:59: EPOCH 26 - PROGRESS: at 58.01% examples, 63747 words/s, in_qsize 1, out_qsize 0\n",
            "INFO - 10:26:00: EPOCH 26 - PROGRESS: at 88.90% examples, 65945 words/s, in_qsize 1, out_qsize 0\n",
            "INFO - 10:26:00: worker thread finished; awaiting finish of 0 more threads\n",
            "INFO - 10:26:00: EPOCH - 26 : training on 517595 raw words (232172 effective words) took 3.4s, 67883 effective words/s\n",
            "INFO - 10:26:01: EPOCH 27 - PROGRESS: at 28.91% examples, 66744 words/s, in_qsize 0, out_qsize 0\n",
            "INFO - 10:26:02: EPOCH 27 - PROGRESS: at 59.95% examples, 66840 words/s, in_qsize 1, out_qsize 0\n",
            "INFO - 10:26:03: EPOCH 27 - PROGRESS: at 90.87% examples, 67949 words/s, in_qsize 2, out_qsize 0\n",
            "INFO - 10:26:03: worker thread finished; awaiting finish of 0 more threads\n",
            "INFO - 10:26:03: EPOCH - 27 : training on 517595 raw words (232151 effective words) took 3.3s, 69869 effective words/s\n",
            "INFO - 10:26:05: EPOCH 28 - PROGRESS: at 25.07% examples, 57252 words/s, in_qsize 1, out_qsize 0\n",
            "INFO - 10:26:06: EPOCH 28 - PROGRESS: at 56.08% examples, 63979 words/s, in_qsize 1, out_qsize 0\n",
            "INFO - 10:26:07: EPOCH 28 - PROGRESS: at 86.93% examples, 65712 words/s, in_qsize 1, out_qsize 0\n",
            "INFO - 10:26:07: worker thread finished; awaiting finish of 0 more threads\n",
            "INFO - 10:26:07: EPOCH - 28 : training on 517595 raw words (232319 effective words) took 3.4s, 67546 effective words/s\n",
            "INFO - 10:26:08: EPOCH 29 - PROGRESS: at 28.91% examples, 66018 words/s, in_qsize 0, out_qsize 0\n",
            "INFO - 10:26:09: EPOCH 29 - PROGRESS: at 59.95% examples, 66408 words/s, in_qsize 1, out_qsize 0\n",
            "INFO - 10:26:10: EPOCH 29 - PROGRESS: at 88.90% examples, 65655 words/s, in_qsize 1, out_qsize 0\n",
            "INFO - 10:26:10: worker thread finished; awaiting finish of 0 more threads\n",
            "INFO - 10:26:10: EPOCH - 29 : training on 517595 raw words (232128 effective words) took 3.4s, 67613 effective words/s\n",
            "INFO - 10:26:11: EPOCH 30 - PROGRESS: at 28.91% examples, 65311 words/s, in_qsize 1, out_qsize 0\n",
            "INFO - 10:26:12: EPOCH 30 - PROGRESS: at 59.95% examples, 68418 words/s, in_qsize 1, out_qsize 0\n",
            "INFO - 10:26:13: EPOCH 30 - PROGRESS: at 90.87% examples, 68587 words/s, in_qsize 1, out_qsize 0\n",
            "INFO - 10:26:14: worker thread finished; awaiting finish of 0 more threads\n",
            "INFO - 10:26:14: EPOCH - 30 : training on 517595 raw words (232313 effective words) took 3.3s, 70229 effective words/s\n",
            "INFO - 10:26:14: training on a 15527850 raw words (6968752 effective words) took 102.0s, 68303 effective words/s\n"
          ],
          "name": "stderr"
        },
        {
          "output_type": "execute_result",
          "data": {
            "text/plain": [
              "(6968752, 15527850)"
            ]
          },
          "metadata": {
            "tags": []
          },
          "execution_count": 36
        }
      ]
    },
    {
      "cell_type": "markdown",
      "metadata": {
        "id": "0YATrrUMhDjZ",
        "colab_type": "text"
      },
      "source": [
        "## Ahora con el modelo entrenado, podemos probar los resultados. \n",
        "Una de las claves del W2V es poder medir la similitud entre términos. Esto se hace mediante la famosa word mover distance, que es una variación de la distancia coseno entre los vectores de las palabras. \n",
        "\n",
        "Recuerda que en este caso, utilizamos los diálogos de los personajes, por lo que si buscamos lo más similar a \"Homer\", no vamos a obtener muchas de las tradicionales frases del personaje, ya que muy rara vez Homer se refirirá a sí mismo en tercera persona. Más bien, se obtiene las palabras que usualmente acompañan al nombre 'Homer'. "
      ]
    },
    {
      "cell_type": "code",
      "metadata": {
        "id": "sODb-fhmwN5Q",
        "colab_type": "code",
        "colab": {
          "base_uri": "https://localhost:8080/",
          "height": 263
        },
        "outputId": "984965ba-afaa-4a8f-e790-e751fdd776f1"
      },
      "source": [
        "# Palabra más similar a homero\n",
        "w2v_model.wv.most_similar(positive=[\"homer\"])"
      ],
      "execution_count": null,
      "outputs": [
        {
          "output_type": "stream",
          "text": [
            "INFO - 10:28:26: precomputing L2-norms of word weight vectors\n",
            "/usr/local/lib/python3.6/dist-packages/gensim/matutils.py:737: FutureWarning: Conversion of the second argument of issubdtype from `int` to `np.signedinteger` is deprecated. In future, it will be treated as `np.int64 == np.dtype(int).type`.\n",
            "  if np.issubdtype(vec.dtype, np.int):\n"
          ],
          "name": "stderr"
        },
        {
          "output_type": "execute_result",
          "data": {
            "text/plain": [
              "[('midge', 0.8948365449905396),\n",
              " ('darle', 0.8828686475753784),\n",
              " ('marge', 0.8738932013511658),\n",
              " ('spend_night', 0.8692078590393066),\n",
              " ('promise_will', 0.8662208318710327),\n",
              " ('stay_mad', 0.8652685880661011),\n",
              " ('uncomfortable', 0.8648900985717773),\n",
              " ('patty_selma', 0.8641324639320374),\n",
              " ('nervous', 0.8618057370185852),\n",
              " ('depressed', 0.8614036440849304)]"
            ]
          },
          "metadata": {
            "tags": []
          },
          "execution_count": 37
        }
      ]
    },
    {
      "cell_type": "code",
      "metadata": {
        "id": "pxSIKHDlxH47",
        "colab_type": "code",
        "colab": {
          "base_uri": "https://localhost:8080/",
          "height": 245
        },
        "outputId": "3c0a7e50-7d6e-4f31-f79c-19d8651433e2"
      },
      "source": [
        "w2v_model.wv.most_similar(positive=[\"homer_simpson\"])\n"
      ],
      "execution_count": null,
      "outputs": [
        {
          "output_type": "stream",
          "text": [
            "/usr/local/lib/python3.6/dist-packages/gensim/matutils.py:737: FutureWarning: Conversion of the second argument of issubdtype from `int` to `np.signedinteger` is deprecated. In future, it will be treated as `np.int64 == np.dtype(int).type`.\n",
            "  if np.issubdtype(vec.dtype, np.int):\n"
          ],
          "name": "stderr"
        },
        {
          "output_type": "execute_result",
          "data": {
            "text/plain": [
              "[('congratulation', 0.884566068649292),\n",
              " ('montgomery_burn', 0.8730427622795105),\n",
              " ('jebediah_springfield', 0.8557931184768677),\n",
              " ('founder', 0.8522995710372925),\n",
              " ('behalf', 0.8474843502044678),\n",
              " ('pageant', 0.8467399477958679),\n",
              " ('rep', 0.845910370349884),\n",
              " ('lady_gentleman', 0.8443204164505005),\n",
              " ('creator', 0.8416008949279785),\n",
              " ('discussion', 0.8411892652511597)]"
            ]
          },
          "metadata": {
            "tags": []
          },
          "execution_count": 38
        }
      ]
    },
    {
      "cell_type": "code",
      "metadata": {
        "id": "r7VfNgOvxUaB",
        "colab_type": "code",
        "colab": {
          "base_uri": "https://localhost:8080/",
          "height": 245
        },
        "outputId": "5f52d127-13f5-47b0-d1da-76bae722694a"
      },
      "source": [
        "w2v_model.wv.most_similar(positive=[\"marge\"])\n"
      ],
      "execution_count": null,
      "outputs": [
        {
          "output_type": "stream",
          "text": [
            "/usr/local/lib/python3.6/dist-packages/gensim/matutils.py:737: FutureWarning: Conversion of the second argument of issubdtype from `int` to `np.signedinteger` is deprecated. In future, it will be treated as `np.int64 == np.dtype(int).type`.\n",
            "  if np.issubdtype(vec.dtype, np.int):\n"
          ],
          "name": "stderr"
        },
        {
          "output_type": "execute_result",
          "data": {
            "text/plain": [
              "[('midge', 0.8752822875976562),\n",
              " ('homer', 0.8738933205604553),\n",
              " ('darle', 0.8682258725166321),\n",
              " ('sure', 0.8666001558303833),\n",
              " ('patty_selma', 0.8653042316436768),\n",
              " ('remarry', 0.8615561127662659),\n",
              " ('valentine_day', 0.8598241209983826),\n",
              " ('stay_mad', 0.85893714427948),\n",
              " ('jessica', 0.8505572080612183),\n",
              " ('shake_hand', 0.8496553897857666)]"
            ]
          },
          "metadata": {
            "tags": []
          },
          "execution_count": 39
        }
      ]
    },
    {
      "cell_type": "code",
      "metadata": {
        "id": "poEPLPlHxaX0",
        "colab_type": "code",
        "colab": {
          "base_uri": "https://localhost:8080/",
          "height": 245
        },
        "outputId": "d781f2cc-2df2-40e1-b724-f86d8699ea1a"
      },
      "source": [
        "w2v_model.wv.most_similar(positive=[\"bart\"])\n"
      ],
      "execution_count": null,
      "outputs": [
        {
          "output_type": "stream",
          "text": [
            "/usr/local/lib/python3.6/dist-packages/gensim/matutils.py:737: FutureWarning: Conversion of the second argument of issubdtype from `int` to `np.signedinteger` is deprecated. In future, it will be treated as `np.int64 == np.dtype(int).type`.\n",
            "  if np.issubdtype(vec.dtype, np.int):\n"
          ],
          "name": "stderr"
        },
        {
          "output_type": "execute_result",
          "data": {
            "text/plain": [
              "[('lisa', 0.8859776258468628),\n",
              " ('dr_hibbert', 0.8663898706436157),\n",
              " ('selfish', 0.8658609986305237),\n",
              " ('milhouse', 0.858832597732544),\n",
              " ('mom', 0.8539246916770935),\n",
              " ('learn_lesson', 0.8527716398239136),\n",
              " ('grownup', 0.8514267802238464),\n",
              " ('dad', 0.8492616415023804),\n",
              " ('surprised', 0.8449218273162842),\n",
              " ('vicki', 0.8431780934333801)]"
            ]
          },
          "metadata": {
            "tags": []
          },
          "execution_count": 40
        }
      ]
    },
    {
      "cell_type": "markdown",
      "metadata": {
        "id": "DppjLhghiSiE",
        "colab_type": "text"
      },
      "source": [
        "También podemos calcular la similitud entre dos términos. Por ejemplo, Moe y Tavern"
      ]
    },
    {
      "cell_type": "code",
      "metadata": {
        "id": "ePFIjAn7xeru",
        "colab_type": "code",
        "colab": {
          "base_uri": "https://localhost:8080/",
          "height": 89
        },
        "outputId": "659d2d81-19c8-49ad-ca40-4d8fdd6d70b7"
      },
      "source": [
        "w2v_model.wv.similarity(\"moe\", 'tavern')\n"
      ],
      "execution_count": null,
      "outputs": [
        {
          "output_type": "stream",
          "text": [
            "/usr/local/lib/python3.6/dist-packages/gensim/matutils.py:737: FutureWarning: Conversion of the second argument of issubdtype from `int` to `np.signedinteger` is deprecated. In future, it will be treated as `np.int64 == np.dtype(int).type`.\n",
            "  if np.issubdtype(vec.dtype, np.int):\n"
          ],
          "name": "stderr"
        },
        {
          "output_type": "execute_result",
          "data": {
            "text/plain": [
              "0.7319597"
            ]
          },
          "metadata": {
            "tags": []
          },
          "execution_count": 42
        }
      ]
    },
    {
      "cell_type": "code",
      "metadata": {
        "id": "z_R9HErpxksX",
        "colab_type": "code",
        "colab": {
          "base_uri": "https://localhost:8080/",
          "height": 89
        },
        "outputId": "e17c6c5b-c451-473c-e947-58360f4cbbd9"
      },
      "source": [
        "w2v_model.wv.similarity(\"barney\", 'drunk')\n"
      ],
      "execution_count": null,
      "outputs": [
        {
          "output_type": "stream",
          "text": [
            "/usr/local/lib/python3.6/dist-packages/gensim/matutils.py:737: FutureWarning: Conversion of the second argument of issubdtype from `int` to `np.signedinteger` is deprecated. In future, it will be treated as `np.int64 == np.dtype(int).type`.\n",
            "  if np.issubdtype(vec.dtype, np.int):\n"
          ],
          "name": "stderr"
        },
        {
          "output_type": "execute_result",
          "data": {
            "text/plain": [
              "0.76483864"
            ]
          },
          "metadata": {
            "tags": []
          },
          "execution_count": 45
        }
      ]
    },
    {
      "cell_type": "code",
      "metadata": {
        "id": "YH6UHHyAxpoq",
        "colab_type": "code",
        "colab": {
          "base_uri": "https://localhost:8080/",
          "height": 89
        },
        "outputId": "dd4d8f4e-2b9f-4670-f9f3-141c6ec2a169"
      },
      "source": [
        "w2v_model.wv.similarity('maggie', 'baby')\n"
      ],
      "execution_count": null,
      "outputs": [
        {
          "output_type": "stream",
          "text": [
            "/usr/local/lib/python3.6/dist-packages/gensim/matutils.py:737: FutureWarning: Conversion of the second argument of issubdtype from `int` to `np.signedinteger` is deprecated. In future, it will be treated as `np.int64 == np.dtype(int).type`.\n",
            "  if np.issubdtype(vec.dtype, np.int):\n"
          ],
          "name": "stderr"
        },
        {
          "output_type": "execute_result",
          "data": {
            "text/plain": [
              "0.7195895"
            ]
          },
          "metadata": {
            "tags": []
          },
          "execution_count": 49
        }
      ]
    },
    {
      "cell_type": "markdown",
      "metadata": {
        "id": "B7f1UOr5ieht",
        "colab_type": "text"
      },
      "source": [
        "Gensim también nos permite extraer el 'Outlier', o el valor atípico"
      ]
    },
    {
      "cell_type": "code",
      "metadata": {
        "id": "bEu9ZEU8xuiN",
        "colab_type": "code",
        "colab": {
          "base_uri": "https://localhost:8080/",
          "height": 125
        },
        "outputId": "43cbb6b7-f709-4bff-e763-dc2329ddf0ff"
      },
      "source": [
        "w2v_model.wv.doesnt_match(['jimbo', 'milhouse', 'kearney'])\n"
      ],
      "execution_count": null,
      "outputs": [
        {
          "output_type": "stream",
          "text": [
            "/usr/local/lib/python3.6/dist-packages/gensim/models/keyedvectors.py:895: FutureWarning: arrays to stack must be passed as a \"sequence\" type such as list or tuple. Support for non-sequence iterables such as generators is deprecated as of NumPy 1.16 and will raise an error in the future.\n",
            "  vectors = vstack(self.word_vec(word, use_norm=True) for word in used_words).astype(REAL)\n",
            "/usr/local/lib/python3.6/dist-packages/gensim/matutils.py:737: FutureWarning: Conversion of the second argument of issubdtype from `int` to `np.signedinteger` is deprecated. In future, it will be treated as `np.int64 == np.dtype(int).type`.\n",
            "  if np.issubdtype(vec.dtype, np.int):\n"
          ],
          "name": "stderr"
        },
        {
          "output_type": "execute_result",
          "data": {
            "application/vnd.google.colaboratory.intrinsic": {
              "type": "string"
            },
            "text/plain": [
              "'milhouse'"
            ]
          },
          "metadata": {
            "tags": []
          },
          "execution_count": 50
        }
      ]
    },
    {
      "cell_type": "code",
      "metadata": {
        "id": "cCAWQnXEx7Bl",
        "colab_type": "code",
        "colab": {
          "base_uri": "https://localhost:8080/",
          "height": 125
        },
        "outputId": "4a643d08-9d15-4307-dd9d-064bf2cafe5d"
      },
      "source": [
        "w2v_model.wv.doesnt_match([\"nelson\", \"bart\", \"milhouse\"])\n"
      ],
      "execution_count": null,
      "outputs": [
        {
          "output_type": "stream",
          "text": [
            "/usr/local/lib/python3.6/dist-packages/gensim/models/keyedvectors.py:895: FutureWarning: arrays to stack must be passed as a \"sequence\" type such as list or tuple. Support for non-sequence iterables such as generators is deprecated as of NumPy 1.16 and will raise an error in the future.\n",
            "  vectors = vstack(self.word_vec(word, use_norm=True) for word in used_words).astype(REAL)\n",
            "/usr/local/lib/python3.6/dist-packages/gensim/matutils.py:737: FutureWarning: Conversion of the second argument of issubdtype from `int` to `np.signedinteger` is deprecated. In future, it will be treated as `np.int64 == np.dtype(int).type`.\n",
            "  if np.issubdtype(vec.dtype, np.int):\n"
          ],
          "name": "stderr"
        },
        {
          "output_type": "execute_result",
          "data": {
            "application/vnd.google.colaboratory.intrinsic": {
              "type": "string"
            },
            "text/plain": [
              "'nelson'"
            ]
          },
          "metadata": {
            "tags": []
          },
          "execution_count": 51
        }
      ]
    },
    {
      "cell_type": "markdown",
      "metadata": {
        "id": "iC5bFfiLy0RE",
        "colab_type": "text"
      },
      "source": [
        "### Diferencia Análoga:\n",
        "\n",
        "Esto se podria entender como 'ecuaciones' con los embeddings. Es decir, por ejemplo, tomamos el vector de Woman, le sumamos el de Bart y le restamos el de Man. \n",
        "\n",
        "También se interpreta como, qué palabra es para Woman lo que Bart es para Man. \n",
        "Veamos qué resulta...\n",
        "\n"
      ]
    },
    {
      "cell_type": "code",
      "metadata": {
        "id": "l_EoVZJkyAxO",
        "colab_type": "code",
        "colab": {
          "base_uri": "https://localhost:8080/",
          "height": 124
        },
        "outputId": "9639353a-7852-464b-85c2-2177aa6a7214"
      },
      "source": [
        "w2v_model.wv.most_similar(positive=[\"woman\", \"bart\"], negative=[\"man\"], topn=3)"
      ],
      "execution_count": null,
      "outputs": [
        {
          "output_type": "stream",
          "text": [
            "/usr/local/lib/python3.6/dist-packages/gensim/matutils.py:737: FutureWarning: Conversion of the second argument of issubdtype from `int` to `np.signedinteger` is deprecated. In future, it will be treated as `np.int64 == np.dtype(int).type`.\n",
            "  if np.issubdtype(vec.dtype, np.int):\n"
          ],
          "name": "stderr"
        },
        {
          "output_type": "execute_result",
          "data": {
            "text/plain": [
              "[('lisa', 0.8023455739021301),\n",
              " ('parent', 0.7712669968605042),\n",
              " ('teach', 0.7618933916091919)]"
            ]
          },
          "metadata": {
            "tags": []
          },
          "execution_count": 52
        }
      ]
    },
    {
      "cell_type": "code",
      "metadata": {
        "id": "x6c3DwvQyOs6",
        "colab_type": "code",
        "colab": {
          "base_uri": "https://localhost:8080/",
          "height": 124
        },
        "outputId": "fd95e253-1c06-4f3e-8953-ac7bb872c202"
      },
      "source": [
        "w2v_model.wv.most_similar(positive=[\"wife\",'marge'], negative=[\"homer\"], topn=3)"
      ],
      "execution_count": null,
      "outputs": [
        {
          "output_type": "stream",
          "text": [
            "/usr/local/lib/python3.6/dist-packages/gensim/matutils.py:737: FutureWarning: Conversion of the second argument of issubdtype from `int` to `np.signedinteger` is deprecated. In future, it will be treated as `np.int64 == np.dtype(int).type`.\n",
            "  if np.issubdtype(vec.dtype, np.int):\n"
          ],
          "name": "stderr"
        },
        {
          "output_type": "execute_result",
          "data": {
            "text/plain": [
              "[('husband', 0.8362075090408325),\n",
              " ('date', 0.8032988905906677),\n",
              " ('wonderful', 0.7807196378707886)]"
            ]
          },
          "metadata": {
            "tags": []
          },
          "execution_count": 59
        }
      ]
    },
    {
      "cell_type": "markdown",
      "metadata": {
        "id": "LR9JmAGjzPkZ",
        "colab_type": "text"
      },
      "source": [
        "## Visualizaciones "
      ]
    },
    {
      "cell_type": "code",
      "metadata": {
        "id": "wXgX48bMzQ_V",
        "colab_type": "code",
        "colab": {
          "base_uri": "https://localhost:8080/",
          "height": 72
        },
        "outputId": "cbc500e4-0ff7-44d5-d8a6-6eba95c7d2d4"
      },
      "source": [
        "import numpy as np\n",
        "import matplotlib.pyplot as plt\n",
        "%matplotlib inline\n",
        " \n",
        "import seaborn as sns\n",
        "sns.set_style(\"darkgrid\")\n",
        "\n",
        "from sklearn.decomposition import PCA\n",
        "from sklearn.manifold import TSNE\n",
        "\n",
        "\n",
        "def tsnescatterplot(model, word, list_names):\n",
        "    \"\"\" \n",
        "    Plot in seaborn the results from the t-SNE dimensionality reduction algorithm of the vectors of a query word,\n",
        "    its list of most similar words, and a list of words.\n",
        "    :param model: A gensim word2vec model. \n",
        "    :param word: Keyword to compare to the list_names\n",
        "    :param list_names: A user defined set list of words to compare to the main word.\n",
        "    :return: A plot\n",
        "    \"\"\"\n",
        "    arrays = np.empty((0, 300), dtype='f')\n",
        "    word_labels = [word]\n",
        "    color_list  = ['red']\n",
        "\n",
        "    # adds the vector of the query word\n",
        "    arrays = np.append(arrays, model.wv.__getitem__([word]), axis=0)\n",
        "    \n",
        "    # gets list of most similar words\n",
        "    close_words = model.wv.most_similar([word])\n",
        "    \n",
        "    # adds the vector for each of the closest words to the array\n",
        "    for wrd_score in close_words:\n",
        "        wrd_vector = model.wv.__getitem__([wrd_score[0]])\n",
        "        word_labels.append(wrd_score[0])\n",
        "        color_list.append('blue')\n",
        "        arrays = np.append(arrays, wrd_vector, axis=0)\n",
        "    \n",
        "    # adds the vector for each of the words from list_names to the array\n",
        "    for wrd in list_names:\n",
        "        wrd_vector = model.wv.__getitem__([wrd])\n",
        "        word_labels.append(wrd)\n",
        "        color_list.append('green')\n",
        "        arrays = np.append(arrays, wrd_vector, axis=0)\n",
        "        \n",
        "    # Reduces the dimensionality from 300 to 20 dimensions with PCA\n",
        "    reduc = PCA(n_components=20).fit_transform(arrays)\n",
        "    \n",
        "    # Finds t-SNE coordinates for 2 dimensions\n",
        "    np.set_printoptions(suppress=True)\n",
        "    \n",
        "    Y = TSNE(n_components=2, random_state=0, perplexity=15).fit_transform(reduc)\n",
        "    \n",
        "    # Sets everything up to plot\n",
        "    df = pd.DataFrame({'x': [x for x in Y[:, 0]],\n",
        "                       'y': [y for y in Y[:, 1]],\n",
        "                       'words': word_labels,\n",
        "                       'color': color_list})\n",
        "    \n",
        "    fig, _ = plt.subplots()\n",
        "    fig.set_size_inches(9, 9)\n",
        "    \n",
        "    # Basic plot\n",
        "    p1 = sns.regplot(data=df,\n",
        "                     x=\"x\",\n",
        "                     y=\"y\",\n",
        "                     fit_reg=False,\n",
        "                     marker=\"o\",\n",
        "                     scatter_kws={'s': 40,\n",
        "                                  'facecolors': df['color']\n",
        "                                 }\n",
        "                    )\n",
        "    \n",
        "    # Adds annotations one by one with a loop\n",
        "    for line in range(0, df.shape[0]):\n",
        "         p1.text(df[\"x\"][line],\n",
        "                 df['y'][line],\n",
        "                 '  ' + df[\"words\"][line].title(),\n",
        "                 horizontalalignment='left',\n",
        "                 verticalalignment='bottom', size='medium',\n",
        "                 color=df['color'][line],\n",
        "                 weight='normal'\n",
        "                ).set_size(15)\n",
        "\n",
        "    \n",
        "    plt.xlim(Y[:, 0].min()-50, Y[:, 0].max()+50)\n",
        "    plt.ylim(Y[:, 1].min()-50, Y[:, 1].max()+50)\n",
        "            \n",
        "    plt.title(f't-SNE visualization for {word.title()}')\n",
        "    plt.show();"
      ],
      "execution_count": null,
      "outputs": [
        {
          "output_type": "stream",
          "text": [
            "/usr/local/lib/python3.6/dist-packages/statsmodels/tools/_testing.py:19: FutureWarning: pandas.util.testing is deprecated. Use the functions in the public API at pandas.testing instead.\n",
            "  import pandas.util.testing as tm\n"
          ],
          "name": "stderr"
        }
      ]
    },
    {
      "cell_type": "code",
      "metadata": {
        "id": "IMdp1ZiezaiC",
        "colab_type": "code",
        "colab": {
          "base_uri": "https://localhost:8080/",
          "height": 622
        },
        "outputId": "c162871d-f819-4930-c54f-4bdfa84dbeb6"
      },
      "source": [
        "main_word = \"homer\"\n",
        "alternative_list =  [i[0] for i in w2v_model.wv.most_similar(negative=[main_word])] # negative words \n",
        "tsnescatterplot(w2v_model, main_word, alternative_list)"
      ],
      "execution_count": null,
      "outputs": [
        {
          "output_type": "stream",
          "text": [
            "/usr/local/lib/python3.6/dist-packages/gensim/matutils.py:737: FutureWarning: Conversion of the second argument of issubdtype from `int` to `np.signedinteger` is deprecated. In future, it will be treated as `np.int64 == np.dtype(int).type`.\n",
            "  if np.issubdtype(vec.dtype, np.int):\n"
          ],
          "name": "stderr"
        },
        {
          "output_type": "display_data",
          "data": {
            "image/png": "[encoded data removed]",
            "text/plain": [
              "<Figure size 648x648 with 1 Axes>"
            ]
          },
          "metadata": {
            "tags": []
          }
        }
      ]
    },
    {
      "cell_type": "code",
      "metadata": {
        "id": "USL1AoD_zhr3",
        "colab_type": "code",
        "colab": {
          "base_uri": "https://localhost:8080/",
          "height": 622
        },
        "outputId": "a1f970eb-2a5d-443d-a109-e80b7ca418d9"
      },
      "source": [
        "main_word = \"mr_burn\"\n",
        "alternative_list =  [i[0] for i in w2v_model.wv.most_similar(negative=[main_word])] # negative words \n",
        "tsnescatterplot(w2v_model, main_word, alternative_list)"
      ],
      "execution_count": null,
      "outputs": [
        {
          "output_type": "stream",
          "text": [
            "/usr/local/lib/python3.6/dist-packages/gensim/matutils.py:737: FutureWarning: Conversion of the second argument of issubdtype from `int` to `np.signedinteger` is deprecated. In future, it will be treated as `np.int64 == np.dtype(int).type`.\n",
            "  if np.issubdtype(vec.dtype, np.int):\n"
          ],
          "name": "stderr"
        },
        {
          "output_type": "display_data",
          "data": {
            "image/png": "[encoded data removed]",
            "text/plain": [
              "<Figure size 648x648 with 1 Axes>"
            ]
          },
          "metadata": {
            "tags": []
          }
        }
      ]
    },
    {
      "cell_type": "code",
      "metadata": {
        "id": "Tjf0Qn1WzvSw",
        "colab_type": "code",
        "colab": {
          "base_uri": "https://localhost:8080/",
          "height": 622
        },
        "outputId": "276e5484-53de-4a47-e411-f99b61ce820e"
      },
      "source": [
        "main_word = \"barney\"\n",
        "alternative_list =  [i[0] for i in w2v_model.wv.most_similar(negative=[main_word])] # negative words \n",
        "tsnescatterplot(w2v_model, main_word, alternative_list)"
      ],
      "execution_count": null,
      "outputs": [
        {
          "output_type": "stream",
          "text": [
            "/usr/local/lib/python3.6/dist-packages/gensim/matutils.py:737: FutureWarning: Conversion of the second argument of issubdtype from `int` to `np.signedinteger` is deprecated. In future, it will be treated as `np.int64 == np.dtype(int).type`.\n",
            "  if np.issubdtype(vec.dtype, np.int):\n"
          ],
          "name": "stderr"
        },
        {
          "output_type": "display_data",
          "data": {
            "image/png": "[encoded data removed]",
            "text/plain": [
              "<Figure size 648x648 with 1 Axes>"
            ]
          },
          "metadata": {
            "tags": []
          }
        }
      ]
    },
    {
      "cell_type": "markdown",
      "metadata": {
        "id": "VNtuQO07VjuZ",
        "colab_type": "text"
      },
      "source": [
        "# Cargar un modelo pre-entrenado.\n",
        "\n",
        "No siempre será necesario entrenar un modelo propio y específico para el caso de uso. En internet y dentro de la misma librería Gensim se pueden encontrar varios modelos entrenados previamente con diferentes corpus y que tendrán mejor o peor desempeño dependiendo de la industria y caso de uso. Por ejemplo, se pueden encontrar modelos generalistas entrenados con artículos de Wikipedia, u otros más especializados con artículos médicos como los de [SciSpacy](https://allenai.github.io/scispacy/)\n",
        "\n",
        "Esto nos permitirá aprovechar de las múltiples funcionalidades de un Embedding sin tener que pasar por la costosa fase de entrenamiento.\n",
        "\n",
        "En Gensim podemos utilizar algunos de los modelos y corpus ya preparados de esta [lista](https://radimrehurek.com/gensim/auto_examples/howtos/run_downloader_api.html)\n",
        "\n",
        "\n",
        "Para este caso cargaremos el famoso [Glove Wiki Gigaword (50)](https://nlp.stanford.edu/projects/glove/) que es otra aproximación de word embeddings. El Word2Vec toma los textos como datos de entrenamiento para una red neuronal. Los vectores resultantes captan si las palabras aparecen en contextos similares. GloVe se centra en las co-ocurrencias de palabras en todo el corpus. Sus vectores se relacionan con las probabilidades de que dos palabras aparezcan juntas. Sin embargo, a pesar de que su entrenamiento y marco teorico sean distitnos, en Gensim su uso es prácticamente igual. "
      ]
    },
    {
      "cell_type": "code",
      "metadata": {
        "id": "GphAMLqwVp6I",
        "colab_type": "code",
        "colab": {
          "base_uri": "https://localhost:8080/",
          "height": 72
        },
        "outputId": "a21a5c67-f957-4ed3-cce9-58de951bf1f2"
      },
      "source": [
        "import gensim.downloader as api\n",
        "# Cargamos el modelo en memoria\n",
        "model = api.load('glove-wiki-gigaword-50')"
      ],
      "execution_count": null,
      "outputs": [
        {
          "output_type": "stream",
          "text": [
            "/usr/local/lib/python3.6/dist-packages/smart_open/smart_open_lib.py:254: UserWarning: This function is deprecated, use smart_open.open instead. See the migration notes for details: https://github.com/RaRe-Technologies/smart_open/blob/master/README.rst#migrating-to-the-new-open-function\n",
            "  'See the migration notes for details: %s' % _MIGRATION_NOTES_URL\n"
          ],
          "name": "stderr"
        }
      ]
    },
    {
      "cell_type": "code",
      "metadata": {
        "id": "ggJzn0Xkn2DT",
        "colab_type": "code",
        "colab": {
          "base_uri": "https://localhost:8080/",
          "height": 280
        },
        "outputId": "696e1333-ef73-41a8-ab7a-d83a89d9aaaf"
      },
      "source": [
        "# Lo probamos :) \n",
        "model.wv.most_similar(positive=[\"tree\"])"
      ],
      "execution_count": null,
      "outputs": [
        {
          "output_type": "stream",
          "text": [
            "/usr/local/lib/python3.6/dist-packages/ipykernel_launcher.py:2: DeprecationWarning: Call to deprecated `wv` (Attribute will be removed in 4.0.0, use self instead).\n",
            "  \n",
            "/usr/local/lib/python3.6/dist-packages/gensim/matutils.py:737: FutureWarning: Conversion of the second argument of issubdtype from `int` to `np.signedinteger` is deprecated. In future, it will be treated as `np.int64 == np.dtype(int).type`.\n",
            "  if np.issubdtype(vec.dtype, np.int):\n"
          ],
          "name": "stderr"
        },
        {
          "output_type": "execute_result",
          "data": {
            "text/plain": [
              "[('trees', 0.887702465057373),\n",
              " ('pine', 0.78980553150177),\n",
              " ('flower', 0.7542153000831604),\n",
              " ('oak', 0.7453586459159851),\n",
              " ('green', 0.7451863288879395),\n",
              " ('leaf', 0.7414467334747314),\n",
              " ('bark', 0.719155490398407),\n",
              " ('planted', 0.7050560712814331),\n",
              " ('cedar', 0.7033277153968811),\n",
              " ('garden', 0.7028761506080627)]"
            ]
          },
          "metadata": {
            "tags": []
          },
          "execution_count": 2
        }
      ]
    },
    {
      "cell_type": "code",
      "metadata": {
        "id": "3eRWL7IMo77l",
        "colab_type": "code",
        "colab": {
          "base_uri": "https://localhost:8080/",
          "height": 280
        },
        "outputId": "31b33d09-da8b-43ed-862e-bbca0db75d14"
      },
      "source": [
        "model.wv.most_similar(positive=[\"queen\"])"
      ],
      "execution_count": null,
      "outputs": [
        {
          "output_type": "stream",
          "text": [
            "/usr/local/lib/python3.6/dist-packages/ipykernel_launcher.py:1: DeprecationWarning: Call to deprecated `wv` (Attribute will be removed in 4.0.0, use self instead).\n",
            "  \"\"\"Entry point for launching an IPython kernel.\n",
            "/usr/local/lib/python3.6/dist-packages/gensim/matutils.py:737: FutureWarning: Conversion of the second argument of issubdtype from `int` to `np.signedinteger` is deprecated. In future, it will be treated as `np.int64 == np.dtype(int).type`.\n",
            "  if np.issubdtype(vec.dtype, np.int):\n"
          ],
          "name": "stderr"
        },
        {
          "output_type": "execute_result",
          "data": {
            "text/plain": [
              "[('princess', 0.851516604423523),\n",
              " ('lady', 0.805060863494873),\n",
              " ('elizabeth', 0.787304162979126),\n",
              " ('king', 0.7839042544364929),\n",
              " ('prince', 0.7821860909461975),\n",
              " ('coronation', 0.7692778706550598),\n",
              " ('consort', 0.7626097202301025),\n",
              " ('royal', 0.7442864775657654),\n",
              " ('crown', 0.7382649779319763),\n",
              " ('victoria', 0.7285771369934082)]"
            ]
          },
          "metadata": {
            "tags": []
          },
          "execution_count": 3
        }
      ]
    },
    {
      "cell_type": "markdown",
      "metadata": {
        "id": "l88Zcr1Tsq0X",
        "colab_type": "text"
      },
      "source": [
        "Podemos ver que relaciona términos parecidos correctamente, pero,  ¿realmente entiende el contexto? Hagamos una prueba. En teoría, si yo tomo el vector de la palabra rey, le sumo el vector de la palabra mujer y le resto el vector de la palabra hombre, debería tener su contra-parte mujer, es decir, Reina. \n",
        "Lo probamos!"
      ]
    },
    {
      "cell_type": "code",
      "metadata": {
        "id": "2fcPSbGjpNTq",
        "colab_type": "code",
        "colab": {
          "base_uri": "https://localhost:8080/",
          "height": 159
        },
        "outputId": "ea58649d-7a8f-4772-e480-ffe1d9fbd90f"
      },
      "source": [
        "model.wv.most_similar(positive=[\"king\",'woman'], negative=[\"man\"], topn=3)"
      ],
      "execution_count": null,
      "outputs": [
        {
          "output_type": "stream",
          "text": [
            "/usr/local/lib/python3.6/dist-packages/ipykernel_launcher.py:1: DeprecationWarning: Call to deprecated `wv` (Attribute will be removed in 4.0.0, use self instead).\n",
            "  \"\"\"Entry point for launching an IPython kernel.\n",
            "/usr/local/lib/python3.6/dist-packages/gensim/matutils.py:737: FutureWarning: Conversion of the second argument of issubdtype from `int` to `np.signedinteger` is deprecated. In future, it will be treated as `np.int64 == np.dtype(int).type`.\n",
            "  if np.issubdtype(vec.dtype, np.int):\n"
          ],
          "name": "stderr"
        },
        {
          "output_type": "execute_result",
          "data": {
            "text/plain": [
              "[('queen', 0.8523603677749634),\n",
              " ('throne', 0.7664334177970886),\n",
              " ('prince', 0.759214460849762)]"
            ]
          },
          "metadata": {
            "tags": []
          },
          "execution_count": 4
        }
      ]
    },
    {
      "cell_type": "markdown",
      "metadata": {
        "id": "ZLWkpzJxtL0B",
        "colab_type": "text"
      },
      "source": [
        "# Comparando frases con Word-Embeddings\n",
        "\n",
        "Ya hemos comprobado que estos modelos son capaces de entender palabras sueltas y relacionarlas entre ellas, sin embargo, lo que realmente nos interesa es que estos algoritmos logren entender frases, artículos y guiones para que puedan tener aplicaciones 'de la vida real'. \n",
        "**Para ello, vamos a crear un mini-buscador inteligente.**"
      ]
    },
    {
      "cell_type": "code",
      "metadata": {
        "id": "x5zx8Kc7zKCw",
        "colab_type": "code",
        "colab": {
          "base_uri": "https://localhost:8080/",
          "height": 87
        },
        "outputId": "212c3ece-b148-418e-99cf-2f8e4e6fa9b0"
      },
      "source": [
        "import nltk\n",
        "from nltk import word_tokenize\n",
        "from nltk.corpus import stopwords \n",
        "import re\n",
        "import numpy as np\n",
        "import pandas as pd\n",
        "from nltk.stem import PorterStemmer, WordNetLemmatizer\n",
        "nltk.download('wordnet')\n",
        "nltk.download(\"stopwords\")\n",
        "stopwords_en = stopwords.words(\"english\")"
      ],
      "execution_count": null,
      "outputs": [
        {
          "output_type": "stream",
          "text": [
            "[nltk_data] Downloading package wordnet to /root/nltk_data...\n",
            "[nltk_data]   Package wordnet is already up-to-date!\n",
            "[nltk_data] Downloading package stopwords to /root/nltk_data...\n",
            "[nltk_data]   Package stopwords is already up-to-date!\n"
          ],
          "name": "stdout"
        }
      ]
    },
    {
      "cell_type": "code",
      "metadata": {
        "id": "4qP7ZmByyyPE",
        "colab_type": "code",
        "colab": {}
      },
      "source": [
        "def doc2vec(word2vec, tokenized_sentence):\n",
        "  \"\"\"\n",
        "  Obtiene vectores de un conjunto de palabras (oracion) \n",
        "  :param word2vec: Modelo de Word2Vec o similar entrenado por Gensim\n",
        "  :param tokenized_sentence: iterable de tokens.\n",
        "  :return: Un array con los vectores. \n",
        "  \"\"\"\n",
        "  try: \n",
        "    words = [word for word in tokenized_sentence if word in word2vec.vocab]\n",
        "  except: \n",
        "    words = [word for word in tokenized_sentence if word in word2vec.wv.vocab]\n",
        "  if len(words) > 0:\n",
        "    return np.mean(word2vec[words], axis=0)\n",
        "  else:\n",
        "    return np.array([])\n",
        "\n",
        "def tokenizer(text, stem_or_lemmatize=\"stem\", pos=\"n\"):\n",
        "  \"\"\"\n",
        "  Tokeniza el texto utilizando el RegexpTokenizer. \n",
        "  También elimina stopwords y lematiza o 'stemmatiza' los tokens. \n",
        "  :param text: Cadena de texto \n",
        "  :param stem_or_lemmatize: parametro para realizar stemming o lemmatization, \n",
        "    opciones son {'stem','lemmatize','none'}\n",
        "  :param pos: Pos según describe NLTK en la lematización, por defecto es 'n'\n",
        "  :return: Lista de tokens. \n",
        "  \"\"\"\n",
        "  min_length = 3\n",
        "  reg_tokenizer = nltk.RegexpTokenizer(r\"\\w+\")\n",
        "  words = map(lambda word: word.lower(), reg_tokenizer.tokenize(text))\n",
        "  #####\n",
        "  words = [word for word in words if word not in stopwords_en and len(word) >= min_length]\n",
        "  if stem_or_lemmatize == \"stem\":\n",
        "    tokens = (list(map(lambda token: PorterStemmer().stem(token), words)))\n",
        "  elif stem_or_lemmatize == \"lemmatize\":\n",
        "    tokens = (list(map(lambda token: WordNetLemmatizer().lemmatize(token, pos=pos), words)))\n",
        "  elif stem_or_lemmatize == \"none\":\n",
        "    tokens = words\n",
        "  else:\n",
        "    raise Exception(\"Unknown stem_or_lemmatize parameter: \"+stem_or_lemmatize)\n",
        "  p = re.compile(\"[a-zA-Z]+\")\n",
        "  tokens = list(filter(lambda token: p.match(token) and len(token) >= min_length, tokens))\n",
        "  return tokens\n",
        "\n",
        "\n",
        "def tokenize_sentences(sentences, stem_or_lemmatize=\"lemmatize\", pos=\"n\"):\n",
        "  \"\"\"\n",
        "  tokenize sentences\n",
        "  \"\"\"\n",
        "  return [tokenizer(s, stem_or_lemmatize, pos) for s in sentences]\n",
        "\n",
        "def similarity(vec_1, vec_2):\n",
        "  \"\"\"\n",
        "  Aplica similitud coseno entre dos vectores. \n",
        "  :param vec_1,vec2: vector tipo array \n",
        "  :return: Float \n",
        "  \"\"\"\n",
        "  if len(vec_1) == 0 or len(vec_2) == 0:\n",
        "    return 0.0\n",
        "  return np.dot(vec_1, vec_2) / (np.linalg.norm(vec_1) * np.linalg.norm(vec_2))\n"
      ],
      "execution_count": null,
      "outputs": []
    },
    {
      "cell_type": "code",
      "metadata": {
        "id": "K-cYrwpXb_GR",
        "colab_type": "code",
        "colab": {}
      },
      "source": [
        "def realizar_consulta(top_n = 3): \n",
        "  query = input('Su búsqueda (inglés):')\n",
        "  token_query = tokenizer(query) # Tokenizamos la query\n",
        "  query_embedding = doc2vec(model, token_query) # sacamos los vectores\n",
        "  sim_matrix = [similarity(query_embedding, vec_2) for vec_2 in embeddings_2] # similitud con corpus\n",
        "  sentence_indeces = np.argsort(sim_matrix, axis=0)[::-1][:top_n] # ordenamos y elegimos los top_n\n",
        "  # imprimimos resultados\n",
        "  print(f'Query original: {query}')\n",
        "  print('--------------------')\n",
        "  print('Oraciones más similares encontradas...')\n",
        "  for index in sentence_indeces: \n",
        "    print(f'Oracion: {sentences_2[index]} -- > con similitud :{sim_matrix[index]}')\n"
      ],
      "execution_count": null,
      "outputs": []
    },
    {
      "cell_type": "code",
      "metadata": {
        "id": "Pwti17XJby4e",
        "colab_type": "code",
        "colab": {}
      },
      "source": [
        "lista_canciones = [\n",
        "                  \"hold the line, love isn't always on time.\", \n",
        "                  \"it's my life, it's now or never, I'm not gonna live for ever\",\n",
        "                  \"Nothing to prove and I'm bulletproof and Know what I'm doing The way we're movin' like introducing\", \n",
        "                  \"Beat it, beat it no one wants to be defeated\", \n",
        "                  \"Near, far, wherever you are, I believe that the heart does go on. Once more you open the door\",\n",
        "                  \"I'm Slim Shady, yes I'm the real Shady. All you other Slim Shadys are just imitating\", \n",
        "                  'I want to fly like and eagle' \n",
        "                  ]\n",
        "\n",
        "# Preparamos los vectores del corpus de consulta\n",
        "sentences_2 = lista_canciones # Lista donde vamos a buscar lo más similar\n",
        "tok_sentences_2 = tokenize_sentences(sentences_2) # tokenizamos\n",
        "embeddings_2 = [doc2vec(\n",
        "    model, tok_sent) for tok_sent in tok_sentences_2] # Pasamos a vectores\n"
      ],
      "execution_count": null,
      "outputs": []
    },
    {
      "cell_type": "markdown",
      "metadata": {
        "id": "-G7BL-JLbHKF",
        "colab_type": "text"
      },
      "source": [
        "Algunas queries que vamos a probar con nuestro mini-buscador: \n",
        "\n",
        "- I wish to glide like a feathered animal. \n",
        "- Eminem \n",
        "- No need to hurry for love, there is always time\n",
        "- This is the moment, I live in the present\n",
        "- I will love you always, no matter where you are"
      ]
    },
    {
      "cell_type": "code",
      "metadata": {
        "id": "RbAIgOXZc1kD",
        "colab_type": "code",
        "colab": {
          "base_uri": "https://localhost:8080/",
          "height": 139
        },
        "outputId": "19638c34-e5d6-46c0-dce0-301f1739befb"
      },
      "source": [
        "realizar_consulta(top_n = 3)"
      ],
      "execution_count": null,
      "outputs": [
        {
          "output_type": "stream",
          "text": [
            "Su búsqueda (inglés):I wish to glide like a feathered animal\n",
            "Query original: I wish to glide like a feathered animal\n",
            "--------------------\n",
            "Oraciones más similares encontradas...\n",
            "Oracion: I want to fly like and eagle -- > con similitud :0.7338992953300476\n",
            "Oracion: Nothing to prove and I'm bulletproof and Know what I'm doing The way we're movin' like introducing -- > con similitud :0.6928609609603882\n",
            "Oracion: hold the line, love isn't always on time. -- > con similitud :0.6345545053482056\n"
          ],
          "name": "stdout"
        }
      ]
    },
    {
      "cell_type": "code",
      "metadata": {
        "id": "clX0n_azdDJC",
        "colab_type": "code",
        "colab": {
          "base_uri": "https://localhost:8080/",
          "height": 139
        },
        "outputId": "8bc6df11-2726-44c8-cd4e-cd82ebe20438"
      },
      "source": [
        "realizar_consulta(top_n = 3)"
      ],
      "execution_count": null,
      "outputs": [
        {
          "output_type": "stream",
          "text": [
            "Su búsqueda (inglés):Eminem\n",
            "Query original: Eminem\n",
            "--------------------\n",
            "Oraciones más similares encontradas...\n",
            "Oracion: I'm Slim Shady, yes I'm the real Shady. All you other Slim Shadys are just imitating -- > con similitud :0.4656716585159302\n",
            "Oracion: it's my life, it's now or never, I'm not gonna live for ever -- > con similitud :0.36964696645736694\n",
            "Oracion: Nothing to prove and I'm bulletproof and Know what I'm doing The way we're movin' like introducing -- > con similitud :0.27201056480407715\n"
          ],
          "name": "stdout"
        }
      ]
    },
    {
      "cell_type": "code",
      "metadata": {
        "id": "IiKrjHqNdTvi",
        "colab_type": "code",
        "colab": {
          "base_uri": "https://localhost:8080/",
          "height": 139
        },
        "outputId": "3511b380-4b7f-4b4f-d65a-d7cc764d0ea0"
      },
      "source": [
        "realizar_consulta(top_n=3)"
      ],
      "execution_count": null,
      "outputs": [
        {
          "output_type": "stream",
          "text": [
            "Su búsqueda (inglés):no need to hurry for love, there is always time\n",
            "Query original: no need to hurry for love, there is always time\n",
            "--------------------\n",
            "Oraciones más similares encontradas...\n",
            "Oracion: it's my life, it's now or never, I'm not gonna live for ever -- > con similitud :0.9209719300270081\n",
            "Oracion: hold the line, love isn't always on time. -- > con similitud :0.9146296977996826\n",
            "Oracion: Nothing to prove and I'm bulletproof and Know what I'm doing The way we're movin' like introducing -- > con similitud :0.8979282975196838\n"
          ],
          "name": "stdout"
        }
      ]
    },
    {
      "cell_type": "code",
      "metadata": {
        "id": "JH_4M7bSd660",
        "colab_type": "code",
        "colab": {
          "base_uri": "https://localhost:8080/",
          "height": 139
        },
        "outputId": "028a1605-058c-413e-9781-6cee5f96f7ba"
      },
      "source": [
        "realizar_consulta(top_n=3)"
      ],
      "execution_count": null,
      "outputs": [
        {
          "output_type": "stream",
          "text": [
            "Su búsqueda (inglés):This is the moment, I live in the present\n",
            "Query original: This is the moment, I live in the present\n",
            "--------------------\n",
            "Oraciones más similares encontradas...\n",
            "Oracion: it's my life, it's now or never, I'm not gonna live for ever -- > con similitud :0.9004890322685242\n",
            "Oracion: hold the line, love isn't always on time. -- > con similitud :0.8833960890769958\n",
            "Oracion: Near, far, wherever you are, I believe that the heart does go on. Once more you open the door -- > con similitud :0.8435309529304504\n"
          ],
          "name": "stdout"
        }
      ]
    },
    {
      "cell_type": "code",
      "metadata": {
        "id": "jWDPwWyhed32",
        "colab_type": "code",
        "colab": {
          "base_uri": "https://localhost:8080/",
          "height": 139
        },
        "outputId": "cd44651b-a303-4587-83b3-6493d1dee80f"
      },
      "source": [
        "realizar_consulta(top_n=3)\n"
      ],
      "execution_count": null,
      "outputs": [
        {
          "output_type": "stream",
          "text": [
            "Su búsqueda (inglés):Our love is rooted in my chest, no matter the distance\n",
            "Query original: Our love is rooted in my chest, no matter the distance\n",
            "--------------------\n",
            "Oraciones más similares encontradas...\n",
            "Oracion: hold the line, love isn't always on time. -- > con similitud :0.8351160287857056\n",
            "Oracion: Near, far, wherever you are, I believe that the heart does go on. Once more you open the door -- > con similitud :0.7961804866790771\n",
            "Oracion: Nothing to prove and I'm bulletproof and Know what I'm doing The way we're movin' like introducing -- > con similitud :0.7846847772598267\n"
          ],
          "name": "stdout"
        }
      ]
    },
    {
      "cell_type": "markdown",
      "metadata": {
        "id": "d7atgO50f4in",
        "colab_type": "text"
      },
      "source": [
        "## [Lectura adicional](https://towardsdatascience.com/the-three-main-branches-of-word-embeddings-7b90fa36dfb9#:~:text=Word2Vec%20takes%20texts%20as%20training,that%20two%20words%20appear%20together.)"
      ]
    },
    {
      "cell_type": "code",
      "metadata": {
        "id": "F4uvHo3Gf81s",
        "colab_type": "code",
        "colab": {}
      },
      "source": [
        ""
      ],
      "execution_count": null,
      "outputs": []
    }
  ]
}