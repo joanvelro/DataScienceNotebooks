{
 "cells": [
  {
   "cell_type": "markdown",
   "metadata": {},
   "source": [
    "How to Develop Convolutional Neural Network Models for Time Series Forecasting\n",
    "\n",
    "https://machinelearningmastery.com/how-to-develop-convolutional-neural-network-models-for-time-series-forecasting/\n",
    "\n",
    "Convolutional Neural Network models, or CNNs for short, can be applied to time series forecasting.\n",
    "\n",
    "There are many types of CNN models that can be used for each specific type of time series forecasting problem.\n",
    "\n",
    "In this tutorial, you will discover how to develop a suite of CNN models for a range of standard time series forecasting problems.\n",
    "\n",
    "The objective of this tutorial is to provide standalone examples of each model on each type of time series problem as a template that you can copy and adapt for your specific time series forecasting problem.\n",
    "\n",
    "After completing this tutorial, you will know:\n",
    "\n",
    "How to develop CNN models for univariate time series forecasting.\n",
    "How to develop CNN models for multivariate time series forecasting.\n",
    "How to develop CNN models for multi-step time series forecasting.\n",
    "This is a large and important post; you may want to bookmark it for future reference."
   ]
  },
  {
   "cell_type": "markdown",
   "metadata": {},
   "source": [
    "https://machinelearningmastery.com/how-to-develop-lstm-models-for-time-series-forecasting/\n",
    "\n",
    "https://machinelearningmastery.com/how-to-develop-convolutional-neural-network-models-for-time-series-forecasting/\n",
    "\n",
    "https://machinelearningmastery.com/how-to-develop-lstm-models-for-multi-step-time-series-forecasting-of-household-power-consumption/\n",
    "\n",
    "https://machinelearningmastery.com/multivariate-time-series-forecasting-lstms-keras/\n",
    "\n",
    "https://machinelearningmastery.com/how-to-grid-search-deep-learning-models-for-time-series-forecasting/\n",
    "\n",
    "https://machinelearningmastery.com/how-to-develop-multilayer-perceptron-models-for-time-series-forecasting/"
   ]
  },
  {
   "cell_type": "code",
   "execution_count": null,
   "metadata": {},
   "outputs": [],
   "source": []
  }
 ],
 "metadata": {
  "kernelspec": {
   "display_name": "Python 3",
   "language": "python",
   "name": "python3"
  },
  "language_info": {
   "codemirror_mode": {
    "name": "ipython",
    "version": 3
   },
   "file_extension": ".py",
   "mimetype": "text/x-python",
   "name": "python",
   "nbconvert_exporter": "python",
   "pygments_lexer": "ipython3",
   "version": "3.7.3"
  }
 },
 "nbformat": 4,
 "nbformat_minor": 2
}
