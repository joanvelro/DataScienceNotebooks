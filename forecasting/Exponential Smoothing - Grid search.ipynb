{
 "cells": [
  {
   "cell_type": "markdown",
   "metadata": {},
   "source": [
    "## [MachineLearningMastery](https://machinelearningmastery.com/how-to-grid-search-triple-exponential-smoothing-for-time-series-forecasting-in-python/)"
   ]
  },
  {
   "cell_type": "markdown",
   "metadata": {},
   "source": [
    "## [Forecasting: Principles and Practice](https://otexts.com/fpp2/holt-winters.html)"
   ]
  },
  {
   "cell_type": "markdown",
   "metadata": {},
   "source": [
    "## Exponential Smoothing for Time Series Forecasting\n",
    "\n",
    "Exponential Smoothing (ES) is a time series forecasting method for __univariate data__.\n",
    "\n",
    "Time series methods like the Box-Jenkins ARIMA family of methods develop a model where the prediction is a weighted linear sum of recent past observations or lags.\n",
    "\n",
    "Exponential smoothing forecasting methods are similar in that a prediction is a __weighted sum of past observations__, but the model explicitly uses an __exponentially decreasing weight for past observations__.\n",
    "\n",
    "Specifically, past observations are weighted with a __geometrically decreasing ratio__.\n",
    "\n",
    "Forecasts produced using exponential smoothing methods are weighted averages of past observations, with the weights decaying exponentially as the observations get older. In other words, the more recent the observation, the higher the associated weight.\n",
    "\n",
    "Exponential smoothing methods may be considered as peers and an __alternative to the popular Box-Jenkins ARIMA class of methods__ for time series forecasting.\n",
    "\n",
    "Collectively, the methods are sometimes referred to as __ETS models__, referring to the explicit modeling of Error, Trend, and Seasonality.\n",
    "\n",
    "There are three types of exponential smoothing; they are:\n",
    "\n",
    "* __Single Exponential Smoothing__, or SES, for univariate data __without trend or seasonality__.\n",
    "* __Double Exponential Smoothing__ for univariate data with support for __trend__.\n",
    "* __Triple Exponential Smoothing__, or __Holt-Winters Exponential Smoothing__, with support for both __trend and seasonality__. A triple exponential smoothing model subsumes single and double exponential smoothing by the configuration of the nature of the trend (additive, multiplicative, or none) and the nature of the seasonality (additive, multiplicative, or none), as well as any dampening of the trend.\n",
    "\n",
    "\n",
    "## Develop a Grid Search Framework\n",
    "\n",
    "In this section, we will develop a framework for grid searching exponential smoothing model hyperparameters for a given univariate time series forecasting problem.\n",
    "\n",
    "We will use the implementation of __Holt-Winters Exponential Smoothing__ provided by the statsmodels library.\n",
    "\n",
    "This model has hyperparameters that control the nature of the exponential performed for the series, trend, and seasonality, specifically:\n",
    "\n",
    "* __smoothing_level__ $(\\alpha)$: the smoothing coefficient for the level.\n",
    "* __smoothing_slope__ $(\\beta)$: the smoothing coefficient for the trend.\n",
    "* __smoothing_seasonal__ $(\\gamma)$: the smoothing coefficient for the seasonal component.\n",
    "* __damping_slope__ $(\\phi)$: the coefficient for the damped trend (Holt-Winters’ damped method)\n",
    "\n",
    "All four of these hyperparameters can be specified when defining the model. If they are not specified, the library will automatically tune the model and find the optimal values for these hyperparameters (e.g. optimized=True).\n",
    "\n",
    "There are other hyperparameters that the model will not automatically tune that you may want to specify; they are:\n",
    "\n",
    "* __trend__: The type of trend component, as either “add” for additive or “mul” for multiplicative. Modeling the trend can be disabled by setting it to None.\n",
    "* __damped__: Whether or not the trend component should be damped, either True or False.\n",
    "* __seasonal__: The type of seasonal component, as either “add” for additive or “mul” for multiplicative. Modeling the seasonal component can be disabled by setting it to None.\n",
    "* _seasonal_periods__: The number of time steps in a seasonal period, e.g. 12 for 12 months in a yearly seasonal structure.\n",
    "* __use_boxcox__: Whether or not to perform a power transform of the series (True/False) or specify the lambda for the transform.\n",
    "\n",
    "If you know enough about your problem to specify one or more of these parameters, then you should specify them. If not, you can try grid searching these parameters.\n",
    "\n",
    "We can start-off by defining a function that will fit a model with a given configuration and make a one-step forecast.\n",
    "\n",
    "The function takes an array or list of contiguous prior observations and a list of configuration parameters used to configure the model.\n",
    "\n",
    "The configuration parameters in order are: the trend type, the dampening type, the seasonality type, the seasonal period, whether or not to use a Box-Cox transform, and whether or not to remove the bias when fitting the model."
   ]
  },
  {
   "cell_type": "markdown",
   "metadata": {},
   "source": [
    "# Import libraries and define functions"
   ]
  },
  {
   "cell_type": "code",
   "execution_count": 1,
   "metadata": {},
   "outputs": [
    {
     "name": "stderr",
     "output_type": "stream",
     "text": [
      "\n",
      "Bad key \"text.kerning_factor\" on line 4 in\n",
      "/Users/joseangelvelasco/anaconda3/lib/python3.7/site-packages/matplotlib/mpl-data/stylelib/_classic_test_patch.mplstyle.\n",
      "You probably need to get an updated matplotlibrc file from\n",
      "http://github.com/matplotlib/matplotlib/blob/master/matplotlibrc.template\n",
      "or from the matplotlib source distribution\n"
     ]
    }
   ],
   "source": [
    "import matplotlib.pyplot as plt\n",
    "import numpy as np\n",
    "plt.style.use('ggplot')\n",
    "plt.rcParams.update({'font.size': 14})\n",
    "from matplotlib import rc\n",
    "rc('font',**{'family':'serif','serif':['Times New Roman']})\n",
    "rc('text', usetex=True)\n",
    "import pandas as pd\n",
    "import numpy as np\n",
    "\n",
    "from statsmodels.graphics.tsaplots import plot_acf\n",
    "from statsmodels.graphics.tsaplots import plot_pacf\n",
    "from statsmodels.tsa.seasonal import seasonal_decompose\n",
    "from statsmodels.tsa.holtwinters import ExponentialSmoothing\n",
    "import datetime"
   ]
  },
  {
   "cell_type": "code",
   "execution_count": 2,
   "metadata": {},
   "outputs": [],
   "source": [
    "from math import sqrt\n",
    "from multiprocessing import cpu_count\n",
    "from joblib import Parallel\n",
    "from joblib import delayed\n",
    "from warnings import catch_warnings\n",
    "from warnings import filterwarnings\n",
    "from sklearn.metrics import mean_squared_error\n",
    "from numpy import array\n",
    "\n",
    "\n",
    "def exp_smoothing_forecast(history, config):\n",
    "    \"\"\" one-step Holt Winter’s Exponential Smoothing forecast\n",
    "    \"\"\"\n",
    "    t,d,s,p,b,r = config\n",
    "    # define model\n",
    "    history = array(history)\n",
    "    model = ExponentialSmoothing(history, trend=t, damped=d, seasonal=s, seasonal_periods=p)\n",
    "    # fit model\n",
    "    model_fit = model.fit(optimized=True, use_boxcox=b, remove_bias=r)\n",
    "    # make one step forecast\n",
    "    yhat = model_fit.predict(len(history), len(history))\n",
    "    return yhat[0]\n",
    " \n",
    "\n",
    "def measure_rmse(actual, predicted):\n",
    "    \"\"\" root mean squared error or rmse\n",
    "    \"\"\"\n",
    "    return sqrt(mean_squared_error(actual, predicted))\n",
    " \n",
    "\n",
    "def train_test_split(data, n_test):\n",
    "    \"\"\" split a univariate dataset into train/test sets\n",
    "    \"\"\"\n",
    "    return data[:-n_test], data[-n_test:]\n",
    " \n",
    "# \n",
    "def walk_forward_validation(data, n_test, cfg):\n",
    "    \"\"\" walk-forward validation for univariate data\n",
    "    \"\"\"\n",
    "    predictions = list()\n",
    "    # split dataset\n",
    "    train, test = train_test_split(data, n_test)\n",
    "    # seed history with training dataset\n",
    "    history = [x for x in train]\n",
    "    # step over each time-step in the test set\n",
    "    for i in range(len(test)):\n",
    "        # fit model and make forecast for history\n",
    "        yhat = exp_smoothing_forecast(history, cfg)\n",
    "        # store forecast in list of predictions\n",
    "        predictions.append(yhat)\n",
    "        # add actual observation to history for the next loop\n",
    "        history.append(test[i])\n",
    "    # estimate prediction error\n",
    "    error = measure_rmse(test, predictions)\n",
    "    return error\n",
    " \n",
    "# \n",
    "def score_model(data, n_test, cfg, debug=False):\n",
    "    \"\"\" score a model, return None on failure\n",
    "    \"\"\"\n",
    "    result = None\n",
    "    # convert config to a key\n",
    "    key = str(cfg)\n",
    "    # show all warnings and fail on exception if debugging\n",
    "    if debug:\n",
    "        result = walk_forward_validation(data, n_test, cfg)\n",
    "    else:\n",
    "        # one failure during model validation suggests an unstable config\n",
    "        try:\n",
    "            # never show warnings when grid searching, too noisy\n",
    "            with catch_warnings():\n",
    "                filterwarnings(\"ignore\")\n",
    "                result = walk_forward_validation(data, n_test, cfg)\n",
    "        except:\n",
    "            error = None\n",
    "    # check for an interesting result\n",
    "    if result is not None:\n",
    "        print(' > Model[%s] %.3f' % (key, result))\n",
    "    return (key, result)\n",
    "\n",
    "# \n",
    "def grid_search(data, cfg_list, n_test, parallel=True):\n",
    "    \"\"\" grid search configs\n",
    "    \"\"\"\n",
    "    scores = None\n",
    "    if parallel:\n",
    "        # execute configs in parallel\n",
    "        executor = Parallel(n_jobs=cpu_count(), backend='multiprocessing')\n",
    "        tasks = (delayed(score_model)(data, n_test, cfg) for cfg in cfg_list)\n",
    "        scores = executor(tasks)\n",
    "    else:\n",
    "        scores = [score_model(data, n_test, cfg) for cfg in cfg_list]\n",
    "    # remove empty results\n",
    "    scores = [r for r in scores if r[1] != None]\n",
    "    # sort configs by error, asc\n",
    "    scores.sort(key=lambda tup: tup[1])\n",
    "    return scores\n",
    " \n",
    "# \n",
    "def exp_smoothing_configs(seasonal=[None]):\n",
    "    \"\"\" create a set of exponential smoothing configs to try\n",
    "    \"\"\"\n",
    "    models = list()\n",
    "    # define config lists\n",
    "    t_params = ['add', 'mul', None] # trend\n",
    "    d_params = [True, False]        # damped_trend \n",
    "    s_params = ['add', 'mul', None] # seasonal\n",
    "    p_params = seasonal             # season_periods\n",
    "    b_params = [True, False]        # Box-Cox Transform \n",
    "    r_params = [True, False]        # Remove Bias\n",
    "    # create config instances\n",
    "    for t in t_params:\n",
    "        for d in d_params:\n",
    "            for s in s_params:\n",
    "                for p in p_params:\n",
    "                    for b in b_params:\n",
    "                        for r in r_params:\n",
    "                            cfg = [t,d,s,p,b,r]\n",
    "                            models.append(cfg)\n",
    "    return models\n",
    "\n",
    "\n",
    "def mape(y, yhat):\n",
    "    import numpy as np\n",
    "    return 100*np.mean(np.abs(y-yhat)/y)\n",
    "\n",
    "def mae(y, yhat):\n",
    "    import numpy as np\n",
    "    return np.mean(np.abs(y-yhat))\n",
    "\n",
    "def ev(y_hat, y):\n",
    "    import numpy as np\n",
    "    return 1- (np.var(y-y_hat)/np.var(y))\n",
    "\n",
    "\n",
    "def evaluate(y, y_fitted):\n",
    "    \n",
    "    from sklearn.metrics import r2_score\n",
    "    \n",
    "    R2 = r2_score(y_fitted, y)\n",
    "    MAPE = mape(y_fitted, y)\n",
    "    MAE = mae(y_fitted, y)\n",
    "    EV = ev(y_fitted, y)\n",
    "    print('R2: {}'.format(R2))\n",
    "    print('MAPE: {}'.format(MAPE))\n",
    "    print('MAE: {}'.format(MAE))\n",
    "    print('EV: {}'.format(EV))\n",
    "    \n",
    "\n",
    "def get_model_params(model):\n",
    "    print('Model Params')\n",
    "    for param in model_fit.params:\n",
    "        print('   {}: {}'.format(param, model_fit.params[param]))\n",
    "    print('Model Params')\n",
    "    print(model_fit.params_formatted)\n",
    "    print('Model Stats')\n",
    "    print('   SSE:{}'.format(model_fit.sse))\n",
    "    print('   AIC:{}'.format(model_fit.aic))\n",
    "    print('   BIC:{}'.format(model_fit.bic))\n",
    "    \n",
    "def custom_parser(x):\n",
    "    from datetime import datetime\n",
    "    return datetime.strptime('195'+x, '%Y-%m')"
   ]
  },
  {
   "cell_type": "markdown",
   "metadata": {},
   "source": [
    "# 1) Case study with Trend (daily sales)"
   ]
  },
  {
   "cell_type": "code",
   "execution_count": null,
   "metadata": {},
   "outputs": [],
   "source": [
    "# %ls"
   ]
  },
  {
   "cell_type": "markdown",
   "metadata": {},
   "source": [
    "## 1.1 Load data and visualization "
   ]
  },
  {
   "cell_type": "code",
   "execution_count": null,
   "metadata": {},
   "outputs": [],
   "source": [
    "# parse dates\n",
    "\n",
    " \n",
    "# load dataset\n",
    "%cd /Users/joseangelvelasco/Google Drive/datascience/notebooks/Timeseries_forecasting\n",
    "series = pd.read_csv('shampoo-sales.csv', header=0, index_col=0, date_parser=custom_parser)\n",
    "data = series.values\n",
    "y = data.ravel()\n",
    "ylog = np.log(y)\n",
    "t = pd.date_range('2019-01-01', '2019-02-05', freq='D')\n",
    "series = pd.DataFrame(data=y, index=t)\n",
    "series_log = pd.DataFrame(data=ylog, index=t)\n",
    "\n",
    "# plot\n",
    "plt.figure(figsize=(14,4))\n",
    "plt.plot(series)\n",
    "plt.title('Time serie', fontsize=14)\n",
    "plt.show()\n",
    "\n",
    "plt.figure(figsize=(14,4))\n",
    "plt.plot(series_log)\n",
    "plt.title('Log Time serie', fontsize=14)\n",
    "plt.show()"
   ]
  },
  {
   "cell_type": "markdown",
   "metadata": {},
   "source": [
    "## 1.2 Seasonal decomposition"
   ]
  },
  {
   "cell_type": "code",
   "execution_count": null,
   "metadata": {},
   "outputs": [],
   "source": [
    "result = seasonal_decompose(series, model='additive')\n",
    "\n",
    "#plt.figure(figsize=(20,4))\n",
    "#result.plot()\n",
    "#plt.show()\n",
    "\n",
    "series_trend = result.trend\n",
    "series_seasonal = result.seasonal\n",
    "series_resid = result.resid\n",
    "series_observed = result.observed\n",
    "\n",
    "plt.figure(figsize=(14,4))\n",
    "plt.plot(series_trend)\n",
    "plt.title('Trend', fontsize=14)\n",
    "plt.show()\n",
    "\n",
    "plt.figure(figsize=(14,4))\n",
    "plt.plot(series_seasonal)\n",
    "plt.title('Season', fontsize=14)\n",
    "plt.show()\n",
    "\n",
    "plt.figure(figsize=(14,4))\n",
    "plt.plot(series_resid)\n",
    "plt.title('Residual', fontsize=14)\n",
    "plt.show()\n"
   ]
  },
  {
   "cell_type": "markdown",
   "metadata": {},
   "source": [
    "## 1.3 Stationarity Analysis"
   ]
  },
  {
   "cell_type": "code",
   "execution_count": null,
   "metadata": {},
   "outputs": [],
   "source": [
    "plot_acf(y, lags=30)\n",
    "plt.show()\n",
    "\n",
    "plot_pacf(y, lags=30)\n",
    "plt.show()"
   ]
  },
  {
   "cell_type": "markdown",
   "metadata": {},
   "source": [
    "## 1.4 Grid search"
   ]
  },
  {
   "cell_type": "code",
   "execution_count": null,
   "metadata": {},
   "outputs": [],
   "source": [
    "# data split\n",
    "n_test = 12\n",
    "# model configs\n",
    "cfg_list = exp_smoothing_configs()\n",
    "# grid search\n",
    "scores = grid_search(y, cfg_list, n_test)\n",
    "print('done')\n",
    "# list top 3 configs\n",
    "print('Trend', 'Damped', 'Seasonal', 'Seasonal Periods', 'Box-Cox Transform', 'Remove Bias', 'RMSE')\n",
    "for cfg, error in scores[:3]:\n",
    "    print(cfg, error)"
   ]
  },
  {
   "cell_type": "markdown",
   "metadata": {},
   "source": [
    "## 1.5 Fit model"
   ]
  },
  {
   "cell_type": "code",
   "execution_count": null,
   "metadata": {},
   "outputs": [],
   "source": [
    "# create class\n",
    "model = ExponentialSmoothing(y, trend='mul', seasonal='add', seasonal_periods=2)\n",
    "#model = ExponentialSmoothing(y, trend='mul', seasonal=None)\n",
    "\n",
    "# fit model\n",
    "model_fit = model.fit(use_boxcox=False, remove_bias=False)\n",
    "\n",
    "# print model params\n",
    "get_model_params(model)"
   ]
  },
  {
   "cell_type": "markdown",
   "metadata": {},
   "source": [
    "## 1.7 Test prediction"
   ]
  },
  {
   "cell_type": "code",
   "execution_count": null,
   "metadata": {},
   "outputs": [],
   "source": [
    "# make inference\n",
    "y_fitted = model_fit.predict(0, len(y)-1)\n",
    "\n",
    "# get regression metrics\n",
    "evaluate(y, y_fitted)\n",
    "\n",
    "# plot\n",
    "plt.figure(figsize=(14,4))\n",
    "plt.plot(index_time, y_fitted, color='red', label='fit')\n",
    "plt.scatter(index_time, y, color='blue', label='data', marker='o')\n",
    "plt.ylabel('Sales', fontsize=14)\n",
    "plt.xlabel('Time', fontsize=14)\n",
    "plt.legend(fontsize=14)\n",
    "plt.show()"
   ]
  },
  {
   "cell_type": "markdown",
   "metadata": {},
   "source": [
    "## 1.8 Forecast"
   ]
  },
  {
   "cell_type": "code",
   "execution_count": null,
   "metadata": {},
   "outputs": [],
   "source": [
    "# make forecast\n",
    "horizon = 15 #days\n",
    "yhat = model_fit.forecast(horizon)\n",
    "\n",
    "t_new = pd.date_range(start = t.max(), periods=horizon, freq='D')\n",
    "T = np.concatenate((t, t_new))\n",
    "Y = np.concatenate((y, yhat))\n",
    "df_new = pd.DataFrame({'T':T, 'Y':Y})\n",
    "\n",
    "# plot\n",
    "plt.figure(figsize=(20,8))\n",
    "y0 = df_new[-horizon*7:]['Y'].values\n",
    "t0 = df_new[-horizon*7:]['T'].values\n",
    "plt.plot(t0, y0, color='blue', label='data')\n",
    "y1 = df_new[-horizon:]['Y'].values\n",
    "t1 = df_new[-horizon:]['T'].values\n",
    "plt.plot(t1, y1, color='red', label='prediction')\n",
    "plt.legend()\n",
    "plt.show()"
   ]
  },
  {
   "cell_type": "code",
   "execution_count": null,
   "metadata": {},
   "outputs": [],
   "source": []
  },
  {
   "cell_type": "markdown",
   "metadata": {},
   "source": [
    "# 2) Case Study with Seasonality (monthly temperature)\n",
    "\n",
    "The ‘monthly mean temperatures’ dataset summarizes the monthly average air temperatures in Nottingham Castle, England from 1920 to 1939 in degrees Fahrenheit.\n",
    "\n",
    "The dataset has an obvious seasonal component and no obvious trend."
   ]
  },
  {
   "cell_type": "markdown",
   "metadata": {},
   "source": [
    "## 2.1 data loading and visualization"
   ]
  },
  {
   "cell_type": "code",
   "execution_count": null,
   "metadata": {},
   "outputs": [],
   "source": [
    "series = pd.read_csv('monthly-mean-temp.csv', header=0, index_col=0)\n",
    "\n",
    "# trim dataset to 5 years\n",
    "series = series[-6*12:]\n",
    "y = series.values.ravel()\n",
    "\n",
    "\n",
    "t = pd.date_range(pd.to_datetime(series.index.min(), format='%Y-%m'),\n",
    "                  pd.to_datetime(series.index.max(), format='%Y-%m') + datetime.timedelta(days=30),\n",
    "                freq='M')\n",
    "\n",
    "T = pd.DataFrame({'T':t})\n",
    "T['T'] = T['T'].map(lambda x: x.strftime('%Y-%m'))\n",
    "\n",
    "t = T.values.ravel()\n",
    "\n",
    "series_ = pd.DataFrame(data=y, index=t)\n",
    "\n",
    "print(series_.head())\n",
    "\n",
    "# plot\n",
    "plt.figure(figsize=(14,4))\n",
    "plt.plot(series_)\n",
    "plt.title('Time serie', fontsize=14)\n",
    "plt.show()\n"
   ]
  },
  {
   "cell_type": "markdown",
   "metadata": {},
   "source": [
    "## 2.2 Sesonal decomposition"
   ]
  },
  {
   "cell_type": "code",
   "execution_count": null,
   "metadata": {},
   "outputs": [],
   "source": [
    "result = seasonal_decompose(series_, model='additive') # multiplicative, additive\n",
    "\n",
    "#plt.figure(figsize=(20,4))\n",
    "#result.plot()\n",
    "#plt.show()\n",
    "\n",
    "series_trend = result.trend\n",
    "series_seasonal = result.seasonal\n",
    "series_resid = result.resid\n",
    "series_observed = result.observed\n",
    "\n",
    "plt.figure(figsize=(14,4))\n",
    "plt.plot(series_trend)\n",
    "plt.title('Trend', fontsize=14)\n",
    "plt.show()\n",
    "\n",
    "plt.figure(figsize=(14,4))\n",
    "plt.plot(series_seasonal)\n",
    "plt.title('Season', fontsize=14)\n",
    "plt.show()\n",
    "\n",
    "plt.figure(figsize=(14,4))\n",
    "plt.plot(series_resid)\n",
    "plt.title('Residual', fontsize=14)\n",
    "plt.show()\n",
    "\n"
   ]
  },
  {
   "cell_type": "markdown",
   "metadata": {},
   "source": [
    "## 2.3 Stationarity analysis"
   ]
  },
  {
   "cell_type": "code",
   "execution_count": null,
   "metadata": {},
   "outputs": [],
   "source": [
    "plot_acf(series_, lags=50)\n",
    "plt.show()\n",
    "\n",
    "plot_pacf(series_, lags=50)\n",
    "plt.show()"
   ]
  },
  {
   "cell_type": "markdown",
   "metadata": {},
   "source": [
    "## 2.4 Grid search"
   ]
  },
  {
   "cell_type": "code",
   "execution_count": null,
   "metadata": {},
   "outputs": [],
   "source": [
    "# The period of the seasonal component is about one year, or 12 observations.\n",
    "# model configs\n",
    "cfg_list = exp_smoothing_configs(seasonal=[0, 12])\n",
    "\n",
    "# data split\n",
    "n_test = 12\n",
    "# model configs\n",
    "cfg_list = exp_smoothing_configs(seasonal=[0,12])\n",
    "# grid search\n",
    "scores = grid_search(y, cfg_list, n_test)\n",
    "print('done')\n",
    "# list top 3 configs\n",
    "print('Trend', 'Damped', 'Seasonal', 'Seasonal Periods', 'Box-Cox Transform', 'Remove Bias', 'RMSE')\n",
    "for cfg, error in scores[:3]:\n",
    "    print(cfg, error)"
   ]
  },
  {
   "cell_type": "markdown",
   "metadata": {},
   "source": [
    "## 2.5 fit model"
   ]
  },
  {
   "cell_type": "code",
   "execution_count": null,
   "metadata": {},
   "outputs": [],
   "source": [
    "# create class\n",
    "model = ExponentialSmoothing(y, trend='add', seasonal='mul', seasonal_periods=12)\n",
    "\n",
    "# fit model\n",
    "model_fit = model.fit(use_boxcox=True, remove_bias=True)\n",
    "\n",
    "# print model params\n",
    "get_model_params(model)"
   ]
  },
  {
   "cell_type": "markdown",
   "metadata": {},
   "source": [
    "## 2.6 test prediction"
   ]
  },
  {
   "cell_type": "code",
   "execution_count": null,
   "metadata": {},
   "outputs": [],
   "source": [
    "# make inference\n",
    "y_fitted = model_fit.predict(0, len(y)-1)\n",
    "\n",
    "# get regression metrics\n",
    "evaluate(y, y_fitted)\n",
    "\n",
    "# plot\n",
    "plt.figure(figsize=(14,4))\n",
    "plt.plot(series.index, y_fitted, color='red', label='fit')\n",
    "plt.scatter(series.index, y, color='blue', label='data', marker='o')\n",
    "plt.ylabel('Temperature', fontsize=14)\n",
    "plt.xlabel('Time', fontsize=14)\n",
    "plt.legend(fontsize=14)\n",
    "plt.show()"
   ]
  },
  {
   "cell_type": "markdown",
   "metadata": {},
   "source": [
    "## 2.7 Forecast"
   ]
  },
  {
   "cell_type": "code",
   "execution_count": null,
   "metadata": {},
   "outputs": [],
   "source": [
    "# make forecast\n",
    "horizon = 48 # months\n",
    "yhat = model_fit.forecast(horizon)\n",
    "\n",
    "t_new = pd.date_range(pd.to_datetime(t.max()),\n",
    "                      pd.to_datetime(t.max()) + datetime.timedelta(days=(horizon+1)*30), freq='M')\n",
    "T = pd.DataFrame({'T':t_new})\n",
    "T['T'] = T['T'].map(lambda x: x.strftime('%Y-%m'))     \n",
    "T = np.concatenate((t, T.values.ravel()))\n",
    "Y = np.concatenate((y, yhat))\n",
    "df_new = pd.DataFrame({'T':T, 'Y':Y})\n",
    "\n",
    "# plot\n",
    "plt.figure(figsize=(20,8))\n",
    "y0 = df_new[-horizon*4:]['Y'].values\n",
    "t0 = df_new[-horizon*4:]['T'].values\n",
    "plt.plot(t0, y0, color='blue', label='data')\n",
    "y1 = df_new[-horizon:]['Y'].values\n",
    "t1 = df_new[-horizon:]['T'].values\n",
    "plt.plot(t1, y1, color='red', label='prediction')\n",
    "plt.legend()\n",
    "plt.show()"
   ]
  },
  {
   "cell_type": "markdown",
   "metadata": {},
   "source": [
    "# 3) Case study with Trend and Seasonality (monthly sales)"
   ]
  },
  {
   "cell_type": "markdown",
   "metadata": {},
   "source": [
    "## 3.1 Load data and visualization"
   ]
  },
  {
   "cell_type": "code",
   "execution_count": 3,
   "metadata": {},
   "outputs": [
    {
     "name": "stdout",
     "output_type": "stream",
     "text": [
      "/Users/joseangelvelasco/Google Drive/datascience/notebooks/Timeseries_forecasting\n"
     ]
    },
    {
     "data": {
      "image/png": "[encoded data removed]",
      "text/plain": [
       "<Figure size 1008x288 with 1 Axes>"
      ]
     },
     "metadata": {
      "needs_background": "light"
     },
     "output_type": "display_data"
    }
   ],
   "source": [
    "%cd /Users/joseangelvelasco/Google Drive/datascience/notebooks/Timeseries_forecasting\n",
    "series = pd.read_csv('monthly-car-sales.csv', header=0, index_col=0)\n",
    "\n",
    "y = series.values.ravel()\n",
    "\n",
    "t = pd.date_range(pd.to_datetime(series.index.min(), format='%Y-%m'),\n",
    "                  pd.to_datetime(series.index.max(), format='%Y-%m') + datetime.timedelta(days=30),\n",
    "                freq='M')\n",
    "\n",
    "#T = pd.DataFrame({'T':t})\n",
    "#T['T'] = T['T'].map(lambda x: x.strftime('%Y-%m'))\n",
    "\n",
    "#t = T.values.ravel()\n",
    "\n",
    "series = pd.DataFrame(data=y, index=t)\n",
    "\n",
    "# plot\n",
    "plt.figure(figsize=(14,4))\n",
    "plt.plot(series)\n",
    "plt.title('Time serie', fontsize=14)\n",
    "plt.show()\n"
   ]
  },
  {
   "cell_type": "markdown",
   "metadata": {},
   "source": [
    "## 3.3 seasonal decomposition"
   ]
  },
  {
   "cell_type": "code",
   "execution_count": 4,
   "metadata": {},
   "outputs": [
    {
     "data": {
      "image/png": "[encoded data removed]",
      "text/plain": [
       "<Figure size 1008x288 with 1 Axes>"
      ]
     },
     "metadata": {
      "needs_background": "light"
     },
     "output_type": "display_data"
    },
    {
     "data": {
      "image/png": "[encoded data removed]",
      "text/plain": [
       "<Figure size 1008x288 with 1 Axes>"
      ]
     },
     "metadata": {
      "needs_background": "light"
     },
     "output_type": "display_data"
    },
    {
     "data": {
      "image/png": "[encoded data removed]",
      "text/plain": [
       "<Figure size 1008x288 with 1 Axes>"
      ]
     },
     "metadata": {
      "needs_background": "light"
     },
     "output_type": "display_data"
    }
   ],
   "source": [
    "result = seasonal_decompose(series, model='additive') # multiplicative, additive\n",
    "\n",
    "#plt.figure(figsize=(20,4))\n",
    "#result.plot()\n",
    "#plt.show()\n",
    "\n",
    "series_trend = result.trend\n",
    "series_seasonal = result.seasonal\n",
    "series_resid = result.resid\n",
    "series_observed = result.observed\n",
    "\n",
    "plt.figure(figsize=(14,4))\n",
    "plt.plot(series_trend)\n",
    "plt.title('Trend', fontsize=14)\n",
    "plt.show()\n",
    "\n",
    "plt.figure(figsize=(14,4))\n",
    "plt.plot(series_seasonal)\n",
    "plt.title('Season', fontsize=14)\n",
    "plt.show()\n",
    "\n",
    "plt.figure(figsize=(14,4))\n",
    "plt.plot(series_resid)\n",
    "plt.title('Residual', fontsize=14)\n",
    "plt.show()\n",
    "\n"
   ]
  },
  {
   "cell_type": "markdown",
   "metadata": {},
   "source": [
    "## 3.3 Stationarity analysis"
   ]
  },
  {
   "cell_type": "code",
   "execution_count": 5,
   "metadata": {},
   "outputs": [
    {
     "data": {
      "image/png": "[encoded data removed]",
      "text/plain": [
       "<Figure size 432x288 with 1 Axes>"
      ]
     },
     "metadata": {
      "needs_background": "light"
     },
     "output_type": "display_data"
    },
    {
     "name": "stderr",
     "output_type": "stream",
     "text": [
      "/Users/joseangelvelasco/anaconda3/lib/python3.7/site-packages/statsmodels/regression/linear_model.py:1406: RuntimeWarning: invalid value encountered in sqrt\n",
      "  return rho, np.sqrt(sigmasq)\n"
     ]
    },
    {
     "data": {
      "image/png": "[encoded data removed]",
      "text/plain": [
       "<Figure size 432x288 with 1 Axes>"
      ]
     },
     "metadata": {
      "needs_background": "light"
     },
     "output_type": "display_data"
    }
   ],
   "source": [
    "plot_acf(series, lags=50)\n",
    "plt.show()\n",
    "\n",
    "plot_pacf(series, lags=50)\n",
    "plt.show()"
   ]
  },
  {
   "cell_type": "markdown",
   "metadata": {},
   "source": [
    "## 3.4 grid search"
   ]
  },
  {
   "cell_type": "code",
   "execution_count": 10,
   "metadata": {},
   "outputs": [
    {
     "name": "stdout",
     "output_type": "stream",
     "text": [
      " > Model[['add', True, 'add', 6, False, False]] 3226.384\n",
      " > Model[['add', True, 'add', 6, False, True]] 3240.433\n",
      " > Model[['add', True, 'add', 6, True, False]] 2755.843\n",
      " > Model[['add', True, 'add', 6, True, True]] 2758.825\n",
      " > Model[['add', True, 'add', 12, False, True]] 1748.333\n",
      " > Model[['add', True, 'mul', 6, False, True]] 2993.915\n",
      " > Model[['add', True, 'mul', 6, True, True]] 2945.238\n",
      " > Model[['add', True, 'add', 12, True, True]] 2180.261\n",
      " > Model[['add', True, 'add', 12, False, False]] 1725.435\n",
      " > Model[['add', True, 'mul', 6, True, False]] 2929.752\n",
      " > Model[['add', True, 'mul', 6, False, False]] 2978.513\n",
      " > Model[['add', True, 'add', 12, True, False]] 2144.365\n",
      " > Model[['add', True, None, 0, True, True]] 3932.712\n",
      " > Model[['add', True, None, 0, True, False]] 3913.742\n",
      " > Model[['add', True, None, 0, False, True]] 3922.605\n",
      " > Model[['add', True, None, 0, False, False]] 3902.931\n",
      " > Model[['add', True, None, 6, True, True]] 3932.712\n",
      " > Model[['add', True, None, 6, True, False]] 3913.742\n",
      " > Model[['add', True, None, 6, False, True]] 3922.605\n",
      " > Model[['add', True, None, 6, False, False]] 3902.931\n",
      " > Model[['add', True, None, 12, True, True]] 3932.712\n",
      " > Model[['add', True, None, 12, True, False]] 3913.742\n",
      " > Model[['add', True, None, 12, False, True]] 3922.605\n",
      " > Model[['add', True, None, 12, False, False]] 3902.931\n",
      " > Model[['add', False, 'add', 6, True, True]] 3220.590\n",
      " > Model[['add', False, 'add', 6, True, False]] 3199.763\n",
      " > Model[['add', False, 'add', 6, False, True]] 3243.478\n",
      " > Model[['add', False, 'add', 6, False, False]] 3226.955\n",
      " > Model[['add', False, 'add', 12, True, True]] 1833.560\n",
      " > Model[['add', False, 'add', 12, True, False]] 1833.672\n",
      " > Model[['add', False, 'add', 12, False, True]] 1735.413\n",
      " > Model[['add', False, 'add', 12, False, False]] 1741.820\n",
      " > Model[['add', False, 'mul', 6, True, True]] 3014.395\n",
      " > Model[['add', False, 'mul', 6, True, False]] 3016.148\n",
      " > Model[['add', False, 'mul', 6, False, True]] 3025.831\n",
      " > Model[['add', False, 'mul', 6, False, False]] 3009.960\n",
      " > Model[['add', True, 'mul', 12, True, True]] 1972.558\n",
      " > Model[['add', True, 'mul', 12, False, True]] 1802.655\n",
      " > Model[['add', False, 'mul', 12, True, True]] 1982.070\n",
      " > Model[['add', False, 'mul', 12, True, False]] 1981.084\n",
      " > Model[['add', False, 'mul', 12, False, True]] 1903.880\n",
      " > Model[['add', False, None, 0, True, True]] 3815.765\n",
      " > Model[['add', False, None, 0, True, False]] 3813.233\n",
      " > Model[['add', False, None, 0, False, True]] 3805.102\n",
      " > Model[['add', False, 'mul', 12, False, False]] 1880.102\n",
      " > Model[['add', False, None, 0, False, False]] 3808.838\n",
      " > Model[['add', False, None, 6, True, True]] 3815.765\n",
      " > Model[['add', False, None, 6, True, False]] 3813.233\n",
      " > Model[['add', False, None, 6, False, True]] 3805.102\n",
      " > Model[['add', False, None, 6, False, False]] 3808.838\n",
      " > Model[['add', False, None, 12, True, True]] 3815.765\n",
      " > Model[['add', False, None, 12, True, False]] 3813.233\n",
      " > Model[['add', False, None, 12, False, True]] 3805.102\n",
      " > Model[['add', False, None, 12, False, False]] 3808.838\n",
      " > Model[['add', True, 'mul', 12, True, False]] 1989.245\n",
      " > Model[['add', True, 'mul', 12, False, False]] 1831.577\n",
      " > Model[['mul', True, 'add', 6, False, True]] 3308.056\n",
      " > Model[['mul', True, 'add', 6, False, False]] 3277.734\n",
      " > Model[['mul', True, 'add', 12, True, False]] 125983.817\n",
      " > Model[['mul', True, 'add', 12, True, True]] 69565.622\n",
      " > Model[['mul', True, 'add', 12, False, True]] 2138.091\n",
      " > Model[['mul', True, 'add', 12, False, False]] 4792.203\n",
      " > Model[['mul', True, None, 0, True, True]] 3946.952\n",
      " > Model[['mul', True, None, 0, True, False]] 3927.005\n",
      " > Model[['mul', True, None, 0, False, True]] 3944.481\n",
      " > Model[['mul', True, None, 0, False, False]] 3923.940\n",
      " > Model[['mul', True, None, 6, True, True]] 3946.952\n",
      " > Model[['mul', True, None, 6, True, False]] 3927.005\n",
      " > Model[['mul', True, None, 6, False, True]] 3944.481\n",
      " > Model[['mul', True, None, 6, False, False]] 3923.940\n",
      " > Model[['mul', True, None, 12, True, True]] 3946.952\n",
      " > Model[['mul', True, None, 12, True, False]] 3927.005\n",
      " > Model[['mul', True, None, 12, False, True]] 3944.481\n",
      " > Model[['mul', True, None, 12, False, False]] 3923.940\n",
      " > Model[['mul', False, 'add', 6, True, True]] 3254.467\n",
      " > Model[['mul', False, 'add', 6, True, False]] 3238.267\n",
      " > Model[['mul', False, 'add', 12, True, False]] 1837.129\n",
      " > Model[['mul', False, 'add', 12, True, True]] 1834.039\n",
      " > Model[['mul', False, 'mul', 6, True, True]] 2981.720\n",
      " > Model[['mul', False, 'mul', 6, True, False]] 2976.084\n",
      " > Model[['mul', False, 'mul', 6, False, True]] 3031.662\n",
      " > Model[['mul', False, 'mul', 6, False, False]] 3032.299\n",
      " > Model[['mul', False, 'mul', 12, True, True]] 1983.429\n",
      " > Model[['mul', False, None, 0, True, True]] 3804.906\n",
      " > Model[['mul', False, None, 0, True, False]] 3805.342\n",
      " > Model[['mul', False, 'mul', 12, True, False]] 1982.965\n",
      " > Model[['mul', False, None, 0, False, True]] 3778.369\n",
      " > Model[['mul', False, None, 0, False, False]] 3798.012\n",
      " > Model[['mul', False, None, 6, True, True]] 3804.906\n",
      " > Model[['mul', False, None, 6, True, False]] 3805.342\n",
      " > Model[['mul', False, None, 6, False, True]] 3778.369\n",
      " > Model[['mul', False, None, 6, False, False]] 3798.012\n",
      " > Model[['mul', False, None, 12, True, True]] 3804.906\n",
      " > Model[['mul', False, None, 12, False, True]] 3778.369\n",
      " > Model[['mul', False, None, 12, True, False]] 3805.342\n",
      " > Model[['mul', False, None, 12, False, False]] 3798.012\n",
      " > Model[[None, False, 'add', 6, True, True]] 3204.875\n",
      " > Model[[None, False, 'mul', 6, True, True]] 2993.561\n",
      " > Model[[None, False, 'add', 12, True, True]] 1835.015\n",
      " > Model[[None, False, 'mul', 12, True, True]] 1972.546\n",
      " > Model[[None, False, 'add', 6, True, False]] 3190.972\n",
      " > Model[[None, False, 'mul', 6, True, False]] 2979.119\n",
      " > Model[[None, False, 'mul', 12, True, False]] 1989.233\n",
      " > Model[[None, False, 'add', 12, True, False]] 1872.188\n",
      " > Model[[None, False, 'mul', 6, False, True]] 3025.876\n",
      " > Model[[None, False, 'add', 6, False, True]] 3147.681\n",
      " > Model[[None, False, 'mul', 6, False, False]] 3009.999\n",
      " > Model[[None, False, 'mul', 12, False, True]] 1925.010\n",
      " > Model[[None, False, 'add', 6, False, False]] 3133.393\n",
      " > Model[[None, False, None, 0, True, True]] 3801.741\n",
      " > Model[[None, False, 'add', 12, False, True]] 1729.021\n",
      " > Model[[None, False, None, 6, True, True]] 3801.741\n",
      " > Model[[None, False, None, 0, True, False]] 3783.966\n",
      " > Model[[None, False, None, 6, True, False]] 3783.966\n",
      " > Model[[None, False, None, 0, False, True]] 3801.560\n",
      " > Model[[None, False, None, 6, False, True]] 3801.560\n",
      " > Model[[None, False, None, 0, False, False]] 3783.966\n",
      " > Model[[None, False, 'mul', 12, False, False]] 1941.217\n",
      " > Model[[None, False, None, 6, False, False]] 3783.966\n",
      " > Model[[None, False, None, 12, True, True]] 3801.741\n",
      " > Model[[None, False, 'add', 12, False, False]] 1766.726\n",
      " > Model[[None, False, None, 12, True, False]] 3783.966\n",
      " > Model[[None, False, None, 12, False, True]] 3801.560\n",
      " > Model[[None, False, None, 12, False, False]] 3783.966\n",
      "done\n",
      "Trend Damped Seasonal Seasonal Periods Box-Cox Transform Remove Bias RMSE\n",
      "['add', True, 'add', 12, False, False] 1725.4353337907444\n",
      "[None, False, 'add', 12, False, True] 1729.0214981678878\n",
      "['add', False, 'add', 12, False, True] 1735.413354450212\n"
     ]
    }
   ],
   "source": [
    "# data split\n",
    "n_test = 12\n",
    "# model configs\n",
    "cfg_list = exp_smoothing_configs(seasonal=[0, 6, 12])\n",
    "# grid search\n",
    "scores = grid_search(y, cfg_list, n_test)\n",
    "print('done')\n",
    "# list top 3 configs\n",
    "print('Trend', 'Damped', 'Seasonal', 'Seasonal Periods', 'Box-Cox Transform', 'Remove Bias', 'RMSE')\n",
    "for cfg, error in scores[:3]:\n",
    "    print(cfg, error)"
   ]
  },
  {
   "cell_type": "markdown",
   "metadata": {},
   "source": [
    "## 3.5 fit model"
   ]
  },
  {
   "cell_type": "code",
   "execution_count": 11,
   "metadata": {},
   "outputs": [
    {
     "name": "stdout",
     "output_type": "stream",
     "text": [
      "Model Params\n",
      "   smoothing_level: 0.15253098774241228\n",
      "   smoothing_slope: 4.921971393547838e-13\n",
      "   smoothing_seasonal: 0.2809728210516192\n",
      "   damping_slope: nan\n",
      "   initial_level: 9694.70508534619\n",
      "   initial_slope: 64.77178426327234\n",
      "   initial_seasons: [-3902.50623388 -2159.65207585  1306.80504828  3624.68226508\n",
      "  4363.97759452  2682.44374652 -1489.55397486 -3452.97604092\n",
      " -4691.94334451 -1614.00752032 -1221.189377   -2935.45598856]\n",
      "   use_boxcox: False\n",
      "   lamda: None\n",
      "   remove_bias: False\n",
      "Model Params\n",
      "                     name         param  optimized\n",
      "smoothing_level     alpha  1.525310e-01       True\n",
      "smoothing_slope      beta  4.921971e-13       True\n",
      "smoothing_seasonal  gamma  2.809728e-01       True\n",
      "initial_level         l.0  9.694705e+03       True\n",
      "initial_slope         b.0  6.477178e+01       True\n",
      "initial_seasons.0     s.0 -3.902506e+03       True\n",
      "initial_seasons.1     s.1 -2.159652e+03       True\n",
      "initial_seasons.2     s.2  1.306805e+03       True\n",
      "initial_seasons.3     s.3  3.624682e+03       True\n",
      "initial_seasons.4     s.4  4.363978e+03       True\n",
      "initial_seasons.5     s.5  2.682444e+03       True\n",
      "initial_seasons.6     s.6 -1.489554e+03       True\n",
      "initial_seasons.7     s.7 -3.452976e+03       True\n",
      "initial_seasons.8     s.8 -4.691943e+03       True\n",
      "initial_seasons.9     s.9 -1.614008e+03       True\n",
      "initial_seasons.10   s.10 -1.221189e+03       True\n",
      "initial_seasons.11   s.11 -2.935456e+03       True\n",
      "Model Stats\n",
      "   SSE:225397106.09888896\n",
      "   AIC:1603.5342540877841\n",
      "   BIC:1646.4483537217716\n"
     ]
    }
   ],
   "source": [
    "# create class\n",
    "model = ExponentialSmoothing(y, trend='add', seasonal='add', seasonal_periods=12)\n",
    "\n",
    "# fit model\n",
    "model_fit = model.fit(use_boxcox=False, remove_bias=False)\n",
    "\n",
    "# print model params\n",
    "get_model_params(model)"
   ]
  },
  {
   "cell_type": "markdown",
   "metadata": {},
   "source": [
    "## 3.5 Test prediction"
   ]
  },
  {
   "cell_type": "code",
   "execution_count": 12,
   "metadata": {},
   "outputs": [
    {
     "name": "stdout",
     "output_type": "stream",
     "text": [
      "R2: 0.8834484275732853\n",
      "MAPE: 8.180365751783595\n",
      "MAE: 1144.1172163969652\n",
      "EV: 0.8981858403857823\n"
     ]
    },
    {
     "name": "stderr",
     "output_type": "stream",
     "text": [
      "/Users/joseangelvelasco/anaconda3/lib/python3.7/site-packages/matplotlib/cbook/__init__.py:1402: FutureWarning: Support for multi-dimensional indexing (e.g. `obj[:, None]`) is deprecated and will be removed in a future version.  Convert to a numpy array before indexing instead.\n",
      "  x[:, None]\n",
      "/Users/joseangelvelasco/anaconda3/lib/python3.7/site-packages/matplotlib/axes/_base.py:276: FutureWarning: Support for multi-dimensional indexing (e.g. `obj[:, None]`) is deprecated and will be removed in a future version.  Convert to a numpy array before indexing instead.\n",
      "  x = x[:, np.newaxis]\n"
     ]
    },
    {
     "data": {
      "image/png": "[encoded data removed]",
      "text/plain": [
       "<Figure size 1008x288 with 1 Axes>"
      ]
     },
     "metadata": {
      "needs_background": "light"
     },
     "output_type": "display_data"
    }
   ],
   "source": [
    "# make inference\n",
    "y_fitted = model_fit.predict(0, len(y)-1)\n",
    "\n",
    "# get regression metrics\n",
    "evaluate(y, y_fitted)\n",
    "\n",
    "# plot\n",
    "plt.figure(figsize=(14,4))\n",
    "plt.plot(series.index, y_fitted, color='red', label='fit')\n",
    "plt.scatter(series.index, y, color='blue', label='data', marker='o')\n",
    "plt.ylabel('Temperature', fontsize=14)\n",
    "plt.xlabel('Time', fontsize=14)\n",
    "plt.legend(fontsize=14)\n",
    "plt.show()"
   ]
  },
  {
   "cell_type": "markdown",
   "metadata": {},
   "source": [
    "## 3.6 Forecast"
   ]
  },
  {
   "cell_type": "code",
   "execution_count": 54,
   "metadata": {},
   "outputs": [
    {
     "data": {
      "text/plain": [
       "112"
      ]
     },
     "execution_count": 54,
     "metadata": {},
     "output_type": "execute_result"
    }
   ],
   "source": [
    "len(T)"
   ]
  },
  {
   "cell_type": "code",
   "execution_count": 55,
   "metadata": {},
   "outputs": [
    {
     "ename": "ValueError",
     "evalue": "arrays must all be same length",
     "output_type": "error",
     "traceback": [
      "\u001b[0;31m---------------------------------------------------------------------------\u001b[0m",
      "\u001b[0;31mValueError\u001b[0m                                Traceback (most recent call last)",
      "\u001b[0;32m<ipython-input-55-aacc9cdb17f3>\u001b[0m in \u001b[0;36m<module>\u001b[0;34m\u001b[0m\n\u001b[1;32m      9\u001b[0m \u001b[0mT\u001b[0m \u001b[0;34m=\u001b[0m \u001b[0mnp\u001b[0m\u001b[0;34m.\u001b[0m\u001b[0mconcatenate\u001b[0m\u001b[0;34m(\u001b[0m\u001b[0;34m(\u001b[0m\u001b[0mt\u001b[0m\u001b[0;34m,\u001b[0m \u001b[0mT\u001b[0m\u001b[0;34m.\u001b[0m\u001b[0mvalues\u001b[0m\u001b[0;34m.\u001b[0m\u001b[0mravel\u001b[0m\u001b[0;34m(\u001b[0m\u001b[0;34m)\u001b[0m\u001b[0;34m)\u001b[0m\u001b[0;34m)\u001b[0m\u001b[0;34m\u001b[0m\u001b[0;34m\u001b[0m\u001b[0m\n\u001b[1;32m     10\u001b[0m \u001b[0mY\u001b[0m \u001b[0;34m=\u001b[0m \u001b[0mnp\u001b[0m\u001b[0;34m.\u001b[0m\u001b[0mconcatenate\u001b[0m\u001b[0;34m(\u001b[0m\u001b[0;34m(\u001b[0m\u001b[0my\u001b[0m\u001b[0;34m,\u001b[0m \u001b[0myhat\u001b[0m\u001b[0;34m)\u001b[0m\u001b[0;34m)\u001b[0m\u001b[0;34m\u001b[0m\u001b[0;34m\u001b[0m\u001b[0m\n\u001b[0;32m---> 11\u001b[0;31m \u001b[0mdf_new\u001b[0m \u001b[0;34m=\u001b[0m \u001b[0mpd\u001b[0m\u001b[0;34m.\u001b[0m\u001b[0mDataFrame\u001b[0m\u001b[0;34m(\u001b[0m\u001b[0;34m{\u001b[0m\u001b[0;34m'T'\u001b[0m\u001b[0;34m:\u001b[0m\u001b[0mT\u001b[0m\u001b[0;34m,\u001b[0m \u001b[0;34m'Y'\u001b[0m\u001b[0;34m:\u001b[0m\u001b[0mY\u001b[0m\u001b[0;34m}\u001b[0m\u001b[0;34m)\u001b[0m\u001b[0;34m\u001b[0m\u001b[0;34m\u001b[0m\u001b[0m\n\u001b[0m\u001b[1;32m     12\u001b[0m \u001b[0;34m\u001b[0m\u001b[0m\n\u001b[1;32m     13\u001b[0m \u001b[0;31m# plot\u001b[0m\u001b[0;34m\u001b[0m\u001b[0;34m\u001b[0m\u001b[0;34m\u001b[0m\u001b[0m\n",
      "\u001b[0;32m~/anaconda3/lib/python3.7/site-packages/pandas/core/frame.py\u001b[0m in \u001b[0;36m__init__\u001b[0;34m(self, data, index, columns, dtype, copy)\u001b[0m\n\u001b[1;32m    465\u001b[0m \u001b[0;34m\u001b[0m\u001b[0m\n\u001b[1;32m    466\u001b[0m         \u001b[0;32melif\u001b[0m \u001b[0misinstance\u001b[0m\u001b[0;34m(\u001b[0m\u001b[0mdata\u001b[0m\u001b[0;34m,\u001b[0m \u001b[0mdict\u001b[0m\u001b[0;34m)\u001b[0m\u001b[0;34m:\u001b[0m\u001b[0;34m\u001b[0m\u001b[0;34m\u001b[0m\u001b[0m\n\u001b[0;32m--> 467\u001b[0;31m             \u001b[0mmgr\u001b[0m \u001b[0;34m=\u001b[0m \u001b[0minit_dict\u001b[0m\u001b[0;34m(\u001b[0m\u001b[0mdata\u001b[0m\u001b[0;34m,\u001b[0m \u001b[0mindex\u001b[0m\u001b[0;34m,\u001b[0m \u001b[0mcolumns\u001b[0m\u001b[0;34m,\u001b[0m \u001b[0mdtype\u001b[0m\u001b[0;34m=\u001b[0m\u001b[0mdtype\u001b[0m\u001b[0;34m)\u001b[0m\u001b[0;34m\u001b[0m\u001b[0;34m\u001b[0m\u001b[0m\n\u001b[0m\u001b[1;32m    468\u001b[0m         \u001b[0;32melif\u001b[0m \u001b[0misinstance\u001b[0m\u001b[0;34m(\u001b[0m\u001b[0mdata\u001b[0m\u001b[0;34m,\u001b[0m \u001b[0mma\u001b[0m\u001b[0;34m.\u001b[0m\u001b[0mMaskedArray\u001b[0m\u001b[0;34m)\u001b[0m\u001b[0;34m:\u001b[0m\u001b[0;34m\u001b[0m\u001b[0;34m\u001b[0m\u001b[0m\n\u001b[1;32m    469\u001b[0m             \u001b[0;32mimport\u001b[0m \u001b[0mnumpy\u001b[0m\u001b[0;34m.\u001b[0m\u001b[0mma\u001b[0m\u001b[0;34m.\u001b[0m\u001b[0mmrecords\u001b[0m \u001b[0;32mas\u001b[0m \u001b[0mmrecords\u001b[0m\u001b[0;34m\u001b[0m\u001b[0;34m\u001b[0m\u001b[0m\n",
      "\u001b[0;32m~/anaconda3/lib/python3.7/site-packages/pandas/core/internals/construction.py\u001b[0m in \u001b[0;36minit_dict\u001b[0;34m(data, index, columns, dtype)\u001b[0m\n\u001b[1;32m    281\u001b[0m             \u001b[0marr\u001b[0m \u001b[0;32mif\u001b[0m \u001b[0;32mnot\u001b[0m \u001b[0mis_datetime64tz_dtype\u001b[0m\u001b[0;34m(\u001b[0m\u001b[0marr\u001b[0m\u001b[0;34m)\u001b[0m \u001b[0;32melse\u001b[0m \u001b[0marr\u001b[0m\u001b[0;34m.\u001b[0m\u001b[0mcopy\u001b[0m\u001b[0;34m(\u001b[0m\u001b[0;34m)\u001b[0m \u001b[0;32mfor\u001b[0m \u001b[0marr\u001b[0m \u001b[0;32min\u001b[0m \u001b[0marrays\u001b[0m\u001b[0;34m\u001b[0m\u001b[0;34m\u001b[0m\u001b[0m\n\u001b[1;32m    282\u001b[0m         ]\n\u001b[0;32m--> 283\u001b[0;31m     \u001b[0;32mreturn\u001b[0m \u001b[0marrays_to_mgr\u001b[0m\u001b[0;34m(\u001b[0m\u001b[0marrays\u001b[0m\u001b[0;34m,\u001b[0m \u001b[0mdata_names\u001b[0m\u001b[0;34m,\u001b[0m \u001b[0mindex\u001b[0m\u001b[0;34m,\u001b[0m \u001b[0mcolumns\u001b[0m\u001b[0;34m,\u001b[0m \u001b[0mdtype\u001b[0m\u001b[0;34m=\u001b[0m\u001b[0mdtype\u001b[0m\u001b[0;34m)\u001b[0m\u001b[0;34m\u001b[0m\u001b[0;34m\u001b[0m\u001b[0m\n\u001b[0m\u001b[1;32m    284\u001b[0m \u001b[0;34m\u001b[0m\u001b[0m\n\u001b[1;32m    285\u001b[0m \u001b[0;34m\u001b[0m\u001b[0m\n",
      "\u001b[0;32m~/anaconda3/lib/python3.7/site-packages/pandas/core/internals/construction.py\u001b[0m in \u001b[0;36marrays_to_mgr\u001b[0;34m(arrays, arr_names, index, columns, dtype, verify_integrity)\u001b[0m\n\u001b[1;32m     76\u001b[0m         \u001b[0;31m# figure out the index, if necessary\u001b[0m\u001b[0;34m\u001b[0m\u001b[0;34m\u001b[0m\u001b[0;34m\u001b[0m\u001b[0m\n\u001b[1;32m     77\u001b[0m         \u001b[0;32mif\u001b[0m \u001b[0mindex\u001b[0m \u001b[0;32mis\u001b[0m \u001b[0;32mNone\u001b[0m\u001b[0;34m:\u001b[0m\u001b[0;34m\u001b[0m\u001b[0;34m\u001b[0m\u001b[0m\n\u001b[0;32m---> 78\u001b[0;31m             \u001b[0mindex\u001b[0m \u001b[0;34m=\u001b[0m \u001b[0mextract_index\u001b[0m\u001b[0;34m(\u001b[0m\u001b[0marrays\u001b[0m\u001b[0;34m)\u001b[0m\u001b[0;34m\u001b[0m\u001b[0;34m\u001b[0m\u001b[0m\n\u001b[0m\u001b[1;32m     79\u001b[0m         \u001b[0;32melse\u001b[0m\u001b[0;34m:\u001b[0m\u001b[0;34m\u001b[0m\u001b[0;34m\u001b[0m\u001b[0m\n\u001b[1;32m     80\u001b[0m             \u001b[0mindex\u001b[0m \u001b[0;34m=\u001b[0m \u001b[0mensure_index\u001b[0m\u001b[0;34m(\u001b[0m\u001b[0mindex\u001b[0m\u001b[0;34m)\u001b[0m\u001b[0;34m\u001b[0m\u001b[0;34m\u001b[0m\u001b[0m\n",
      "\u001b[0;32m~/anaconda3/lib/python3.7/site-packages/pandas/core/internals/construction.py\u001b[0m in \u001b[0;36mextract_index\u001b[0;34m(data)\u001b[0m\n\u001b[1;32m    395\u001b[0m             \u001b[0mlengths\u001b[0m \u001b[0;34m=\u001b[0m \u001b[0mlist\u001b[0m\u001b[0;34m(\u001b[0m\u001b[0mset\u001b[0m\u001b[0;34m(\u001b[0m\u001b[0mraw_lengths\u001b[0m\u001b[0;34m)\u001b[0m\u001b[0;34m)\u001b[0m\u001b[0;34m\u001b[0m\u001b[0;34m\u001b[0m\u001b[0m\n\u001b[1;32m    396\u001b[0m             \u001b[0;32mif\u001b[0m \u001b[0mlen\u001b[0m\u001b[0;34m(\u001b[0m\u001b[0mlengths\u001b[0m\u001b[0;34m)\u001b[0m \u001b[0;34m>\u001b[0m \u001b[0;36m1\u001b[0m\u001b[0;34m:\u001b[0m\u001b[0;34m\u001b[0m\u001b[0;34m\u001b[0m\u001b[0m\n\u001b[0;32m--> 397\u001b[0;31m                 \u001b[0;32mraise\u001b[0m \u001b[0mValueError\u001b[0m\u001b[0;34m(\u001b[0m\u001b[0;34m\"arrays must all be same length\"\u001b[0m\u001b[0;34m)\u001b[0m\u001b[0;34m\u001b[0m\u001b[0;34m\u001b[0m\u001b[0m\n\u001b[0m\u001b[1;32m    398\u001b[0m \u001b[0;34m\u001b[0m\u001b[0m\n\u001b[1;32m    399\u001b[0m             \u001b[0;32mif\u001b[0m \u001b[0mhave_dicts\u001b[0m\u001b[0;34m:\u001b[0m\u001b[0;34m\u001b[0m\u001b[0;34m\u001b[0m\u001b[0m\n",
      "\u001b[0;31mValueError\u001b[0m: arrays must all be same length"
     ]
    }
   ],
   "source": [
    "# make forecast\n",
    "horizon = 3 # months\n",
    "yhat = model_fit.forecast(horizon)\n",
    "\n",
    "t_new = pd.date_range(pd.to_datetime(t.max()),\n",
    "                      pd.to_datetime(t.max()) + datetime.timedelta(days=(horizon)*30), freq='M')\n",
    "T = pd.DataFrame({'T':t_new})\n",
    "#T['T'] = T['T'].map(lambda x: x.strftime('%Y-%m'))     \n",
    "T = np.concatenate((t, T.values.ravel()))\n",
    "Y = np.concatenate((y, yhat))\n",
    "df_new = pd.DataFrame({'T':T, 'Y':Y})\n",
    "\n",
    "# plot\n",
    "plt.figure(figsize=(20,8))\n",
    "y0 = df_new[-horizon*4:]['Y'].values\n",
    "t0 = df_new[-horizon*4:]['T'].values\n",
    "plt.plot(t0, y0, color='blue', label='data')\n",
    "y1 = df_new[-horizon:]['Y'].values\n",
    "t1 = df_new[-horizon:]['T'].values\n",
    "plt.plot(t1, y1, color='red', label='prediction')\n",
    "plt.legend()\n",
    "plt.show()"
   ]
  },
  {
   "cell_type": "markdown",
   "metadata": {},
   "source": [
    "# 4) Case Study real data REE data (hourly electrical demand)"
   ]
  },
  {
   "cell_type": "markdown",
   "metadata": {},
   "source": [
    "## 4.1 load data and visualization"
   ]
  },
  {
   "cell_type": "code",
   "execution_count": null,
   "metadata": {},
   "outputs": [],
   "source": [
    "%cd '/Volumes/HDD/data/ree/profiles'\n",
    "series = pd.read_csv('REE_data_processed.csv', usecols=['timestamp', 'coef_a_smooth'])\n",
    "#series = series.loc[-24*15:,:]\n",
    "#series['timestamp'] = pd.to_datetime(series['timestamp'])\n",
    "\n",
    "y = series['coef_a_smooth'].values\n",
    "t = series['timestamp'].values\n",
    "\n",
    "#series.set_index(['timestamp'], inplace=True, drop=True)\n",
    "\n",
    "print(series.head())\n",
    "print(series.tail())\n",
    "\n",
    "# plot\n",
    "plt.figure(figsize=(14,4))\n",
    "plt.plot(t, y)\n",
    "plt.show()\n",
    "\n",
    "# plot\n",
    "#plt.figure(figsize=(14,4))\n",
    "#plt.plot(t[-24*15:],y[-24*15:])\n",
    "#plt.show()\n"
   ]
  },
  {
   "cell_type": "markdown",
   "metadata": {},
   "source": [
    "## 4.2 Seasonal descomposition"
   ]
  },
  {
   "cell_type": "code",
   "execution_count": null,
   "metadata": {},
   "outputs": [],
   "source": [
    "result = seasonal_decompose(series, model='additive') # multiplicative, additive\n",
    "\n",
    "#plt.figure(figsize=(20,4))\n",
    "#result.plot()\n",
    "#plt.show()\n",
    "\n",
    "series_trend = result.trend\n",
    "series_seasonal = result.seasonal\n",
    "series_resid = result.resid\n",
    "series_observed = result.observed\n",
    "\n",
    "plt.figure(figsize=(14,4))\n",
    "plt.plot(series_trend)\n",
    "plt.title('Trend', fontsize=14)\n",
    "plt.show()\n",
    "\n",
    "plt.figure(figsize=(14,4))\n",
    "plt.plot(series_seasonal)\n",
    "plt.title('Season', fontsize=14)\n",
    "plt.show()\n",
    "\n",
    "plt.figure(figsize=(14,4))\n",
    "plt.plot(series_resid)\n",
    "plt.title('Residual', fontsize=14)\n",
    "plt.show()"
   ]
  },
  {
   "cell_type": "markdown",
   "metadata": {},
   "source": [
    "## 4.3 Stationarity analysis"
   ]
  },
  {
   "cell_type": "code",
   "execution_count": null,
   "metadata": {},
   "outputs": [],
   "source": [
    "plot_acf(series, lags=50)\n",
    "plt.show()\n",
    "\n",
    "plot_pacf(series, lags=50)\n",
    "plt.show()"
   ]
  },
  {
   "cell_type": "markdown",
   "metadata": {},
   "source": [
    "## 4.4 Grid search"
   ]
  },
  {
   "cell_type": "markdown",
   "metadata": {},
   "source": [
    "### Grid search"
   ]
  },
  {
   "cell_type": "code",
   "execution_count": null,
   "metadata": {},
   "outputs": [],
   "source": [
    "# data split\n",
    "n_test = 4\n",
    "# model configs\n",
    "cfg_list = exp_smoothing_configs()\n",
    "# grid search\n",
    "scores = grid_search(y, cfg_list, n_test)\n",
    "print('done')\n",
    "# list top 3 configs\n",
    "for cfg, error in scores[:3]:\n",
    "    print(cfg, error) "
   ]
  },
  {
   "cell_type": "markdown",
   "metadata": {},
   "source": [
    "We can see that the best result was an RMSE of about 0.12 births with the following configuration:\n",
    "\n",
    "* Trend: None\n",
    "* Damped: False\n",
    "* Seasonal: None\n",
    "* Seasonal Periods: None\n",
    "* Box-Cox Transform: True\n",
    "* Remove Bias: True"
   ]
  },
  {
   "cell_type": "markdown",
   "metadata": {},
   "source": [
    "https://www.statsmodels.org/dev/generated/statsmodels.tsa.holtwinters.ExponentialSmoothing.html?highlight=exponentialsmoothing#statsmodels.tsa.holtwinters.ExponentialSmoothing"
   ]
  },
  {
   "cell_type": "markdown",
   "metadata": {},
   "source": [
    "## 4.5 Fit model"
   ]
  },
  {
   "cell_type": "code",
   "execution_count": null,
   "metadata": {},
   "outputs": [],
   "source": [
    "# create class\n",
    "\n",
    "#model = ExponentialSmoothing(y, trend=None, seasonal_periods=None, seasonal=None)\n",
    "model = ExponentialSmoothing(y, trend='add', seasonal='add', seasonal_periods=24)\n",
    "\n",
    "# fit model\n",
    "model_fit = model.fit()\n",
    "\n",
    "print('Params:', model_fit.params)\n",
    "print('SSE:{}'.format(model_fit.sse))\n",
    "print('AIC:{}'.format(model_fit.aic))\n",
    "print('BIC:{}'.format(model_fit.bic))\n",
    "# print(model_fit.level)\n",
    "print(model_fit.params_formatted)"
   ]
  },
  {
   "cell_type": "markdown",
   "metadata": {},
   "source": [
    "## 4.6 test prediction"
   ]
  },
  {
   "cell_type": "code",
   "execution_count": null,
   "metadata": {},
   "outputs": [],
   "source": [
    "# make inference\n",
    "y_fitted = model_fit.predict(0, len(y)-1)\n",
    "from sklearn.metrics import r2_score\n",
    "\n",
    "R2 = r2_score(y_fitted, y)\n",
    "MAPE = mape(y_fitted, y)\n",
    "MAE = mae(y_fitted, y)\n",
    "EV = ev(y_fitted, y)\n",
    "print('R2: {}'.format(R2))\n",
    "print('MAPE: {}'.format(MAPE))\n",
    "print('MAE: {}'.format(MAE))\n",
    "print('EV: {}'.format(EV))"
   ]
  },
  {
   "cell_type": "code",
   "execution_count": null,
   "metadata": {},
   "outputs": [],
   "source": [
    "# make forecast\n",
    "horizon = 48\n",
    "yhat = model_fit.forecast(horizon)\n",
    "print('Forecast')"
   ]
  },
  {
   "cell_type": "code",
   "execution_count": null,
   "metadata": {},
   "outputs": [],
   "source": [
    "import matplotlib.pyplot as plt\n",
    "import numpy as np\n",
    "plt.style.use('ggplot')\n",
    "plt.rcParams.update({'font.size': 14})\n",
    "from matplotlib import rc\n",
    "rc('font',**{'family':'serif','serif':['Times New Roman']})\n",
    "rc('text', usetex=True)"
   ]
  },
  {
   "cell_type": "code",
   "execution_count": null,
   "metadata": {},
   "outputs": [],
   "source": [
    "t_new = pd.date_range(start = t.max(), periods=horizon, freq='H')\n",
    "T = np.concatenate((t, t_new))\n",
    "Y = np.concatenate((y, yhat))\n",
    "df_new = pd.DataFrame({'T':T, 'Y':Y})\n",
    "\n",
    "# plot\n",
    "plt.figure(figsize=(20,8))\n",
    "y0 = df_new[-horizon*7:]['Y'].values\n",
    "t0 = df_new[-horizon*7:]['T'].values\n",
    "plt.plot(t0, y0, color='blue', label='data')\n",
    "y1 = df_new[-horizon:]['Y'].values\n",
    "t1 = df_new[-horizon:]['T'].values\n",
    "plt.plot(t1, y1, color='red', label='prediction')\n",
    "plt.legend()\n",
    "plt.show()"
   ]
  },
  {
   "cell_type": "code",
   "execution_count": null,
   "metadata": {},
   "outputs": [],
   "source": []
  },
  {
   "cell_type": "code",
   "execution_count": null,
   "metadata": {},
   "outputs": [],
   "source": []
  },
  {
   "cell_type": "code",
   "execution_count": null,
   "metadata": {},
   "outputs": [],
   "source": []
  }
 ],
 "metadata": {
  "@webio": {
   "lastCommId": null,
   "lastKernelId": null
  },
  "kernelspec": {
   "display_name": "Python 3",
   "language": "python",
   "name": "python3"
  },
  "language_info": {
   "codemirror_mode": {
    "name": "ipython",
    "version": 3
   },
   "file_extension": ".py",
   "mimetype": "text/x-python",
   "name": "python",
   "nbconvert_exporter": "python",
   "pygments_lexer": "ipython3",
   "version": "3.7.3"
  }
 },
 "nbformat": 4,
 "nbformat_minor": 2
}
