{
 "cells": [
  {
   "cell_type": "code",
   "execution_count": null,
   "metadata": {},
   "outputs": [],
   "source": [
    "import pandas as pd\n",
    "import numpy as np\n",
    "import matplotlib.pyplot as plt\n",
    "import seaborn as sns\n",
    "from scipy.stats import pearsonr\n",
    "import matplotlib.pyplot as plt\n",
    "from matplotlib import cm"
   ]
  },
  {
   "cell_type": "markdown",
   "metadata": {},
   "source": [
    "Spearman and Pearson are two statistical methods to calculate the strength of correlation between \n",
    "two variables or attributes. Pearson Correlation Coefficient can be used with continuous variables \n",
    "that have a linear relationship. Here is an example:"
   ]
  },
  {
   "cell_type": "code",
   "execution_count": null,
   "metadata": {},
   "outputs": [],
   "source": [
    "#Create two random variable\n",
    "X = [1,2,3,4,5,6,7,8,9,10,11,12,13]\n",
    "Y = [7,8,8,11,10,11,12,15,20,14,16,15,19]\n",
    "\n",
    "#plot the variables to show linearity\n",
    "plt.scatter(X,Y)\n",
    "plt.show()"
   ]
  },
  {
   "cell_type": "markdown",
   "metadata": {},
   "source": [
    "To print the Pearson coefficient score, I simply runpearsonr(X,Y) and the results are: \n",
    "(0.88763627518577326, 5.1347242986713319e-05) where the first value is the Pearson Correlation Coefficients\n",
    " and the second value is the P-value. 0.8 means that the variables are highly positively correlated.\n",
    "If the variables have a non-linear relationship, you can measure the correlation using Spearman Correlation Coefficient.\n",
    " It can also be used with ordinal categorical variables. You can get the Spearman Coefficient Score by \n",
    " running: scipy.stats.spearmanr(X,Y)\n",
    "Now, this might sound complicated especially with high-dimensional datasets. In that case, it is better\n",
    " to visualize the correlation in a matrix. Here is how you can do that using pandas, I am using Porto Seguro’s \n",
    " Safe Driver Prediction Dataset from Kaggle:"
   ]
  },
  {
   "cell_type": "code",
   "execution_count": null,
   "metadata": {},
   "outputs": [],
   "source": [
    "train = pd.read_csv(\"./train.csv\")\n",
    "n,m = train.shape\n",
    "print()\n",
    "def correlation_heatmap(train):\n",
    "    correlations = train.corr()\n",
    "\n",
    "    fig, ax = plt.subplots(figsize=(10, 10))\n",
    "    sns.heatmap(correlations, vmax=1.0, center=0, fmt='.2f',\n",
    "                square=True, linewidths=.5, annot=True,cmap = cm.get_cmap('Greys') , cbar_kws={\"shrink\": .70})\n",
    "    plt.show();"
   ]
  },
  {
   "cell_type": "code",
   "execution_count": null,
   "metadata": {},
   "outputs": [],
   "source": [
    "correlation_heatmap(train.iloc[:,20:32])\n",
    "plt.show()"
   ]
  },
  {
   "cell_type": "markdown",
   "metadata": {},
   "source": [
    "There is also another popular method called — Kendall’s Tau Coefficient which is also based on variable ranks\n",
    " but unlike Spearman’s coefficient, it does not take into account the difference between ranks. Since the focus of\n",
    "  this article is on Pearson and Spearman Correlation, Kendall method is outside of this article’s scope.\n",
    "\n",
    "Correlation is often interpreted as causation which is a big misconception. Correlation between variables does \n",
    "NOT indicate causation. Any highly correlated variable should be examined and thought of carefully. \n",
    "\n",
    "Correlations are very useful in many applications, especially when conducting regression analysis. However, \n",
    "it should not be mixed with causality and misinterpreted in any way. You should also always check the correlation \n",
    "    between different variables in your dataset and gather some insights as part of your exploration and analysis"
   ]
  },
  {
   "cell_type": "code",
   "execution_count": null,
   "metadata": {},
   "outputs": [],
   "source": [
    "test = pd.read_csv(\"./test.csv\")\n",
    "correlation_heatmap(test.iloc[:,20:32])\n",
    "plt.show()"
   ]
  },
  {
   "cell_type": "code",
   "execution_count": null,
   "metadata": {},
   "outputs": [],
   "source": []
  }
 ],
 "metadata": {
  "@webio": {
   "lastCommId": null,
   "lastKernelId": null
  },
  "hide_input": false,
  "kernelspec": {
   "display_name": "Python 3",
   "language": "python",
   "name": "python3"
  },
  "language_info": {
   "codemirror_mode": {
    "name": "ipython",
    "version": 3
   },
   "file_extension": ".py",
   "mimetype": "text/x-python",
   "name": "python",
   "nbconvert_exporter": "python",
   "pygments_lexer": "ipython3",
   "version": "3.7.3"
  },
  "toc": {
   "base_numbering": 1,
   "nav_menu": {},
   "number_sections": true,
   "sideBar": true,
   "skip_h1_title": false,
   "title_cell": "Table of Contents",
   "title_sidebar": "Contents",
   "toc_cell": false,
   "toc_position": {},
   "toc_section_display": true,
   "toc_window_display": false
  },
  "varInspector": {
   "cols": {
    "lenName": 16,
    "lenType": 16,
    "lenVar": 40
   },
   "kernels_config": {
    "python": {
     "delete_cmd_postfix": "",
     "delete_cmd_prefix": "del ",
     "library": "var_list.py",
     "varRefreshCmd": "print(var_dic_list())"
    },
    "r": {
     "delete_cmd_postfix": ") ",
     "delete_cmd_prefix": "rm(",
     "library": "var_list.r",
     "varRefreshCmd": "cat(var_dic_list()) "
    }
   },
   "types_to_exclude": [
    "module",
    "function",
    "builtin_function_or_method",
    "instance",
    "_Feature"
   ],
   "window_display": false
  }
 },
 "nbformat": 4,
 "nbformat_minor": 2
}
