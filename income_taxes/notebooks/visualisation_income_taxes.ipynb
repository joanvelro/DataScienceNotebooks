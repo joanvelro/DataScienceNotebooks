{
 "cells": [
  {
   "cell_type": "code",
   "execution_count": null,
   "metadata": {},
   "outputs": [],
   "source": [
    "import pandas as pd\n",
    "import plotly.express as px\n",
    "import numpy as np\n",
    "\n",
    "# https://www.finect.com/usuario/Josetrecet/articulos/como-funciona-renta-tramos-irpf\n",
    "\n",
    "df = pd.read_csv('income_taxes_spain_single_no_child.csv')\n",
    "\n",
    "df.rename(columns={'Bruto (Euros)': 'yearly_gross_salary',\n",
    "                   'Neto (Euros)': 'yearly_net_salary',\n",
    "                   'Bruto mes (14 pagas)': 'monthly_gross_salary',\n",
    "                   'Retencion (%)': 'Taxes',\n",
    "                   'Neto mes (14 pagas)': 'monthly_net_salary'}, inplace=True)\n",
    "\n",
    "\n",
    "for i in df.index.values:\n",
    "    df.loc[i, ['Taxes']] = float(df['Taxes'][i][0:5])\n",
    "\n",
    "df['Taxes'] = df['Taxes'].astype(float)\n",
    "\n",
    "series = pd.Series(df['yearly_gross_salary']).str.split(',', expand=True)\n",
    "df['yearly_gross_salary'] = series[0].astype(int) * 1000\n",
    "\n",
    "series = pd.Series(df['yearly_net_salary']).str.split(',', expand=True)\n",
    "df['yearly_net_salary'] = series[0].astype(int) * 1000\n",
    "\n",
    "series = pd.Series(df['monthly_gross_salary']).str.split(',', expand=True)\n",
    "for i in range(0, len(series)):\n",
    "    df.loc[i, ['monthly_gross_salary']] = float(series[0][i] + series[1][i])\n",
    "\n",
    "series = pd.Series(df['monthly_net_salary']).str.split(',', expand=True)\n",
    "for i in range(0, len(series)):\n",
    "    df.loc[i, ['monthly_net_salary']] = float(series[0][i] + series[1][i])\n",
    "\n",
    "df.drop(df[df['monthly_gross_salary'] == 2354].index, inplace=True)\n",
    "\n",
    "df = df[df['yearly_gross_salary'] <= 70000]\n",
    "df.loc[:, ['monthly_gross_salary']] = df['monthly_gross_salary'].astype(float)\n",
    "df.loc[:, ['monthly_net_salary']] = df['monthly_net_salary'].astype(float)\n",
    "\n",
    "df.dtypes\n",
    "\n",
    "\n",
    "def plot():\n",
    "    fig = px.scatter(df,\n",
    "                     x='yearly_gross_salary',\n",
    "                     y='monthly_net_salary',\n",
    "                     color='Taxes',\n",
    "                     size='Taxes',\n",
    "                     text=\"monthly_net_salary\",\n",
    "                     )\n",
    "\n",
    "    fig.update_xaxes(tickvals=np.arange(0, 120000, 2000),\n",
    "                     ticktext=np.arange(0, 120000, 2000))\n",
    "\n",
    "    fig.update_layout(font=dict(family=\"Courier New, monospace\", size=14, color=\"#7f7f7f\"))\n",
    "    fig.update_layout(title_text=\"Income taxes analysis -  Spain  - (2019)\")\n",
    "    fig.update_xaxes(title_text=\"Yearly Gross Salary (k€)\",\n",
    "                     tickangle=45,\n",
    "                     tickfont=dict(size=18),\n",
    "                     ticktext=np.arange(18, 74, 2),\n",
    "                     tickvals=np.arange(18, 74, 2) * 1000)\n",
    "    fig.update_yaxes(title_text=\"Monthly Net Salary (€)\",\n",
    "                     tickfont=dict(size=16),\n",
    "                     ticktext=np.arange(1, 5, 0.25).astype(float) * 1000,\n",
    "                     tickvals=np.arange(1, 5, 0.25).astype(float) * 1000)\n",
    "    fig.update_traces(textposition='top center')\n",
    "    fig.write_html('income_taxes_analysis.html')\n",
    "    fig.show()\n",
    "\n",
    "\n",
    "plot()\n",
    "\n"
   ]
  },
  {
   "cell_type": "code",
   "execution_count": null,
   "metadata": {},
   "outputs": [],
   "source": []
  }
 ],
 "metadata": {
  "@webio": {
   "lastCommId": null,
   "lastKernelId": null
  },
  "hide_input": false,
  "kernelspec": {
   "display_name": "Python 3",
   "language": "python",
   "name": "python3"
  },
  "language_info": {
   "codemirror_mode": {
    "name": "ipython",
    "version": 3
   },
   "file_extension": ".py",
   "mimetype": "text/x-python",
   "name": "python",
   "nbconvert_exporter": "python",
   "pygments_lexer": "ipython3",
   "version": "3.7.3"
  },
  "toc": {
   "base_numbering": 1,
   "nav_menu": {},
   "number_sections": true,
   "sideBar": true,
   "skip_h1_title": false,
   "title_cell": "Table of Contents",
   "title_sidebar": "Contents",
   "toc_cell": false,
   "toc_position": {},
   "toc_section_display": true,
   "toc_window_display": false
  },
  "varInspector": {
   "cols": {
    "lenName": 16,
    "lenType": 16,
    "lenVar": 40
   },
   "kernels_config": {
    "python": {
     "delete_cmd_postfix": "",
     "delete_cmd_prefix": "del ",
     "library": "var_list.py",
     "varRefreshCmd": "print(var_dic_list())"
    },
    "r": {
     "delete_cmd_postfix": ") ",
     "delete_cmd_prefix": "rm(",
     "library": "var_list.r",
     "varRefreshCmd": "cat(var_dic_list()) "
    }
   },
   "types_to_exclude": [
    "module",
    "function",
    "builtin_function_or_method",
    "instance",
    "_Feature"
   ],
   "window_display": false
  }
 },
 "nbformat": 4,
 "nbformat_minor": 2
}
