{
 "cells": [
  {
   "cell_type": "markdown",
   "metadata": {},
   "source": [
    "# Chapter 2: Graphs \n",
    "\n",
    "## Think Complexity Second Edition by Alan Downey"
   ]
  },
  {
   "cell_type": "code",
   "execution_count": null,
   "metadata": {},
   "outputs": [],
   "source": [
    "import networkx as nx\n",
    "import numpy as np\n",
    "\n",
    "import plotly_express as px\n",
    "\n",
    "COLORS = px.colors.qualitative.Alphabet"
   ]
  },
  {
   "cell_type": "code",
   "execution_count": null,
   "metadata": {},
   "outputs": [],
   "source": [
    "\n",
    "\n",
    "G = nx.Graph()\n",
    "\n",
    "positions = dict(Albany=(-74, 43),\n",
    "                 Boston=(-71, 42),\n",
    "                 NYC=(-74, 41),\n",
    "                 Philly=(-75, 40))\n",
    "\n",
    "G.add_nodes_from(positions)\n",
    "\n",
    "\n",
    "drive_times = {('Albany', 'Boston'): 3,\n",
    "               ('Albany', 'NYC'): 4,\n",
    "               ('Boston', 'NYC'): 4,\n",
    "               ('NYC', 'Philly'): 2}\n",
    "\n",
    "G.add_edges_from(drive_times)\n",
    "\n",
    "\n",
    "nx.draw(G, positions, node_color=np.random.choice(COLORS), node_shape='*', node_size=2500, with_labels=True)\n",
    "nx.draw_networkx_edge_labels(G, positions, edge_labels=drive_times)"
   ]
  },
  {
   "cell_type": "code",
   "execution_count": null,
   "metadata": {},
   "outputs": [],
   "source": [
    "positions['Montreal'] = (-73.6, 45.5)\n",
    "drive_times[('Montreal', 'NYC')] = 6 \n",
    "\n",
    "G.update(nodes=positions, edges=drive_times)\n",
    "\n",
    "nx.draw(G, positions, node_color=np.random.choice(COLORS), node_shape='*', node_size=2500, with_labels=True)\n",
    "nx.draw_networkx_edge_labels(G, positions, edge_labels=drive_times)"
   ]
  },
  {
   "cell_type": "code",
   "execution_count": null,
   "metadata": {},
   "outputs": [],
   "source": [
    "def all_pairs(nodes):\n",
    "    for i, u in enumerate(nodes):\n",
    "        for j, v in enumerate(nodes):\n",
    "            if i < j:\n",
    "                yield u, v\n",
    "                \n",
    "        \n",
    "list(all_pairs(range(4)))\n",
    "\n",
    "def make_complete_graph(n):\n",
    "    G = nx.Graph()\n",
    "    nodes = range(n)\n",
    "    G.add_nodes_from(nodes)\n",
    "    G.add_edges_from(all_pairs(nodes))\n",
    "    return G\n",
    "\n",
    "Gc = make_complete_graph(5)\n",
    "list(Gc.edges)"
   ]
  },
  {
   "cell_type": "code",
   "execution_count": null,
   "metadata": {},
   "outputs": [],
   "source": [
    "complete = make_complete_graph(10)\n",
    "complete.number_of_nodes()\n",
    "\n",
    "len(complete.edges)"
   ]
  },
  {
   "cell_type": "code",
   "execution_count": null,
   "metadata": {},
   "outputs": [],
   "source": [
    "def all_directed_pairs(nodes):\n",
    "    for i, u in enumerate(nodes):\n",
    "        for j, v in enumerate(nodes):\n",
    "            if i != j:\n",
    "                yield u, v\n",
    "                \n",
    "def make_complete_digraph(n):\n",
    "    G = nx.DiGraph()\n",
    "    nodes = range(n)\n",
    "    G.add_nodes_from(nodes)\n",
    "    \n",
    "    edges = all_directed_pairs(nodes)\n",
    "    \n",
    "    G.add_edges_from(edges)\n",
    "    \n",
    "    return G"
   ]
  },
  {
   "cell_type": "code",
   "execution_count": null,
   "metadata": {},
   "outputs": [],
   "source": [
    "directed_complete = make_complete_digraph(5)\n",
    "len(directed_complete.edges)\n",
    "\n",
    "nx.draw(directed_complete, with_labels=True)"
   ]
  },
  {
   "cell_type": "code",
   "execution_count": null,
   "metadata": {},
   "outputs": [],
   "source": [
    "def flip(p):\n",
    "    return np.random.random() < p\n",
    "\n",
    "def random_pairs(nodes, p):\n",
    "    for edge in all_pairs(nodes):\n",
    "        if flip(p):\n",
    "            yield edge"
   ]
  },
  {
   "cell_type": "code",
   "execution_count": null,
   "metadata": {},
   "outputs": [],
   "source": [
    "def make_random_graph(n, p):\n",
    "    G = nx.Graph()\n",
    "    nodes = range(n)\n",
    "    G.add_nodes_from(nodes)\n",
    "    G.add_edges_from(random_pairs(nodes, p))\n",
    "    return G"
   ]
  },
  {
   "cell_type": "code",
   "execution_count": null,
   "metadata": {},
   "outputs": [],
   "source": [
    "np.random.seed(100)\n",
    "random_graph = make_random_graph(10, 0.2)\n",
    "len(random_graph.edges())"
   ]
  },
  {
   "cell_type": "code",
   "execution_count": null,
   "metadata": {},
   "outputs": [],
   "source": [
    "nx.draw_circular(random_graph, \n",
    "                 node_color=np.random.choice(COLORS), \n",
    "                 node_size=1000, \n",
    "                 with_labels=True)"
   ]
  },
  {
   "cell_type": "code",
   "execution_count": null,
   "metadata": {},
   "outputs": [],
   "source": [
    "def reachable_nodes(G, start):\n",
    "    seen = []\n",
    "    stack = [start]\n",
    "    \n",
    "    while len(stack) > 0:\n",
    "        node = stack.pop()\n",
    "        neighbors = G.neighbors(node)\n",
    "        for n in neighbors:\n",
    "            if n not in seen:\n",
    "                seen.append(n)\n",
    "                stack.append(n)\n",
    "                \n",
    "    return seen\n",
    "\n",
    "reachable_nodes(G, 'Montreal')"
   ]
  },
  {
   "cell_type": "code",
   "execution_count": null,
   "metadata": {},
   "outputs": [],
   "source": [
    "def reachable_nodes_book(G, start):\n",
    "    seen = set()\n",
    "    stack = [start]\n",
    "    while stack:\n",
    "        node = stack.pop()\n",
    "        if node not in seen:\n",
    "            seen.add(node)\n",
    "            stack.extend(G.neighbors(node))\n",
    "    return seen\n",
    "\n",
    "reachable_nodes_book(G, 'Montreal')"
   ]
  },
  {
   "cell_type": "code",
   "execution_count": null,
   "metadata": {},
   "outputs": [],
   "source": [
    "reachable_nodes(complete, 0)\n",
    "reachable_nodes_book(complete, 0)"
   ]
  },
  {
   "cell_type": "code",
   "execution_count": null,
   "metadata": {},
   "outputs": [],
   "source": [
    "reachable_nodes(random_graph, 1)\n",
    "reachable_nodes_book(random_graph, 1)"
   ]
  },
  {
   "cell_type": "code",
   "execution_count": null,
   "metadata": {},
   "outputs": [],
   "source": [
    "for n, p in zip([100, 200, 300], [0.1, 0.2, 0.5]):\n",
    "    graph = make_random_graph(n, p)\n",
    "    assert set(reachable_nodes(graph, 0)) == reachable_nodes_book(graph, 0)"
   ]
  },
  {
   "cell_type": "code",
   "execution_count": null,
   "metadata": {},
   "outputs": [],
   "source": [
    "np.random.seed(40)\n",
    "test_random = make_random_graph(1000, 0.15)"
   ]
  },
  {
   "cell_type": "code",
   "execution_count": null,
   "metadata": {},
   "outputs": [],
   "source": [
    "%%timeit\n",
    "reachable_nodes(test_random, 0)"
   ]
  },
  {
   "cell_type": "code",
   "execution_count": null,
   "metadata": {},
   "outputs": [],
   "source": [
    "%%timeit \n",
    "reachable_nodes_book(test_random, 0)"
   ]
  },
  {
   "cell_type": "code",
   "execution_count": null,
   "metadata": {},
   "outputs": [],
   "source": [
    "def is_connected(G):\n",
    "    return len(G.nodes) == len(reachable_nodes_book(G, list(G.nodes.keys())[0]))\n",
    "\n",
    "is_connected(complete)"
   ]
  },
  {
   "cell_type": "code",
   "execution_count": null,
   "metadata": {},
   "outputs": [],
   "source": [
    "is_connected(test_random)"
   ]
  },
  {
   "cell_type": "code",
   "execution_count": null,
   "metadata": {},
   "outputs": [],
   "source": [
    "low_p_random = make_random_graph(8, 0.1)\n",
    "is_connected(low_p_random)"
   ]
  },
  {
   "cell_type": "code",
   "execution_count": null,
   "metadata": {},
   "outputs": [],
   "source": [
    "nx.draw(low_p_random, node_color=np.random.choice(COLORS))"
   ]
  },
  {
   "cell_type": "code",
   "execution_count": null,
   "metadata": {},
   "outputs": [],
   "source": [
    "def reachable_nodes_directed(G, start):\n",
    "    seen = set()\n",
    "    stack = [start]\n",
    "    \n",
    "    while stack:\n",
    "        node = stack.pop()\n",
    "        if node not in seen:\n",
    "            seen.add(node)\n",
    "            stack.extend(G.successors(node))\n",
    "            \n",
    "    return seen\n",
    "\n",
    "def is_connected_directed(G):\n",
    "\n",
    "    return len(G.nodes) == len(reachable_nodes_directed(G, list(G.nodes.keys())[0]))"
   ]
  },
  {
   "cell_type": "code",
   "execution_count": null,
   "metadata": {},
   "outputs": [],
   "source": [
    "is_connected_directed(make_complete_digraph(10))"
   ]
  },
  {
   "cell_type": "code",
   "execution_count": null,
   "metadata": {},
   "outputs": [],
   "source": [
    "not_connected_digraph = nx.DiGraph()\n",
    "not_connected_digraph.add_nodes_from([0, 1, 2, 3])\n",
    "not_connected_digraph.add_edges_from([(0, 1), (1, 2), (3, 0)])\n",
    "\n",
    "nx.draw(not_connected_digraph)"
   ]
  },
  {
   "cell_type": "code",
   "execution_count": null,
   "metadata": {},
   "outputs": [],
   "source": [
    "is_connected_directed(not_connected_digraph)"
   ]
  },
  {
   "cell_type": "code",
   "execution_count": null,
   "metadata": {},
   "outputs": [],
   "source": [
    "def prob_connected(n, p, iters):\n",
    "    return np.mean([is_connected(make_random_graph(n, p)) for _ in range(iters)])\n",
    "\n",
    "for n, p in zip([10, 15, 20], [0.1, 0.15, 0.2]):\n",
    "    print(f'The probability of a graph being connected with {n} nodes and {p} probability two nodes are connected is {prob_connected(n, p, 100):.2f}%.')"
   ]
  },
  {
   "cell_type": "code",
   "execution_count": null,
   "metadata": {},
   "outputs": [],
   "source": [
    "def pstar(n):\n",
    "    return np.log(n) / n\n",
    "\n",
    "pstar(10)"
   ]
  },
  {
   "cell_type": "code",
   "execution_count": null,
   "metadata": {},
   "outputs": [],
   "source": [
    "ns = np.arange(2, 25)\n",
    "ps = np.linspace(0.1, 0.61, num=50)\n",
    "\n",
    "from itertools import product\n",
    "from collections import defaultdict\n",
    "results = []\n",
    "\n",
    "for n, p in product(ns, ps):\n",
    "    results.append((n, p, prob_connected(n, p, 100)))"
   ]
  },
  {
   "cell_type": "code",
   "execution_count": null,
   "metadata": {},
   "outputs": [],
   "source": [
    "import pandas as pd\n",
    "import cufflinks as cf\n",
    "\n",
    "probs = pd.DataFrame(results, columns=['n', 'edge_prob', 'connected_prob'])\n",
    "\n",
    "pstar_comparison = probs.groupby('n').apply(lambda x: x.loc[x['connected_prob'] > 0.5, 'edge_prob'].min()).to_frame().rename(columns={0:'empirical'})\n",
    "pstar_comparison['theoretical'] = pstar(pstar_comparison.index)\n",
    "pstar_comparison"
   ]
  },
  {
   "cell_type": "code",
   "execution_count": null,
   "metadata": {},
   "outputs": [],
   "source": [
    "pstar_comparison.iplot(kind='bar', xTitle='Number of Nodes', yTitle='PStar', title='Value of Probability of Node Connections at which More than 50% of Randomly Drawn Graphs are Connected')"
   ]
  },
  {
   "cell_type": "code",
   "execution_count": null,
   "metadata": {},
   "outputs": [],
   "source": [
    "probs.head()"
   ]
  },
  {
   "cell_type": "code",
   "execution_count": null,
   "metadata": {},
   "outputs": [],
   "source": [
    "probs['nodes'] = [f'{n}_nodes' for n in probs['n']]\n",
    "probs.iplot(\n",
    "    mode='lines',\n",
    "    x=\"edge_prob\",\n",
    "    y=\"connected_prob\",\n",
    "    categories=\"nodes\",\n",
    "    title=\"Connected vs Edge Prob by Number of Nodes\",\n",
    ")"
   ]
  },
  {
   "cell_type": "code",
   "execution_count": null,
   "metadata": {},
   "outputs": [],
   "source": [
    "fig = px.line(\n",
    "    probs,\n",
    "    x=\"edge_prob\",\n",
    "    y=\"connected_prob\",\n",
    "    color=\"nodes\",\n",
    "    title=\"Connected vs Edge Probability by Number of Nodes\",\n",
    ")\n",
    "fig"
   ]
  },
  {
   "cell_type": "code",
   "execution_count": null,
   "metadata": {},
   "outputs": [],
   "source": [
    "import random\n",
    "random.sample([(1, 0), (2, 3)], 1)"
   ]
  },
  {
   "cell_type": "code",
   "execution_count": null,
   "metadata": {},
   "outputs": [],
   "source": [
    "def make_random_graph_alt(n, m):\n",
    "    nodes = range(n)\n",
    "    all_edges = all_pairs(nodes)\n",
    "\n",
    "    if m > ((n**2) - n) / 2:\n",
    "        raise ValueError('More edges than is possible!')\n",
    "    \n",
    "    selected_edges = random.sample(list(all_edges), m)\n",
    "    \n",
    "    G = nx.Graph()\n",
    "    G.add_nodes_from(nodes)\n",
    "    G.add_edges_from(selected_edges)\n",
    "    \n",
    "    return G\n",
    "\n",
    "random_G = make_random_graph_alt(10, 40)\n",
    "nx.draw(random_G, with_labels=True)"
   ]
  },
  {
   "cell_type": "code",
   "execution_count": null,
   "metadata": {},
   "outputs": [],
   "source": [
    "def prob_connected_alt(n, m, iters):\n",
    "    return np.mean([is_connected(make_random_graph_alt(n, m)) for _ in range(iters)])"
   ]
  },
  {
   "cell_type": "code",
   "execution_count": null,
   "metadata": {},
   "outputs": [],
   "source": [
    "ns = np.arange(2, 21)\n",
    "ps = np.linspace(0.1, 0.61, num=50)\n",
    "\n",
    "results = []\n",
    "\n",
    "for n, p in product(ns, ps):\n",
    "    m = int( p * ( (n ** 2) - n) / 2)\n",
    "    \n",
    "    \n",
    "    prob_connected_graph = prob_connected_alt(n, m, 100)\n",
    "    \n",
    "    results.append((n, p, m, prob_connected_graph))\n",
    "    \n",
    "results = pd.DataFrame(results, columns=['n_nodes', 'prob_edge', \n",
    "                                        'n_edges', 'prob_connected'])\n",
    "results.head()\n",
    "    "
   ]
  },
  {
   "cell_type": "code",
   "execution_count": null,
   "metadata": {},
   "outputs": [],
   "source": [
    "pstar_comparison = results.groupby('n_nodes').apply(lambda x: x.loc[x['prob_connected'] > 0.5, 'prob_edge'].min()).to_frame().rename(columns={0: 'empirical'})\n",
    "pstar_comparison['theoretical'] = pstar(pstar_comparison.index)\n",
    "pstar_comparison"
   ]
  },
  {
   "cell_type": "code",
   "execution_count": null,
   "metadata": {},
   "outputs": [],
   "source": [
    "pstar_comparison.iplot(kind='bar', xTitle='Number of Nodes', yTitle='Pstar', title='Probablity of Edge between Nodes at which Probability of Connected Graph is Greater than 50%')"
   ]
  },
  {
   "cell_type": "code",
   "execution_count": null,
   "metadata": {},
   "outputs": [],
   "source": [
    "px.line(results, x='prob_edge', y='prob_connected', color='n_nodes', title='Probability of Connected Graph vs Probability of Edge between Nodes')"
   ]
  },
  {
   "cell_type": "code",
   "execution_count": null,
   "metadata": {},
   "outputs": [],
   "source": []
  }
 ],
 "metadata": {
  "@webio": {
   "lastCommId": null,
   "lastKernelId": null
  },
  "hide_input": false,
  "kernelspec": {
   "display_name": "Python 3",
   "language": "python",
   "name": "python3"
  },
  "language_info": {
   "codemirror_mode": {
    "name": "ipython",
    "version": 3
   },
   "file_extension": ".py",
   "mimetype": "text/x-python",
   "name": "python",
   "nbconvert_exporter": "python",
   "pygments_lexer": "ipython3",
   "version": "3.7.3"
  },
  "toc": {
   "base_numbering": 1,
   "nav_menu": {},
   "number_sections": true,
   "sideBar": true,
   "skip_h1_title": false,
   "title_cell": "Table of Contents",
   "title_sidebar": "Contents",
   "toc_cell": false,
   "toc_position": {},
   "toc_section_display": true,
   "toc_window_display": false
  },
  "varInspector": {
   "cols": {
    "lenName": 16,
    "lenType": 16,
    "lenVar": 40
   },
   "kernels_config": {
    "python": {
     "delete_cmd_postfix": "",
     "delete_cmd_prefix": "del ",
     "library": "var_list.py",
     "varRefreshCmd": "print(var_dic_list())"
    },
    "r": {
     "delete_cmd_postfix": ") ",
     "delete_cmd_prefix": "rm(",
     "library": "var_list.r",
     "varRefreshCmd": "cat(var_dic_list()) "
    }
   },
   "types_to_exclude": [
    "module",
    "function",
    "builtin_function_or_method",
    "instance",
    "_Feature"
   ],
   "window_display": false
  }
 },
 "nbformat": 4,
 "nbformat_minor": 2
}
