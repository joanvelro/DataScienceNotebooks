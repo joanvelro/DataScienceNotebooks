{
 "cells": [
  {
   "cell_type": "markdown",
   "metadata": {},
   "source": [
    "# PV Forecasting"
   ]
  },
  {
   "cell_type": "markdown",
   "metadata": {},
   "source": [
    "##Load Data"
   ]
  },
  {
   "cell_type": "markdown",
   "metadata": {},
   "source": [
    "###Import necessary dependencies"
   ]
  },
  {
   "cell_type": "code",
   "execution_count": 186,
   "metadata": {
    "collapsed": true
   },
   "outputs": [],
   "source": [
    "%matplotlib inline\n",
    "import numpy as np\n",
    "import pandas as pd\n",
    "import matplotlib.pyplot as plt\n",
    "from os import path\n",
    "from datetime import datetime, date, timedelta\n",
    "from sklearn.preprocessing import StandardScaler\n",
    "from sklearn import linear_model"
   ]
  },
  {
   "cell_type": "markdown",
   "metadata": {},
   "source": [
    "###Load Data from Database"
   ]
  },
  {
   "cell_type": "code",
   "execution_count": 199,
   "metadata": {
    "collapsed": false
   },
   "outputs": [],
   "source": [
    "# Load PV Data\n",
    "store = pd.HDFStore('pv.hd5')\n",
    "ts = store['pv']\n",
    "store.close()\n",
    "\n",
    "# Drop other columns\n",
    "ts = ts.loc[:, ['dataPowerOut', 'dataTemp', 'Insolation']]"
   ]
  },
  {
   "cell_type": "markdown",
   "metadata": {},
   "source": [
    "##Train Model"
   ]
  },
  {
   "cell_type": "markdown",
   "metadata": {},
   "source": [
    "### Create Feature Vector"
   ]
  },
  {
   "cell_type": "markdown",
   "metadata": {},
   "source": [
    "The feature vector is made up from lagged active energy, calendar information and meteorological forecasts"
   ]
  },
  {
   "cell_type": "code",
   "execution_count": 262,
   "metadata": {
    "collapsed": true
   },
   "outputs": [],
   "source": [
    "def get_train_dataset(ts, train_date, steps=12, freq='5min'):# Lagged Active\n",
    "    \n",
    "    # Select rows up to the train_date\n",
    "    target = ts.asfreq(freq).loc[:train_date, :]\n",
    "    \n",
    "    for n in np.arange(1,steps+1):\n",
    "        target['lagged' + str(n)] = target['dataPowerOut'].shift(n)\n",
    "\n",
    "    # Time\n",
    "    target['day'] = pd.Series(target.index.day, target.index)\n",
    "    target['hour'] = pd.Series(target.index.hour, target.index)\n",
    "    target['weekday'] = pd.Series(target.index.weekday, target.index)\n",
    "    target['week'] = pd.Series(target.index.week, target.index)\n",
    "\n",
    "    # Drop Nans: Train only with complete feature vectors\n",
    "    target = target.dropna()\n",
    "\n",
    "    # Split feature vector / target\n",
    "    train_x = target.drop('dataPowerOut', axis=1) # Feature vector\n",
    "    train_y = target.ix[:,'dataPowerOut'] # Actual measurements\n",
    "\n",
    "    # Scale vectors: substract mean of every column and normalize to a std=1\n",
    "    scaler_x = StandardScaler().fit(train_x.values)\n",
    "    scaler_y = StandardScaler().fit(train_y.values)\n",
    "    train_X = scaler_x.transform(train_x.copy())\n",
    "    train_Y = scaler_y.transform(train_y.copy())\n",
    "    \n",
    "    return scaler_x, scaler_y, train_X, train_Y, target"
   ]
  },
  {
   "cell_type": "markdown",
   "metadata": {},
   "source": [
    "###Select train subset"
   ]
  },
  {
   "cell_type": "markdown",
   "metadata": {},
   "source": [
    "Use the available measurements up to a certain date to fit a model"
   ]
  },
  {
   "cell_type": "code",
   "execution_count": 281,
   "metadata": {
    "collapsed": false
   },
   "outputs": [],
   "source": [
    "train_date = '2015-02-01'\n",
    "scaler_x, scaler_y, train_X, train_Y, target = get_train_dataset(ts, train_date, steps=12, freq='5min')"
   ]
  },
  {
   "cell_type": "code",
   "execution_count": 282,
   "metadata": {
    "collapsed": false
   },
   "outputs": [
    {
     "data": {
      "text/plain": [
       "LinearRegression(copy_X=True, fit_intercept=True, normalize=False)"
      ]
     },
     "execution_count": 282,
     "metadata": {},
     "output_type": "execute_result"
    }
   ],
   "source": [
    "clf = linear_model.LinearRegression()\n",
    "clf.fit(train_X, train_Y)"
   ]
  },
  {
   "cell_type": "markdown",
   "metadata": {},
   "source": [
    "## Load Profiles"
   ]
  },
  {
   "cell_type": "markdown",
   "metadata": {},
   "source": [
    "In case measurements are missing from the database, the algorithm falls back to load profiles, which are the average values of the train dataset grouped by hour of the day and minute of the hour."
   ]
  },
  {
   "cell_type": "code",
   "execution_count": 283,
   "metadata": {
    "collapsed": false
   },
   "outputs": [],
   "source": [
    "# Select train dataset\n",
    "target = ts.asfreq('5min').loc[:train_date, :]\n",
    "\n",
    "# Group measurements based on calendar information\n",
    "grouped = target.loc[:, 'dataPowerOut'].astype(float).groupby([lambda x: x.month, lambda x: x.hour, lambda x: x.minute])\n",
    "\n",
    "# Calculate the average values\n",
    "profile = grouped.mean().copy()\n",
    "\n",
    "# Nans are zeros\n",
    "profile = profile.fillna(value=0.0)"
   ]
  },
  {
   "cell_type": "markdown",
   "metadata": {},
   "source": [
    "##Test Model"
   ]
  },
  {
   "cell_type": "markdown",
   "metadata": {},
   "source": [
    "The forecast function outputs the the next forecasted values of active energy. The number of values it returns is set by the variable *horizon*. "
   ]
  },
  {
   "cell_type": "code",
   "execution_count": 284,
   "metadata": {
    "collapsed": false
   },
   "outputs": [],
   "source": [
    "def forecast(test_date, retrain=False, horizon=3, freq='5min', lagged_measurement=12*12):\n",
    "\n",
    "    # Define global variables\n",
    "    global scaler_x, scaler_y, train_X, train_Y, clf\n",
    "    \n",
    "    # Dataframe containing output\n",
    "    forecasts = pd.DataFrame()\n",
    "    \n",
    "    # Range of dates of previous measurements\n",
    "    drange = pd.date_range(end=test_date, periods=lagged_measurement, freq=freq)\n",
    "    \n",
    "    for h in range(horizon):\n",
    "        f_date = drange[-1] + timedelta(minutes=5*(1+h))\n",
    "\n",
    "        # Get Meteo information\n",
    "        met = test_filled.loc[f_date, ['dataTemp', 'Insolation']].values.squeeze()\n",
    "\n",
    "        # Get previous measurements\n",
    "        if h==0:\n",
    "            lagged_meas = test_filled.loc[drange[0]:drange[-1], 'dataPowerOut'].values.squeeze()\n",
    "        else:\n",
    "            lagged_meas = np.roll(lagged_meas, -1)\n",
    "            lagged_meas[-1] = forecast\n",
    "        \n",
    "        # Append to feature vector meteo and date information\n",
    "        date_info = np.array([f_date.day, f_date.hour, f_date.weekday(), f_date.week])\n",
    "\n",
    "        # Create feature vector\n",
    "        feature_vector = met.copy()\n",
    "        feature_vector = np.hstack((feature_vector, lagged_meas.squeeze()))\n",
    "        feature_vector = np.hstack((feature_vector, date_info.squeeze()))\n",
    "\n",
    "\n",
    "        # If the feature vector contains nans fall back to the load profiles\n",
    "        if np.isnan(feature_vector).sum():\n",
    "            forecast = profile[f_date.month][f_date.hour][f_date.minute]\n",
    "        else:\n",
    "            # Normalize\n",
    "            feature_vector = scaler_x.transform(feature_vector)\n",
    "        \n",
    "            # Predict\n",
    "            forecast = clf.predict(feature_vector)\n",
    "\n",
    "            # Denormalize\n",
    "            forecast = scaler_y.inverse_transform(forecast).item()\n",
    "\n",
    "        \n",
    "        # Forecasts of the next h values\n",
    "        forecasts.loc[drange[-1] + timedelta(minutes=5), 'f_'+str(h)] = forecast\n",
    "\n",
    "        # If measurement is empty, fill with prediction\n",
    "        if h==0 and np.isnan(test.loc[f_date, 'dataPowerOut']):\n",
    "            test_filled.loc[f_date, 'dataPowerOut'] = forecasts.loc[f_date, 'f_0']\n",
    "            \n",
    "    # Optional: retrain the model using the latest measurements\n",
    "    if retrain:\n",
    "        scaler_x, scaler_y, train_X, train_Y = get_train_dataset(ts, f_date, steps=lagged_measurement, freq=freq)\n",
    "        #clf.fit(train_X, train_Y)\n",
    "            \n",
    "    return forecasts"
   ]
  },
  {
   "cell_type": "code",
   "execution_count": 287,
   "metadata": {
    "collapsed": true
   },
   "outputs": [],
   "source": [
    "test = ts.loc[train_date:, :].copy()\n",
    "test = test.asfreq('5min')\n",
    "\n",
    "# Copy of the test database. If a measurement is missing it is filled with a forecast\n",
    "test_filled = test.copy()\n",
    "\n",
    "# First date to be forecasted\n",
    "test_date = datetime(2015, 2, 2, 0, 0, 0)\n",
    "\n",
    "# Horizon: number of forecasts to produce at each step\n",
    "horizon = 3\n",
    "\n",
    "# Empty dataframe that will contain the forecasts\n",
    "forecasts = pd.DataFrame()"
   ]
  },
  {
   "cell_type": "code",
   "execution_count": 288,
   "metadata": {
    "collapsed": false
   },
   "outputs": [],
   "source": [
    "# Simulate the process of forecasting. From a given date it outputs h forecasts for every hour.\n",
    "for i in range(1500):\n",
    "    test_date = test_date + timedelta(minutes=5)\n",
    "    forecasts = pd.concat([forecasts, forecast(test_date.strftime('%Y-%m-%d %H:%M:%S'), retrain=False, horizon=3, freq='5min', lagged_measurement=12)])"
   ]
  },
  {
   "cell_type": "code",
   "execution_count": 290,
   "metadata": {
    "collapsed": false,
    "scrolled": true
   },
   "outputs": [
    {
     "data": {
      "text/plain": [
       "[<matplotlib.lines.Line2D at 0x1377392d0>]"
      ]
     },
     "execution_count": 290,
     "metadata": {},
     "output_type": "execute_result"
    }
   ],
   "source": [
    "# Plot\n",
    "plt.plot(test.loc[:, 'dataPowerOut']) # Actual measurement\n",
    "plt.plot(forecasts.loc[:, 'f_0']) # Hour ahead forecasts"
   ]
  },
  {
   "cell_type": "code",
   "execution_count": 291,
   "metadata": {
    "collapsed": false
   },
   "outputs": [
    {
     "data": {
      "text/html": [
       "<div style=\"max-height:1000px;max-width:1500px;overflow:auto;\">\n",
       "<table border=\"1\" class=\"dataframe\">\n",
       "  <thead>\n",
       "    <tr style=\"text-align: right;\">\n",
       "      <th></th>\n",
       "      <th>f_0</th>\n",
       "      <th>f_1</th>\n",
       "      <th>f_2</th>\n",
       "    </tr>\n",
       "  </thead>\n",
       "  <tbody>\n",
       "    <tr>\n",
       "      <th>2015-02-02 00:10:00</th>\n",
       "      <td> 0</td>\n",
       "      <td> 0</td>\n",
       "      <td> 0</td>\n",
       "    </tr>\n",
       "    <tr>\n",
       "      <th>2015-02-02 00:15:00</th>\n",
       "      <td> 0</td>\n",
       "      <td> 0</td>\n",
       "      <td> 0</td>\n",
       "    </tr>\n",
       "    <tr>\n",
       "      <th>2015-02-02 00:20:00</th>\n",
       "      <td> 0</td>\n",
       "      <td> 0</td>\n",
       "      <td> 0</td>\n",
       "    </tr>\n",
       "    <tr>\n",
       "      <th>2015-02-02 00:25:00</th>\n",
       "      <td> 0</td>\n",
       "      <td> 0</td>\n",
       "      <td> 0</td>\n",
       "    </tr>\n",
       "    <tr>\n",
       "      <th>2015-02-02 00:30:00</th>\n",
       "      <td> 0</td>\n",
       "      <td> 0</td>\n",
       "      <td> 0</td>\n",
       "    </tr>\n",
       "  </tbody>\n",
       "</table>\n",
       "</div>"
      ],
      "text/plain": [
       "                     f_0  f_1  f_2\n",
       "2015-02-02 00:10:00    0    0    0\n",
       "2015-02-02 00:15:00    0    0    0\n",
       "2015-02-02 00:20:00    0    0    0\n",
       "2015-02-02 00:25:00    0    0    0\n",
       "2015-02-02 00:30:00    0    0    0"
      ]
     },
     "execution_count": 291,
     "metadata": {},
     "output_type": "execute_result"
    }
   ],
   "source": [
    "# Dataframe containing forecasts\n",
    "forecasts.head()"
   ]
  }
 ],
 "metadata": {
  "kernelspec": {
   "display_name": "Python 2",
   "language": "python",
   "name": "python2"
  },
  "language_info": {
   "codemirror_mode": {
    "name": "ipython",
    "version": 2
   },
   "file_extension": ".py",
   "mimetype": "text/x-python",
   "name": "python",
   "nbconvert_exporter": "python",
   "pygments_lexer": "ipython2",
   "version": "2.7.9"
  }
 },
 "nbformat": 4,
 "nbformat_minor": 0
}
