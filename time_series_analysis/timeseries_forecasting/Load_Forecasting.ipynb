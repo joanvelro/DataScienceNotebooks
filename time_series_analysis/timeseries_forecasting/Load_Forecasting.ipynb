{
 "cells": [
  {
   "cell_type": "markdown",
   "metadata": {},
   "source": [
    "# Load Forecasting"
   ]
  },
  {
   "cell_type": "markdown",
   "metadata": {},
   "source": [
    "##Load Data"
   ]
  },
  {
   "cell_type": "markdown",
   "metadata": {},
   "source": [
    "###Import necessary dependencies"
   ]
  },
  {
   "cell_type": "code",
   "execution_count": null,
   "metadata": {
    "collapsed": true
   },
   "outputs": [],
   "source": [
    "%matplotlib inline\n",
    "import numpy as np\n",
    "import pandas as pd\n",
    "import matplotlib.pyplot as plt\n",
    "from os import path\n",
    "from datetime import datetime, date, timedelta\n",
    "from sklearn.preprocessing import StandardScaler\n",
    "from sklearn import linear_model"
   ]
  },
  {
   "cell_type": "markdown",
   "metadata": {},
   "source": [
    "###Load Data from Database"
   ]
  },
  {
   "cell_type": "code",
   "execution_count": null,
   "metadata": {
    "collapsed": false
   },
   "outputs": [],
   "source": [
    "# Load Meteo Data\n",
    "meteo = pd.read_json('meteo.json')\n",
    "\n",
    "# Load Smart Meter Data\n",
    "cnc = '4'\n",
    "cncs = pd.HDFStore('cncs.h5')\n",
    "ts = cncs[cnc]['499'].copy()\n",
    "cncs.close()\n",
    "\n",
    "# Merge measurements and meteo forecasts\n",
    "ts = ts.join(meteo)\n",
    "\n",
    "# Drop other columns\n",
    "ts = ts.loc[:, ['AI', 'Humidity', 'Temperature']]"
   ]
  },
  {
   "cell_type": "markdown",
   "metadata": {},
   "source": [
    "##Train Model"
   ]
  },
  {
   "cell_type": "markdown",
   "metadata": {},
   "source": [
    "### Create Feature Vector"
   ]
  },
  {
   "cell_type": "markdown",
   "metadata": {},
   "source": [
    "The feature vector is made up from lagged active energy, calendar information and meteorological forecasts"
   ]
  },
  {
   "cell_type": "code",
   "execution_count": null,
   "metadata": {
    "collapsed": true
   },
   "outputs": [],
   "source": [
    "def get_train_dataset(ts, train_date, steps=24*7, freq='1H'):# Lagged Active\n",
    "    \n",
    "    # Select rows up to the train_date\n",
    "    target = ts.asfreq(freq).loc[:train_date, :]\n",
    "    \n",
    "    for n in np.arange(1,steps+1):\n",
    "        target['lagged' + str(n)] = target['AI'].shift(n)\n",
    "\n",
    "    # Time\n",
    "    target['day'] = pd.Series(target.index.day, target.index)\n",
    "    target['hour'] = pd.Series(target.index.hour, target.index)\n",
    "    target['weekday'] = pd.Series(target.index.weekday, target.index)\n",
    "    target['week'] = pd.Series(target.index.week, target.index)\n",
    "\n",
    "    # Drop Nans: Train only with complete feature vectors\n",
    "    target = target.dropna()\n",
    "\n",
    "    # Split feature vector / target\n",
    "    train_x = target.drop('AI', axis=1) # Feature vector\n",
    "    train_y = target.ix[:,'AI'] # Actual measurements\n",
    "\n",
    "    # Scale vectors: substract mean of every column and normalize to a std=1\n",
    "    scaler_x = StandardScaler().fit(train_x.values)\n",
    "    scaler_y = StandardScaler().fit(train_y.values)\n",
    "    train_X = scaler_x.transform(train_x.copy())\n",
    "    train_Y = scaler_y.transform(train_y.copy())\n",
    "    \n",
    "    return scaler_x, scaler_y, train_X, train_Y"
   ]
  },
  {
   "cell_type": "markdown",
   "metadata": {},
   "source": [
    "###Select train subset"
   ]
  },
  {
   "cell_type": "markdown",
   "metadata": {},
   "source": [
    "Use the available measurements up to a certain date to fit a model"
   ]
  },
  {
   "cell_type": "code",
   "execution_count": null,
   "metadata": {
    "collapsed": false
   },
   "outputs": [],
   "source": [
    "train_date = '2014-03-31'\n",
    "scaler_x, scaler_y, train_X, train_Y = get_train_dataset(ts, train_date, steps=24*7, freq='1H')"
   ]
  },
  {
   "cell_type": "code",
   "execution_count": null,
   "metadata": {
    "collapsed": false
   },
   "outputs": [],
   "source": [
    "clf = linear_model.LinearRegression()\n",
    "clf.fit(train_X, train_Y)"
   ]
  },
  {
   "cell_type": "markdown",
   "metadata": {},
   "source": [
    "## Load Profiles"
   ]
  },
  {
   "cell_type": "markdown",
   "metadata": {},
   "source": [
    "In case measurements are missing from the database, the algorithm falls back to load profiles, which are the average values of the train dataset grouped by day of the week and hour of the day."
   ]
  },
  {
   "cell_type": "code",
   "execution_count": null,
   "metadata": {
    "collapsed": false
   },
   "outputs": [],
   "source": [
    "# Select train dataset\n",
    "target = ts.asfreq('1H').loc[:train_date, :]\n",
    "\n",
    "# Group measurements based on calendar information\n",
    "grouped = target.loc[:, 'AI'].astype(float).groupby([lambda x: x.weekday,lambda x: x.hour])\n",
    "\n",
    "# Calculate the average values\n",
    "profile = grouped.mean()"
   ]
  },
  {
   "cell_type": "markdown",
   "metadata": {},
   "source": [
    "##Test Model"
   ]
  },
  {
   "cell_type": "markdown",
   "metadata": {},
   "source": [
    "The forecast function outputs the the next forecasted values of active energy. The number of values it returns is set by the variable *horizon*. "
   ]
  },
  {
   "cell_type": "code",
   "execution_count": null,
   "metadata": {
    "collapsed": false
   },
   "outputs": [],
   "source": [
    "def forecast(test_date, retrain=False, horizon=24, freq='H', lagged_measurement=24*7):\n",
    "\n",
    "    # Define global variables\n",
    "    global scaler_x, scaler_y, train_X, train_Y, clf\n",
    "    \n",
    "    # Dataframe containing output\n",
    "    forecasts = pd.DataFrame()\n",
    "    \n",
    "    # Range of dates of previous measurements\n",
    "    drange = pd.date_range(end=test_date, periods=lagged_measurement, freq=freq)\n",
    "    \n",
    "    for h in range(horizon):\n",
    "        f_date = drange[-1] + timedelta(hours=1+h)\n",
    "\n",
    "        # Get Meteo information\n",
    "        met = test_filled.loc[f_date, ['Humidity', 'Temperature']].values.squeeze()\n",
    "\n",
    "        # Get previous measurements\n",
    "        if h==0:\n",
    "            lagged_meas = test_filled.loc[drange[0]:drange[-1], 'AI'].values.squeeze()\n",
    "        else:\n",
    "            lagged_meas = np.roll(lagged_meas, -1)\n",
    "            lagged_meas[-1] = forecast\n",
    "        \n",
    "        # Append to feature vector meteo and date information\n",
    "        date_info = np.array([f_date.day, f_date.hour, f_date.weekday(), f_date.week])\n",
    "\n",
    "        # Create feature vector\n",
    "        feature_vector = met.copy()\n",
    "        feature_vector = np.hstack((feature_vector, lagged_meas.squeeze()))\n",
    "        feature_vector = np.hstack((feature_vector, date_info.squeeze()))\n",
    "\n",
    "        # Normalize\n",
    "        feature_vector = scaler_x.transform(feature_vector)\n",
    "\n",
    "        # If the feature vector contains nans fall back to the load profiles\n",
    "        if np.isnan(feature_vector).sum():\n",
    "            forecast = profile[f_date.weekday()][f_date.hour]\n",
    "        else:\n",
    "            # Predict\n",
    "            forecast = clf.predict(feature_vector)\n",
    "\n",
    "            # Denormalize\n",
    "            forecast = scaler_y.inverse_transform(forecast).item()\n",
    "\n",
    "        \n",
    "        # Forecasts of the next h values\n",
    "        forecasts.loc[drange[-1] + timedelta(hours=1), 'f_'+str(h)] = forecast\n",
    "\n",
    "        # If measurement is empty, fill with prediction\n",
    "        if h==0 and np.isnan(test.loc[f_date, 'AI']):\n",
    "            test_filled.loc[f_date, 'AI'] = forecasts.loc[f_date, 'f_0']\n",
    "            \n",
    "    # Optional: retrain the model using the latest measurements\n",
    "    if retrain:\n",
    "        scaler_x, scaler_y, train_X, train_Y = get_train_dataset(ts, f_date, steps=24*7, freq='1H')\n",
    "        #clf.fit(train_X, train_Y)\n",
    "            \n",
    "    return forecasts"
   ]
  },
  {
   "cell_type": "code",
   "execution_count": null,
   "metadata": {
    "collapsed": true
   },
   "outputs": [],
   "source": [
    "test = ts.loc[train_date:, :].copy()\n",
    "test = test.asfreq('1H')\n",
    "\n",
    "# Copy of the test database. If a measurement is missing it is filled with a forecast\n",
    "test_filled = test.copy()\n",
    "\n",
    "# First date to be forecasted\n",
    "test_date = datetime(2014, 4, 8, 0, 0, 0)\n",
    "\n",
    "# Horizon: number of forecasts to produce at each step\n",
    "horizon = 24\n",
    "\n",
    "# Empty dataframe that will contain the forecasts\n",
    "forecasts = pd.DataFrame()"
   ]
  },
  {
   "cell_type": "code",
   "execution_count": null,
   "metadata": {
    "collapsed": false
   },
   "outputs": [],
   "source": [
    "# Simulate the process of forecasting. From a given date it outputs h forecasts for every hour.\n",
    "for i in range(100):\n",
    "    test_date = test_date + timedelta(hours=1)\n",
    "    forecasts = pd.concat([forecasts, forecast(test_date.strftime('%Y-%m-%d %H:%M:%S'), retrain=True, horizon=24, freq='1H', lagged_measurement=24*7)])"
   ]
  },
  {
   "cell_type": "code",
   "execution_count": null,
   "metadata": {
    "collapsed": false,
    "scrolled": true
   },
   "outputs": [],
   "source": [
    "# Plot\n",
    "plt.plot(test.loc[:, 'AI']) # Actual measurement\n",
    "plt.plot(forecasts.loc[:, 'f_0']) # Hour ahead forecasts"
   ]
  },
  {
   "cell_type": "code",
   "execution_count": null,
   "metadata": {
    "collapsed": false
   },
   "outputs": [],
   "source": [
    "# Dataframe containing forecasts\n",
    "forecasts.head()"
   ]
  }
 ],
 "metadata": {
  "kernelspec": {
   "display_name": "Python 2",
   "language": "python",
   "name": "python2"
  },
  "language_info": {
   "codemirror_mode": {
    "name": "ipython",
    "version": 2
   },
   "file_extension": ".py",
   "mimetype": "text/x-python",
   "name": "python",
   "nbconvert_exporter": "python",
   "pygments_lexer": "ipython2",
   "version": "2.7.9"
  }
 },
 "nbformat": 4,
 "nbformat_minor": 0
}
